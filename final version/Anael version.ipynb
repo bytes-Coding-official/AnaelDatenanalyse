{
 "cells": [
  {
   "cell_type": "code",
   "execution_count": null,
   "id": "initial_id",
   "metadata": {
    "collapsed": true
   },
   "outputs": [],
   "source": [
    "# Importieren der Bibliotheken, die für die Codierung erforderlich sind\n",
    "from datetime import datetime\n",
    "\n",
    "import chardet\n",
    "import pandas as pandas"
   ]
  },
  {
   "cell_type": "code",
   "execution_count": null,
   "outputs": [],
   "source": [
    "DF_merged = None\n",
    "path =\"\""
   ],
   "metadata": {
    "collapsed": false
   },
   "id": "e8d345c7b8e981d2"
  },
  {
   "cell_type": "code",
   "execution_count": null,
   "outputs": [],
   "source": [
    "# Funktion für B14_Pos.2\n",
    "\n",
    "def Funktion_B14_02(DF, Spalte1, Spalte2):\n",
    "    \"\"\"Diese Funktion sucht in DF-230/DSDW0230 nach den Nace-Codes \"K64\".\n",
    "      Wenn gefunden, wird in der Spalte B14 an Pos.2 \"N\" durch \"Y\" an der zweiten Stelle ersetzt.\"\"\"\n",
    "\n",
    "    DF.loc[DF[Spalte1].str.contains(\"K64.\", na=False), Spalte2] = DF[Spalte2].str[:1] + \"Y\" + DF[Spalte2].str[2:]\n",
    "\n",
    "    return DF"
   ],
   "metadata": {
    "collapsed": false
   },
   "id": "1ea59cdcfb6bc10d"
  },
  {
   "cell_type": "code",
   "execution_count": null,
   "outputs": [],
   "source": [
    "# Funktion für B14_Pos.3\n",
    "\n",
    "def Funktion_B14_Pos03(DF1, DF2, Spalte1, Spalte2, Spalte3, Spalte4):\n",
    "    \"\"\"Diese Funktion prüft ob, die Werte \"CIN\", \"INS\", \"INSO\", \"LI\", \"NLI\", \"RI\" in der Spalte DF-3386/TPDW3386 vorhanden sind.\n",
    "       Falls ja, dann wird in der Spalte B14 an Pos.3,  \"N\" durch \"Y\" an der zweiten Stelle ersetzt.\"\"\"\n",
    "\n",
    "    global DF_merged\n",
    "    if DF_merged is None:\n",
    "        DF_merged = DF1.merge(DF2, left_on=Spalte1, right_on=Spalte2, how=\"left\")\n",
    "    DF_merged = DF1.merge(DF2, left_on=Spalte1, right_on=Spalte2, how=\"left\")\n",
    "    DF_merged.loc[DF_merged[Spalte3].isin([\"CIN\", \"INS\", \"INSO\", \"LI\",\n",
    "                                           \"NLI\", \"RI\"]), Spalte4] = DF_merged[Spalte4].str[:2] + \"Y\" + DF_merged[Spalte4].str[3:]\n",
    "\n",
    "    return DF_merged[DF1.columns]"
   ],
   "metadata": {
    "collapsed": false
   },
   "id": "1c44a46dda1701be"
  },
  {
   "cell_type": "code",
   "execution_count": null,
   "outputs": [],
   "source": [
    "# Funktion für B14_Pos.5\n",
    "\n",
    "def Funktion_B14_05(DF1, DF2, Spalte1, Spalte2, Spalte3, Spalte4):\n",
    "    \"\"\"Diese Funktion prüft ob, die Werte \"CGOV\", \"LGOV\", \"CGOV\" in der Spalte DF-3386/TPDW3386 vorhanden sind.\n",
    "       Falls ja, dann wird in der Spalte B14 an Pos.5,  \"N\" durch \"Y\" an der fünften Stelle ersetzt.\"\"\"\n",
    "    global DF_merged\n",
    "    if DF_merged is None:\n",
    "        # Merge DF1 und DF2 um die Werte in Spalte DF-3386/TPDW3386 zu prüfen und \"N\" durch \"Y\" zu ersetzen\n",
    "        DF_merged = DF1.merge(DF2, left_on=Spalte1, right_on=Spalte2, how=\"left\")\n",
    "    DF_merged.loc[DF_merged[Spalte3].isin([\"CGOV\", \"LGOV\", \"SGOV\"]), Spalte4] = DF_merged[Spalte4].str[:4] + \"Y\" + DF_merged[Spalte4].str[5:]\n",
    "\n",
    "    return DF_merged[DF1.columns]"
   ],
   "metadata": {
    "collapsed": false
   },
   "id": "37b6f54f6d18e83"
  },
  {
   "cell_type": "code",
   "execution_count": null,
   "outputs": [],
   "source": [
    "# Funktion für B14 Pos.6\n",
    "\n",
    "def Funktion_B14_06(DF, Spalte1, Spalte2):\n",
    "    \"\"\"Diese Funktion sucht in DF-230/DSDW0230 nach den Nace-Codes, die \"K66\" enthalten.\n",
    "       Falls gefunden, wird in der Spalte B14 an Pos.6 \"N\" durch \"Y\" an der sechsten Stelle ersetzt.\"\"\"\n",
    "\n",
    "    DF.loc[DF[Spalte1].str.contains(\"K66.\", na=False), Spalte2] = DF[Spalte2].str[:5] + \"Y\" + DF[Spalte2].str[6:]\n",
    "\n",
    "    return DF"
   ],
   "metadata": {
    "collapsed": false
   },
   "id": "a04938ccd03b8604"
  },
  {
   "cell_type": "code",
   "execution_count": null,
   "outputs": [],
   "source": [
    "# Funktion für B14 Pos.7\n",
    "\n",
    "def Funktion_B14_07(DF1, DF2, Spalte1, Spalte2, Spalte3, Spalte4):\n",
    "    \"\"\"Diese Funktion sucht in TPDW3386  nach dem Wert \"PEN\".\n",
    "       Falls gefunden, wird in der Spalte B14 an Pos.7 \"N\" durch \"Y\" an der siebten Stelle ersetzt.\"\"\"\n",
    "    # Bedingung um zu prüfen, ob \"PEN\" vorhanden ist und \"N\" durch \"Y\" ersetzen\n",
    "    #global DF_merged\n",
    "    #if DF_merged is None:\n",
    "    DF_merged = DF1.merge(DF2, left_on=Spalte1, right_on=Spalte2, how=\"left\")\n",
    "    DF_merged.loc[DF_merged[Spalte3] == \"PEN\", Spalte4] = DF_merged[Spalte4].str[:6] + \"Y\" + DF_merged[Spalte4].str[7:]\n",
    "\n",
    "    return DF_merged[DF1.columns]"
   ],
   "metadata": {
    "collapsed": false
   },
   "id": "471d30771c211fcd"
  },
  {
   "cell_type": "code",
   "execution_count": null,
   "outputs": [],
   "source": [
    "# Funktion für die Unterposition Pos.10 von B14\n",
    "\n",
    "def Funktion_B14_Pos_10(DF1, DF2, Spalte1, Spalte2, Spalte3):\n",
    "    \"\"\"Diese Funktion prüft, ob ein Kunde in der Money Laundery Entittät vorhanden ist,\n",
    "    und tauscht in der Unterposition Pos.10 von B14 \"N\" mit \"Y\", \n",
    "    falls die Prüfung positiv ist\"\"\"\n",
    "\n",
    "    # Merge der beiden Tabelle basierend auf Übereinstimmung in der Spalte1\n",
    "    DF_local_merged = DF1.merge(DF2, left_on=Spalte1, right_on=Spalte2, how=\"inner\")\n",
    "    #Ersetze \"N\" durch \"Y\" in Spalte2 entsprechend des Merge\n",
    "    DF1.loc[DF_local_merged.index, Spalte3] = DF1.loc[DF_local_merged.index, Spalte3].str[:9] + \"Y\" + DF1.loc[DF_local_merged.index, Spalte3].str[10:]\n",
    "\n",
    "    return DF1"
   ],
   "metadata": {
    "collapsed": false
   },
   "id": "e5d9c572aed0a185"
  },
  {
   "cell_type": "code",
   "execution_count": null,
   "outputs": [],
   "source": [],
   "metadata": {
    "collapsed": false
   },
   "id": "2aa5012557081a87"
  },
  {
   "cell_type": "code",
   "execution_count": null,
   "outputs": [],
   "source": [
    "\n",
    "def naechsterwert2(DF, Spalte1, Spalte2):\n",
    "    \"\"\"Diese einfache Funktion gibt dir den nächsten in einer Tabelle\"\"\"\n",
    "\n",
    "    return DF[Spalte2][DF[Spalte1].isin(DF[Spalte1])]"
   ],
   "metadata": {
    "collapsed": false
   },
   "id": "6f69445a9ff8dae1"
  },
  {
   "cell_type": "code",
   "execution_count": null,
   "outputs": [],
   "source": [],
   "metadata": {
    "collapsed": false
   },
   "id": "c2183991ee3b8567"
  },
  {
   "cell_type": "code",
   "execution_count": null,
   "outputs": [],
   "source": [
    "def func_neu_C4(DF1, DF2, Spalte1, Spalte2, Spalte3):\n",
    "    \"\"\" Diese Funktion.........\"\"\"\n",
    "\n",
    "    global DF_C_MERGED\n",
    "    if DF_C_MERGED is None:\n",
    "        DF_C_MERGED = DF1.merge(DF2, left_on=Spalte1, right_on=Spalte2, how=\"left\")\n",
    "    DF_C_MERGED[\"A\"] = \"N\"\n",
    "    DF_C_MERGED.loc[(DF_C_MERGED[Spalte3] == \"BO\"), \"A\"] = \"Y\"\n",
    "\n",
    "    Ergebnisspalte = DF_C_MERGED[\"A\"]\n",
    "\n",
    "    return Ergebnisspalte"
   ],
   "metadata": {
    "collapsed": false
   },
   "id": "b84e8bb076be0a9b"
  },
  {
   "cell_type": "code",
   "execution_count": null,
   "outputs": [],
   "source": [
    "def func_neu_C5(DF1, DF2, Spalte1, Spalte2, Spalte3):\n",
    "    \"\"\"Diese Funktion......\"\"\"\n",
    "    global DF_C_MERGED\n",
    "    if DF_C_MERGED is None:\n",
    "        DF_C_MERGED = DF1.merge(DF2, left_on=Spalte1, right_on=Spalte2, how=\"left\")\n",
    "    DF_C_MERGED[\"B\"] = 0\n",
    "    DF_C_MERGED.loc[(DF_C_MERGED[Spalte3] == \"CR\"), \"B\"] = 1\n",
    "\n",
    "    # Group data\n",
    "    DF_grouped = DF_C_MERGED.groupby(Spalte1)[\"B\"].sum().reset_index()\n",
    "\n",
    "    return DF_grouped[\"B\"]"
   ],
   "metadata": {
    "collapsed": false
   },
   "id": "c3cdcbcfe96318d2"
  },
  {
   "cell_type": "code",
   "execution_count": null,
   "outputs": [],
   "source": [
    "def Funktion_C15(DF1, DF2, Spalte1, Spalte2, Spalte3, Spalte4):\n",
    "    \"\"\"Diese Funktion .....\"\"\"\n",
    "\n",
    "    merged = DF1.merge(DF2, left_on=Spalte1, right_on=Spalte2, how=\"left\")\n",
    "\n",
    "    condition = merged[Spalte3] == \"0\"\n",
    "\n",
    "    DF1[Spalte4] = \"N\"\n",
    "    DF1.loc[condition, Spalte4] = \"Y\"\n",
    "\n",
    "    return DF1[Spalte4]"
   ],
   "metadata": {
    "collapsed": false
   },
   "id": "bfba1b80623c1f27"
  },
  {
   "cell_type": "code",
   "execution_count": null,
   "outputs": [],
   "source": [],
   "metadata": {
    "collapsed": false
   },
   "id": "116645554502d346"
  },
  {
   "cell_type": "code",
   "execution_count": null,
   "outputs": [],
   "source": [
    "#\"../files"
   ],
   "metadata": {
    "collapsed": false
   },
   "id": "c3407af2231d6e84"
  },
  {
   "cell_type": "code",
   "execution_count": null,
   "outputs": [],
   "source": [
    "# Path zur Directory, wo alle einzulesenden Dateien vorhanden sind\n",
    "\n",
    "##########################################-I Einlesen Der Daten-####################################################################################\n",
    "# Einlesen der Business Partner und Business Partner act in Liability und die Money Laundery-Entitäten. \n",
    "# Dateien, die wir für den Aufbau des B-Satzes benötigen\n",
    "# Nach dem Einlesen muss entsprechend der Entitäten die neue Spalte KYDW0007, KYDWR50880 und KYDWR5469O erzeugt werden,  entsprechend den Testdaten\n",
    "# Z.B KYDW0007 ist eine Kombination der Spalten KDW0007 und KDW0007O\n",
    "\n",
    "# 1. Einlesen der Business Partner-Entität\n",
    "\n",
    "\n",
    "DF_BP = pandas.read_csv(path + \"/BPART.csv\", sep=\"\\t\", skiprows=9)\n",
    "# KYDW0007 wird durch eine \"Join\" der Spalten KDW0007 und KDW0007O. Die Spalte wird am Ende des Dataframes hinzugefügt \n",
    "DF_BP[\"KYDW0007\"] = DF_BP[[\"KDW0007O\", \"KDW0007\"]].astype(str).agg(\"/\".join, axis=1)\n",
    "# Die neue KYDW0007-Spalte wird am Anfang des Dataframes hingefügt \n",
    "first_column = DF_BP.pop(\"KYDW0007\")\n",
    "DF_BP.insert(2, \"KYDW0007O\", first_column)\n",
    "# Das neue Dataframe wird ausgefürt "
   ],
   "metadata": {
    "collapsed": false
   },
   "id": "d1764bc00d20a468"
  },
  {
   "cell_type": "code",
   "execution_count": null,
   "outputs": [],
   "source": [
    "with open(path + \"/Datei_TPDW3386.csv\", \"rb\") as file:\n",
    "    enc = chardet.detect(file.read())\n",
    "\n",
    "DF_3386 = pandas.read_csv(path + \"/Datei_TPDW3386.csv\", sep=\";\", encoding=enc[\"encoding\"])\n",
    "\n",
    "# Werte der Spalte TPGC3386\n",
    "DF_3386[\"TPGC3386\"].values\n",
    "\n",
    "# Einfügen der Spalte \"TPGC3386\" als \"TPDW3386\" in DF_BP\n",
    "\n",
    "DF_BP[\"TPDW3386\"] = DF_3386[\"TPGC3386\"]\n",
    "\n",
    "# 2.Einlesen der Business Partner act in Liability-Entität \n",
    "\n",
    "\n",
    "DF_BPact = pandas.read_csv(path + \"/BPART_Act.csv\", sep=\"\\t\", skiprows=9)\n",
    "# KYDWR5088O wird durch eine \"Join\" der Spalten KDWR5088 und KDWR5088O. Die Spalte wird am Ende des Dataframes hinzugefügt \n",
    "DF_BPact[\"KYDWR5088\"] = DF_BPact[[\"KDWR5088O\", \"KDWR5088\"]].astype(str).agg(\"/\".join, axis=1)\n",
    "# Die neue KYDWR5088O-Spalte wird am Anfang des Dataframes hingefügt \n",
    "Second_column = DF_BPact.pop(\"KYDWR5088\")\n",
    "DF_BPact.insert(2, \"KYDWR5088O\", Second_column)\n",
    "# Das neue Dataframe wird ausgefürt \n"
   ],
   "metadata": {
    "collapsed": false
   },
   "id": "f620b6f2ea942b1e"
  },
  {
   "cell_type": "code",
   "execution_count": null,
   "outputs": [],
   "source": [
    "# Merge Business Partner und Business Partner act in Liabil\n",
    "DF_merged2 = DF_BPact.join(DF_BP, lsuffix=\"KDWR5088O\", rsuffix=\"KYDW0007\")\n",
    "# Erstelle die Spalte der Kundennummern mit \"CR\"\n",
    "DF_merged2 = DF_BPact.join(DF_BP, lsuffix=\"KDWR5088O\", rsuffix=\"KYDW0007\")\n",
    "DF_merged2.loc[DF_merged2[\"TPDW5090\"] == \"CR\"][\"KYDW0007O\"]\n",
    "#3.Einlesen der Money laundering Entität \n",
    "DF_MONLA = pandas.read_csv(path + \"/MONEYLA.csv\", sep=\"\\t\", skiprows=9)\n",
    "DF_MONLA[\"KYDWR5469\"] = DF_MONLA[[\"KDWR5469O\", \"KDWR5469\"]].astype(str).agg(\"/\".join, axis=1)\n",
    "neue_Spalte = DF_MONLA.pop(\"KYDWR5469\")\n",
    "DF_MONLA.insert(2, \"KYDWR5469O\", neue_Spalte)\n",
    "\n",
    "\n"
   ],
   "metadata": {
    "collapsed": false
   },
   "id": "22866c159a6a7894"
  },
  {
   "cell_type": "code",
   "execution_count": null,
   "outputs": [],
   "source": [
    "###################################+++++++++ II. Bau der Sätze +++++##################################################\n",
    "A_Satz = pandas.DataFrame(index=[0])\n",
    "A_Satz[\"A1\"] = 'A'\n",
    "A_Satz[\"A2\"] = '165'\n",
    "A_Satz[\"A3\"] = '10'\n",
    "A_Satz[\"A4\"] = 100000.00\n",
    "A_Satz[\"A5\"] = 0.00\n",
    "A_Satz[\"A6A\"] = 1330170000.00\n",
    "A_Satz[\"A6B\"] = 5000000\n",
    "A_Satz[\"A6C\"] = 50000000\n",
    "A_Satz[\"A7\"] = 1392530000.00\n",
    "A_Satz[\"A8\"] = '00000000'\n",
    "A_Satz[\"A9A\"] = 0.00\n",
    "A_Satz[\"A9B\"] = 0.00\n",
    "A_Satz[\"A9C\"] = 0.00\n",
    "A_Satz[\"A10\"] = '00000000'\n",
    "\n",
    "# Die Spalten des A_Satzes werden in die gewünscht Reihenfolge sortiert\n",
    "\n",
    "# A_Satz wird ausgegeben\n"
   ],
   "metadata": {
    "collapsed": false
   },
   "id": "cb24d95ce5cf3972"
  },
  {
   "cell_type": "code",
   "execution_count": null,
   "outputs": [],
   "source": [
    "B_Satz2 = pandas.DataFrame([[''] * 16], index=range(1, 1460612), columns=[\"B{}\".format(i) for i in range(1, 17)])\n",
    "\n"
   ],
   "metadata": {
    "collapsed": false
   },
   "id": "35818483dbcbab2c"
  },
  {
   "cell_type": "code",
   "execution_count": null,
   "outputs": [],
   "source": [
    "BPART_MERGE = B_Satz2.merge(DF_BP, left_on=\"B2\", right_on=\"KYDW0007O\", how=\"inner\")\n",
    "\n",
    "\n",
    "def Funktion_B16(row):\n",
    "        return 90"
   ],
   "metadata": {
    "collapsed": false
   },
   "id": "2052c9a48d2cc991"
  },
  {
   "cell_type": "code",
   "execution_count": null,
   "outputs": [],
   "source": [
    "B_Satz2[\"B1\"] = \"B\"\n",
    "B_Satz2[\"B2\"] = DF_merged2.loc[DF_merged2[\"TPDW5090\"] == \"CR\"][\"KYDW0007O\"]\n",
    "B_Satz2[\"B3\"] = DF_BP[\"DSDW0010\"]\n",
    "B_Satz2[\"B4\"] = DF_BP[\"TPDW4438\"]\n",
    "B_Satz2[\"B5\"] = \"\"  # LEER lassen\n",
    "B_Satz2[\"B6\"] = DF_BP[\"TPDW4438\"]\n",
    "B_Satz2[\"B7\"] = DF_BP[\"DSDW3702\"]\n",
    "B_Satz2['B8'] = \"\"# LEER lassen\n",
    "B_Satz2[\"B9\"] = DF_BP[\"DSDW0013\"]\n",
    "B_Satz2[\"B10\"] = DF_BP[\"DSDW0014\"]\n",
    "B_Satz2[\"B11\"] = DF_BP[\"TPDW0012\"]\n",
    "B_Satz2[\"B12\"] = DF_BP[\"DTDW4315\"]\n",
    "B_Satz2[\"B13\"] = DF_BP[\"DSDW0230\"]\n",
    "B_Satz2[\"B14\"] = \"N\" * 50# ?\n",
    "B_Satz2[\"B15\"] = \"\"# LEER lassen\n",
    "B_Satz2[\"B16\"] = BPART_MERGE.apply(Funktion_B16, axis=1)"
   ],
   "metadata": {
    "collapsed": false
   },
   "id": "39b3dee4bb96f437"
  },
  {
   "cell_type": "code",
   "execution_count": null,
   "outputs": [],
   "source": [
    "\n",
    "# 4 Einlesen der Liability Entität für den Bau des C-Satzes\n",
    "\n",
    "DF_Liab = pandas.read_csv(path + \"/PLIAB Kopie.csv\", sep=\"\\t\", skiprows=9, decimal=\",\")\n",
    "\n",
    "# 5 Einlesen der PRODUCT-Entität für die Bestimmung der Produktnamen in C6\n",
    "\n",
    "with open(path + \"/PRODUCT.csv\", \"rb\") as file:\n",
    "    enc = chardet.detect(file.read())\n",
    "DF_PRO = pandas.read_csv(path + \"/PRODUCT.csv\", sep=\";\", skiprows=9, encoding=enc[\"encoding\"])\n",
    "\n",
    "BP_CANLA = pandas.read_csv(path + \"/BP_CANLA.csv\", sep=\"\\t\", skiprows=9, decimal=\".\")\n"
   ],
   "metadata": {
    "collapsed": false
   },
   "id": "85a0c76e76ac53e5"
  },
  {
   "cell_type": "code",
   "execution_count": null,
   "outputs": [],
   "source": [
    "B_Satz2 = Funktion_B14_02(B_Satz2, \"B13\", \"B14\")\n"
   ],
   "metadata": {
    "collapsed": false
   },
   "id": "37f9a8b55d13df96"
  },
  {
   "cell_type": "code",
   "execution_count": null,
   "outputs": [],
   "source": [
    "B_Satz2 = Funktion_B14_Pos03(B_Satz2, DF_BP, \"B2\", \"KYDW0007O\", \"TPDW3386\", \"B14\")\n",
    "\n",
    "# Für die Unterposition B14_Pos.04 schreiben wir den festen Wert \"N\"\n",
    "\n",
    "# Aufruf der Funktion für Position B14_Pos.05.\"CGOV\", \"LGOV\" und \"SGOV\" werden in TPDW3386 geprüft\n",
    "# und entsprechend \"N\" durch \"Y\" an der 5. Stelle ersetzt\n",
    "\n",
    "B_Satz2 = Funktion_B14_05(B_Satz2, DF_BP, \"B2\", \"KYDW0007O\", \"TPDW3386\", \"B14\")\n",
    "\n",
    "# Aufruf der Funktion für Position B14_Pos.06. String, die \"K66.\" werden in DSDW0230 geprüft\n",
    "# und entsprechend \"N\" durch \"Y\" an der 6. Stelle ersetzt\n",
    "\n",
    "B_Satz2 = Funktion_B14_06(B_Satz2, \"B13\", \"B14\")\n",
    "\n",
    "# Aufruf der Funktion für Position B14_Pos.07. String, die \"PEN\" werden in \"TPDW3386\" geprüft\n",
    "# und entsprechend \"N\" durch \"Y\" an der 7. Stelle ersetzt\n",
    "\n",
    "B_Satz2 = Funktion_B14_07(B_Satz2, DF_BP, \"B2\", \"KYDW0007O\", \"TPDW3386\", \"B14\")\n",
    "\n",
    "# Aufruf der Funktion für Position B14_Pos.10. String, die \"PEN\" werden in \"TPDW3386\" geprüft\n",
    "# und entsprechend \"N\" durch \"Y\" an der 10. Stelle ersetzt\n",
    "\n",
    "B_Satz2 = Funktion_B14_Pos_10(B_Satz2, DF_MONLA, \"B2\", \"KYDWR5469O\", \"B14\")\n",
    "\n",
    "# Prüfen der Werte in B14\n",
    "\n",
    "B_Satz2.B14.value_counts()"
   ],
   "metadata": {
    "collapsed": false
   },
   "id": "21ec6264d3424a9e"
  },
  {
   "cell_type": "code",
   "execution_count": null,
   "outputs": [],
   "source": [
    "DF1 = pandas.DataFrame(B_Satz2)\n",
    "DF1.to_csv(path + \"/B_Satz.csv\")\n",
    "DF1 = DF1.tail(-1)\n",
    "# A_Satz wird noch als DataFrame eingelesen und alle Spaltennamen werden entfernt\n",
    "\n",
    "DF2 = pandas.DataFrame(A_Satz)\n",
    "DF2.to_csv(path + \"/A_Satz.csv\")\n",
    "DF2 = DF2.tail(-1)"
   ],
   "metadata": {
    "collapsed": false
   },
   "id": "4ad135b4bbce1fae"
  },
  {
   "cell_type": "code",
   "execution_count": null,
   "outputs": [],
   "source": [
    "\n",
    "# Definiere ein neuen DataFrame, der die Spalten von DF1 und DF2 hat.\n",
    "# Hier bekommt DF2 einen neuen index so dass, die Spalten von DF2 in der gleichen Reihenfolge wie die Spalte von DF1 sind\n",
    "# Das heisst, dass neue Spalten mit None gefüllt werden in DF2 eingefügt\n",
    "DF_GroßerSatz = pandas.concat([DF2, DF1.reindex(columns=DF1.columns)], ignore_index=True)\n",
    "# Entferne die erste Spalte\n",
    "DF_GroßerSatz = DF_GroßerSatz.iloc[:, 1:]\n",
    "\n",
    "# DF_GroßerSatz enthält jetzt die Daten aus beiden DataFrames, wobei fehlende Spalten in DF2 auf None gesetzt sind\n"
   ],
   "metadata": {
    "collapsed": false
   },
   "id": "daf2cebc9322a8c1"
  },
  {
   "cell_type": "code",
   "execution_count": null,
   "outputs": [],
   "source": [
    "DF_merg3 = DF_Liab.merge(DF_PRO, left_on=\"KDWR5097\", right_on=\"KMDPRODID\", how=\"left\")"
   ],
   "metadata": {
    "collapsed": false
   },
   "id": "2674d9b0983ded7"
  },
  {
   "cell_type": "code",
   "execution_count": null,
   "outputs": [],
   "source": [
    "\n",
    "\n",
    "# Merge der Cancellation- und Liability-Entität für C26\n",
    "\n",
    "DF_C_MERGED = None\n",
    "C_liab = pandas.DataFrame([[''] * 27], index=range(0, 1460610), columns=[\"C{}\".format(i) for i in range(1, 28)])\n",
    "C_liab[\"C1\"] = \"C\"\n",
    "C_liab[\"C2B\"] = DF_Liab[\"KDW5082\"]\n",
    "C_liab.dropna(subset=\"C2B\", inplace=True)\n",
    "DF = DF_BPact[DF_BPact[\"TPDW5090\"] == \"CR\"]\n",
    "DF = DF[[\"KDWR5089\", \"KYDWR5088O\"]]\n",
    "C_liab = C_liab.merge(DF, left_on=\"C2B\", right_on=\"KDWR5089\")  #war: left soll inner\n",
    "DF_merged10 = DF_Liab.merge(BP_CANLA, left_on=\"KDW5082\", right_on=\"KDWR5000\", how=\"left\")  #muss left\n",
    "\n",
    "C_liab[\"C4\"] = func_neu_C4(DF_Liab, DF_BPact, \"KDW5082\", \"KDWR5089\", \"TPDW5090\")\n",
    "C_liab[\"C5\"] = func_neu_C5(DF_Liab, DF_BPact, \"KDW5082\", \"KDWR5089\", \"TPDW5090\")\n",
    "C_liab[\"C6\"] = naechsterwert2(DF_Liab, \"KDW5082\", \"DTDW5113\").apply(lambda x: str(int(x)) if not pandas.isnull(x) else x)  # [\"DTDW5113\" for \"DTDW5113\" in DF_Liab.set_index(\"KDW5082\").columns]  # DF_Liab[\"DTDW5113\"].sort_values(\"KDW5082\")                                        #S-Verweis: Suche aus PLIABA den Vertrag (KYDW5082) und das dazugehörige Datum DTDW5113 und schreibe es in C6\n",
    "C_liab[\"C7\"] = naechsterwert2(DF_merg3, \"KDW5082\", \"DSMDPRODN\")  # Sverweis(DF_Liab,DF_PRO, \"KDW5082\", \"KDWR5097\", DF_Liab, DF_PRO,\"KMDPRODID\", \"TPMDPPRCD\", \"KDW5082\" )\n",
    "C_liab[\"C8\"] = naechsterwert2(DF_Liab, \"KDW5082\", \"UCDW5105\")\n",
    "C_liab[\"C9\"] = naechsterwert2(DF_Liab, \"KDW5082\", \"ATDW5105\")  # naechsterwert2(DF_Liab, \"KDW5082\", \"ATDW5105\").apply(lambda x:-x)                                                            # DF_Liab[DF_Liab[\"KDW5082\"].isin(DF_Liab[\"KDW5082\"])]DF_Liab[\"ATDW5105\"].apply(lambda x: -x if x > 0 else x)\n",
    "C_liab[\"C10\"] = \"{:,.5f}\".format(100000 / 100000)  # 1.00000                                                            #naechsterwert2(DF_Liab, \"KDW5082\", \"TPDW5086\")\n",
    "C_liab[\"C11\"] = C_liab[\"C9\"].astype(float) * C_liab[\"C10\"].astype(float)\n",
    "C_liab[\"C12\"] = naechsterwert2(DF_Liab, \"KDW5082\", \"QUDW5537\").astype(str) + DF_Liab[\"UCDW5537\"]\n",
    "C_liab[\"C13\"] = \"X\"\n",
    "C_liab[\"C14\"] = naechsterwert2(DF_Liab, \"KDW5082\", \"DTDW5084\")\n",
    "C_liab[\"C15\"] = Funktion_C15(C_liab, DF_Liab, \"C2B\", \"KDW5082\", \"QUDW5182\", \"C15\")\n",
    "C_liab[\"C16\"] = naechsterwert2(DF_Liab, \"KDW5082\", \"TPDW5562\")\n",
    "C_liab[\"C17\"] = naechsterwert2(DF_Liab, \"KDW5082\", \"ATDW5107\")\n",
    "C_liab[\"C18\"] = C_liab[\"C10\"].astype(float) * C_liab[\"C17\"].astype(float)\n",
    "C_liab[\"C19\"] = C_liab[\"C18\"].astype(float) + C_liab[\"C11\"].astype(float)  # C_liab[\"C11\"] + C_liab[\"C18\"]\n",
    "C_liab[\"C20\"] = \"N\" * 50  # C_Pos[[\"C_Pos{}\".format(i) for i in range(1, 51)]].astype(str).agg(\"\".join, axis = 1)\n",
    "C_liab[\"C21\"] = \"N\" * 50  # C_Pos[[\"C_Pos{}\".format(i) for i in range(1, 51)]].astype(str).agg(\"\".join, axis = 1)\n",
    "C_liab[\"C22\"] = \"DE\"\n",
    "C_liab[\"C23\"] = \"\"\n",
    "C_liab[\"C25\"] = naechsterwert2(DF_Liab, \"KDW5082\", \"QUDW5094\")\n",
    "C_liab.rename(columns={\"KYDWR5088O\": \"C2A\"}, inplace=True)"
   ],
   "metadata": {
    "collapsed": false
   },
   "id": "51fe37efb7da2acd"
  },
  {
   "cell_type": "code",
   "execution_count": null,
   "outputs": [],
   "source": [
    "def set_C24_value(row):\n",
    "    #return the value in column \"DTDW5484\" related to the corresponding value of C2B in DF_Liab in the column \"KDW5082\"\n",
    "    return DF_Liab.loc[DF_Liab[\"KDW5082\"] == row[\"C2B\"], \"DTDW5484\"].values[0]\n",
    "\n",
    "\n",
    "C_liab[\"C24\"] = C_liab.apply(set_C24_value, axis=1)"
   ],
   "metadata": {
    "collapsed": false
   },
   "id": "19fc7f313db245e1"
  },
  {
   "cell_type": "code",
   "execution_count": null,
   "outputs": [],
   "source": [
    "def set_C26_value(row):\n",
    "    if row[\"C20\"][44] == \"Y\":\n",
    "        #get the value from DF CANELA where KDWR5000 = C2B\n",
    "        return BP_CANLA.loc(row[\"C2B\"], \"ATDW5156\")\n",
    "    else:\n",
    "        return None\n",
    "\n",
    "\n",
    "C_liab[\"C26\"] = C_liab.apply(set_C26_value, axis=1)"
   ],
   "metadata": {
    "collapsed": false
   },
   "id": "8524dba9fab20f57"
  },
  {
   "cell_type": "code",
   "execution_count": null,
   "outputs": [],
   "source": [
    "def set_C27_value(row):\n",
    "    # Wert: 90 - Ohne Ausschluss\n",
    "\n",
    "    #finde die reihe aus B wo B2 = C2A\n",
    "    #wenn B14 = N und C20 = N dann 90\n",
    "    b_row_14 = B_Satz2.loc[B_Satz2['B2'] == row['C2A'], \"B14\"]\n",
    "    if all(b_row_14 == 'N') and all(c_values == \"N\" for c_values in row[\"C20\"]):\n",
    "        return '90'\n",
    "\n",
    "    # Wert: 01 - Ausschluss nur nach EinSiG\n",
    "    if any(b_row_14[0:15].count(\"Y\") > 0) and all(c_values == \"N\" for c_values in b_row_14[15:50]) and all(c == 'N' for c in row['C20'][10:50]):\n",
    "        return '01'\n",
    "    elif row['C20'][0:10].count('Y') > 0 and all(c == 'N' for c in row['C20'][10:50]) and all(c == 'N' for c in b_row_14[15:50]):\n",
    "        # do something\n",
    "        return '01'\n",
    "\n",
    "    # Wert: 20 - Ausschluss nur nach ESF-Statut\n",
    "    if any(b_row_14[30:50].count(\"Y\") > 0) and all(c == \"N\" for c in b_row_14[0:30]) and all(c == \"N\" for c in row['C20'][0:30]):\n",
    "        return '20'\n",
    "    elif any(row['C20'][30:50].count(\"Y\") > 0) and all(c == 'N' for c in row['C20'][0:30]) and all(c == 'N' for c in b_row_14[0:30]):\n",
    "        return '20'\n",
    "\n",
    "    # Wert: 11 - Ausschluss \"Bagatellgrenze\" nach EinSiG und ESF-Statut\n",
    "    if all(c == 'N' for c in row['C20'][1:49]) and row['C20'][49] == 'Y':\n",
    "        return '11'\n",
    "\n",
    "    # Wert: 10 - Ausschluss nach EinSiG und ESF-Statut (alle anderen Fälle)\n",
    "    return '10'\n",
    "\n",
    "\n",
    "# Anwenden der Funktion auf den DataFrame\n",
    "C_liab['C27'] = C_liab.apply(set_C27_value, axis=1)\n",
    "C_liab['C27']"
   ],
   "metadata": {
    "collapsed": false
   },
   "id": "490056c26ca2a72a"
  },
  {
   "cell_type": "code",
   "execution_count": null,
   "outputs": [],
   "source": [
    "C_Satz = C_liab[[\"C1\", \"C2A\", \"C2B\", \"C3\", \"C4\", \"C5\", \"C6\", \"C7\", \"C8\", \"C9\", \"C10\", \"C11\", \"C12\", \"C13\",\n",
    "                 \"C14\", \"C15\", \"C16\", \"C17\", \"C18\", \"C19\", \"C20\", \"C21\", \"C22\", \"C23\", \"C24\", \"C25\", \"C26\", \"C27\"]]\n",
    "# gewünschte C-Satz ausgeben"
   ],
   "metadata": {
    "collapsed": false
   },
   "id": "35ba2f2cff920745"
  },
  {
   "cell_type": "code",
   "execution_count": null,
   "outputs": [],
   "source": [
    "Tab2 = C_Satz.groupby(\"C2B\")"
   ],
   "metadata": {
    "collapsed": false
   },
   "id": "f70a696bd8061171"
  },
  {
   "cell_type": "code",
   "execution_count": null,
   "outputs": [],
   "source": [
    "Tab3 = Tab2[\"C2A\"].count().reset_index(name=\"Anzahl Vertrag pro Kunde\").sort_values([\"Anzahl Vertrag pro Kunde\"], ascending=False)"
   ],
   "metadata": {
    "collapsed": false
   },
   "id": "27a11e42402d183e"
  },
  {
   "cell_type": "code",
   "execution_count": null,
   "outputs": [],
   "source": [
    "Tab4 = Tab3.loc[Tab3[\"Anzahl Vertrag pro Kunde\"] == 1]  #hier sonst auf 2 ändern"
   ],
   "metadata": {
    "collapsed": false
   },
   "id": "4d7e2f9ac4efd5f2"
  },
  {
   "cell_type": "code",
   "execution_count": null,
   "outputs": [],
   "source": [
    "Tab5 = C_Satz.loc[C_Satz[\"C2B\"].isin(Tab4[\"C2B\"])]"
   ],
   "metadata": {
    "collapsed": false
   },
   "id": "99873ee51167e9aa"
  },
  {
   "cell_type": "code",
   "execution_count": null,
   "outputs": [],
   "source": [
    "\n",
    "Tab6 = Tab5.groupby(\"C2B\")[\"C2A\"].apply(list).reset_index(name=\"Kunden_Nummern\")"
   ],
   "metadata": {
    "collapsed": false
   },
   "id": "b896c19391d8eb00"
  },
  {
   "cell_type": "code",
   "execution_count": null,
   "outputs": [],
   "source": [
    "Tab7 = Tab6[\"C2B\"].tolist()\n"
   ],
   "metadata": {
    "collapsed": false
   },
   "id": "f74cefd033e60264"
  },
  {
   "cell_type": "code",
   "execution_count": null,
   "outputs": [],
   "source": [
    "Num = Tab7[0]"
   ],
   "metadata": {
    "collapsed": false
   },
   "id": "1517856daa0dd6f7"
  },
  {
   "cell_type": "code",
   "execution_count": null,
   "outputs": [],
   "source": [
    "Tab8 = C_Satz.loc[C_Satz[\"C2B\"] == Num]\n"
   ],
   "metadata": {
    "collapsed": false
   },
   "id": "5d07d922032d19be"
  },
  {
   "cell_type": "code",
   "execution_count": null,
   "outputs": [],
   "source": [
    "#\n",
    "Tab9 = Tab8.groupby(\"C2A\")[\"C2B\"].apply(list).reset_index(name=\"Vertrag_Nummern\")"
   ],
   "metadata": {
    "collapsed": false
   },
   "id": "f1bae50cd37513c9"
  },
  {
   "cell_type": "code",
   "execution_count": null,
   "outputs": [],
   "source": [
    "x = C_Satz.loc[(C_Satz[\"C2A\"] == 'DE1-ZGP/13233006')]\n",
    "################++++++ Definition des C-Satzes(Contract) +++++##############"
   ],
   "metadata": {
    "collapsed": false
   },
   "id": "b4dd8a454fcab299"
  },
  {
   "cell_type": "code",
   "execution_count": null,
   "outputs": [],
   "source": [
    "C_Satz.to_csv(path + \"/C.csv\", index=False)\n"
   ],
   "metadata": {
    "collapsed": false
   },
   "id": "4d0b4344f03e0285"
  },
  {
   "cell_type": "code",
   "execution_count": null,
   "outputs": [],
   "source": [
    "#drop all rows where B2 is empty\n",
    "B_Satz2.dropna(subset=[\"B2\", \"B3\"], inplace=True)\n",
    "B_Satz2.to_csv(path + \"/B.csv\", index=False)"
   ],
   "metadata": {
    "collapsed": false
   },
   "id": "8945565ecd8a9e3b"
  },
  {
   "cell_type": "code",
   "execution_count": null,
   "outputs": [],
   "source": [
    "A_Satz.to_csv(path + \"/A.csv\", index=False)"
   ],
   "metadata": {
    "collapsed": false
   },
   "id": "254c9867b08804de"
  },
  {
   "cell_type": "code",
   "execution_count": null,
   "outputs": [],
   "source": [
    "import time"
   ],
   "metadata": {
    "collapsed": false
   },
   "id": "4dc644e885785d82"
  },
  {
   "cell_type": "code",
   "execution_count": null,
   "outputs": [],
   "source": [
    "t_0 = time.time()\n",
    "\n",
    "DF_CONTR = pandas.read_csv(path + \"/CONTR.csv\", sep=\"\\t\", skiprows=9, decimal=\".\")\n"
   ],
   "metadata": {
    "collapsed": false
   },
   "id": "222fefcebb7c9e8a"
  },
  {
   "cell_type": "code",
   "execution_count": null,
   "outputs": [],
   "source": [
    "DF_merg6 = DF_CONTR.merge(DF_PRO, left_on=\"KDW0046A\", right_on=\"KMDPRODID\", how=\"left\")  #????\n",
    "\n",
    "DF_merg6"
   ],
   "metadata": {
    "collapsed": false
   },
   "id": "7e6240133bc2944d"
  },
  {
   "cell_type": "code",
   "execution_count": null,
   "outputs": [],
   "source": [
    "C_CONT = pandas.DataFrame([[''] * 27], index=range(0, 1460610), columns=[\"C{}\".format(i) for i in range(1, 28)])\n",
    "C_CONT[\"C1\"] = \"C\"\n",
    "C_CONT[\"C2B\"] = DF_CONTR[\"KDW0034\"]\n",
    "C_CONT.dropna(subset=\"C2B\", inplace=True)\n",
    "DF = DF_BPact[DF_BPact[\"TPDW5090\"] == \"DB\"]\n",
    "DF = DF[[\"KDWR5089\", \"KDWR5088\"]]"
   ],
   "metadata": {
    "collapsed": false
   },
   "id": "db144037734d5e5a"
  },
  {
   "cell_type": "code",
   "execution_count": null,
   "outputs": [],
   "source": [
    "###++++ Definition des C_Satzes für die Contract Entität +++++###########\n",
    "C_CONT = C_CONT.merge(DF, left_on=\"C2B\", right_on=\"KDWR5089\", how=\"inner\")\n",
    "\n",
    "#rename KDWR5088 to C2A\n",
    "\n",
    "C_CONT.rename(columns={\"KDWR5088\": \"C2A\"}, inplace=True)\n",
    "\n",
    "C_CONT[\"C4\"] = \"N\"\n",
    "C_CONT[\"C5\"] = func_neu_C5(DF_Liab, DF_BPact, \"KDW5082\", \"KDWR5089\", \"TPDW5090\")\n",
    "C_CONT[\"C6\"] = naechsterwert2(DF_CONTR, \"KDW0034\", \"DTDW0039\")  # [\"DTDW5113\" for \"DTDW5113\" in DF_Liab.set_index(\"KDW5082\").columns]  # DF_Liab[\"DTDW5113\"].sort_values(\"KDW5082\")                                        #S-Verweis: Suche aus PLIABA den Vertrag (KYDW5082) und das dazugehörige Datum DTDW5113 und schreibe es in C6\n",
    "C_CONT[\"C7\"] = naechsterwert2(DF_merg6, \"KDW0034\", \"DSMDPRODN\")  # Sverweis(DF_Liab,DF_PRO, \"KDW5082\", \"KDWR5097\", DF_Liab, DF_PRO,\"KMDPRODID\", \"TPMDPPRCD\", \"KDW5082\" )\n",
    "C_CONT[\"C8\"] = naechsterwert2(DF_CONTR, \"KDW0034\", \"UDW3567\")\n",
    "C_CONT[\"C9\"] = naechsterwert2(DF_CONTR, \"KDW0034\", \"ADW3567\").apply(lambda string: string.replace(\",\", \".\")).astype(float).apply(lambda x: -x if x != 0 else x)  # DF_Liab[DF_Liab[\"KDW5082\"].isin(DF_Liab[\"KDW5082\"])]DF_Liab[\"ATDW5105\"].apply(lambda x: -x if x > 0 else x)\n",
    "C_CONT[\"C10\"] = \"{:,.5f}\".format(100000 / 100000)  # naechsterwert2(DF_CONTR, \"KDW5082\", \"TPDW5086\")\n",
    "C_CONT[\"C11\"] = C_liab[\"C9\"].astype(float) * C_liab[\"C10\"].astype(float)\n",
    "C_CONT[\"C12\"] = naechsterwert2(DF_Liab, \"KDW5082\", \"QUDW5537\").astype(str) + DF_Liab[\"UCDW5537\"]\n",
    "C_CONT[\"C13\"] = \"X\"\n",
    "C_CONT[\"C14\"] = \"X\"  # naechsterwert2(DF_CONTR, \"KDW5082\", \"DTDW5084\")\n",
    "C_CONT[\"C15\"] = \"X\"\n",
    "C_CONT[\"C16\"] = \"X\"  # naechsterwert2(DF_CONTR, \"KDW5082\", \"TPDW5562\")\n",
    "C_CONT[\"C17\"] = naechsterwert2(DF_Liab, \"KDW5082\", \"ATDW5107\").apply(lambda x: -x if x != 0 else x)\n",
    "C_CONT[\"C18\"] = \"X\"\n",
    "C_CONT[\"C19\"] = \"X\"\n",
    "C_CONT[\"C20\"] = \"N\" * 50  # C_Pos[[\"C_Pos{}\".format(i) for i in range(1, 51)]].astype(str).agg(\"\".join, axis = 1)                                                                    # C_Pos[[\"C_Pos{}\".format(i) for i in range(1, 51)]].astype(str).agg(\"\".join, axis = 1)\n",
    "C_CONT[\"C21\"] = \"N\" * 50  # C_Pos[[\"C_Pos{}\".format(i) for i in range(1, 51)]].astype(str).agg(\"\".join, axis = 1)\n",
    "C_CONT[\"C22\"] = \"DE\"\n",
    "C_CONT[\"C23\"] = \"\"\n",
    "C_CONT[\"C24\"] = \"X\"\n",
    "C_CONT[\"C25\"] = \"X\"\n",
    "C_CONT[\"C26\"] = \"X\"\n",
    "C_CONT[\"C27\"] = \"X\""
   ],
   "metadata": {
    "collapsed": false
   },
   "id": "4f204689c65e55b9"
  },
  {
   "cell_type": "code",
   "execution_count": null,
   "outputs": [],
   "source": [
    "def C_20_Pos12(row):\n",
    "    temp_list = list(row[\"C20\"])\n",
    "    temp_list[11] = \"Y\" if row[\"C20\"][1] == \"Y\" and row[\"C21\"][17] == \"N\" else \"N\"\n",
    "    return ''.join(temp_list)\n",
    "\n",
    "\n",
    "C_Satz[\"C20\"] = C_Satz.apply(C_20_Pos12, axis=1)\n"
   ],
   "metadata": {
    "collapsed": false
   },
   "id": "63de4674c97a6390"
  },
  {
   "cell_type": "code",
   "execution_count": null,
   "outputs": [],
   "source": [
    "def C_20_Pos13(row):\n",
    "    B_Satz2Row = B_Satz2.loc[B_Satz2[\"B2\"] == row[\"C2A\"]].iloc[0]\n",
    "    temp_list = list(row[\"C20\"])\n",
    "    temp_list[12] = \"Y\" if B_Satz2Row[\"B14\"][1] == \"Y\" and row[\"C21\"][17] == \"N\" else \"N\"\n",
    "    return ''.join(temp_list)\n",
    "\n",
    "\n",
    "C_Satz[\"C20\"] = C_Satz.apply(C_20_Pos13, axis=1)"
   ],
   "metadata": {
    "collapsed": false
   },
   "id": "d4ce37cb275af1ee"
  },
  {
   "cell_type": "code",
   "execution_count": null,
   "outputs": [],
   "source": [
    "def C_20_Pos14(row):\n",
    "    B_Satz2Row = B_Satz2.loc[B_Satz2[\"B2\"] == row[\"C2A\"]].iloc[0]\n",
    "    temp_list_13 = list(row[\"C20\"])\n",
    "    temp_list_13[13] = \"Y\" if B_Satz2Row[\"B14\"][4] == \"Y\" and row[\"C21\"][17] == \"N\" else \"N\"\n",
    "    return ''.join(temp_list_13)\n",
    "\n",
    "\n",
    "C_Satz[\"C20\"] = C_Satz.apply(C_20_Pos14, axis=1)"
   ],
   "metadata": {
    "collapsed": false
   },
   "id": "4c7911d65c962ca2"
  },
  {
   "cell_type": "code",
   "execution_count": null,
   "outputs": [],
   "source": [
    "def C_20_Pos15(row):\n",
    "    B_Satz2Row = B_Satz2.loc[B_Satz2[\"B2\"] == row[\"C2A\"]].iloc[0]\n",
    "    temp_list_14 = list(row[\"C20\"])\n",
    "    temp_list_14[14] = \"Y\" if B_Satz2Row[\"B14\"][5] == \"Y\" and row[\"C21\"][17] == \"N\" else \"N\"\n",
    "    return ''.join(temp_list_14)\n",
    "\n",
    "\n",
    "C_Satz[\"C20\"] = C_Satz.apply(C_20_Pos15, axis=1)"
   ],
   "metadata": {
    "collapsed": false
   },
   "id": "173591a107e3ba2e"
  },
  {
   "cell_type": "code",
   "execution_count": null,
   "outputs": [],
   "source": [
    "def C_20_Pos16(row):\n",
    "    B_Satz2Row = B_Satz2.loc[B_Satz2[\"B2\"] == row[\"C2A\"]].iloc[0]\n",
    "    temp_list_15 = list(row[\"C20\"])\n",
    "    temp_list_15[15] = \"Y\" if B_Satz2Row[\"B14\"][9] == \"Y\" and row[\"C21\"][17] == \"N\" else \"N\"\n",
    "    return ''.join(temp_list_15)\n",
    "\n",
    "\n",
    "C_Satz[\"C20\"] = C_Satz.apply(C_20_Pos16, axis=1)"
   ],
   "metadata": {
    "collapsed": false
   },
   "id": "3eaa1dc235ed0a7f"
  },
  {
   "cell_type": "code",
   "execution_count": null,
   "outputs": [],
   "source": [
    "#LAUT ANAEL WEGLASSEN!\n",
    "def C_20_Pos31(row):\n",
    "    B_Satz2Row = B_Satz2.loc[B_Satz2[\"B2\"] == row[\"C2A\"]].iloc[0]\n",
    "    row[\"C20\"][30] = \"Y\" if B_Satz2Row[\"B14\"][9] == \"Y\" and row[\"C21\"][17] == \"N\" else \"N\"\n",
    "\n",
    "\n",
    "#LAUT ANAEL WEGLASSEN!\n",
    "def C_20_Pos32(row):\n",
    "    B_Satz2Row = B_Satz2.loc[B_Satz2[\"B2\"] == row[\"C2A\"]].iloc[0]\n",
    "    row[\"C20\"][31] = \"Y\" if B_Satz2Row[\"B14\"][9] == \"Y\" and row[\"C21\"][17] == \"N\" else \"N\"\n"
   ],
   "metadata": {
    "collapsed": false
   },
   "id": "7d0d07e5b60421e9"
  },
  {
   "cell_type": "code",
   "execution_count": null,
   "outputs": [],
   "source": [
    "def C_20_Pos33(row):\n",
    "    B_Satz2Row = B_Satz2.loc[B_Satz2[\"B2\"] == row[\"C2A\"]].iloc[0]\n",
    "    temp_list_32 = list(row[\"C20\"])\n",
    "    temp_list_32[32] = \"Y\" if B_Satz2Row[\"B16\"] >= 20 and row[\"C21\"][17] == \"N\" else \"N\"\n",
    "    return ''.join(temp_list_32)\n",
    "\n",
    "\n",
    "C_Satz[\"C20\"] = C_Satz.apply(C_20_Pos33, axis=1)"
   ],
   "metadata": {
    "collapsed": false
   },
   "id": "9dcc43cb52a6ca3e"
  },
  {
   "cell_type": "code",
   "execution_count": null,
   "outputs": [],
   "source": [
    "def C_20_Pos34(row):\n",
    "    B_Satz2Row = B_Satz2.loc[B_Satz2[\"B2\"] == row[\"C2A\"]].iloc[0]\n",
    "    if B_Satz2Row[\"B16\"] >= 20:\n",
    "        #dateformat = dd-mm-yyyy\n",
    "        date_start = datetime.strptime(row[\"C6\"], \"%d%m%Y\")\n",
    "        date_end = datetime.strptime(row[\"C14\"], \"%d%m%Y\")\n",
    "        temp_list_33 = list(row[\"C20\"])\n",
    "        temp_list_33[33] = \"Y\" if row[\"C25\"] > 18 and date_start < datetime.strptime(\"01-01-2020\", \"%d-%m-%Y\") and date_end > datetime.strptime(\"31-12-2019\", \"%d-%m-%Y\") else \"N\"\n",
    "        return ''.join(temp_list_33)\n",
    "\n",
    "\n",
    "C_Satz[\"C20\"] = C_Satz.apply(C_20_Pos34, axis=1)"
   ],
   "metadata": {
    "collapsed": false
   },
   "id": "2eab99db158cf96a"
  },
  {
   "cell_type": "code",
   "execution_count": null,
   "outputs": [],
   "source": [
    "def C_20_Pos35(row):\n",
    "    B_Satz2Row = B_Satz2.loc[B_Satz2[\"B2\"] == row[\"C2A\"]].iloc[0]\n",
    "    if B_Satz2Row[\"B16\"] >= 20:\n",
    "        #dateformat = dd-mm-yyyy\n",
    "        date_start = datetime.strptime(row[\"C6\"], \"%d%m%Y\")\n",
    "        date_end = datetime.strptime(row[\"C14\"], \"%d%m%Y\")\n",
    "        temp_list_34 = list(row[\"C20\"])\n",
    "        temp_list_34[34] = \"Y\" if row[\"C25\"] > 18 and datetime.strptime(\"31-12-2019\", \"%d-%m-%Y\") < date_start <= datetime.strptime(\"31-12-2022\", \"%d-%m-%Y\") else \"N\"\n",
    "        return ''.join(temp_list_34)\n",
    "\n",
    "\n",
    "C_Satz[\"C20\"] = C_Satz.apply(C_20_Pos35, axis=1)"
   ],
   "metadata": {
    "collapsed": false
   },
   "id": "4ba98ef4e32ed7a2"
  },
  {
   "cell_type": "code",
   "execution_count": null,
   "outputs": [],
   "source": [
    "def C_20_Pos36(row):\n",
    "    B_Satz2Row = B_Satz2.loc[B_Satz2[\"B2\"] == row[\"C2A\"]].iloc[0]\n",
    "    if B_Satz2Row[\"B16\"] >= 20:\n",
    "        #dateformat = dd-mm-yyyy\n",
    "        date_start = datetime.strptime(row[\"C6\"], \"%d%m%Y\")\n",
    "        date_end = datetime.strptime(row[\"C14\"], \"%d%m%Y\")\n",
    "        temp_list_35 = list(row[\"C20\"])\n",
    "        temp_list_35[35] = \"Y\" if (row[\"C25\"] is None or row[\"C25\"] == \"\") and date_start < datetime.strptime(\"01-01-2020\", \"%d-%m-%Y\") and date_end > datetime.strptime(\"31-12-2019\", \"%d-%m-%Y\") else \"N\"\n",
    "    return ''.join(temp_list_35)\n",
    "\n",
    "\n",
    "C_Satz[\"C20\"] = C_Satz.apply(C_20_Pos36, axis=1)"
   ],
   "metadata": {
    "collapsed": false
   },
   "id": "5d55d54f00dfbe81"
  },
  {
   "cell_type": "code",
   "execution_count": null,
   "outputs": [],
   "source": [
    "def C_20_Pos37(row):\n",
    "    B_Satz2Row = B_Satz2.loc[B_Satz2[\"B2\"] == row[\"C2A\"]].iloc[0]\n",
    "    if B_Satz2Row[\"B16\"] >= 20:\n",
    "        #dateformat = dd-mm-yyyy\n",
    "        date_start = datetime.strptime(row[\"C6\"], \"%d%m%Y\")\n",
    "        temp_list_36 = list(row[\"C20\"])\n",
    "        temp_list_36[36] = \"Y\" if (row[\"C25\"] is None or row[\"C25\"] == \"\") and date_start > datetime.strptime(\"31-12-2019\", \"%d-%m-%Y\") and date_start <= datetime.strptime(\"31-12-2022\", \"%d-%m-%Y\") else \"N\"\n",
    "        return ''.join(temp_list_36)\n",
    "\n",
    "\n",
    "C_Satz[\"C20\"] = C_Satz.apply(C_20_Pos37, axis=1)"
   ],
   "metadata": {
    "collapsed": false
   },
   "id": "9116562ed9bc6def"
  },
  {
   "cell_type": "code",
   "execution_count": null,
   "outputs": [],
   "source": [
    "def C_20_Pos43(row):\n",
    "    if row[\"C21\"][19] == \"N\":\n",
    "        #dateformat = dd-mm-yyyy\n",
    "\n",
    "        temp_list_42 = list(row[\"C20\"])\n",
    "        temp_list_42[42] = \"Y\" if (row[\"C22\"] != \"\" and row[\"C22\"] is not None and row[\"C22\"] != \"DE\") or (row[\"C23\"] != \"\" and row[\"C23\"] is not None) else \"N\"\n",
    "        return ''.join(temp_list_42)\n",
    "\n",
    "\n",
    "C_Satz[\"C20\"] = C_Satz.apply(C_20_Pos43, axis=1)"
   ],
   "metadata": {
    "collapsed": false
   },
   "id": "1bf312e0518d8fc0"
  },
  {
   "cell_type": "code",
   "execution_count": null,
   "outputs": [],
   "source": [
    "def C_20_Pos44(row):\n",
    "    B_Satz2Row = B_Satz2.loc[B_Satz2[\"B2\"] == row[\"C2A\"]].iloc[0]\n",
    "    if B_Satz2Row[\"B16\"] >= 20 and row[\"C21\"][19] == \"N\":\n",
    "        temp_list_43 = list(row[\"C20\"])\n",
    "        temp_list_43[43] = \"Y\" if row[\"C25\"] > 12 else \"N\"\n",
    "        return ''.join(temp_list_43)\n",
    "\n",
    "\n",
    "C_Satz[\"C20\"] = C_Satz.apply(C_20_Pos44, axis=1)"
   ],
   "metadata": {
    "collapsed": false
   },
   "id": "97cf9e633412859f"
  },
  {
   "cell_type": "code",
   "execution_count": null,
   "outputs": [],
   "source": [
    "def C_20_Pos45(row):\n",
    "    B_Satz2Row = B_Satz2.loc[B_Satz2[\"B2\"] == row[\"C2A\"]].iloc[0]\n",
    "    if B_Satz2Row[\"B16\"] >= 20 and row[\"C21\"][19] == \"N\":\n",
    "        temp_list_44 = list(row[\"C20\"])\n",
    "        temp_list_44[44] = \"Y\" if row[\"C25\"] is None or row[\"C25\"] == \"\" else \"N\"\n",
    "        return ''.join(temp_list_44)\n",
    "\n",
    "\n",
    "C_Satz[\"C20\"] = C_Satz.apply(C_20_Pos45, axis=1)"
   ],
   "metadata": {
    "collapsed": false
   },
   "id": "43172ad73522786d"
  },
  {
   "cell_type": "code",
   "execution_count": null,
   "outputs": [],
   "source": [
    "def C_20_Pos50(row):\n",
    "    temp_list_49 = list(row[\"C20\"])\n",
    "    temp_list_49[49] = \"Y\" if row[\"C19\"] < 20 else \"N\"\n",
    "    return ''.join(temp_list_49)\n",
    "\n",
    "\n",
    "C_Satz[\"C20\"] = C_Satz.apply(C_20_Pos50, axis=1)\n"
   ],
   "metadata": {
    "collapsed": false
   },
   "id": "4f8dd3478516dcd3"
  },
  {
   "cell_type": "code",
   "execution_count": null,
   "outputs": [],
   "source": [
    "C_CONT = C_CONT[[\"C1\", \"C2A\", \"C2B\", \"C3\", \"C4\", \"C5\", \"C6\", \"C7\", \"C8\", \"C9\", \"C10\", \"C11\", \"C12\", \"C13\",\n",
    "                 \"C14\", \"C15\", \"C16\", \"C17\", \"C18\", \"C19\", \"C20\", \"C21\", \"C22\", \"C23\", \"C24\", \"C25\", \"C26\", \"C27\"]]\n",
    "# gewünschte C-Satz ausgeben"
   ],
   "metadata": {
    "collapsed": false
   },
   "id": "3c2af7696d880db9"
  },
  {
   "cell_type": "code",
   "execution_count": null,
   "outputs": [],
   "source": [
    "# füge die daten von C_Satz über die von C_CONT an\n",
    "C_neu = pandas.concat([C_Satz, C_CONT], ignore_index=True)\n",
    "C_neu.to_csv(path + \"/C.csv\", index=False)\n"
   ],
   "metadata": {
    "collapsed": false
   },
   "id": "88abdd393bb48fbf"
  }
 ],
 "metadata": {
  "kernelspec": {
   "display_name": "Python 3",
   "language": "python",
   "name": "python3"
  },
  "language_info": {
   "codemirror_mode": {
    "name": "ipython",
    "version": 2
   },
   "file_extension": ".py",
   "mimetype": "text/x-python",
   "name": "python",
   "nbconvert_exporter": "python",
   "pygments_lexer": "ipython2",
   "version": "2.7.6"
  }
 },
 "nbformat": 4,
 "nbformat_minor": 5
}
