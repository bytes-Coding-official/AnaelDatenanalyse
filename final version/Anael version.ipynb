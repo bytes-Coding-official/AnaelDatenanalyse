{
 "cells": [
  {
   "cell_type": "code",
   "execution_count": 1,
   "id": "initial_id",
   "metadata": {
    "collapsed": true,
    "ExecuteTime": {
     "end_time": "2023-10-03T15:55:08.184890900Z",
     "start_time": "2023-10-03T15:55:07.318211Z"
    }
   },
   "outputs": [],
   "source": [
    "# Importieren der Bibliotheken, die für die Codierung erforderlich sind\n",
    "from datetime import datetime\n",
    "import chardet\n",
    "import pandas as pd"
   ]
  },
  {
   "cell_type": "code",
   "execution_count": 2,
   "outputs": [],
   "source": [
    "DF_merged = None\n",
    "\n",
    "\n",
    "def B_Satz2_Zeile_aufsuchen(Tab, spalte1, value):\n",
    "    \"\"\"Diese Funktion wählt durch Filtrierung eine Zeile aus B_Satz2 aus\n",
    "    und setzt diese Zeile unter der Zeile aus dem A_Satz. Damit man die Datensätze entsprechend der Tabellendarstellung \n",
    "    der Einreichertdatei. Value ist das Suchkriterium im B_Satz2 wie z.B die Kundennummer.\"\"\"\n",
    "\n",
    "    # Zeile aus A_Satz\n",
    "    erste_Zeile = Tab[Tab[1] == \"A\"]\n",
    "    # gewünschte Zeile aus B_Satz2\n",
    "    zweite_Zeile = Tab[(Tab[1] == \"B\") & (Tab[spalte1] == value)]\n",
    "    # Stapeln der Zeilen\n",
    "    DF = pd.concat([erste_Zeile, zweite_Zeile], axis=0)\n",
    "\n",
    "    return DF"
   ],
   "metadata": {
    "collapsed": false,
    "ExecuteTime": {
     "end_time": "2023-10-03T15:55:08.191464600Z",
     "start_time": "2023-10-03T15:55:07.760961900Z"
    }
   },
   "id": "e8d345c7b8e981d2"
  },
  {
   "cell_type": "code",
   "execution_count": 3,
   "outputs": [],
   "source": [
    "# Funktion für B14_Pos.2\n",
    "\n",
    "def Funktion_B14_02(DF, Spalte1, Spalte2):\n",
    "    \"\"\"Diese Funktion sucht in DF-230/DSDW0230 nach den Nace-Codes \"K64\".\n",
    "      Wenn gefunden, wird in der Spalte B14 an Pos.2 \"N\" durch \"Y\" an der zweiten Stelle ersetzt.\"\"\"\n",
    "\n",
    "    DF.loc[DF[Spalte1].str.contains(\"K64.\", na=False), Spalte2] = DF[Spalte2].str[:1] + \"Y\" + DF[Spalte2].str[2:]\n",
    "\n",
    "    return DF"
   ],
   "metadata": {
    "collapsed": false,
    "ExecuteTime": {
     "end_time": "2023-10-03T15:55:08.191464600Z",
     "start_time": "2023-10-03T15:55:07.764188400Z"
    }
   },
   "id": "1ea59cdcfb6bc10d"
  },
  {
   "cell_type": "code",
   "execution_count": 4,
   "outputs": [],
   "source": [
    "# Funktion für B14_Pos.3\n",
    "\n",
    "def Funktion_B14_Pos03(DF1, DF2, Spalte1, Spalte2, Spalte3, Spalte4):\n",
    "    \"\"\"Diese Funktion prüft ob, die Werte \"CIN\", \"INS\", \"INSO\", \"LI\", \"NLI\", \"RI\" in der Spalte DF-3386/TPDW3386 vorhanden sind.\n",
    "       Falls ja, dann wird in der Spalte B14 an Pos.3,  \"N\" durch \"Y\" an der zweiten Stelle ersetzt.\"\"\"\n",
    "\n",
    "    global DF_merged\n",
    "    if DF_merged is None:\n",
    "        DF_merged = DF1.merge(DF2, left_on=Spalte1, right_on=Spalte2, how=\"left\")\n",
    "    DF_merged = DF1.merge(DF2, left_on=Spalte1, right_on=Spalte2, how=\"left\")\n",
    "    DF_merged.loc[DF_merged[Spalte3].isin([\"CIN\", \"INS\", \"INSO\", \"LI\",\n",
    "                                           \"NLI\", \"RI\"]), Spalte4] = DF_merged[Spalte4].str[:2] + \"Y\" + DF_merged[Spalte4].str[3:]\n",
    "\n",
    "    return DF_merged[DF1.columns]"
   ],
   "metadata": {
    "collapsed": false,
    "ExecuteTime": {
     "end_time": "2023-10-03T15:55:08.191464600Z",
     "start_time": "2023-10-03T15:55:07.767524400Z"
    }
   },
   "id": "1c44a46dda1701be"
  },
  {
   "cell_type": "code",
   "execution_count": 5,
   "outputs": [],
   "source": [
    "# Funktion für B14_Pos.5\n",
    "\n",
    "def Funktion_B14_05(DF1, DF2, Spalte1, Spalte2, Spalte3, Spalte4):\n",
    "    \"\"\"Diese Funktion prüft ob, die Werte \"CGOV\", \"LGOV\", \"CGOV\" in der Spalte DF-3386/TPDW3386 vorhanden sind.\n",
    "       Falls ja, dann wird in der Spalte B14 an Pos.5,  \"N\" durch \"Y\" an der fünften Stelle ersetzt.\"\"\"\n",
    "    global DF_merged\n",
    "    if DF_merged is None:\n",
    "        # Merge DF1 und DF2 um die Werte in Spalte DF-3386/TPDW3386 zu prüfen und \"N\" durch \"Y\" zu ersetzen\n",
    "        DF_merged = DF1.merge(DF2, left_on=Spalte1, right_on=Spalte2, how=\"left\")\n",
    "    DF_merged.loc[DF_merged[Spalte3].isin([\"CGOV\", \"LGOV\", \"SGOV\"]), Spalte4] = DF_merged[Spalte4].str[:4] + \"Y\" + DF_merged[Spalte4].str[5:]\n",
    "\n",
    "    return DF_merged[DF1.columns]"
   ],
   "metadata": {
    "collapsed": false,
    "ExecuteTime": {
     "end_time": "2023-10-03T15:55:08.191464600Z",
     "start_time": "2023-10-03T15:55:07.771537700Z"
    }
   },
   "id": "37b6f54f6d18e83"
  },
  {
   "cell_type": "code",
   "execution_count": 6,
   "outputs": [],
   "source": [
    "# Funktion für B14 Pos.6\n",
    "\n",
    "def Funktion_B14_06(DF, Spalte1, Spalte2):\n",
    "    \"\"\"Diese Funktion sucht in DF-230/DSDW0230 nach den Nace-Codes, die \"K66\" enthalten.\n",
    "       Falls gefunden, wird in der Spalte B14 an Pos.6 \"N\" durch \"Y\" an der sechsten Stelle ersetzt.\"\"\"\n",
    "\n",
    "    DF.loc[DF[Spalte1].str.contains(\"K66.\", na=False), Spalte2] = DF[Spalte2].str[:5] + \"Y\" + DF[Spalte2].str[6:]\n",
    "\n",
    "    return DF"
   ],
   "metadata": {
    "collapsed": false,
    "ExecuteTime": {
     "end_time": "2023-10-03T15:55:08.191964800Z",
     "start_time": "2023-10-03T15:55:07.773292600Z"
    }
   },
   "id": "a04938ccd03b8604"
  },
  {
   "cell_type": "code",
   "execution_count": 7,
   "outputs": [],
   "source": [
    "# Funktion für B14 Pos.7\n",
    "\n",
    "def Funktion_B14_07(DF1, DF2, Spalte1, Spalte2, Spalte3, Spalte4):\n",
    "    \"\"\"Diese Funktion sucht in TPDW3386  nach dem Wert \"PEN\".\n",
    "       Falls gefunden, wird in der Spalte B14 an Pos.7 \"N\" durch \"Y\" an der siebten Stelle ersetzt.\"\"\"\n",
    "    # Bedingung um zu prüfen, ob \"PEN\" vorhanden ist und \"N\" durch \"Y\" ersetzen\n",
    "    #global DF_merged\n",
    "    #if DF_merged is None:\n",
    "    DF_merged = DF1.merge(DF2, left_on=Spalte1, right_on=Spalte2, how=\"left\")\n",
    "    DF_merged.loc[DF_merged[Spalte3] == \"PEN\", Spalte4] = DF_merged[Spalte4].str[:6] + \"Y\" + DF_merged[Spalte4].str[7:]\n",
    "\n",
    "    return DF_merged[DF1.columns]"
   ],
   "metadata": {
    "collapsed": false,
    "ExecuteTime": {
     "end_time": "2023-10-03T15:55:08.191964800Z",
     "start_time": "2023-10-03T15:55:07.775942700Z"
    }
   },
   "id": "471d30771c211fcd"
  },
  {
   "cell_type": "code",
   "execution_count": 8,
   "outputs": [],
   "source": [
    "# Funktion für die Unterposition Pos.10 von B14\n",
    "\n",
    "def Funktion_B14_Pos_10(DF1, DF2, Spalte1, Spalte2, Spalte3):\n",
    "    \"\"\"Diese Funktion prüft, ob ein Kunde in der Money Laundery Entittät vorhanden ist,\n",
    "    und tauscht in der Unterposition Pos.10 von B14 \"N\" mit \"Y\", \n",
    "    falls die Prüfung positiv ist\"\"\"\n",
    "\n",
    "    # Merge der beiden Tabelle basierend auf Übereinstimmung in der Spalte1\n",
    "    DF_local_merged = DF1.merge(DF2, left_on=Spalte1, right_on=Spalte2, how=\"inner\")\n",
    "    #Ersetze \"N\" durch \"Y\" in Spalte2 entsprechend des Merge\n",
    "    DF1.loc[DF_local_merged.index, Spalte3] = DF1.loc[DF_local_merged.index, Spalte3].str[:9] + \"Y\" + DF1.loc[DF_local_merged.index, Spalte3].str[10:]\n",
    "\n",
    "    return DF1"
   ],
   "metadata": {
    "collapsed": false,
    "ExecuteTime": {
     "end_time": "2023-10-03T15:55:08.191964800Z",
     "start_time": "2023-10-03T15:55:07.780550600Z"
    }
   },
   "id": "e5d9c572aed0a185"
  },
  {
   "cell_type": "code",
   "execution_count": 10,
   "outputs": [],
   "source": [
    "def B_Satz2_Zeile_aufsuchen(Tab, spalte1, value):\n",
    "    \"\"\"Diese Funktion wählt durch Filtrierung eine Zeile aus B_Satz2 aus\n",
    "    und setzt diese Zeile unter der Zeile aus dem A_Satz. Damit man die Datensätze entsprechend der Tabellendarstellung \n",
    "    der Einreichertdatei. Value ist das Suchkriterium im B_Satz2 wie z.B die Kundennummer.\"\"\"\n",
    "\n",
    "    # Zeile aus A_Satz\n",
    "    erste_Zeile = Tab[Tab[1] == \"A\"]\n",
    "    # gewünschte Zeile aus B_Satz2\n",
    "    zweite_Zeile = Tab[(Tab[1] == \"B\") & (Tab[spalte1] == value)]\n",
    "    # Stapeln der Zeilen\n",
    "    DF = pd.concat([erste_Zeile, zweite_Zeile], axis=0)\n",
    "\n",
    "    return DF"
   ],
   "metadata": {
    "collapsed": false,
    "ExecuteTime": {
     "end_time": "2023-10-03T15:55:08.191964800Z",
     "start_time": "2023-10-03T15:55:07.785894500Z"
    }
   },
   "id": "2aa5012557081a87"
  },
  {
   "cell_type": "code",
   "execution_count": 11,
   "outputs": [],
   "source": [
    "\n",
    "def naechsterwert2(DF, Spalte1, Spalte2):\n",
    "    \"\"\"Diese einfache Funktion gibt dir den nächsten in einer Tabelle\"\"\"\n",
    "\n",
    "    return DF[Spalte2][DF[Spalte1].isin(DF[Spalte1])]"
   ],
   "metadata": {
    "collapsed": false,
    "ExecuteTime": {
     "end_time": "2023-10-03T15:55:08.191964800Z",
     "start_time": "2023-10-03T15:55:07.788583200Z"
    }
   },
   "id": "6f69445a9ff8dae1"
  },
  {
   "cell_type": "code",
   "execution_count": 12,
   "outputs": [],
   "source": [
    "# Funktion um Spalte zu ersetzen\n",
    "def Spalte_umbennen(DF, alte_Spalte, neue_Spalte):\n",
    "    return DF.replace(alte_Spalte, neue_Spalte)"
   ],
   "metadata": {
    "collapsed": false,
    "ExecuteTime": {
     "end_time": "2023-10-03T15:55:08.191964800Z",
     "start_time": "2023-10-03T15:55:07.791559400Z"
    }
   },
   "id": "c2183991ee3b8567"
  },
  {
   "cell_type": "code",
   "execution_count": 13,
   "outputs": [],
   "source": [
    "def func_neu_C4(DF1, DF2, Spalte1, Spalte2, Spalte3):\n",
    "    \"\"\" Diese Funktion.........\"\"\"\n",
    "\n",
    "    global DF_C_MERGED\n",
    "    if DF_C_MERGED is None:\n",
    "        DF_C_MERGED = DF1.merge(DF2, left_on=Spalte1, right_on=Spalte2, how=\"left\")\n",
    "    DF_C_MERGED[\"A\"] = \"N\"\n",
    "    DF_C_MERGED.loc[(DF_C_MERGED[Spalte3] == \"BO\"), \"A\"] = \"Y\"\n",
    "\n",
    "    Ergebnisspalte = DF_C_MERGED[\"A\"]\n",
    "\n",
    "    return Ergebnisspalte"
   ],
   "metadata": {
    "collapsed": false,
    "ExecuteTime": {
     "end_time": "2023-10-03T15:55:08.192465900Z",
     "start_time": "2023-10-03T15:55:07.794119700Z"
    }
   },
   "id": "b84e8bb076be0a9b"
  },
  {
   "cell_type": "code",
   "execution_count": 14,
   "outputs": [],
   "source": [
    "def func_neu_C5(DF1, DF2, Spalte1, Spalte2, Spalte3):\n",
    "    \"\"\"Diese Funktion......\"\"\"\n",
    "    global DF_C_MERGED\n",
    "    if DF_C_MERGED is None:\n",
    "        DF_C_MERGED = DF1.merge(DF2, left_on=Spalte1, right_on=Spalte2, how=\"left\")\n",
    "    DF_C_MERGED[\"B\"] = 0\n",
    "    DF_C_MERGED.loc[(DF_C_MERGED[Spalte3] == \"CR\"), \"B\"] = 1\n",
    "\n",
    "    # Group data\n",
    "    DF_grouped = DF_C_MERGED.groupby(Spalte1)[\"B\"].sum().reset_index()\n",
    "\n",
    "    return DF_grouped[\"B\"]"
   ],
   "metadata": {
    "collapsed": false,
    "ExecuteTime": {
     "end_time": "2023-10-03T15:55:08.192465900Z",
     "start_time": "2023-10-03T15:55:07.799037100Z"
    }
   },
   "id": "c3cdcbcfe96318d2"
  },
  {
   "cell_type": "code",
   "execution_count": 15,
   "outputs": [],
   "source": [
    "def Funktion_C15(DF1, DF2, Spalte1, Spalte2, Spalte3, Spalte4):\n",
    "    \"\"\"Diese Funktion .....\"\"\"\n",
    "\n",
    "    merged = DF1.merge(DF2, left_on=Spalte1, right_on=Spalte2, how=\"left\")\n",
    "\n",
    "    condition = merged[Spalte3] == \"0\"\n",
    "\n",
    "    DF1[Spalte4] = \"N\"\n",
    "    DF1.loc[condition, Spalte4] = \"Y\"\n",
    "\n",
    "    return DF1[Spalte4]"
   ],
   "metadata": {
    "collapsed": false,
    "ExecuteTime": {
     "end_time": "2023-10-03T15:55:08.192465900Z",
     "start_time": "2023-10-03T15:55:07.801075400Z"
    }
   },
   "id": "bfba1b80623c1f27"
  },
  {
   "cell_type": "code",
   "execution_count": 16,
   "outputs": [],
   "source": [
    "def Funktion_C27(row):\n",
    "    \"\"\"Diese Funktion ist definiert entsprechend der Spezifikation\"\"\"\n",
    "\n",
    "    # Wert: 90 - Ohne Ausschluss\n",
    "    if all(row['B14'] == 'N') and all(row['C20'] == 'N'):\n",
    "        return '90'\n",
    "\n",
    "    # Wert: 01 - Ausschluss nur nach EinSiG\n",
    "    if any(row['B14'][0:15] == 'Y') and all(row['B14'][15:50] == 'N') and all(row['C20'][10:50] == 'N'):\n",
    "        return '01'\n",
    "    elif any(row['C20'][0:10] == 'Y') and all(row['C20'][10:50] == 'N') and all(row['B14'][15:50] == 'N'):\n",
    "        return '01'\n",
    "\n",
    "    # Wert: 20 - Ausschluss nur nach ESF-Statut\n",
    "    if any(row['B14'][30:50] == 'Y') and all(row['B14'][0:30] == 'N') and all(row['C20'][0:30] == 'N'):\n",
    "        return '20'\n",
    "    elif any(row['C20'][30:50] == 'Y') and all(row['C20'][0:30] == 'N') and all(row['B14'][0:30] == 'N'):\n",
    "        return '20'\n",
    "\n",
    "    # Wert: 11 - Ausschluss \"Bagatellgrenze\" nach EinSiG und ESF-Statut\n",
    "    if all(row['C20'][1:49] == 'N') and row['C20'][49] == 'Y':\n",
    "        return '11'\n",
    "\n",
    "    # Wert: 10 - Ausschluss nach EinSiG und ESF-Statut (alle anderen Fälle)\n",
    "    return '10'"
   ],
   "metadata": {
    "collapsed": false,
    "ExecuteTime": {
     "end_time": "2023-10-03T15:55:08.192465900Z",
     "start_time": "2023-10-03T15:55:07.806490900Z"
    }
   },
   "id": "116645554502d346"
  },
  {
   "cell_type": "code",
   "execution_count": 17,
   "outputs": [],
   "source": [
    "#\"../files\n",
    "\n",
    "path = \"../../DE1D_2023_06_13\"\n"
   ],
   "metadata": {
    "collapsed": false,
    "ExecuteTime": {
     "end_time": "2023-10-03T15:55:08.192465900Z",
     "start_time": "2023-10-03T15:55:07.809429300Z"
    }
   },
   "id": "c3407af2231d6e84"
  },
  {
   "cell_type": "code",
   "execution_count": 18,
   "outputs": [
    {
     "data": {
      "text/plain": "       KDW0007O    KDW0007              KYDW0007O               KDW0717  \\\n0   TRSRYDE1-BP  103597387  TRSRYDE1-BP/103597387  DE1D-20230612-1-INT1   \n1   TRSRYDE1-BP  104044196  TRSRYDE1-BP/104044196  DE1D-20230612-1-INT1   \n2   TRSRYDE1-BP  104140197  TRSRYDE1-BP/104140197  DE1D-20230612-1-INT1   \n3   TRSRYDE1-BP  104393282  TRSRYDE1-BP/104393282  DE1D-20230612-1-INT1   \n4   TRSRYDE1-BP  104413531  TRSRYDE1-BP/104413531  DE1D-20230612-1-INT1   \n..          ...        ...                    ...                   ...   \n87  TRSRYDE1-BP   78303574   TRSRYDE1-BP/78303574  DE1D-20230612-1-INT1   \n88  TRSRYDE1-BP   80684923   TRSRYDE1-BP/80684923  DE1D-20230612-1-INT1   \n89  TRSRYDE1-BP   94534010   TRSRYDE1-BP/94534010  DE1D-20230612-1-INT1   \n90  TRSRYDE1-BP   99646464   TRSRYDE1-BP/99646464  DE1D-20230612-1-INT1   \n91  TRSRYDE1-BP     CC4160     TRSRYDE1-BP/CC4160  DE1D-20230612-1-INT1   \n\n   KDW0719 TPDW0235 TPDW0026    DSDW0366               KDW0325  \\\n0     DE1D    I-ORG        C  16815284.0                   NaN   \n1     DE1D    I-ORG        C         NaN  529900GJD3OQLRZCKW37   \n2     DE1D    I-ORG        C         NaN  529900GJD3OQLRZCKW37   \n3     DE1D    I-ORG        C  24597189.0  529900H2QI9WGGEF7277   \n4     DE1D    I-ORG        C         NaN  851WYGNLUQLFZBSYGB56   \n..     ...      ...      ...         ...                   ...   \n87    DE1D    I-ORG        C  21338686.0  529900SEOICVR2VM6Y05   \n88    DE1D    I-ORG        C  26164541.0  52990002O5KK6XOGJ020   \n89    DE1D    I-ORG        C         NaN                   NaN   \n90    DE1D    I-ORG        C  11266178.0                   NaN   \n91    DE1D      NaN        C         NaN                   NaN   \n\n            KDW3153  ... TPDW5470 TPDW5506 TPDW5468 TPDW5483 TPDW0882  \\\n0    HRB33615-M1201  ...      NaN      NaN      NaN      NaN      NaN   \n1               NaN  ...      NaN      NaN      NaN      NaN      NaN   \n2               NaN  ...      NaN      NaN      NaN      NaN      NaN   \n3               NaN  ...      NaN      NaN      NaN      NaN      NaN   \n4    HRB32000-M1201  ...      NaN      NaN      NaN      NaN      NaN   \n..              ...  ...      ...      ...      ...      ...      ...   \n87              NaN  ...      NaN      NaN      NaN      NaN      NaN   \n88   HRA15277-R1101  ...      NaN      NaN      NaN      NaN      NaN   \n89              NaN  ...      NaN      NaN      NaN      NaN      NaN   \n90  HRB724512-B2609  ...      NaN      NaN      NaN      NaN      NaN   \n91              NaN  ...      NaN      NaN      NaN      NaN      NaN   \n\n    TPDW4438 TPDW5560  KDWR5566O  KDWR5566  \\\n0        NaN      NaN        NaN       NaN   \n1        NaN      NaN        NaN       NaN   \n2        NaN      NaN        NaN       NaN   \n3        NaN      NaN        NaN       NaN   \n4        NaN      NaN        NaN       NaN   \n..       ...      ...        ...       ...   \n87       NaN      NaN        NaN       NaN   \n88       NaN      NaN        NaN       NaN   \n89       NaN      NaN        NaN       NaN   \n90       NaN      NaN        NaN       NaN   \n91       NaN      NaN        NaN       NaN   \n\n                                        DSDW4456  \n0    Helaba Invest Kapitalanlagegesellschaft mbH  \n1        Volkswagen Bank GmbH Surcusal en Espana  \n2              Volkswagen Bank GmbH Milan Branch  \n3                Volkswagen Dogus Finansman A.S.  \n4                                 Commerzbank AG  \n..                                           ...  \n87                           Deutsche Bundesbank  \n88                                      NRW.BANK  \n89  Deutsche Bundesbank Hauptverwaltung Hannover  \n90                  Porsche Automobil Holding SE  \n91                                           NaN  \n\n[92 rows x 90 columns]",
      "text/html": "<div>\n<style scoped>\n    .dataframe tbody tr th:only-of-type {\n        vertical-align: middle;\n    }\n\n    .dataframe tbody tr th {\n        vertical-align: top;\n    }\n\n    .dataframe thead th {\n        text-align: right;\n    }\n</style>\n<table border=\"1\" class=\"dataframe\">\n  <thead>\n    <tr style=\"text-align: right;\">\n      <th></th>\n      <th>KDW0007O</th>\n      <th>KDW0007</th>\n      <th>KYDW0007O</th>\n      <th>KDW0717</th>\n      <th>KDW0719</th>\n      <th>TPDW0235</th>\n      <th>TPDW0026</th>\n      <th>DSDW0366</th>\n      <th>KDW0325</th>\n      <th>KDW3153</th>\n      <th>...</th>\n      <th>TPDW5470</th>\n      <th>TPDW5506</th>\n      <th>TPDW5468</th>\n      <th>TPDW5483</th>\n      <th>TPDW0882</th>\n      <th>TPDW4438</th>\n      <th>TPDW5560</th>\n      <th>KDWR5566O</th>\n      <th>KDWR5566</th>\n      <th>DSDW4456</th>\n    </tr>\n  </thead>\n  <tbody>\n    <tr>\n      <th>0</th>\n      <td>TRSRYDE1-BP</td>\n      <td>103597387</td>\n      <td>TRSRYDE1-BP/103597387</td>\n      <td>DE1D-20230612-1-INT1</td>\n      <td>DE1D</td>\n      <td>I-ORG</td>\n      <td>C</td>\n      <td>16815284.0</td>\n      <td>NaN</td>\n      <td>HRB33615-M1201</td>\n      <td>...</td>\n      <td>NaN</td>\n      <td>NaN</td>\n      <td>NaN</td>\n      <td>NaN</td>\n      <td>NaN</td>\n      <td>NaN</td>\n      <td>NaN</td>\n      <td>NaN</td>\n      <td>NaN</td>\n      <td>Helaba Invest Kapitalanlagegesellschaft mbH</td>\n    </tr>\n    <tr>\n      <th>1</th>\n      <td>TRSRYDE1-BP</td>\n      <td>104044196</td>\n      <td>TRSRYDE1-BP/104044196</td>\n      <td>DE1D-20230612-1-INT1</td>\n      <td>DE1D</td>\n      <td>I-ORG</td>\n      <td>C</td>\n      <td>NaN</td>\n      <td>529900GJD3OQLRZCKW37</td>\n      <td>NaN</td>\n      <td>...</td>\n      <td>NaN</td>\n      <td>NaN</td>\n      <td>NaN</td>\n      <td>NaN</td>\n      <td>NaN</td>\n      <td>NaN</td>\n      <td>NaN</td>\n      <td>NaN</td>\n      <td>NaN</td>\n      <td>Volkswagen Bank GmbH Surcusal en Espana</td>\n    </tr>\n    <tr>\n      <th>2</th>\n      <td>TRSRYDE1-BP</td>\n      <td>104140197</td>\n      <td>TRSRYDE1-BP/104140197</td>\n      <td>DE1D-20230612-1-INT1</td>\n      <td>DE1D</td>\n      <td>I-ORG</td>\n      <td>C</td>\n      <td>NaN</td>\n      <td>529900GJD3OQLRZCKW37</td>\n      <td>NaN</td>\n      <td>...</td>\n      <td>NaN</td>\n      <td>NaN</td>\n      <td>NaN</td>\n      <td>NaN</td>\n      <td>NaN</td>\n      <td>NaN</td>\n      <td>NaN</td>\n      <td>NaN</td>\n      <td>NaN</td>\n      <td>Volkswagen Bank GmbH Milan Branch</td>\n    </tr>\n    <tr>\n      <th>3</th>\n      <td>TRSRYDE1-BP</td>\n      <td>104393282</td>\n      <td>TRSRYDE1-BP/104393282</td>\n      <td>DE1D-20230612-1-INT1</td>\n      <td>DE1D</td>\n      <td>I-ORG</td>\n      <td>C</td>\n      <td>24597189.0</td>\n      <td>529900H2QI9WGGEF7277</td>\n      <td>NaN</td>\n      <td>...</td>\n      <td>NaN</td>\n      <td>NaN</td>\n      <td>NaN</td>\n      <td>NaN</td>\n      <td>NaN</td>\n      <td>NaN</td>\n      <td>NaN</td>\n      <td>NaN</td>\n      <td>NaN</td>\n      <td>Volkswagen Dogus Finansman A.S.</td>\n    </tr>\n    <tr>\n      <th>4</th>\n      <td>TRSRYDE1-BP</td>\n      <td>104413531</td>\n      <td>TRSRYDE1-BP/104413531</td>\n      <td>DE1D-20230612-1-INT1</td>\n      <td>DE1D</td>\n      <td>I-ORG</td>\n      <td>C</td>\n      <td>NaN</td>\n      <td>851WYGNLUQLFZBSYGB56</td>\n      <td>HRB32000-M1201</td>\n      <td>...</td>\n      <td>NaN</td>\n      <td>NaN</td>\n      <td>NaN</td>\n      <td>NaN</td>\n      <td>NaN</td>\n      <td>NaN</td>\n      <td>NaN</td>\n      <td>NaN</td>\n      <td>NaN</td>\n      <td>Commerzbank AG</td>\n    </tr>\n    <tr>\n      <th>...</th>\n      <td>...</td>\n      <td>...</td>\n      <td>...</td>\n      <td>...</td>\n      <td>...</td>\n      <td>...</td>\n      <td>...</td>\n      <td>...</td>\n      <td>...</td>\n      <td>...</td>\n      <td>...</td>\n      <td>...</td>\n      <td>...</td>\n      <td>...</td>\n      <td>...</td>\n      <td>...</td>\n      <td>...</td>\n      <td>...</td>\n      <td>...</td>\n      <td>...</td>\n      <td>...</td>\n    </tr>\n    <tr>\n      <th>87</th>\n      <td>TRSRYDE1-BP</td>\n      <td>78303574</td>\n      <td>TRSRYDE1-BP/78303574</td>\n      <td>DE1D-20230612-1-INT1</td>\n      <td>DE1D</td>\n      <td>I-ORG</td>\n      <td>C</td>\n      <td>21338686.0</td>\n      <td>529900SEOICVR2VM6Y05</td>\n      <td>NaN</td>\n      <td>...</td>\n      <td>NaN</td>\n      <td>NaN</td>\n      <td>NaN</td>\n      <td>NaN</td>\n      <td>NaN</td>\n      <td>NaN</td>\n      <td>NaN</td>\n      <td>NaN</td>\n      <td>NaN</td>\n      <td>Deutsche Bundesbank</td>\n    </tr>\n    <tr>\n      <th>88</th>\n      <td>TRSRYDE1-BP</td>\n      <td>80684923</td>\n      <td>TRSRYDE1-BP/80684923</td>\n      <td>DE1D-20230612-1-INT1</td>\n      <td>DE1D</td>\n      <td>I-ORG</td>\n      <td>C</td>\n      <td>26164541.0</td>\n      <td>52990002O5KK6XOGJ020</td>\n      <td>HRA15277-R1101</td>\n      <td>...</td>\n      <td>NaN</td>\n      <td>NaN</td>\n      <td>NaN</td>\n      <td>NaN</td>\n      <td>NaN</td>\n      <td>NaN</td>\n      <td>NaN</td>\n      <td>NaN</td>\n      <td>NaN</td>\n      <td>NRW.BANK</td>\n    </tr>\n    <tr>\n      <th>89</th>\n      <td>TRSRYDE1-BP</td>\n      <td>94534010</td>\n      <td>TRSRYDE1-BP/94534010</td>\n      <td>DE1D-20230612-1-INT1</td>\n      <td>DE1D</td>\n      <td>I-ORG</td>\n      <td>C</td>\n      <td>NaN</td>\n      <td>NaN</td>\n      <td>NaN</td>\n      <td>...</td>\n      <td>NaN</td>\n      <td>NaN</td>\n      <td>NaN</td>\n      <td>NaN</td>\n      <td>NaN</td>\n      <td>NaN</td>\n      <td>NaN</td>\n      <td>NaN</td>\n      <td>NaN</td>\n      <td>Deutsche Bundesbank Hauptverwaltung Hannover</td>\n    </tr>\n    <tr>\n      <th>90</th>\n      <td>TRSRYDE1-BP</td>\n      <td>99646464</td>\n      <td>TRSRYDE1-BP/99646464</td>\n      <td>DE1D-20230612-1-INT1</td>\n      <td>DE1D</td>\n      <td>I-ORG</td>\n      <td>C</td>\n      <td>11266178.0</td>\n      <td>NaN</td>\n      <td>HRB724512-B2609</td>\n      <td>...</td>\n      <td>NaN</td>\n      <td>NaN</td>\n      <td>NaN</td>\n      <td>NaN</td>\n      <td>NaN</td>\n      <td>NaN</td>\n      <td>NaN</td>\n      <td>NaN</td>\n      <td>NaN</td>\n      <td>Porsche Automobil Holding SE</td>\n    </tr>\n    <tr>\n      <th>91</th>\n      <td>TRSRYDE1-BP</td>\n      <td>CC4160</td>\n      <td>TRSRYDE1-BP/CC4160</td>\n      <td>DE1D-20230612-1-INT1</td>\n      <td>DE1D</td>\n      <td>NaN</td>\n      <td>C</td>\n      <td>NaN</td>\n      <td>NaN</td>\n      <td>NaN</td>\n      <td>...</td>\n      <td>NaN</td>\n      <td>NaN</td>\n      <td>NaN</td>\n      <td>NaN</td>\n      <td>NaN</td>\n      <td>NaN</td>\n      <td>NaN</td>\n      <td>NaN</td>\n      <td>NaN</td>\n      <td>NaN</td>\n    </tr>\n  </tbody>\n</table>\n<p>92 rows × 90 columns</p>\n</div>"
     },
     "execution_count": 18,
     "metadata": {},
     "output_type": "execute_result"
    }
   ],
   "source": [
    "# Path zur Directory, wo alle einzulesenden Dateien vorhanden sind\n",
    "\n",
    "##########################################-I Einlesen Der Daten-####################################################################################\n",
    "# Einlesen der Business Partner und Business Partner act in Liability und die Money Laundery-Entitäten. \n",
    "# Dateien, die wir für den Aufbau des B-Satzes benötigen\n",
    "# Nach dem Einlesen muss entsprechend der Entitäten die neue Spalte KYDW0007, KYDWR50880 und KYDWR5469O erzeugt werden,  entsprechend den Testdaten\n",
    "# Z.B KYDW0007 ist eine Kombination der Spalten KDW0007 und KDW0007O\n",
    "\n",
    "# 1. Einlesen der Business Partner-Entität\n",
    "\n",
    "\n",
    "DF_BP = pd.read_csv(path + \"/BPART.csv\", sep=\"\\t\", skiprows=9)\n",
    "# KYDW0007 wird durch eine \"Join\" der Spalten KDW0007 und KDW0007O. Die Spalte wird am Ende des Dataframes hinzugefügt \n",
    "DF_BP[\"KYDW0007\"] = DF_BP[[\"KDW0007O\", \"KDW0007\"]].astype(str).agg(\"/\".join, axis=1)\n",
    "# Die neue KYDW0007-Spalte wird am Anfang des Dataframes hingefügt \n",
    "first_column = DF_BP.pop(\"KYDW0007\")\n",
    "DF_BP.insert(2, \"KYDW0007O\", first_column)\n",
    "# Das neue Dataframe wird ausgefürt \n",
    "\n",
    "DF_BP\n",
    "\n",
    "# Einlesen der Datei  \"Datei_TPDW3386\", die die Spalte TPDW3386 enthält.Diese Spalte wird benötigt, damit man die Codes der Unterpositionen  Pos.05 und Pos.7 der B14-Spalte ausführen kann. \n",
    "# In \"Datei_TPDW3386\" heisste die Spalte \"TPGC33886\". Die Spalte wird jedoch in den DataFrame \"DF_BP\" als \"TPDW3386\" eingefügt.\n",
    "\n",
    "# Einlesen der Datei mit der Spalte TPDW3386.\n",
    "\n",
    "\n",
    "# Im B-Satz sollten die Kunden als Creditor vorhenden sein. Aus diesem Grund verbinden wir die Business Partner Entität und die Business Partner act in Liability. \n",
    "# Dann filtrieren wir die den gemerged Dataframe auf die Kundennummer versehen mit \"CR\". Die erhaltenen Kundennummern mit \"CR\" werden dann \n",
    "# Die erhaltenen Kundennummern mit \"CR\" werden dann in den B_Satz in die Spalte \"B2\" eingefügt.\n",
    "\n",
    "# Merge Business Partner und Business Partner act in Liability Entität"
   ],
   "metadata": {
    "collapsed": false,
    "ExecuteTime": {
     "end_time": "2023-10-03T15:55:08.192964400Z",
     "start_time": "2023-10-03T15:55:07.811908400Z"
    }
   },
   "id": "d1764bc00d20a468"
  },
  {
   "cell_type": "code",
   "execution_count": 19,
   "outputs": [
    {
     "data": {
      "text/plain": "     TPGC7O              KGC7 TPGC235 TPGC26  TPGC325  \\\n0   DE1-ZGP         138750336   I-ORG      R      NaN   \n1   DE1-ZGP         138750338   I-ORG      R      NaN   \n2   DE1-ZGP         138750337   I-ORG      R      NaN   \n3   DE3-ZGP         185605956   I-ORG    NaN      NaN   \n4   DE3-ZGP   AUDI_LEASING_GP    I-NP      R      NaN   \n5   DE3-ZGP    HB_FORD_SMV_GP   I-ORG      R      NaN   \n6   DE3-ZGP  HB_FORD_TANKK_GP   I-ORG      R      NaN   \n7   DE3-ZGP  HB_FORD_VERSS_GP   I-ORG      R      NaN   \n8   DE3-ZGP     WA_LEASING_GP    I-NP      R      NaN   \n9   DE1-ZGP           1008986    I-NP    NaN      NaN   \n10  DE1-ZGP           1108283   I-ORG    NaN      NaN   \n11  DE1-ZGP           1139022   I-ORG    NaN      NaN   \n12  DE3-ZGP         125641563   I-ORG      R      NaN   \n13  DE3-ZGP          27487445   I-ORG    NaN      NaN   \n14  DE3-ZGP          27710761   I-ORG    NaN      NaN   \n15  DE3-ZGP          42369825   I-ORG    NaN      NaN   \n16  DE3-ZGP         132503514   I-ORG      R      NaN   \n17  DE3-ZGP         136610580   I-ORG      R      NaN   \n18  DE3-ZGP         137189195   I-ORG      R      NaN   \n19  DE3-ZGP         138635764   I-ORG      R      NaN   \n20  DE3-ZGP         138750338   I-ORG      R      NaN   \n21  DE3-ZGP         139010831   I-ORG      R      NaN   \n22  DE3-ZGP   AUDI_LEASING_GP    I-NP      R      NaN   \n23  DE3-ZGP    HB_FORD_SMV_GP   I-ORG      R      NaN   \n24  DE3-ZGP  HB_FORD_TANKK_GP   I-ORG      R      NaN   \n25  DE3-ZGP  HB_FORD_VERSS_GP   I-ORG      R      NaN   \n26  DE3-ZGP     WA_LEASING_GP    I-NP      R      NaN   \n\n                                        DSGC10    DSGC3702   DSGC13  \\\n0   ZkmkekEknFkdxndrUgdjkqynmrhrghgqqhotkvyzxM  QzXgmfzkq1  24337.0   \n1   ZkmkekEknFkdxndrUgdjkqynmrhrghgqqhotkvyzxM  QzXgmfzkq1  24337.0   \n2   ZkmkekEknFkdxndrUgdjkqynmrhrghgqqhotkvyzxM  QzXgmfzkq1  24337.0   \n3                                          NaN         NaN      NaN   \n4                                          NaN         NaN      NaN   \n5                                          NaN         NaN      NaN   \n6                                          NaN         NaN      NaN   \n7                                          NaN         NaN      NaN   \n8                                          NaN         NaN      NaN   \n9                                          NaN         NaN      NaN   \n10                                         NaN         NaN      NaN   \n11                                         NaN         NaN      NaN   \n12  ZKMKEKEKNFKDXNDRUGDJKQYNMRHRGHGQQHOTKVYZXM  QZXGMFZKQ1  24337.0   \n13                                         NaN         NaN      NaN   \n14                                         NaN         NaN      NaN   \n15                                         NaN         NaN      NaN   \n16  ZKMKEKEKNFKDXNDRUGDJKQYNMRHRGHGQQHOTKVYZXM  QZXGMFZKQ1  24337.0   \n17  ZKMKEKEKNFKDXNDRUGDJKQYNMRHRGHGQQHOTKVYZXM  QZXGMFZKQ1  24337.0   \n18  ZKMKEKEKNFKDXNDRUGDJKQYNMRHRGHGQQHOTKVYZXM  QZXGMFZKQ1  24337.0   \n19  ZKMKEKEKNFKDXNDRUGDJKQYNMRHRGHGQQHOTKVYZXM  QZXGMFZKQ1  24337.0   \n20  ZkmkekEknFkdxndrUgdjkqynmrhrghgqqhotkvyzxM  QzXgmfzkq1  24337.0   \n21  ZkmkekEknFkdxndrUgdjkqynmrhrghgqqhotkvyzxM  QzXgmfzkq1  24337.0   \n22                                         NaN         NaN      NaN   \n23                                         NaN         NaN      NaN   \n24                                         NaN         NaN      NaN   \n25                                         NaN         NaN      NaN   \n26                                         NaN         NaN      NaN   \n\n          DSGC14 TPGC12  ...  TPGC5179 TPGC5205 TPGC5208 TPGC5355 TPGC5470  \\\n0   Edknmhotjgwr     DE  ...       NaN      NaN      NaN       DE      NaN   \n1   Edknmhotjgwr     DE  ...       NaN      NaN      NaN       DE      NaN   \n2   Edknmhotjgwr     DE  ...       NaN      NaN      NaN       DE      NaN   \n3            NaN    NaN  ...       NaN      NaN      NaN      NaN      NaN   \n4            NaN     DE  ...       NaN      NaN      NaN      NaN      NaN   \n5            NaN     DE  ...       NaN      NaN      NaN      NaN      NaN   \n6            NaN     DE  ...       NaN      NaN      NaN      NaN      NaN   \n7            NaN     DE  ...       NaN      NaN      NaN      NaN      NaN   \n8            NaN     DE  ...       NaN      NaN      NaN      NaN      NaN   \n9            NaN    NaN  ...       NaN      NaN      NaN      NaN        N   \n10           NaN    NaN  ...       NaN      NaN      NaN      NaN      NaN   \n11           NaN    NaN  ...       NaN      NaN      NaN      NaN      NaN   \n12  EDKNMHOTJGWR     DE  ...       NaN      NaN      NaN       DE      NaN   \n13           NaN    NaN  ...       NaN      NaN      NaN      NaN      NaN   \n14           NaN    NaN  ...       NaN      NaN      NaN      NaN      NaN   \n15           NaN    NaN  ...       NaN      NaN      NaN      NaN      NaN   \n16  EDKNMHOTJGWR     DE  ...       NaN      NaN      NaN       DE      NaN   \n17  EDKNMHOTJGWR     DE  ...       NaN      NaN      NaN       DE      NaN   \n18  EDKNMHOTJGWR     DE  ...       NaN      NaN      NaN       DE      NaN   \n19  EDKNMHOTJGWR     DE  ...       NaN      NaN      NaN       DE      NaN   \n20  Edknmhotjgwr     DE  ...       NaN      NaN      NaN       DE      NaN   \n21  Edknmhotjgwr     DE  ...       NaN      NaN      NaN       DE      NaN   \n22           NaN     DE  ...       NaN      NaN      NaN      NaN      NaN   \n23           NaN     DE  ...       NaN      NaN      NaN      NaN      NaN   \n24           NaN     DE  ...       NaN      NaN      NaN      NaN      NaN   \n25           NaN     DE  ...       NaN      NaN      NaN      NaN      NaN   \n26           NaN     DE  ...       NaN      NaN      NaN      NaN      NaN   \n\n   TPGC5506  TPGC5468  TPGC5483  DSGC4438  TPGC5560  \n0       NaN       NaN       NaN       NaN         N  \n1       NaN       NaN       NaN       NaN         N  \n2       NaN       NaN       NaN       NaN         N  \n3       NaN       NaN       NaN       NaN       NaN  \n4       NaN       NaN       NaN       NaN       NaN  \n5       NaN       NaN       NaN       NaN       NaN  \n6       NaN       NaN       NaN       NaN       NaN  \n7       NaN       NaN       NaN       NaN       NaN  \n8       NaN       NaN       NaN       NaN       NaN  \n9         N       NaN       NaN       NaN       NaN  \n10      NaN       NaN       NaN       NaN       NaN  \n11      NaN       NaN       NaN       NaN       NaN  \n12      NaN       NaN       NaN       NaN         N  \n13      NaN       NaN       NaN       NaN       NaN  \n14      NaN       NaN       NaN       NaN       NaN  \n15      NaN       NaN       NaN       NaN       NaN  \n16      NaN       NaN       NaN       NaN         N  \n17      NaN       NaN       NaN       NaN         N  \n18      NaN       NaN       NaN       NaN         N  \n19      NaN       NaN       NaN       NaN         N  \n20      NaN       NaN       NaN       NaN         N  \n21      NaN       NaN       NaN       NaN         N  \n22      NaN       NaN       NaN       NaN       NaN  \n23      NaN       NaN       NaN       NaN       NaN  \n24      NaN       NaN       NaN       NaN       NaN  \n25      NaN       NaN       NaN       NaN       NaN  \n26      NaN       NaN       NaN       NaN       NaN  \n\n[27 rows x 37 columns]",
      "text/html": "<div>\n<style scoped>\n    .dataframe tbody tr th:only-of-type {\n        vertical-align: middle;\n    }\n\n    .dataframe tbody tr th {\n        vertical-align: top;\n    }\n\n    .dataframe thead th {\n        text-align: right;\n    }\n</style>\n<table border=\"1\" class=\"dataframe\">\n  <thead>\n    <tr style=\"text-align: right;\">\n      <th></th>\n      <th>TPGC7O</th>\n      <th>KGC7</th>\n      <th>TPGC235</th>\n      <th>TPGC26</th>\n      <th>TPGC325</th>\n      <th>DSGC10</th>\n      <th>DSGC3702</th>\n      <th>DSGC13</th>\n      <th>DSGC14</th>\n      <th>TPGC12</th>\n      <th>...</th>\n      <th>TPGC5179</th>\n      <th>TPGC5205</th>\n      <th>TPGC5208</th>\n      <th>TPGC5355</th>\n      <th>TPGC5470</th>\n      <th>TPGC5506</th>\n      <th>TPGC5468</th>\n      <th>TPGC5483</th>\n      <th>DSGC4438</th>\n      <th>TPGC5560</th>\n    </tr>\n  </thead>\n  <tbody>\n    <tr>\n      <th>0</th>\n      <td>DE1-ZGP</td>\n      <td>138750336</td>\n      <td>I-ORG</td>\n      <td>R</td>\n      <td>NaN</td>\n      <td>ZkmkekEknFkdxndrUgdjkqynmrhrghgqqhotkvyzxM</td>\n      <td>QzXgmfzkq1</td>\n      <td>24337.0</td>\n      <td>Edknmhotjgwr</td>\n      <td>DE</td>\n      <td>...</td>\n      <td>NaN</td>\n      <td>NaN</td>\n      <td>NaN</td>\n      <td>DE</td>\n      <td>NaN</td>\n      <td>NaN</td>\n      <td>NaN</td>\n      <td>NaN</td>\n      <td>NaN</td>\n      <td>N</td>\n    </tr>\n    <tr>\n      <th>1</th>\n      <td>DE1-ZGP</td>\n      <td>138750338</td>\n      <td>I-ORG</td>\n      <td>R</td>\n      <td>NaN</td>\n      <td>ZkmkekEknFkdxndrUgdjkqynmrhrghgqqhotkvyzxM</td>\n      <td>QzXgmfzkq1</td>\n      <td>24337.0</td>\n      <td>Edknmhotjgwr</td>\n      <td>DE</td>\n      <td>...</td>\n      <td>NaN</td>\n      <td>NaN</td>\n      <td>NaN</td>\n      <td>DE</td>\n      <td>NaN</td>\n      <td>NaN</td>\n      <td>NaN</td>\n      <td>NaN</td>\n      <td>NaN</td>\n      <td>N</td>\n    </tr>\n    <tr>\n      <th>2</th>\n      <td>DE1-ZGP</td>\n      <td>138750337</td>\n      <td>I-ORG</td>\n      <td>R</td>\n      <td>NaN</td>\n      <td>ZkmkekEknFkdxndrUgdjkqynmrhrghgqqhotkvyzxM</td>\n      <td>QzXgmfzkq1</td>\n      <td>24337.0</td>\n      <td>Edknmhotjgwr</td>\n      <td>DE</td>\n      <td>...</td>\n      <td>NaN</td>\n      <td>NaN</td>\n      <td>NaN</td>\n      <td>DE</td>\n      <td>NaN</td>\n      <td>NaN</td>\n      <td>NaN</td>\n      <td>NaN</td>\n      <td>NaN</td>\n      <td>N</td>\n    </tr>\n    <tr>\n      <th>3</th>\n      <td>DE3-ZGP</td>\n      <td>185605956</td>\n      <td>I-ORG</td>\n      <td>NaN</td>\n      <td>NaN</td>\n      <td>NaN</td>\n      <td>NaN</td>\n      <td>NaN</td>\n      <td>NaN</td>\n      <td>NaN</td>\n      <td>...</td>\n      <td>NaN</td>\n      <td>NaN</td>\n      <td>NaN</td>\n      <td>NaN</td>\n      <td>NaN</td>\n      <td>NaN</td>\n      <td>NaN</td>\n      <td>NaN</td>\n      <td>NaN</td>\n      <td>NaN</td>\n    </tr>\n    <tr>\n      <th>4</th>\n      <td>DE3-ZGP</td>\n      <td>AUDI_LEASING_GP</td>\n      <td>I-NP</td>\n      <td>R</td>\n      <td>NaN</td>\n      <td>NaN</td>\n      <td>NaN</td>\n      <td>NaN</td>\n      <td>NaN</td>\n      <td>DE</td>\n      <td>...</td>\n      <td>NaN</td>\n      <td>NaN</td>\n      <td>NaN</td>\n      <td>NaN</td>\n      <td>NaN</td>\n      <td>NaN</td>\n      <td>NaN</td>\n      <td>NaN</td>\n      <td>NaN</td>\n      <td>NaN</td>\n    </tr>\n    <tr>\n      <th>5</th>\n      <td>DE3-ZGP</td>\n      <td>HB_FORD_SMV_GP</td>\n      <td>I-ORG</td>\n      <td>R</td>\n      <td>NaN</td>\n      <td>NaN</td>\n      <td>NaN</td>\n      <td>NaN</td>\n      <td>NaN</td>\n      <td>DE</td>\n      <td>...</td>\n      <td>NaN</td>\n      <td>NaN</td>\n      <td>NaN</td>\n      <td>NaN</td>\n      <td>NaN</td>\n      <td>NaN</td>\n      <td>NaN</td>\n      <td>NaN</td>\n      <td>NaN</td>\n      <td>NaN</td>\n    </tr>\n    <tr>\n      <th>6</th>\n      <td>DE3-ZGP</td>\n      <td>HB_FORD_TANKK_GP</td>\n      <td>I-ORG</td>\n      <td>R</td>\n      <td>NaN</td>\n      <td>NaN</td>\n      <td>NaN</td>\n      <td>NaN</td>\n      <td>NaN</td>\n      <td>DE</td>\n      <td>...</td>\n      <td>NaN</td>\n      <td>NaN</td>\n      <td>NaN</td>\n      <td>NaN</td>\n      <td>NaN</td>\n      <td>NaN</td>\n      <td>NaN</td>\n      <td>NaN</td>\n      <td>NaN</td>\n      <td>NaN</td>\n    </tr>\n    <tr>\n      <th>7</th>\n      <td>DE3-ZGP</td>\n      <td>HB_FORD_VERSS_GP</td>\n      <td>I-ORG</td>\n      <td>R</td>\n      <td>NaN</td>\n      <td>NaN</td>\n      <td>NaN</td>\n      <td>NaN</td>\n      <td>NaN</td>\n      <td>DE</td>\n      <td>...</td>\n      <td>NaN</td>\n      <td>NaN</td>\n      <td>NaN</td>\n      <td>NaN</td>\n      <td>NaN</td>\n      <td>NaN</td>\n      <td>NaN</td>\n      <td>NaN</td>\n      <td>NaN</td>\n      <td>NaN</td>\n    </tr>\n    <tr>\n      <th>8</th>\n      <td>DE3-ZGP</td>\n      <td>WA_LEASING_GP</td>\n      <td>I-NP</td>\n      <td>R</td>\n      <td>NaN</td>\n      <td>NaN</td>\n      <td>NaN</td>\n      <td>NaN</td>\n      <td>NaN</td>\n      <td>DE</td>\n      <td>...</td>\n      <td>NaN</td>\n      <td>NaN</td>\n      <td>NaN</td>\n      <td>NaN</td>\n      <td>NaN</td>\n      <td>NaN</td>\n      <td>NaN</td>\n      <td>NaN</td>\n      <td>NaN</td>\n      <td>NaN</td>\n    </tr>\n    <tr>\n      <th>9</th>\n      <td>DE1-ZGP</td>\n      <td>1008986</td>\n      <td>I-NP</td>\n      <td>NaN</td>\n      <td>NaN</td>\n      <td>NaN</td>\n      <td>NaN</td>\n      <td>NaN</td>\n      <td>NaN</td>\n      <td>NaN</td>\n      <td>...</td>\n      <td>NaN</td>\n      <td>NaN</td>\n      <td>NaN</td>\n      <td>NaN</td>\n      <td>N</td>\n      <td>N</td>\n      <td>NaN</td>\n      <td>NaN</td>\n      <td>NaN</td>\n      <td>NaN</td>\n    </tr>\n    <tr>\n      <th>10</th>\n      <td>DE1-ZGP</td>\n      <td>1108283</td>\n      <td>I-ORG</td>\n      <td>NaN</td>\n      <td>NaN</td>\n      <td>NaN</td>\n      <td>NaN</td>\n      <td>NaN</td>\n      <td>NaN</td>\n      <td>NaN</td>\n      <td>...</td>\n      <td>NaN</td>\n      <td>NaN</td>\n      <td>NaN</td>\n      <td>NaN</td>\n      <td>NaN</td>\n      <td>NaN</td>\n      <td>NaN</td>\n      <td>NaN</td>\n      <td>NaN</td>\n      <td>NaN</td>\n    </tr>\n    <tr>\n      <th>11</th>\n      <td>DE1-ZGP</td>\n      <td>1139022</td>\n      <td>I-ORG</td>\n      <td>NaN</td>\n      <td>NaN</td>\n      <td>NaN</td>\n      <td>NaN</td>\n      <td>NaN</td>\n      <td>NaN</td>\n      <td>NaN</td>\n      <td>...</td>\n      <td>NaN</td>\n      <td>NaN</td>\n      <td>NaN</td>\n      <td>NaN</td>\n      <td>NaN</td>\n      <td>NaN</td>\n      <td>NaN</td>\n      <td>NaN</td>\n      <td>NaN</td>\n      <td>NaN</td>\n    </tr>\n    <tr>\n      <th>12</th>\n      <td>DE3-ZGP</td>\n      <td>125641563</td>\n      <td>I-ORG</td>\n      <td>R</td>\n      <td>NaN</td>\n      <td>ZKMKEKEKNFKDXNDRUGDJKQYNMRHRGHGQQHOTKVYZXM</td>\n      <td>QZXGMFZKQ1</td>\n      <td>24337.0</td>\n      <td>EDKNMHOTJGWR</td>\n      <td>DE</td>\n      <td>...</td>\n      <td>NaN</td>\n      <td>NaN</td>\n      <td>NaN</td>\n      <td>DE</td>\n      <td>NaN</td>\n      <td>NaN</td>\n      <td>NaN</td>\n      <td>NaN</td>\n      <td>NaN</td>\n      <td>N</td>\n    </tr>\n    <tr>\n      <th>13</th>\n      <td>DE3-ZGP</td>\n      <td>27487445</td>\n      <td>I-ORG</td>\n      <td>NaN</td>\n      <td>NaN</td>\n      <td>NaN</td>\n      <td>NaN</td>\n      <td>NaN</td>\n      <td>NaN</td>\n      <td>NaN</td>\n      <td>...</td>\n      <td>NaN</td>\n      <td>NaN</td>\n      <td>NaN</td>\n      <td>NaN</td>\n      <td>NaN</td>\n      <td>NaN</td>\n      <td>NaN</td>\n      <td>NaN</td>\n      <td>NaN</td>\n      <td>NaN</td>\n    </tr>\n    <tr>\n      <th>14</th>\n      <td>DE3-ZGP</td>\n      <td>27710761</td>\n      <td>I-ORG</td>\n      <td>NaN</td>\n      <td>NaN</td>\n      <td>NaN</td>\n      <td>NaN</td>\n      <td>NaN</td>\n      <td>NaN</td>\n      <td>NaN</td>\n      <td>...</td>\n      <td>NaN</td>\n      <td>NaN</td>\n      <td>NaN</td>\n      <td>NaN</td>\n      <td>NaN</td>\n      <td>NaN</td>\n      <td>NaN</td>\n      <td>NaN</td>\n      <td>NaN</td>\n      <td>NaN</td>\n    </tr>\n    <tr>\n      <th>15</th>\n      <td>DE3-ZGP</td>\n      <td>42369825</td>\n      <td>I-ORG</td>\n      <td>NaN</td>\n      <td>NaN</td>\n      <td>NaN</td>\n      <td>NaN</td>\n      <td>NaN</td>\n      <td>NaN</td>\n      <td>NaN</td>\n      <td>...</td>\n      <td>NaN</td>\n      <td>NaN</td>\n      <td>NaN</td>\n      <td>NaN</td>\n      <td>NaN</td>\n      <td>NaN</td>\n      <td>NaN</td>\n      <td>NaN</td>\n      <td>NaN</td>\n      <td>NaN</td>\n    </tr>\n    <tr>\n      <th>16</th>\n      <td>DE3-ZGP</td>\n      <td>132503514</td>\n      <td>I-ORG</td>\n      <td>R</td>\n      <td>NaN</td>\n      <td>ZKMKEKEKNFKDXNDRUGDJKQYNMRHRGHGQQHOTKVYZXM</td>\n      <td>QZXGMFZKQ1</td>\n      <td>24337.0</td>\n      <td>EDKNMHOTJGWR</td>\n      <td>DE</td>\n      <td>...</td>\n      <td>NaN</td>\n      <td>NaN</td>\n      <td>NaN</td>\n      <td>DE</td>\n      <td>NaN</td>\n      <td>NaN</td>\n      <td>NaN</td>\n      <td>NaN</td>\n      <td>NaN</td>\n      <td>N</td>\n    </tr>\n    <tr>\n      <th>17</th>\n      <td>DE3-ZGP</td>\n      <td>136610580</td>\n      <td>I-ORG</td>\n      <td>R</td>\n      <td>NaN</td>\n      <td>ZKMKEKEKNFKDXNDRUGDJKQYNMRHRGHGQQHOTKVYZXM</td>\n      <td>QZXGMFZKQ1</td>\n      <td>24337.0</td>\n      <td>EDKNMHOTJGWR</td>\n      <td>DE</td>\n      <td>...</td>\n      <td>NaN</td>\n      <td>NaN</td>\n      <td>NaN</td>\n      <td>DE</td>\n      <td>NaN</td>\n      <td>NaN</td>\n      <td>NaN</td>\n      <td>NaN</td>\n      <td>NaN</td>\n      <td>N</td>\n    </tr>\n    <tr>\n      <th>18</th>\n      <td>DE3-ZGP</td>\n      <td>137189195</td>\n      <td>I-ORG</td>\n      <td>R</td>\n      <td>NaN</td>\n      <td>ZKMKEKEKNFKDXNDRUGDJKQYNMRHRGHGQQHOTKVYZXM</td>\n      <td>QZXGMFZKQ1</td>\n      <td>24337.0</td>\n      <td>EDKNMHOTJGWR</td>\n      <td>DE</td>\n      <td>...</td>\n      <td>NaN</td>\n      <td>NaN</td>\n      <td>NaN</td>\n      <td>DE</td>\n      <td>NaN</td>\n      <td>NaN</td>\n      <td>NaN</td>\n      <td>NaN</td>\n      <td>NaN</td>\n      <td>N</td>\n    </tr>\n    <tr>\n      <th>19</th>\n      <td>DE3-ZGP</td>\n      <td>138635764</td>\n      <td>I-ORG</td>\n      <td>R</td>\n      <td>NaN</td>\n      <td>ZKMKEKEKNFKDXNDRUGDJKQYNMRHRGHGQQHOTKVYZXM</td>\n      <td>QZXGMFZKQ1</td>\n      <td>24337.0</td>\n      <td>EDKNMHOTJGWR</td>\n      <td>DE</td>\n      <td>...</td>\n      <td>NaN</td>\n      <td>NaN</td>\n      <td>NaN</td>\n      <td>DE</td>\n      <td>NaN</td>\n      <td>NaN</td>\n      <td>NaN</td>\n      <td>NaN</td>\n      <td>NaN</td>\n      <td>N</td>\n    </tr>\n    <tr>\n      <th>20</th>\n      <td>DE3-ZGP</td>\n      <td>138750338</td>\n      <td>I-ORG</td>\n      <td>R</td>\n      <td>NaN</td>\n      <td>ZkmkekEknFkdxndrUgdjkqynmrhrghgqqhotkvyzxM</td>\n      <td>QzXgmfzkq1</td>\n      <td>24337.0</td>\n      <td>Edknmhotjgwr</td>\n      <td>DE</td>\n      <td>...</td>\n      <td>NaN</td>\n      <td>NaN</td>\n      <td>NaN</td>\n      <td>DE</td>\n      <td>NaN</td>\n      <td>NaN</td>\n      <td>NaN</td>\n      <td>NaN</td>\n      <td>NaN</td>\n      <td>N</td>\n    </tr>\n    <tr>\n      <th>21</th>\n      <td>DE3-ZGP</td>\n      <td>139010831</td>\n      <td>I-ORG</td>\n      <td>R</td>\n      <td>NaN</td>\n      <td>ZkmkekEknFkdxndrUgdjkqynmrhrghgqqhotkvyzxM</td>\n      <td>QzXgmfzkq1</td>\n      <td>24337.0</td>\n      <td>Edknmhotjgwr</td>\n      <td>DE</td>\n      <td>...</td>\n      <td>NaN</td>\n      <td>NaN</td>\n      <td>NaN</td>\n      <td>DE</td>\n      <td>NaN</td>\n      <td>NaN</td>\n      <td>NaN</td>\n      <td>NaN</td>\n      <td>NaN</td>\n      <td>N</td>\n    </tr>\n    <tr>\n      <th>22</th>\n      <td>DE3-ZGP</td>\n      <td>AUDI_LEASING_GP</td>\n      <td>I-NP</td>\n      <td>R</td>\n      <td>NaN</td>\n      <td>NaN</td>\n      <td>NaN</td>\n      <td>NaN</td>\n      <td>NaN</td>\n      <td>DE</td>\n      <td>...</td>\n      <td>NaN</td>\n      <td>NaN</td>\n      <td>NaN</td>\n      <td>NaN</td>\n      <td>NaN</td>\n      <td>NaN</td>\n      <td>NaN</td>\n      <td>NaN</td>\n      <td>NaN</td>\n      <td>NaN</td>\n    </tr>\n    <tr>\n      <th>23</th>\n      <td>DE3-ZGP</td>\n      <td>HB_FORD_SMV_GP</td>\n      <td>I-ORG</td>\n      <td>R</td>\n      <td>NaN</td>\n      <td>NaN</td>\n      <td>NaN</td>\n      <td>NaN</td>\n      <td>NaN</td>\n      <td>DE</td>\n      <td>...</td>\n      <td>NaN</td>\n      <td>NaN</td>\n      <td>NaN</td>\n      <td>NaN</td>\n      <td>NaN</td>\n      <td>NaN</td>\n      <td>NaN</td>\n      <td>NaN</td>\n      <td>NaN</td>\n      <td>NaN</td>\n    </tr>\n    <tr>\n      <th>24</th>\n      <td>DE3-ZGP</td>\n      <td>HB_FORD_TANKK_GP</td>\n      <td>I-ORG</td>\n      <td>R</td>\n      <td>NaN</td>\n      <td>NaN</td>\n      <td>NaN</td>\n      <td>NaN</td>\n      <td>NaN</td>\n      <td>DE</td>\n      <td>...</td>\n      <td>NaN</td>\n      <td>NaN</td>\n      <td>NaN</td>\n      <td>NaN</td>\n      <td>NaN</td>\n      <td>NaN</td>\n      <td>NaN</td>\n      <td>NaN</td>\n      <td>NaN</td>\n      <td>NaN</td>\n    </tr>\n    <tr>\n      <th>25</th>\n      <td>DE3-ZGP</td>\n      <td>HB_FORD_VERSS_GP</td>\n      <td>I-ORG</td>\n      <td>R</td>\n      <td>NaN</td>\n      <td>NaN</td>\n      <td>NaN</td>\n      <td>NaN</td>\n      <td>NaN</td>\n      <td>DE</td>\n      <td>...</td>\n      <td>NaN</td>\n      <td>NaN</td>\n      <td>NaN</td>\n      <td>NaN</td>\n      <td>NaN</td>\n      <td>NaN</td>\n      <td>NaN</td>\n      <td>NaN</td>\n      <td>NaN</td>\n      <td>NaN</td>\n    </tr>\n    <tr>\n      <th>26</th>\n      <td>DE3-ZGP</td>\n      <td>WA_LEASING_GP</td>\n      <td>I-NP</td>\n      <td>R</td>\n      <td>NaN</td>\n      <td>NaN</td>\n      <td>NaN</td>\n      <td>NaN</td>\n      <td>NaN</td>\n      <td>DE</td>\n      <td>...</td>\n      <td>NaN</td>\n      <td>NaN</td>\n      <td>NaN</td>\n      <td>NaN</td>\n      <td>NaN</td>\n      <td>NaN</td>\n      <td>NaN</td>\n      <td>NaN</td>\n      <td>NaN</td>\n      <td>NaN</td>\n    </tr>\n  </tbody>\n</table>\n<p>27 rows × 37 columns</p>\n</div>"
     },
     "metadata": {},
     "output_type": "display_data"
    },
    {
     "name": "stderr",
     "output_type": "stream",
     "text": [
      "C:\\Users\\Carina\\AppData\\Local\\Temp\\ipykernel_31156\\649268354.py:19: DtypeWarning: Columns (2) have mixed types. Specify dtype option on import or set low_memory=False.\n",
      "  DF_BPact = pd.read_csv(path + \"/BPART_Act.csv\", sep=\"\\t\", skiprows=9)\n"
     ]
    },
    {
     "data": {
      "text/plain": "      TPDW5090    KDWR5088O            KYDWR5088O   KDWR5088        KDWR5089O  \\\n0           BI  TRSRYDE1-BP  TRSRYDE1-BP/72612062   72612062  TRSRYDE1-4160-L   \n1           CR      DE1-ZGP     DE1-ZGP/100017936  100017936          DE1-BCA   \n2           CR      DE1-ZGP     DE1-ZGP/100022577  100022577          DE1-BCA   \n3           CR      DE1-ZGP     DE1-ZGP/100023062  100023062          DE1-BCA   \n4           CR      DE1-ZGP      DE1-ZGP/10002975   10002975          DE1-BCA   \n...        ...          ...                   ...        ...              ...   \n71149       DB      DE1-ZGP      DE1-ZGP/43964308   43964308          DE1-BCA   \n71150       DB      DE1-ZGP      DE1-ZGP/43964308   43964308          DE1-BCA   \n71151       DB      DE1-ZGP      DE1-ZGP/43964308   43964308          DE1-BCA   \n71152       DB      DE1-ZGP      DE1-ZGP/43964308   43964308          DE1-BCA   \n71153       DB      DE1-ZGP      DE1-ZGP/43964308   43964308          DE1-BCA   \n\n                               KDWR5089               KDW0717 KDW0719  \\\n0      370A1AEBF97082CAB8AAA5420AFF3745  DE1D-20230612-1-INT1    DE1D   \n1                       2400110983_2014  DE1D-20230612-1-INT1    DE1D   \n2                       1514701224_2012  DE1D-20230612-1-INT1    DE1D   \n3                       1510776238_2009  DE1D-20230612-1-INT1    DE1D   \n4                       1522637956_2020  DE1D-20230612-1-INT1    DE1D   \n...                                 ...                   ...     ...   \n71149                   2305686491_2023  DE1D-20230612-1-INT1    DE1D   \n71150                   2305686632_2023  DE1D-20230612-1-INT1    DE1D   \n71151                   2305686749_2023  DE1D-20230612-1-INT1    DE1D   \n71152                   2305687085_2023  DE1D-20230612-1-INT1    DE1D   \n71153                   2305687291_2023  DE1D-20230612-1-INT1    DE1D   \n\n       DTDW0001  \n0      20230612  \n1      20230612  \n2      20230612  \n3      20230612  \n4      20230612  \n...         ...  \n71149  20230612  \n71150  20230612  \n71151  20230612  \n71152  20230612  \n71153  20230612  \n\n[71154 rows x 9 columns]",
      "text/html": "<div>\n<style scoped>\n    .dataframe tbody tr th:only-of-type {\n        vertical-align: middle;\n    }\n\n    .dataframe tbody tr th {\n        vertical-align: top;\n    }\n\n    .dataframe thead th {\n        text-align: right;\n    }\n</style>\n<table border=\"1\" class=\"dataframe\">\n  <thead>\n    <tr style=\"text-align: right;\">\n      <th></th>\n      <th>TPDW5090</th>\n      <th>KDWR5088O</th>\n      <th>KYDWR5088O</th>\n      <th>KDWR5088</th>\n      <th>KDWR5089O</th>\n      <th>KDWR5089</th>\n      <th>KDW0717</th>\n      <th>KDW0719</th>\n      <th>DTDW0001</th>\n    </tr>\n  </thead>\n  <tbody>\n    <tr>\n      <th>0</th>\n      <td>BI</td>\n      <td>TRSRYDE1-BP</td>\n      <td>TRSRYDE1-BP/72612062</td>\n      <td>72612062</td>\n      <td>TRSRYDE1-4160-L</td>\n      <td>370A1AEBF97082CAB8AAA5420AFF3745</td>\n      <td>DE1D-20230612-1-INT1</td>\n      <td>DE1D</td>\n      <td>20230612</td>\n    </tr>\n    <tr>\n      <th>1</th>\n      <td>CR</td>\n      <td>DE1-ZGP</td>\n      <td>DE1-ZGP/100017936</td>\n      <td>100017936</td>\n      <td>DE1-BCA</td>\n      <td>2400110983_2014</td>\n      <td>DE1D-20230612-1-INT1</td>\n      <td>DE1D</td>\n      <td>20230612</td>\n    </tr>\n    <tr>\n      <th>2</th>\n      <td>CR</td>\n      <td>DE1-ZGP</td>\n      <td>DE1-ZGP/100022577</td>\n      <td>100022577</td>\n      <td>DE1-BCA</td>\n      <td>1514701224_2012</td>\n      <td>DE1D-20230612-1-INT1</td>\n      <td>DE1D</td>\n      <td>20230612</td>\n    </tr>\n    <tr>\n      <th>3</th>\n      <td>CR</td>\n      <td>DE1-ZGP</td>\n      <td>DE1-ZGP/100023062</td>\n      <td>100023062</td>\n      <td>DE1-BCA</td>\n      <td>1510776238_2009</td>\n      <td>DE1D-20230612-1-INT1</td>\n      <td>DE1D</td>\n      <td>20230612</td>\n    </tr>\n    <tr>\n      <th>4</th>\n      <td>CR</td>\n      <td>DE1-ZGP</td>\n      <td>DE1-ZGP/10002975</td>\n      <td>10002975</td>\n      <td>DE1-BCA</td>\n      <td>1522637956_2020</td>\n      <td>DE1D-20230612-1-INT1</td>\n      <td>DE1D</td>\n      <td>20230612</td>\n    </tr>\n    <tr>\n      <th>...</th>\n      <td>...</td>\n      <td>...</td>\n      <td>...</td>\n      <td>...</td>\n      <td>...</td>\n      <td>...</td>\n      <td>...</td>\n      <td>...</td>\n      <td>...</td>\n    </tr>\n    <tr>\n      <th>71149</th>\n      <td>DB</td>\n      <td>DE1-ZGP</td>\n      <td>DE1-ZGP/43964308</td>\n      <td>43964308</td>\n      <td>DE1-BCA</td>\n      <td>2305686491_2023</td>\n      <td>DE1D-20230612-1-INT1</td>\n      <td>DE1D</td>\n      <td>20230612</td>\n    </tr>\n    <tr>\n      <th>71150</th>\n      <td>DB</td>\n      <td>DE1-ZGP</td>\n      <td>DE1-ZGP/43964308</td>\n      <td>43964308</td>\n      <td>DE1-BCA</td>\n      <td>2305686632_2023</td>\n      <td>DE1D-20230612-1-INT1</td>\n      <td>DE1D</td>\n      <td>20230612</td>\n    </tr>\n    <tr>\n      <th>71151</th>\n      <td>DB</td>\n      <td>DE1-ZGP</td>\n      <td>DE1-ZGP/43964308</td>\n      <td>43964308</td>\n      <td>DE1-BCA</td>\n      <td>2305686749_2023</td>\n      <td>DE1D-20230612-1-INT1</td>\n      <td>DE1D</td>\n      <td>20230612</td>\n    </tr>\n    <tr>\n      <th>71152</th>\n      <td>DB</td>\n      <td>DE1-ZGP</td>\n      <td>DE1-ZGP/43964308</td>\n      <td>43964308</td>\n      <td>DE1-BCA</td>\n      <td>2305687085_2023</td>\n      <td>DE1D-20230612-1-INT1</td>\n      <td>DE1D</td>\n      <td>20230612</td>\n    </tr>\n    <tr>\n      <th>71153</th>\n      <td>DB</td>\n      <td>DE1-ZGP</td>\n      <td>DE1-ZGP/43964308</td>\n      <td>43964308</td>\n      <td>DE1-BCA</td>\n      <td>2305687291_2023</td>\n      <td>DE1D-20230612-1-INT1</td>\n      <td>DE1D</td>\n      <td>20230612</td>\n    </tr>\n  </tbody>\n</table>\n<p>71154 rows × 9 columns</p>\n</div>"
     },
     "execution_count": 19,
     "metadata": {},
     "output_type": "execute_result"
    }
   ],
   "source": [
    "with open(path + \"/Datei_TPDW3386.csv\", \"rb\") as file:\n",
    "    enc = chardet.detect(file.read())\n",
    "\n",
    "DF_3386 = pd.read_csv(path + \"/Datei_TPDW3386.csv\", sep=\";\", encoding=enc[\"encoding\"])\n",
    "\n",
    "display(DF_3386)\n",
    "\n",
    "# Werte der Spalte TPGC3386\n",
    "DF_3386[\"TPGC3386\"].values\n",
    "\n",
    "# Einfügen der Spalte \"TPGC3386\" als \"TPDW3386\" in DF_BP\n",
    "\n",
    "DF_BP[\"TPDW3386\"] = DF_3386[\"TPGC3386\"]\n",
    "DF_BP\n",
    "\n",
    "# 2.Einlesen der Business Partner act in Liability-Entität \n",
    "\n",
    "\n",
    "DF_BPact = pd.read_csv(path + \"/BPART_Act.csv\", sep=\"\\t\", skiprows=9)\n",
    "# KYDWR5088O wird durch eine \"Join\" der Spalten KDWR5088 und KDWR5088O. Die Spalte wird am Ende des Dataframes hinzugefügt \n",
    "DF_BPact[\"KYDWR5088\"] = DF_BPact[[\"KDWR5088O\", \"KDWR5088\"]].astype(str).agg(\"/\".join, axis=1)\n",
    "# Die neue KYDWR5088O-Spalte wird am Anfang des Dataframes hingefügt \n",
    "Second_column = DF_BPact.pop(\"KYDWR5088\")\n",
    "DF_BPact.insert(2, \"KYDWR5088O\", Second_column)\n",
    "# Das neue Dataframe wird ausgefürt \n",
    "\n",
    "DF_BPact"
   ],
   "metadata": {
    "collapsed": false,
    "ExecuteTime": {
     "end_time": "2023-10-03T15:55:08.297792100Z",
     "start_time": "2023-10-03T15:55:07.836859600Z"
    }
   },
   "id": "f620b6f2ea942b1e"
  },
  {
   "cell_type": "code",
   "execution_count": 20,
   "outputs": [
    {
     "data": {
      "text/plain": "   KDW5659O     KDW5659          KYDWR5469O               KDW0717 KDW0719  \\\n0    DE1-GW   111064251   DE1-ZGP/111064251  DE1D-20230612-1-INT1    DE1D   \n1    DE1-GW   114003096   DE1-ZGP/114003096  DE1D-20230612-1-INT1    DE1D   \n2    DE1-GW   118053543   DE1-ZGP/118053543  DE1D-20230612-1-INT1    DE1D   \n3    DE1-GW    12390203    DE1-ZGP/12390203  DE1D-20230612-1-INT1    DE1D   \n4    DE1-GW   129160625   DE1-ZGP/129160625  DE1D-20230612-1-INT1    DE1D   \n5    DE1-GW    13086081    DE1-ZGP/13086081  DE1D-20230612-1-INT1    DE1D   \n6    DE1-GW   135343223   DE1-ZGP/135343223  DE1D-20230612-1-INT1    DE1D   \n7    DE1-GW   136171171   DE1-ZGP/136171171  DE1D-20230612-1-INT1    DE1D   \n8    DE1-GW   140806730   DE1-ZGP/140806730  DE1D-20230612-1-INT1    DE1D   \n9    DE1-GW   141844930   DE1-ZGP/141844930  DE1D-20230612-1-INT1    DE1D   \n10   DE1-GW   143493017   DE1-ZGP/143493017  DE1D-20230612-1-INT1    DE1D   \n11   DE1-GW   145103763   DE1-ZGP/145103763  DE1D-20230612-1-INT1    DE1D   \n12   DE1-GW  1451037714  DE1-ZGP/1451037714  DE1D-20230612-1-INT1    DE1D   \n13   DE1-GW   145517414   DE1-ZGP/145517414  DE1D-20230612-1-INT1    DE1D   \n14   DE1-GW   145723754   DE1-ZGP/145723754  DE1D-20230612-1-INT1    DE1D   \n15   DE1-GW   151691240   DE1-ZGP/151691240  DE1D-20230612-1-INT1    DE1D   \n16   DE1-GW   160967298   DE1-ZGP/160967298  DE1D-20230612-1-INT1    DE1D   \n17   DE1-GW   168351356   DE1-ZGP/168351356  DE1D-20230612-1-INT1    DE1D   \n18   DE1-GW   168352328   DE1-ZGP/168352328  DE1D-20230612-1-INT1    DE1D   \n19   DE1-GW   177151934   DE1-ZGP/177151934  DE1D-20230612-1-INT1    DE1D   \n20   DE1-GW   180389395   DE1-ZGP/180389395  DE1D-20230612-1-INT1    DE1D   \n21   DE1-GW   182031235   DE1-ZGP/182031235  DE1D-20230612-1-INT1    DE1D   \n22   DE1-GW   194080832   DE1-ZGP/194080832  DE1D-20230612-1-INT1    DE1D   \n23   DE1-GW   194152063   DE1-ZGP/194152063  DE1D-20230612-1-INT1    DE1D   \n24   DE1-GW   203351648   DE1-ZGP/203351648  DE1D-20230612-1-INT1    DE1D   \n25   DE1-GW   211544022   DE1-ZGP/211544022  DE1D-20230612-1-INT1    DE1D   \n26   DE1-GW   211867238   DE1-ZGP/211867238  DE1D-20230612-1-INT1    DE1D   \n27   DE1-GW   215764984   DE1-ZGP/215764984  DE1D-20230612-1-INT1    DE1D   \n28   DE1-GW    28407238    DE1-ZGP/28407238  DE1D-20230612-1-INT1    DE1D   \n29   DE1-GW    32907998    DE1-ZGP/32907998  DE1D-20230612-1-INT1    DE1D   \n30   DE1-GW    39070723    DE1-ZGP/39070723  DE1D-20230612-1-INT1    DE1D   \n31   DE1-GW    39529492    DE1-ZGP/39529492  DE1D-20230612-1-INT1    DE1D   \n32   DE1-GW    42866403    DE1-ZGP/42866403  DE1D-20230612-1-INT1    DE1D   \n33   DE1-GW    45507298    DE1-ZGP/45507298  DE1D-20230612-1-INT1    DE1D   \n34   DE1-GW    55538661    DE1-ZGP/55538661  DE1D-20230612-1-INT1    DE1D   \n35   DE1-GW    63890266    DE1-ZGP/63890266  DE1D-20230612-1-INT1    DE1D   \n36   DE1-GW     7450402     DE1-ZGP/7450402  DE1D-20230612-1-INT1    DE1D   \n37   DE1-GW    85340875    DE1-ZGP/85340875  DE1D-20230612-1-INT1    DE1D   \n38   DE1-GW     8563815     DE1-ZGP/8563815  DE1D-20230612-1-INT1    DE1D   \n39   DE1-GW    91775651    DE1-ZGP/91775651  DE1D-20230612-1-INT1    DE1D   \n40   DE1-GW    92783857    DE1-ZGP/92783857  DE1D-20230612-1-INT1    DE1D   \n41   DE1-GW    96345095    DE1-ZGP/96345095  DE1D-20230612-1-INT1    DE1D   \n42   DE1-GW    98847077    DE1-ZGP/98847077  DE1D-20230612-1-INT1    DE1D   \n\n    DTDW7035 KDWR5469O    KDWR5469  KDWR5505O  KDWR5505  \n0   20230613   DE1-ZGP   111064251        NaN       NaN  \n1   20230613   DE1-ZGP   114003096        NaN       NaN  \n2   20230613   DE1-ZGP   118053543        NaN       NaN  \n3   20230613   DE1-ZGP    12390203        NaN       NaN  \n4   20230613   DE1-ZGP   129160625        NaN       NaN  \n5   20230613   DE1-ZGP    13086081        NaN       NaN  \n6   20230613   DE1-ZGP   135343223        NaN       NaN  \n7   20230613   DE1-ZGP   136171171        NaN       NaN  \n8   20230613   DE1-ZGP   140806730        NaN       NaN  \n9   20230613   DE1-ZGP   141844930        NaN       NaN  \n10  20230613   DE1-ZGP   143493017        NaN       NaN  \n11  20230613   DE1-ZGP   145103763        NaN       NaN  \n12  20230613   DE1-ZGP  1451037714        NaN       NaN  \n13  20230613   DE1-ZGP   145517414        NaN       NaN  \n14  20230613   DE1-ZGP   145723754        NaN       NaN  \n15  20230613   DE1-ZGP   151691240        NaN       NaN  \n16  20230613   DE1-ZGP   160967298        NaN       NaN  \n17  20230613   DE1-ZGP   168351356        NaN       NaN  \n18  20230613   DE1-ZGP   168352328        NaN       NaN  \n19  20230613   DE1-ZGP   177151934        NaN       NaN  \n20  20230613   DE1-ZGP   180389395        NaN       NaN  \n21  20230613   DE1-ZGP   182031235        NaN       NaN  \n22  20230613   DE1-ZGP   194080832        NaN       NaN  \n23  20230613   DE1-ZGP   194152063        NaN       NaN  \n24  20230613   DE1-ZGP   203351648        NaN       NaN  \n25  20230613   DE1-ZGP   211544022        NaN       NaN  \n26  20230613   DE1-ZGP   211867238        NaN       NaN  \n27  20230613   DE1-ZGP   215764984        NaN       NaN  \n28  20230613   DE1-ZGP    28407238        NaN       NaN  \n29  20230613   DE1-ZGP    32907998        NaN       NaN  \n30  20230613   DE1-ZGP    39070723        NaN       NaN  \n31  20230613   DE1-ZGP    39529492        NaN       NaN  \n32  20230613   DE1-ZGP    42866403        NaN       NaN  \n33  20230613   DE1-ZGP    45507298        NaN       NaN  \n34  20230613   DE1-ZGP    55538661        NaN       NaN  \n35  20230613   DE1-ZGP    63890266        NaN       NaN  \n36  20230613   DE1-ZGP     7450402        NaN       NaN  \n37  20230613   DE1-ZGP    85340875        NaN       NaN  \n38  20230613   DE1-ZGP     8563815        NaN       NaN  \n39  20230613   DE1-ZGP    91775651        NaN       NaN  \n40  20230613   DE1-ZGP    92783857        NaN       NaN  \n41  20230613   DE1-ZGP    96345095        NaN       NaN  \n42  20230613   DE1-ZGP    98847077        NaN       NaN  ",
      "text/html": "<div>\n<style scoped>\n    .dataframe tbody tr th:only-of-type {\n        vertical-align: middle;\n    }\n\n    .dataframe tbody tr th {\n        vertical-align: top;\n    }\n\n    .dataframe thead th {\n        text-align: right;\n    }\n</style>\n<table border=\"1\" class=\"dataframe\">\n  <thead>\n    <tr style=\"text-align: right;\">\n      <th></th>\n      <th>KDW5659O</th>\n      <th>KDW5659</th>\n      <th>KYDWR5469O</th>\n      <th>KDW0717</th>\n      <th>KDW0719</th>\n      <th>DTDW7035</th>\n      <th>KDWR5469O</th>\n      <th>KDWR5469</th>\n      <th>KDWR5505O</th>\n      <th>KDWR5505</th>\n    </tr>\n  </thead>\n  <tbody>\n    <tr>\n      <th>0</th>\n      <td>DE1-GW</td>\n      <td>111064251</td>\n      <td>DE1-ZGP/111064251</td>\n      <td>DE1D-20230612-1-INT1</td>\n      <td>DE1D</td>\n      <td>20230613</td>\n      <td>DE1-ZGP</td>\n      <td>111064251</td>\n      <td>NaN</td>\n      <td>NaN</td>\n    </tr>\n    <tr>\n      <th>1</th>\n      <td>DE1-GW</td>\n      <td>114003096</td>\n      <td>DE1-ZGP/114003096</td>\n      <td>DE1D-20230612-1-INT1</td>\n      <td>DE1D</td>\n      <td>20230613</td>\n      <td>DE1-ZGP</td>\n      <td>114003096</td>\n      <td>NaN</td>\n      <td>NaN</td>\n    </tr>\n    <tr>\n      <th>2</th>\n      <td>DE1-GW</td>\n      <td>118053543</td>\n      <td>DE1-ZGP/118053543</td>\n      <td>DE1D-20230612-1-INT1</td>\n      <td>DE1D</td>\n      <td>20230613</td>\n      <td>DE1-ZGP</td>\n      <td>118053543</td>\n      <td>NaN</td>\n      <td>NaN</td>\n    </tr>\n    <tr>\n      <th>3</th>\n      <td>DE1-GW</td>\n      <td>12390203</td>\n      <td>DE1-ZGP/12390203</td>\n      <td>DE1D-20230612-1-INT1</td>\n      <td>DE1D</td>\n      <td>20230613</td>\n      <td>DE1-ZGP</td>\n      <td>12390203</td>\n      <td>NaN</td>\n      <td>NaN</td>\n    </tr>\n    <tr>\n      <th>4</th>\n      <td>DE1-GW</td>\n      <td>129160625</td>\n      <td>DE1-ZGP/129160625</td>\n      <td>DE1D-20230612-1-INT1</td>\n      <td>DE1D</td>\n      <td>20230613</td>\n      <td>DE1-ZGP</td>\n      <td>129160625</td>\n      <td>NaN</td>\n      <td>NaN</td>\n    </tr>\n    <tr>\n      <th>5</th>\n      <td>DE1-GW</td>\n      <td>13086081</td>\n      <td>DE1-ZGP/13086081</td>\n      <td>DE1D-20230612-1-INT1</td>\n      <td>DE1D</td>\n      <td>20230613</td>\n      <td>DE1-ZGP</td>\n      <td>13086081</td>\n      <td>NaN</td>\n      <td>NaN</td>\n    </tr>\n    <tr>\n      <th>6</th>\n      <td>DE1-GW</td>\n      <td>135343223</td>\n      <td>DE1-ZGP/135343223</td>\n      <td>DE1D-20230612-1-INT1</td>\n      <td>DE1D</td>\n      <td>20230613</td>\n      <td>DE1-ZGP</td>\n      <td>135343223</td>\n      <td>NaN</td>\n      <td>NaN</td>\n    </tr>\n    <tr>\n      <th>7</th>\n      <td>DE1-GW</td>\n      <td>136171171</td>\n      <td>DE1-ZGP/136171171</td>\n      <td>DE1D-20230612-1-INT1</td>\n      <td>DE1D</td>\n      <td>20230613</td>\n      <td>DE1-ZGP</td>\n      <td>136171171</td>\n      <td>NaN</td>\n      <td>NaN</td>\n    </tr>\n    <tr>\n      <th>8</th>\n      <td>DE1-GW</td>\n      <td>140806730</td>\n      <td>DE1-ZGP/140806730</td>\n      <td>DE1D-20230612-1-INT1</td>\n      <td>DE1D</td>\n      <td>20230613</td>\n      <td>DE1-ZGP</td>\n      <td>140806730</td>\n      <td>NaN</td>\n      <td>NaN</td>\n    </tr>\n    <tr>\n      <th>9</th>\n      <td>DE1-GW</td>\n      <td>141844930</td>\n      <td>DE1-ZGP/141844930</td>\n      <td>DE1D-20230612-1-INT1</td>\n      <td>DE1D</td>\n      <td>20230613</td>\n      <td>DE1-ZGP</td>\n      <td>141844930</td>\n      <td>NaN</td>\n      <td>NaN</td>\n    </tr>\n    <tr>\n      <th>10</th>\n      <td>DE1-GW</td>\n      <td>143493017</td>\n      <td>DE1-ZGP/143493017</td>\n      <td>DE1D-20230612-1-INT1</td>\n      <td>DE1D</td>\n      <td>20230613</td>\n      <td>DE1-ZGP</td>\n      <td>143493017</td>\n      <td>NaN</td>\n      <td>NaN</td>\n    </tr>\n    <tr>\n      <th>11</th>\n      <td>DE1-GW</td>\n      <td>145103763</td>\n      <td>DE1-ZGP/145103763</td>\n      <td>DE1D-20230612-1-INT1</td>\n      <td>DE1D</td>\n      <td>20230613</td>\n      <td>DE1-ZGP</td>\n      <td>145103763</td>\n      <td>NaN</td>\n      <td>NaN</td>\n    </tr>\n    <tr>\n      <th>12</th>\n      <td>DE1-GW</td>\n      <td>1451037714</td>\n      <td>DE1-ZGP/1451037714</td>\n      <td>DE1D-20230612-1-INT1</td>\n      <td>DE1D</td>\n      <td>20230613</td>\n      <td>DE1-ZGP</td>\n      <td>1451037714</td>\n      <td>NaN</td>\n      <td>NaN</td>\n    </tr>\n    <tr>\n      <th>13</th>\n      <td>DE1-GW</td>\n      <td>145517414</td>\n      <td>DE1-ZGP/145517414</td>\n      <td>DE1D-20230612-1-INT1</td>\n      <td>DE1D</td>\n      <td>20230613</td>\n      <td>DE1-ZGP</td>\n      <td>145517414</td>\n      <td>NaN</td>\n      <td>NaN</td>\n    </tr>\n    <tr>\n      <th>14</th>\n      <td>DE1-GW</td>\n      <td>145723754</td>\n      <td>DE1-ZGP/145723754</td>\n      <td>DE1D-20230612-1-INT1</td>\n      <td>DE1D</td>\n      <td>20230613</td>\n      <td>DE1-ZGP</td>\n      <td>145723754</td>\n      <td>NaN</td>\n      <td>NaN</td>\n    </tr>\n    <tr>\n      <th>15</th>\n      <td>DE1-GW</td>\n      <td>151691240</td>\n      <td>DE1-ZGP/151691240</td>\n      <td>DE1D-20230612-1-INT1</td>\n      <td>DE1D</td>\n      <td>20230613</td>\n      <td>DE1-ZGP</td>\n      <td>151691240</td>\n      <td>NaN</td>\n      <td>NaN</td>\n    </tr>\n    <tr>\n      <th>16</th>\n      <td>DE1-GW</td>\n      <td>160967298</td>\n      <td>DE1-ZGP/160967298</td>\n      <td>DE1D-20230612-1-INT1</td>\n      <td>DE1D</td>\n      <td>20230613</td>\n      <td>DE1-ZGP</td>\n      <td>160967298</td>\n      <td>NaN</td>\n      <td>NaN</td>\n    </tr>\n    <tr>\n      <th>17</th>\n      <td>DE1-GW</td>\n      <td>168351356</td>\n      <td>DE1-ZGP/168351356</td>\n      <td>DE1D-20230612-1-INT1</td>\n      <td>DE1D</td>\n      <td>20230613</td>\n      <td>DE1-ZGP</td>\n      <td>168351356</td>\n      <td>NaN</td>\n      <td>NaN</td>\n    </tr>\n    <tr>\n      <th>18</th>\n      <td>DE1-GW</td>\n      <td>168352328</td>\n      <td>DE1-ZGP/168352328</td>\n      <td>DE1D-20230612-1-INT1</td>\n      <td>DE1D</td>\n      <td>20230613</td>\n      <td>DE1-ZGP</td>\n      <td>168352328</td>\n      <td>NaN</td>\n      <td>NaN</td>\n    </tr>\n    <tr>\n      <th>19</th>\n      <td>DE1-GW</td>\n      <td>177151934</td>\n      <td>DE1-ZGP/177151934</td>\n      <td>DE1D-20230612-1-INT1</td>\n      <td>DE1D</td>\n      <td>20230613</td>\n      <td>DE1-ZGP</td>\n      <td>177151934</td>\n      <td>NaN</td>\n      <td>NaN</td>\n    </tr>\n    <tr>\n      <th>20</th>\n      <td>DE1-GW</td>\n      <td>180389395</td>\n      <td>DE1-ZGP/180389395</td>\n      <td>DE1D-20230612-1-INT1</td>\n      <td>DE1D</td>\n      <td>20230613</td>\n      <td>DE1-ZGP</td>\n      <td>180389395</td>\n      <td>NaN</td>\n      <td>NaN</td>\n    </tr>\n    <tr>\n      <th>21</th>\n      <td>DE1-GW</td>\n      <td>182031235</td>\n      <td>DE1-ZGP/182031235</td>\n      <td>DE1D-20230612-1-INT1</td>\n      <td>DE1D</td>\n      <td>20230613</td>\n      <td>DE1-ZGP</td>\n      <td>182031235</td>\n      <td>NaN</td>\n      <td>NaN</td>\n    </tr>\n    <tr>\n      <th>22</th>\n      <td>DE1-GW</td>\n      <td>194080832</td>\n      <td>DE1-ZGP/194080832</td>\n      <td>DE1D-20230612-1-INT1</td>\n      <td>DE1D</td>\n      <td>20230613</td>\n      <td>DE1-ZGP</td>\n      <td>194080832</td>\n      <td>NaN</td>\n      <td>NaN</td>\n    </tr>\n    <tr>\n      <th>23</th>\n      <td>DE1-GW</td>\n      <td>194152063</td>\n      <td>DE1-ZGP/194152063</td>\n      <td>DE1D-20230612-1-INT1</td>\n      <td>DE1D</td>\n      <td>20230613</td>\n      <td>DE1-ZGP</td>\n      <td>194152063</td>\n      <td>NaN</td>\n      <td>NaN</td>\n    </tr>\n    <tr>\n      <th>24</th>\n      <td>DE1-GW</td>\n      <td>203351648</td>\n      <td>DE1-ZGP/203351648</td>\n      <td>DE1D-20230612-1-INT1</td>\n      <td>DE1D</td>\n      <td>20230613</td>\n      <td>DE1-ZGP</td>\n      <td>203351648</td>\n      <td>NaN</td>\n      <td>NaN</td>\n    </tr>\n    <tr>\n      <th>25</th>\n      <td>DE1-GW</td>\n      <td>211544022</td>\n      <td>DE1-ZGP/211544022</td>\n      <td>DE1D-20230612-1-INT1</td>\n      <td>DE1D</td>\n      <td>20230613</td>\n      <td>DE1-ZGP</td>\n      <td>211544022</td>\n      <td>NaN</td>\n      <td>NaN</td>\n    </tr>\n    <tr>\n      <th>26</th>\n      <td>DE1-GW</td>\n      <td>211867238</td>\n      <td>DE1-ZGP/211867238</td>\n      <td>DE1D-20230612-1-INT1</td>\n      <td>DE1D</td>\n      <td>20230613</td>\n      <td>DE1-ZGP</td>\n      <td>211867238</td>\n      <td>NaN</td>\n      <td>NaN</td>\n    </tr>\n    <tr>\n      <th>27</th>\n      <td>DE1-GW</td>\n      <td>215764984</td>\n      <td>DE1-ZGP/215764984</td>\n      <td>DE1D-20230612-1-INT1</td>\n      <td>DE1D</td>\n      <td>20230613</td>\n      <td>DE1-ZGP</td>\n      <td>215764984</td>\n      <td>NaN</td>\n      <td>NaN</td>\n    </tr>\n    <tr>\n      <th>28</th>\n      <td>DE1-GW</td>\n      <td>28407238</td>\n      <td>DE1-ZGP/28407238</td>\n      <td>DE1D-20230612-1-INT1</td>\n      <td>DE1D</td>\n      <td>20230613</td>\n      <td>DE1-ZGP</td>\n      <td>28407238</td>\n      <td>NaN</td>\n      <td>NaN</td>\n    </tr>\n    <tr>\n      <th>29</th>\n      <td>DE1-GW</td>\n      <td>32907998</td>\n      <td>DE1-ZGP/32907998</td>\n      <td>DE1D-20230612-1-INT1</td>\n      <td>DE1D</td>\n      <td>20230613</td>\n      <td>DE1-ZGP</td>\n      <td>32907998</td>\n      <td>NaN</td>\n      <td>NaN</td>\n    </tr>\n    <tr>\n      <th>30</th>\n      <td>DE1-GW</td>\n      <td>39070723</td>\n      <td>DE1-ZGP/39070723</td>\n      <td>DE1D-20230612-1-INT1</td>\n      <td>DE1D</td>\n      <td>20230613</td>\n      <td>DE1-ZGP</td>\n      <td>39070723</td>\n      <td>NaN</td>\n      <td>NaN</td>\n    </tr>\n    <tr>\n      <th>31</th>\n      <td>DE1-GW</td>\n      <td>39529492</td>\n      <td>DE1-ZGP/39529492</td>\n      <td>DE1D-20230612-1-INT1</td>\n      <td>DE1D</td>\n      <td>20230613</td>\n      <td>DE1-ZGP</td>\n      <td>39529492</td>\n      <td>NaN</td>\n      <td>NaN</td>\n    </tr>\n    <tr>\n      <th>32</th>\n      <td>DE1-GW</td>\n      <td>42866403</td>\n      <td>DE1-ZGP/42866403</td>\n      <td>DE1D-20230612-1-INT1</td>\n      <td>DE1D</td>\n      <td>20230613</td>\n      <td>DE1-ZGP</td>\n      <td>42866403</td>\n      <td>NaN</td>\n      <td>NaN</td>\n    </tr>\n    <tr>\n      <th>33</th>\n      <td>DE1-GW</td>\n      <td>45507298</td>\n      <td>DE1-ZGP/45507298</td>\n      <td>DE1D-20230612-1-INT1</td>\n      <td>DE1D</td>\n      <td>20230613</td>\n      <td>DE1-ZGP</td>\n      <td>45507298</td>\n      <td>NaN</td>\n      <td>NaN</td>\n    </tr>\n    <tr>\n      <th>34</th>\n      <td>DE1-GW</td>\n      <td>55538661</td>\n      <td>DE1-ZGP/55538661</td>\n      <td>DE1D-20230612-1-INT1</td>\n      <td>DE1D</td>\n      <td>20230613</td>\n      <td>DE1-ZGP</td>\n      <td>55538661</td>\n      <td>NaN</td>\n      <td>NaN</td>\n    </tr>\n    <tr>\n      <th>35</th>\n      <td>DE1-GW</td>\n      <td>63890266</td>\n      <td>DE1-ZGP/63890266</td>\n      <td>DE1D-20230612-1-INT1</td>\n      <td>DE1D</td>\n      <td>20230613</td>\n      <td>DE1-ZGP</td>\n      <td>63890266</td>\n      <td>NaN</td>\n      <td>NaN</td>\n    </tr>\n    <tr>\n      <th>36</th>\n      <td>DE1-GW</td>\n      <td>7450402</td>\n      <td>DE1-ZGP/7450402</td>\n      <td>DE1D-20230612-1-INT1</td>\n      <td>DE1D</td>\n      <td>20230613</td>\n      <td>DE1-ZGP</td>\n      <td>7450402</td>\n      <td>NaN</td>\n      <td>NaN</td>\n    </tr>\n    <tr>\n      <th>37</th>\n      <td>DE1-GW</td>\n      <td>85340875</td>\n      <td>DE1-ZGP/85340875</td>\n      <td>DE1D-20230612-1-INT1</td>\n      <td>DE1D</td>\n      <td>20230613</td>\n      <td>DE1-ZGP</td>\n      <td>85340875</td>\n      <td>NaN</td>\n      <td>NaN</td>\n    </tr>\n    <tr>\n      <th>38</th>\n      <td>DE1-GW</td>\n      <td>8563815</td>\n      <td>DE1-ZGP/8563815</td>\n      <td>DE1D-20230612-1-INT1</td>\n      <td>DE1D</td>\n      <td>20230613</td>\n      <td>DE1-ZGP</td>\n      <td>8563815</td>\n      <td>NaN</td>\n      <td>NaN</td>\n    </tr>\n    <tr>\n      <th>39</th>\n      <td>DE1-GW</td>\n      <td>91775651</td>\n      <td>DE1-ZGP/91775651</td>\n      <td>DE1D-20230612-1-INT1</td>\n      <td>DE1D</td>\n      <td>20230613</td>\n      <td>DE1-ZGP</td>\n      <td>91775651</td>\n      <td>NaN</td>\n      <td>NaN</td>\n    </tr>\n    <tr>\n      <th>40</th>\n      <td>DE1-GW</td>\n      <td>92783857</td>\n      <td>DE1-ZGP/92783857</td>\n      <td>DE1D-20230612-1-INT1</td>\n      <td>DE1D</td>\n      <td>20230613</td>\n      <td>DE1-ZGP</td>\n      <td>92783857</td>\n      <td>NaN</td>\n      <td>NaN</td>\n    </tr>\n    <tr>\n      <th>41</th>\n      <td>DE1-GW</td>\n      <td>96345095</td>\n      <td>DE1-ZGP/96345095</td>\n      <td>DE1D-20230612-1-INT1</td>\n      <td>DE1D</td>\n      <td>20230613</td>\n      <td>DE1-ZGP</td>\n      <td>96345095</td>\n      <td>NaN</td>\n      <td>NaN</td>\n    </tr>\n    <tr>\n      <th>42</th>\n      <td>DE1-GW</td>\n      <td>98847077</td>\n      <td>DE1-ZGP/98847077</td>\n      <td>DE1D-20230612-1-INT1</td>\n      <td>DE1D</td>\n      <td>20230613</td>\n      <td>DE1-ZGP</td>\n      <td>98847077</td>\n      <td>NaN</td>\n      <td>NaN</td>\n    </tr>\n  </tbody>\n</table>\n</div>"
     },
     "execution_count": 20,
     "metadata": {},
     "output_type": "execute_result"
    }
   ],
   "source": [
    "# Merge Business Partner und Business Partner act in Liabil\n",
    "DF_merged2 = DF_BPact.join(DF_BP, lsuffix=\"KDWR5088O\", rsuffix=\"KYDW0007\")\n",
    "DF_merged2\n",
    "\n",
    "# Erstelle die Spalte der Kundennummern mit \"CR\"\n",
    "DF_merged2 = DF_BPact.join(DF_BP, lsuffix=\"KDWR5088O\", rsuffix=\"KYDW0007\")\n",
    "DF_merged2.loc[DF_merged2[\"TPDW5090\"] == \"CR\"][\"KYDW0007O\"]\n",
    "#3.Einlesen der Money laundering Entität \n",
    "\n",
    "DF_MONLA = pd.read_csv(path + \"/MONEYLA.csv\", sep=\"\\t\", skiprows=9)\n",
    "DF_MONLA[\"KYDWR5469\"] = DF_MONLA[[\"KDWR5469O\", \"KDWR5469\"]].astype(str).agg(\"/\".join, axis=1)\n",
    "neue_Spalte = DF_MONLA.pop(\"KYDWR5469\")\n",
    "DF_MONLA.insert(2, \"KYDWR5469O\", neue_Spalte)\n",
    "\n",
    "DF_MONLA\n",
    "\n"
   ],
   "metadata": {
    "collapsed": false,
    "ExecuteTime": {
     "end_time": "2023-10-03T15:55:08.494346900Z",
     "start_time": "2023-10-03T15:55:08.265746Z"
    }
   },
   "id": "22866c159a6a7894"
  },
  {
   "cell_type": "code",
   "execution_count": 21,
   "outputs": [
    {
     "data": {
      "text/plain": "  A1   A2  A3        A4   A5 A6           A6A       A6B A6C        A7  \\\n0  A  165  10  100000.0  0.0     1.392530e+09  00000000      00000000   \n\n             A8       A9       A9A  A9B  A9C  A10  \n0  1.330170e+09  5000000  50000000  0.0  0.0  0.0  ",
      "text/html": "<div>\n<style scoped>\n    .dataframe tbody tr th:only-of-type {\n        vertical-align: middle;\n    }\n\n    .dataframe tbody tr th {\n        vertical-align: top;\n    }\n\n    .dataframe thead th {\n        text-align: right;\n    }\n</style>\n<table border=\"1\" class=\"dataframe\">\n  <thead>\n    <tr style=\"text-align: right;\">\n      <th></th>\n      <th>A1</th>\n      <th>A2</th>\n      <th>A3</th>\n      <th>A4</th>\n      <th>A5</th>\n      <th>A6</th>\n      <th>A6A</th>\n      <th>A6B</th>\n      <th>A6C</th>\n      <th>A7</th>\n      <th>A8</th>\n      <th>A9</th>\n      <th>A9A</th>\n      <th>A9B</th>\n      <th>A9C</th>\n      <th>A10</th>\n    </tr>\n  </thead>\n  <tbody>\n    <tr>\n      <th>0</th>\n      <td>A</td>\n      <td>165</td>\n      <td>10</td>\n      <td>100000.0</td>\n      <td>0.0</td>\n      <td></td>\n      <td>1.392530e+09</td>\n      <td>00000000</td>\n      <td></td>\n      <td>00000000</td>\n      <td>1.330170e+09</td>\n      <td>5000000</td>\n      <td>50000000</td>\n      <td>0.0</td>\n      <td>0.0</td>\n      <td>0.0</td>\n    </tr>\n  </tbody>\n</table>\n</div>"
     },
     "execution_count": 21,
     "metadata": {},
     "output_type": "execute_result"
    }
   ],
   "source": [
    "###################################+++++++++ II. Bau der Sätze +++++##################################################\n",
    "A_Satz = pd.DataFrame([[''] * 10], columns=['A{}'.format(i) for i in range(1, 11)])\n",
    "A_Satz[\"A1\"] = 'A'\n",
    "A_Satz[\"A2\"] = '165'\n",
    "A_Satz[\"A3\"] = '10'\n",
    "A_Satz[\"A4\"] = 100000.00\n",
    "A_Satz[\"A5\"] = 0.00\n",
    "A_Satz[\"A6A\"] = 1330170000.00\n",
    "A_Satz[\"A6B\"] = 5000000\n",
    "A_Satz[\"A6C\"] = 50000000\n",
    "A_Satz[\"A7\"] = 1392530000.00\n",
    "A_Satz[\"A8\"] = '00000000'\n",
    "A_Satz[\"A9A\"] = 0.00\n",
    "A_Satz[\"A9B\"] = 0.00\n",
    "A_Satz[\"A9C\"] = 0.00\n",
    "A_Satz[\"A10\"] = '00000000'\n",
    "\n",
    "# Die Spalten des A_Satzes werden in die gewünscht Reihenfolge sortiert\n",
    "\n",
    "A_Satz.columns = [\"A1\", \"A2\", \"A3\", \"A4\", \"A5\", \"A6\", \"A6A\",\n",
    "                  \"A6B\", \"A6C\", \"A7\", \"A8\", \"A9\", \"A9A\", \"A9B\", \"A9C\", \"A10\"]\n",
    "\n",
    "# A_Satz wird ausgegeben\n",
    "\n",
    "A_Satz"
   ],
   "metadata": {
    "collapsed": false,
    "ExecuteTime": {
     "end_time": "2023-10-03T15:55:08.494346900Z",
     "start_time": "2023-10-03T15:55:08.371996600Z"
    }
   },
   "id": "cb24d95ce5cf3972"
  },
  {
   "cell_type": "code",
   "execution_count": 22,
   "outputs": [
    {
     "data": {
      "text/plain": "  A1   A2  A3        A4   A5 A6           A6A       A6B A6C        A7  \\\n0  A  165  10  100000.0  0.0     1.392530e+09  00000000      00000000   \n\n             A8       A9       A9A  A9B  A9C  A10  \n0  1.330170e+09  5000000  50000000  0.0  0.0  0.0  ",
      "text/html": "<div>\n<style scoped>\n    .dataframe tbody tr th:only-of-type {\n        vertical-align: middle;\n    }\n\n    .dataframe tbody tr th {\n        vertical-align: top;\n    }\n\n    .dataframe thead th {\n        text-align: right;\n    }\n</style>\n<table border=\"1\" class=\"dataframe\">\n  <thead>\n    <tr style=\"text-align: right;\">\n      <th></th>\n      <th>A1</th>\n      <th>A2</th>\n      <th>A3</th>\n      <th>A4</th>\n      <th>A5</th>\n      <th>A6</th>\n      <th>A6A</th>\n      <th>A6B</th>\n      <th>A6C</th>\n      <th>A7</th>\n      <th>A8</th>\n      <th>A9</th>\n      <th>A9A</th>\n      <th>A9B</th>\n      <th>A9C</th>\n      <th>A10</th>\n    </tr>\n  </thead>\n  <tbody>\n    <tr>\n      <th>0</th>\n      <td>A</td>\n      <td>165</td>\n      <td>10</td>\n      <td>100000.0</td>\n      <td>0.0</td>\n      <td></td>\n      <td>1.392530e+09</td>\n      <td>00000000</td>\n      <td></td>\n      <td>00000000</td>\n      <td>1.330170e+09</td>\n      <td>5000000</td>\n      <td>50000000</td>\n      <td>0.0</td>\n      <td>0.0</td>\n      <td>0.0</td>\n    </tr>\n  </tbody>\n</table>\n</div>"
     },
     "execution_count": 22,
     "metadata": {},
     "output_type": "execute_result"
    }
   ],
   "source": [
    "###################################+++++++++ II. Bau der Sätze +++++##################################################\n",
    "A_Satz = pd.DataFrame([[''] * 10], columns=['A{}'.format(i) for i in range(1, 11)])\n",
    "A_Satz[\"A1\"] = 'A'\n",
    "A_Satz[\"A2\"] = '165'\n",
    "A_Satz[\"A3\"] = '10'\n",
    "A_Satz[\"A4\"] = 100000.00\n",
    "A_Satz[\"A5\"] = 0.00\n",
    "A_Satz[\"A6A\"] = 1330170000.00\n",
    "A_Satz[\"A6B\"] = 5000000\n",
    "A_Satz[\"A6C\"] = 50000000\n",
    "A_Satz[\"A7\"] = 1392530000.00\n",
    "A_Satz[\"A8\"] = '00000000'\n",
    "A_Satz[\"A9A\"] = 0.00\n",
    "A_Satz[\"A9B\"] = 0.00\n",
    "A_Satz[\"A9C\"] = 0.00\n",
    "A_Satz[\"A10\"] = '00000000'\n",
    "\n",
    "# Die Spalten des A_Satzes werden in die gewünscht Reihenfolge sortiert\n",
    "\n",
    "A_Satz.columns = [\"A1\", \"A2\", \"A3\", \"A4\", \"A5\", \"A6\", \"A6A\",\n",
    "                  \"A6B\", \"A6C\", \"A7\", \"A8\", \"A9\", \"A9A\", \"A9B\", \"A9C\", \"A10\"]\n",
    "\n",
    "# A_Satz wird ausgegeben\n",
    "\n",
    "A_Satz"
   ],
   "metadata": {
    "collapsed": false,
    "ExecuteTime": {
     "end_time": "2023-10-03T15:55:08.494847800Z",
     "start_time": "2023-10-03T15:55:08.384784700Z"
    }
   },
   "id": "33f864a8a9de88a8"
  },
  {
   "cell_type": "code",
   "execution_count": 23,
   "outputs": [
    {
     "data": {
      "text/plain": "        B1                     B2                                       B3  \\\n1        B  TRSRYDE1-BP/104044196  Volkswagen Bank GmbH Surcusal en Espana   \n2        B  TRSRYDE1-BP/104140197        Volkswagen Bank GmbH Milan Branch   \n3        B  TRSRYDE1-BP/104393282          Volkswagen Dogus Finansman A.S.   \n4        B  TRSRYDE1-BP/104413531                           Commerzbank AG   \n5        B  TRSRYDE1-BP/104427026                               Volim GmbH   \n...     ..                    ...                                      ...   \n1460607  B                    NaN                                      NaN   \n1460608  B                    NaN                                      NaN   \n1460609  B                    NaN                                      NaN   \n1460610  B                    NaN                                      NaN   \n1460611  B                    NaN                                      NaN   \n\n         B4 B5  B6                             B7 B8     B9  \\\n1       NaN    NaN              Av de Bruselas 34     28100   \n2       NaN    NaN              Via Grosio 10 / 4     20151   \n3       NaN    NaN  Baglar Cad. No.:14/A Ofispark     34406   \n4       NaN    NaN                    Kaiserplatz     60311   \n5       NaN    NaN              Gifhorner Str. 57     38112   \n...      .. ..  ..                            ... ..    ...   \n1460607 NaN    NaN                            NaN       NaN   \n1460608 NaN    NaN                            NaN       NaN   \n1460609 NaN    NaN                            NaN       NaN   \n1460610 NaN    NaN                            NaN       NaN   \n1460611 NaN    NaN                            NaN       NaN   \n\n                         B10  B11  B12     B13  \\\n1        Alcobendas (Madrid)   ES  NaN  K64.19   \n2                     MILANO   IT  NaN  K64.19   \n3         Kagithane Istanbul   TR  NaN  K64.19   \n4          Frankfurt am Main   DE  NaN  K64.19   \n5               Braunschweig   DE  NaN  L68.20   \n...                      ...  ...  ...     ...   \n1460607                  NaN  NaN  NaN     NaN   \n1460608                  NaN  NaN  NaN     NaN   \n1460609                  NaN  NaN  NaN     NaN   \n1460610                  NaN  NaN  NaN     NaN   \n1460611                  NaN  NaN  NaN     NaN   \n\n                                                       B14 B15  B16  \n1        NNNNNNNNNNNNNNNNNNNNNNNNNNNNNNNNNNNNNNNNNNNNNN...        N  \n2        NNNNNNNNNNNNNNNNNNNNNNNNNNNNNNNNNNNNNNNNNNNNNN...        N  \n3        NNNNNNNNNNNNNNNNNNNNNNNNNNNNNNNNNNNNNNNNNNNNNN...        N  \n4        NNNNNNNNNNNNNNNNNNNNNNNNNNNNNNNNNNNNNNNNNNNNNN...        N  \n5        NNNNNNNNNNNNNNNNNNNNNNNNNNNNNNNNNNNNNNNNNNNNNN...        N  \n...                                                    ...  ..  ...  \n1460607  NNNNNNNNNNNNNNNNNNNNNNNNNNNNNNNNNNNNNNNNNNNNNN...      NaN  \n1460608  NNNNNNNNNNNNNNNNNNNNNNNNNNNNNNNNNNNNNNNNNNNNNN...      NaN  \n1460609  NNNNNNNNNNNNNNNNNNNNNNNNNNNNNNNNNNNNNNNNNNNNNN...      NaN  \n1460610  NNNNNNNNNNNNNNNNNNNNNNNNNNNNNNNNNNNNNNNNNNNNNN...      NaN  \n1460611  NNNNNNNNNNNNNNNNNNNNNNNNNNNNNNNNNNNNNNNNNNNNNN...      NaN  \n\n[1460611 rows x 16 columns]",
      "text/html": "<div>\n<style scoped>\n    .dataframe tbody tr th:only-of-type {\n        vertical-align: middle;\n    }\n\n    .dataframe tbody tr th {\n        vertical-align: top;\n    }\n\n    .dataframe thead th {\n        text-align: right;\n    }\n</style>\n<table border=\"1\" class=\"dataframe\">\n  <thead>\n    <tr style=\"text-align: right;\">\n      <th></th>\n      <th>B1</th>\n      <th>B2</th>\n      <th>B3</th>\n      <th>B4</th>\n      <th>B5</th>\n      <th>B6</th>\n      <th>B7</th>\n      <th>B8</th>\n      <th>B9</th>\n      <th>B10</th>\n      <th>B11</th>\n      <th>B12</th>\n      <th>B13</th>\n      <th>B14</th>\n      <th>B15</th>\n      <th>B16</th>\n    </tr>\n  </thead>\n  <tbody>\n    <tr>\n      <th>1</th>\n      <td>B</td>\n      <td>TRSRYDE1-BP/104044196</td>\n      <td>Volkswagen Bank GmbH Surcusal en Espana</td>\n      <td>NaN</td>\n      <td></td>\n      <td>NaN</td>\n      <td>Av de Bruselas 34</td>\n      <td></td>\n      <td>28100</td>\n      <td>Alcobendas (Madrid)</td>\n      <td>ES</td>\n      <td>NaN</td>\n      <td>K64.19</td>\n      <td>NNNNNNNNNNNNNNNNNNNNNNNNNNNNNNNNNNNNNNNNNNNNNN...</td>\n      <td></td>\n      <td>N</td>\n    </tr>\n    <tr>\n      <th>2</th>\n      <td>B</td>\n      <td>TRSRYDE1-BP/104140197</td>\n      <td>Volkswagen Bank GmbH Milan Branch</td>\n      <td>NaN</td>\n      <td></td>\n      <td>NaN</td>\n      <td>Via Grosio 10 / 4</td>\n      <td></td>\n      <td>20151</td>\n      <td>MILANO</td>\n      <td>IT</td>\n      <td>NaN</td>\n      <td>K64.19</td>\n      <td>NNNNNNNNNNNNNNNNNNNNNNNNNNNNNNNNNNNNNNNNNNNNNN...</td>\n      <td></td>\n      <td>N</td>\n    </tr>\n    <tr>\n      <th>3</th>\n      <td>B</td>\n      <td>TRSRYDE1-BP/104393282</td>\n      <td>Volkswagen Dogus Finansman A.S.</td>\n      <td>NaN</td>\n      <td></td>\n      <td>NaN</td>\n      <td>Baglar Cad. No.:14/A Ofispark</td>\n      <td></td>\n      <td>34406</td>\n      <td>Kagithane Istanbul</td>\n      <td>TR</td>\n      <td>NaN</td>\n      <td>K64.19</td>\n      <td>NNNNNNNNNNNNNNNNNNNNNNNNNNNNNNNNNNNNNNNNNNNNNN...</td>\n      <td></td>\n      <td>N</td>\n    </tr>\n    <tr>\n      <th>4</th>\n      <td>B</td>\n      <td>TRSRYDE1-BP/104413531</td>\n      <td>Commerzbank AG</td>\n      <td>NaN</td>\n      <td></td>\n      <td>NaN</td>\n      <td>Kaiserplatz</td>\n      <td></td>\n      <td>60311</td>\n      <td>Frankfurt am Main</td>\n      <td>DE</td>\n      <td>NaN</td>\n      <td>K64.19</td>\n      <td>NNNNNNNNNNNNNNNNNNNNNNNNNNNNNNNNNNNNNNNNNNNNNN...</td>\n      <td></td>\n      <td>N</td>\n    </tr>\n    <tr>\n      <th>5</th>\n      <td>B</td>\n      <td>TRSRYDE1-BP/104427026</td>\n      <td>Volim GmbH</td>\n      <td>NaN</td>\n      <td></td>\n      <td>NaN</td>\n      <td>Gifhorner Str. 57</td>\n      <td></td>\n      <td>38112</td>\n      <td>Braunschweig</td>\n      <td>DE</td>\n      <td>NaN</td>\n      <td>L68.20</td>\n      <td>NNNNNNNNNNNNNNNNNNNNNNNNNNNNNNNNNNNNNNNNNNNNNN...</td>\n      <td></td>\n      <td>N</td>\n    </tr>\n    <tr>\n      <th>...</th>\n      <td>...</td>\n      <td>...</td>\n      <td>...</td>\n      <td>...</td>\n      <td>...</td>\n      <td>...</td>\n      <td>...</td>\n      <td>...</td>\n      <td>...</td>\n      <td>...</td>\n      <td>...</td>\n      <td>...</td>\n      <td>...</td>\n      <td>...</td>\n      <td>...</td>\n      <td>...</td>\n    </tr>\n    <tr>\n      <th>1460607</th>\n      <td>B</td>\n      <td>NaN</td>\n      <td>NaN</td>\n      <td>NaN</td>\n      <td></td>\n      <td>NaN</td>\n      <td>NaN</td>\n      <td></td>\n      <td>NaN</td>\n      <td>NaN</td>\n      <td>NaN</td>\n      <td>NaN</td>\n      <td>NaN</td>\n      <td>NNNNNNNNNNNNNNNNNNNNNNNNNNNNNNNNNNNNNNNNNNNNNN...</td>\n      <td></td>\n      <td>NaN</td>\n    </tr>\n    <tr>\n      <th>1460608</th>\n      <td>B</td>\n      <td>NaN</td>\n      <td>NaN</td>\n      <td>NaN</td>\n      <td></td>\n      <td>NaN</td>\n      <td>NaN</td>\n      <td></td>\n      <td>NaN</td>\n      <td>NaN</td>\n      <td>NaN</td>\n      <td>NaN</td>\n      <td>NaN</td>\n      <td>NNNNNNNNNNNNNNNNNNNNNNNNNNNNNNNNNNNNNNNNNNNNNN...</td>\n      <td></td>\n      <td>NaN</td>\n    </tr>\n    <tr>\n      <th>1460609</th>\n      <td>B</td>\n      <td>NaN</td>\n      <td>NaN</td>\n      <td>NaN</td>\n      <td></td>\n      <td>NaN</td>\n      <td>NaN</td>\n      <td></td>\n      <td>NaN</td>\n      <td>NaN</td>\n      <td>NaN</td>\n      <td>NaN</td>\n      <td>NaN</td>\n      <td>NNNNNNNNNNNNNNNNNNNNNNNNNNNNNNNNNNNNNNNNNNNNNN...</td>\n      <td></td>\n      <td>NaN</td>\n    </tr>\n    <tr>\n      <th>1460610</th>\n      <td>B</td>\n      <td>NaN</td>\n      <td>NaN</td>\n      <td>NaN</td>\n      <td></td>\n      <td>NaN</td>\n      <td>NaN</td>\n      <td></td>\n      <td>NaN</td>\n      <td>NaN</td>\n      <td>NaN</td>\n      <td>NaN</td>\n      <td>NaN</td>\n      <td>NNNNNNNNNNNNNNNNNNNNNNNNNNNNNNNNNNNNNNNNNNNNNN...</td>\n      <td></td>\n      <td>NaN</td>\n    </tr>\n    <tr>\n      <th>1460611</th>\n      <td>B</td>\n      <td>NaN</td>\n      <td>NaN</td>\n      <td>NaN</td>\n      <td></td>\n      <td>NaN</td>\n      <td>NaN</td>\n      <td></td>\n      <td>NaN</td>\n      <td>NaN</td>\n      <td>NaN</td>\n      <td>NaN</td>\n      <td>NaN</td>\n      <td>NNNNNNNNNNNNNNNNNNNNNNNNNNNNNNNNNNNNNNNNNNNNNN...</td>\n      <td></td>\n      <td>NaN</td>\n    </tr>\n  </tbody>\n</table>\n<p>1460611 rows × 16 columns</p>\n</div>"
     },
     "execution_count": 23,
     "metadata": {},
     "output_type": "execute_result"
    }
   ],
   "source": [
    "B_Satz2 = pd.DataFrame([[''] * 16], index=range(1, 1460612), columns=[\"B{}\".format(i) for i in range(1, 17)])\n",
    "\n",
    "B_Satz2"
   ],
   "metadata": {
    "collapsed": false,
    "ExecuteTime": {
     "end_time": "2023-10-03T15:55:08.877370600Z",
     "start_time": "2023-10-03T15:55:08.394084700Z"
    }
   },
   "id": "35818483dbcbab2c"
  },
  {
   "cell_type": "code",
   "execution_count": 80,
   "outputs": [],
   "source": [
    "BPART_MERGE = B_Satz2.merge(DF_BP, left_on=\"B2\", right_on=\"KYDW0007O\", how=\"inner\")\n",
    "\n",
    "\n",
    "def Funktion_B16(row):\n",
    "    if row[\"TPDW0235\"] == \"I-NP\":\n",
    "        return \"10\"\n",
    "    elif all(x == \"N\" for x in row[\"B14\"]):\n",
    "        return \"13\"\n",
    "    elif row[\"TPDW5483\"] == \"Y\":\n",
    "        return \"20\"\n",
    "    else:\n",
    "        return \"90\""
   ],
   "metadata": {
    "collapsed": false,
    "ExecuteTime": {
     "end_time": "2023-10-03T16:35:33.173342700Z",
     "start_time": "2023-10-03T16:35:33.149104600Z"
    }
   },
   "id": "2052c9a48d2cc991"
  },
  {
   "cell_type": "code",
   "execution_count": null,
   "outputs": [],
   "source": [
    "B_Satz2[\"B1\"] = \"B\"\n",
    "B_Satz2[\"B2\"] = DF_merged2.loc[DF_merged2[\"TPDW5090\"] == \"CR\"][\"KYDW0007O\"]\n",
    "B_Satz2[\"B3\"] = DF_BP[\"DSDW0010\"]\n",
    "B_Satz2[\"B4\"] = DF_BP[\"TPDW4438\"]\n",
    "B_Satz2[\"B5\"] = \"\"  # LEER lassen\n",
    "B_Satz2[\"B6\"] = DF_BP[\"TPDW4438\"]\n",
    "B_Satz2[\"B7\"] = DF_BP[\"DSDW3702\"]\n",
    "B_Satz2['B8'] = \"\"\n",
    "B_Satz2[\"B9\"] = DF_BP[\"DSDW0013\"]\n",
    "B_Satz2[\"B10\"] = DF_BP[\"DSDW0014\"]\n",
    "B_Satz2[\"B11\"] = DF_BP[\"TPDW0012\"]\n",
    "B_Satz2[\"B12\"] = DF_BP[\"DTDW4315\"]\n",
    "B_Satz2[\"B13\"] = DF_BP[\"DSDW0230\"]\n",
    "B_Satz2[\"B14\"] = \"N\" * 50\n",
    "B_Satz2[\"B15\"] = \"\"\n",
    "B_Satz2[\"B16\"] = B_Satz2.apply(Funktion_B16, axis=1)"
   ],
   "metadata": {
    "collapsed": false
   },
   "id": "39b3dee4bb96f437"
  },
  {
   "cell_type": "code",
   "execution_count": 24,
   "outputs": [
    {
     "data": {
      "text/plain": "     KDW0565O                        KDW0565               KDW0717 KDW0719  \\\n0     DE1-BCA  2400002198_2014_PC_0000000004  DE1D-20230612-1-INT1    DE1D   \n1     DE1-BCA  2400003287_2014_PC_0000000008  DE1D-20230612-1-INT1    DE1D   \n2     DE1-BCA  2400004350_2014_PC_0000000004  DE1D-20230612-1-INT1    DE1D   \n3     DE1-BCA  2400006926_2014_PC_0000000003  DE1D-20230612-1-INT1    DE1D   \n4     DE1-BCA  2400007411_2014_PC_0000000002  DE1D-20230612-1-INT1    DE1D   \n...       ...                            ...                   ...     ...   \n4107  DE1-BCA  2305127645_2021_CC_0000000001  DE1D-20230612-1-INT1    DE1D   \n4108  DE1-BCA  2305129518_2021_CC_0000000001  DE1D-20230612-1-INT1    DE1D   \n4109  DE1-BCA  2305131753_2021_CC_0000000001  DE1D-20230612-1-INT1    DE1D   \n4110  DE1-BCA  2305132488_2021_CC_0000000001  DE1D-20230612-1-INT1    DE1D   \n4111  DE1-BCA  2400410490_2017_PC_0000000055  DE1D-20230612-1-INT1    DE1D   \n\n     TPDW0527  DTDW0233 KDWR5000O         KDWR5000 TPDW5155  ATDW5156  \\\n0          CL  20230517   DE1-BCA  2400002198_2014       PC  25000,00   \n1          CL  20230524   DE1-BCA  2400003287_2014       PC  25000,00   \n2          CL  20230528   DE1-BCA  2400004350_2014       PC  25000,00   \n3          CL  20230524   DE1-BCA  2400006926_2014       PC  25000,00   \n4          CL  20230430   DE1-BCA  2400007411_2014       PC  25000,00   \n...       ...       ...       ...              ...      ...       ...   \n4107       CL  20221115   DE1-BCA  2305127645_2021       CC  47539,47   \n4108       CL  20230125   DE1-BCA  2305129518_2021       CC   1875,76   \n4109       CL  20221012   DE1-BCA  2305131753_2021       CC  55406,66   \n4110       CL  20221115   DE1-BCA  2305132488_2021       CC  20515,72   \n4111       CL  20230610   DE1-BCA  2400410490_2017       PC   5000,00   \n\n     UCDW5156  DTDW0001  DTDW5492  \n0         EUR  20230612  20230618  \n1         EUR  20230612  20230625  \n2         EUR  20230612  20230629  \n3         EUR  20230612  20230625  \n4         EUR  20230612  20230614  \n...       ...       ...       ...  \n4107      EUR  20230612  20230810  \n4108      EUR  20230612  20230905  \n4109      EUR  20230612  20230914  \n4110      EUR  20230612  20230919  \n4111      EUR  20230612  20230830  \n\n[4112 rows x 13 columns]",
      "text/html": "<div>\n<style scoped>\n    .dataframe tbody tr th:only-of-type {\n        vertical-align: middle;\n    }\n\n    .dataframe tbody tr th {\n        vertical-align: top;\n    }\n\n    .dataframe thead th {\n        text-align: right;\n    }\n</style>\n<table border=\"1\" class=\"dataframe\">\n  <thead>\n    <tr style=\"text-align: right;\">\n      <th></th>\n      <th>KDW0565O</th>\n      <th>KDW0565</th>\n      <th>KDW0717</th>\n      <th>KDW0719</th>\n      <th>TPDW0527</th>\n      <th>DTDW0233</th>\n      <th>KDWR5000O</th>\n      <th>KDWR5000</th>\n      <th>TPDW5155</th>\n      <th>ATDW5156</th>\n      <th>UCDW5156</th>\n      <th>DTDW0001</th>\n      <th>DTDW5492</th>\n    </tr>\n  </thead>\n  <tbody>\n    <tr>\n      <th>0</th>\n      <td>DE1-BCA</td>\n      <td>2400002198_2014_PC_0000000004</td>\n      <td>DE1D-20230612-1-INT1</td>\n      <td>DE1D</td>\n      <td>CL</td>\n      <td>20230517</td>\n      <td>DE1-BCA</td>\n      <td>2400002198_2014</td>\n      <td>PC</td>\n      <td>25000,00</td>\n      <td>EUR</td>\n      <td>20230612</td>\n      <td>20230618</td>\n    </tr>\n    <tr>\n      <th>1</th>\n      <td>DE1-BCA</td>\n      <td>2400003287_2014_PC_0000000008</td>\n      <td>DE1D-20230612-1-INT1</td>\n      <td>DE1D</td>\n      <td>CL</td>\n      <td>20230524</td>\n      <td>DE1-BCA</td>\n      <td>2400003287_2014</td>\n      <td>PC</td>\n      <td>25000,00</td>\n      <td>EUR</td>\n      <td>20230612</td>\n      <td>20230625</td>\n    </tr>\n    <tr>\n      <th>2</th>\n      <td>DE1-BCA</td>\n      <td>2400004350_2014_PC_0000000004</td>\n      <td>DE1D-20230612-1-INT1</td>\n      <td>DE1D</td>\n      <td>CL</td>\n      <td>20230528</td>\n      <td>DE1-BCA</td>\n      <td>2400004350_2014</td>\n      <td>PC</td>\n      <td>25000,00</td>\n      <td>EUR</td>\n      <td>20230612</td>\n      <td>20230629</td>\n    </tr>\n    <tr>\n      <th>3</th>\n      <td>DE1-BCA</td>\n      <td>2400006926_2014_PC_0000000003</td>\n      <td>DE1D-20230612-1-INT1</td>\n      <td>DE1D</td>\n      <td>CL</td>\n      <td>20230524</td>\n      <td>DE1-BCA</td>\n      <td>2400006926_2014</td>\n      <td>PC</td>\n      <td>25000,00</td>\n      <td>EUR</td>\n      <td>20230612</td>\n      <td>20230625</td>\n    </tr>\n    <tr>\n      <th>4</th>\n      <td>DE1-BCA</td>\n      <td>2400007411_2014_PC_0000000002</td>\n      <td>DE1D-20230612-1-INT1</td>\n      <td>DE1D</td>\n      <td>CL</td>\n      <td>20230430</td>\n      <td>DE1-BCA</td>\n      <td>2400007411_2014</td>\n      <td>PC</td>\n      <td>25000,00</td>\n      <td>EUR</td>\n      <td>20230612</td>\n      <td>20230614</td>\n    </tr>\n    <tr>\n      <th>...</th>\n      <td>...</td>\n      <td>...</td>\n      <td>...</td>\n      <td>...</td>\n      <td>...</td>\n      <td>...</td>\n      <td>...</td>\n      <td>...</td>\n      <td>...</td>\n      <td>...</td>\n      <td>...</td>\n      <td>...</td>\n      <td>...</td>\n    </tr>\n    <tr>\n      <th>4107</th>\n      <td>DE1-BCA</td>\n      <td>2305127645_2021_CC_0000000001</td>\n      <td>DE1D-20230612-1-INT1</td>\n      <td>DE1D</td>\n      <td>CL</td>\n      <td>20221115</td>\n      <td>DE1-BCA</td>\n      <td>2305127645_2021</td>\n      <td>CC</td>\n      <td>47539,47</td>\n      <td>EUR</td>\n      <td>20230612</td>\n      <td>20230810</td>\n    </tr>\n    <tr>\n      <th>4108</th>\n      <td>DE1-BCA</td>\n      <td>2305129518_2021_CC_0000000001</td>\n      <td>DE1D-20230612-1-INT1</td>\n      <td>DE1D</td>\n      <td>CL</td>\n      <td>20230125</td>\n      <td>DE1-BCA</td>\n      <td>2305129518_2021</td>\n      <td>CC</td>\n      <td>1875,76</td>\n      <td>EUR</td>\n      <td>20230612</td>\n      <td>20230905</td>\n    </tr>\n    <tr>\n      <th>4109</th>\n      <td>DE1-BCA</td>\n      <td>2305131753_2021_CC_0000000001</td>\n      <td>DE1D-20230612-1-INT1</td>\n      <td>DE1D</td>\n      <td>CL</td>\n      <td>20221012</td>\n      <td>DE1-BCA</td>\n      <td>2305131753_2021</td>\n      <td>CC</td>\n      <td>55406,66</td>\n      <td>EUR</td>\n      <td>20230612</td>\n      <td>20230914</td>\n    </tr>\n    <tr>\n      <th>4110</th>\n      <td>DE1-BCA</td>\n      <td>2305132488_2021_CC_0000000001</td>\n      <td>DE1D-20230612-1-INT1</td>\n      <td>DE1D</td>\n      <td>CL</td>\n      <td>20221115</td>\n      <td>DE1-BCA</td>\n      <td>2305132488_2021</td>\n      <td>CC</td>\n      <td>20515,72</td>\n      <td>EUR</td>\n      <td>20230612</td>\n      <td>20230919</td>\n    </tr>\n    <tr>\n      <th>4111</th>\n      <td>DE1-BCA</td>\n      <td>2400410490_2017_PC_0000000055</td>\n      <td>DE1D-20230612-1-INT1</td>\n      <td>DE1D</td>\n      <td>CL</td>\n      <td>20230610</td>\n      <td>DE1-BCA</td>\n      <td>2400410490_2017</td>\n      <td>PC</td>\n      <td>5000,00</td>\n      <td>EUR</td>\n      <td>20230612</td>\n      <td>20230830</td>\n    </tr>\n  </tbody>\n</table>\n<p>4112 rows × 13 columns</p>\n</div>"
     },
     "execution_count": 24,
     "metadata": {},
     "output_type": "execute_result"
    }
   ],
   "source": [
    "\n",
    "# 4 Einlesen der Liability Entität für den Bau des C-Satzes\n",
    "\n",
    "DF_Liab = pd.read_csv(path + \"/PLIAB Kopie.csv\", sep=\"\\t\", skiprows=9, decimal=\",\")\n",
    "\n",
    "DF_Liab\n",
    "\n",
    "# 5 Einlesen der PRODUCT-Entität für die Bestimmung der Produktnamen in C6\n",
    "\n",
    "with open(path + \"/PRODUCT.csv\", \"rb\") as file:\n",
    "    enc = chardet.detect(file.read())\n",
    "\n",
    "DF_PRO = pd.read_csv(path + \"/PRODUCT.csv\", sep=\";\", skiprows=9, encoding=enc[\"encoding\"])\n",
    "\n",
    "DF_PRO\n",
    "\n",
    "# 6 Einlesen der Cancellation of Liability Entität für C26\n",
    "\n",
    "BP_CANLA = pd.read_csv(path + \"/BP_CANLA.csv\", sep=\"\\t\", skiprows=9, decimal=\".\")\n",
    "\n",
    "BP_CANLA"
   ],
   "metadata": {
    "collapsed": false,
    "ExecuteTime": {
     "end_time": "2023-10-03T15:55:09.405478800Z",
     "start_time": "2023-10-03T15:55:08.745822700Z"
    }
   },
   "id": "85a0c76e76ac53e5"
  },
  {
   "cell_type": "code",
   "execution_count": 25,
   "outputs": [
    {
     "data": {
      "text/plain": "        B1                     B2                                       B3  \\\n1        B  TRSRYDE1-BP/104044196  Volkswagen Bank GmbH Surcusal en Espana   \n2        B  TRSRYDE1-BP/104140197        Volkswagen Bank GmbH Milan Branch   \n3        B  TRSRYDE1-BP/104393282          Volkswagen Dogus Finansman A.S.   \n4        B  TRSRYDE1-BP/104413531                           Commerzbank AG   \n5        B  TRSRYDE1-BP/104427026                               Volim GmbH   \n...     ..                    ...                                      ...   \n1460607  B                    NaN                                      NaN   \n1460608  B                    NaN                                      NaN   \n1460609  B                    NaN                                      NaN   \n1460610  B                    NaN                                      NaN   \n1460611  B                    NaN                                      NaN   \n\n         B4 B5  B6                             B7 B8     B9  \\\n1       NaN    NaN              Av de Bruselas 34     28100   \n2       NaN    NaN              Via Grosio 10 / 4     20151   \n3       NaN    NaN  Baglar Cad. No.:14/A Ofispark     34406   \n4       NaN    NaN                    Kaiserplatz     60311   \n5       NaN    NaN              Gifhorner Str. 57     38112   \n...      .. ..  ..                            ... ..    ...   \n1460607 NaN    NaN                            NaN       NaN   \n1460608 NaN    NaN                            NaN       NaN   \n1460609 NaN    NaN                            NaN       NaN   \n1460610 NaN    NaN                            NaN       NaN   \n1460611 NaN    NaN                            NaN       NaN   \n\n                         B10  B11  B12     B13  \\\n1        Alcobendas (Madrid)   ES  NaN  K64.19   \n2                     MILANO   IT  NaN  K64.19   \n3         Kagithane Istanbul   TR  NaN  K64.19   \n4          Frankfurt am Main   DE  NaN  K64.19   \n5               Braunschweig   DE  NaN  L68.20   \n...                      ...  ...  ...     ...   \n1460607                  NaN  NaN  NaN     NaN   \n1460608                  NaN  NaN  NaN     NaN   \n1460609                  NaN  NaN  NaN     NaN   \n1460610                  NaN  NaN  NaN     NaN   \n1460611                  NaN  NaN  NaN     NaN   \n\n                                                       B14 B15  B16  \n1        NYNNNNNNNNNNNNNNNNNNNNNNNNNNNNNNNNNNNNNNNNNNNN...        N  \n2        NYNNNNNNNNNNNNNNNNNNNNNNNNNNNNNNNNNNNNNNNNNNNN...        N  \n3        NYNNNNNNNNNNNNNNNNNNNNNNNNNNNNNNNNNNNNNNNNNNNN...        N  \n4        NYNNNNNNNNNNNNNNNNNNNNNNNNNNNNNNNNNNNNNNNNNNNN...        N  \n5        NNNNNNNNNNNNNNNNNNNNNNNNNNNNNNNNNNNNNNNNNNNNNN...        N  \n...                                                    ...  ..  ...  \n1460607  NNNNNNNNNNNNNNNNNNNNNNNNNNNNNNNNNNNNNNNNNNNNNN...      NaN  \n1460608  NNNNNNNNNNNNNNNNNNNNNNNNNNNNNNNNNNNNNNNNNNNNNN...      NaN  \n1460609  NNNNNNNNNNNNNNNNNNNNNNNNNNNNNNNNNNNNNNNNNNNNNN...      NaN  \n1460610  NNNNNNNNNNNNNNNNNNNNNNNNNNNNNNNNNNNNNNNNNNNNNN...      NaN  \n1460611  NNNNNNNNNNNNNNNNNNNNNNNNNNNNNNNNNNNNNNNNNNNNNN...      NaN  \n\n[1460611 rows x 16 columns]",
      "text/html": "<div>\n<style scoped>\n    .dataframe tbody tr th:only-of-type {\n        vertical-align: middle;\n    }\n\n    .dataframe tbody tr th {\n        vertical-align: top;\n    }\n\n    .dataframe thead th {\n        text-align: right;\n    }\n</style>\n<table border=\"1\" class=\"dataframe\">\n  <thead>\n    <tr style=\"text-align: right;\">\n      <th></th>\n      <th>B1</th>\n      <th>B2</th>\n      <th>B3</th>\n      <th>B4</th>\n      <th>B5</th>\n      <th>B6</th>\n      <th>B7</th>\n      <th>B8</th>\n      <th>B9</th>\n      <th>B10</th>\n      <th>B11</th>\n      <th>B12</th>\n      <th>B13</th>\n      <th>B14</th>\n      <th>B15</th>\n      <th>B16</th>\n    </tr>\n  </thead>\n  <tbody>\n    <tr>\n      <th>1</th>\n      <td>B</td>\n      <td>TRSRYDE1-BP/104044196</td>\n      <td>Volkswagen Bank GmbH Surcusal en Espana</td>\n      <td>NaN</td>\n      <td></td>\n      <td>NaN</td>\n      <td>Av de Bruselas 34</td>\n      <td></td>\n      <td>28100</td>\n      <td>Alcobendas (Madrid)</td>\n      <td>ES</td>\n      <td>NaN</td>\n      <td>K64.19</td>\n      <td>NYNNNNNNNNNNNNNNNNNNNNNNNNNNNNNNNNNNNNNNNNNNNN...</td>\n      <td></td>\n      <td>N</td>\n    </tr>\n    <tr>\n      <th>2</th>\n      <td>B</td>\n      <td>TRSRYDE1-BP/104140197</td>\n      <td>Volkswagen Bank GmbH Milan Branch</td>\n      <td>NaN</td>\n      <td></td>\n      <td>NaN</td>\n      <td>Via Grosio 10 / 4</td>\n      <td></td>\n      <td>20151</td>\n      <td>MILANO</td>\n      <td>IT</td>\n      <td>NaN</td>\n      <td>K64.19</td>\n      <td>NYNNNNNNNNNNNNNNNNNNNNNNNNNNNNNNNNNNNNNNNNNNNN...</td>\n      <td></td>\n      <td>N</td>\n    </tr>\n    <tr>\n      <th>3</th>\n      <td>B</td>\n      <td>TRSRYDE1-BP/104393282</td>\n      <td>Volkswagen Dogus Finansman A.S.</td>\n      <td>NaN</td>\n      <td></td>\n      <td>NaN</td>\n      <td>Baglar Cad. No.:14/A Ofispark</td>\n      <td></td>\n      <td>34406</td>\n      <td>Kagithane Istanbul</td>\n      <td>TR</td>\n      <td>NaN</td>\n      <td>K64.19</td>\n      <td>NYNNNNNNNNNNNNNNNNNNNNNNNNNNNNNNNNNNNNNNNNNNNN...</td>\n      <td></td>\n      <td>N</td>\n    </tr>\n    <tr>\n      <th>4</th>\n      <td>B</td>\n      <td>TRSRYDE1-BP/104413531</td>\n      <td>Commerzbank AG</td>\n      <td>NaN</td>\n      <td></td>\n      <td>NaN</td>\n      <td>Kaiserplatz</td>\n      <td></td>\n      <td>60311</td>\n      <td>Frankfurt am Main</td>\n      <td>DE</td>\n      <td>NaN</td>\n      <td>K64.19</td>\n      <td>NYNNNNNNNNNNNNNNNNNNNNNNNNNNNNNNNNNNNNNNNNNNNN...</td>\n      <td></td>\n      <td>N</td>\n    </tr>\n    <tr>\n      <th>5</th>\n      <td>B</td>\n      <td>TRSRYDE1-BP/104427026</td>\n      <td>Volim GmbH</td>\n      <td>NaN</td>\n      <td></td>\n      <td>NaN</td>\n      <td>Gifhorner Str. 57</td>\n      <td></td>\n      <td>38112</td>\n      <td>Braunschweig</td>\n      <td>DE</td>\n      <td>NaN</td>\n      <td>L68.20</td>\n      <td>NNNNNNNNNNNNNNNNNNNNNNNNNNNNNNNNNNNNNNNNNNNNNN...</td>\n      <td></td>\n      <td>N</td>\n    </tr>\n    <tr>\n      <th>...</th>\n      <td>...</td>\n      <td>...</td>\n      <td>...</td>\n      <td>...</td>\n      <td>...</td>\n      <td>...</td>\n      <td>...</td>\n      <td>...</td>\n      <td>...</td>\n      <td>...</td>\n      <td>...</td>\n      <td>...</td>\n      <td>...</td>\n      <td>...</td>\n      <td>...</td>\n      <td>...</td>\n    </tr>\n    <tr>\n      <th>1460607</th>\n      <td>B</td>\n      <td>NaN</td>\n      <td>NaN</td>\n      <td>NaN</td>\n      <td></td>\n      <td>NaN</td>\n      <td>NaN</td>\n      <td></td>\n      <td>NaN</td>\n      <td>NaN</td>\n      <td>NaN</td>\n      <td>NaN</td>\n      <td>NaN</td>\n      <td>NNNNNNNNNNNNNNNNNNNNNNNNNNNNNNNNNNNNNNNNNNNNNN...</td>\n      <td></td>\n      <td>NaN</td>\n    </tr>\n    <tr>\n      <th>1460608</th>\n      <td>B</td>\n      <td>NaN</td>\n      <td>NaN</td>\n      <td>NaN</td>\n      <td></td>\n      <td>NaN</td>\n      <td>NaN</td>\n      <td></td>\n      <td>NaN</td>\n      <td>NaN</td>\n      <td>NaN</td>\n      <td>NaN</td>\n      <td>NaN</td>\n      <td>NNNNNNNNNNNNNNNNNNNNNNNNNNNNNNNNNNNNNNNNNNNNNN...</td>\n      <td></td>\n      <td>NaN</td>\n    </tr>\n    <tr>\n      <th>1460609</th>\n      <td>B</td>\n      <td>NaN</td>\n      <td>NaN</td>\n      <td>NaN</td>\n      <td></td>\n      <td>NaN</td>\n      <td>NaN</td>\n      <td></td>\n      <td>NaN</td>\n      <td>NaN</td>\n      <td>NaN</td>\n      <td>NaN</td>\n      <td>NaN</td>\n      <td>NNNNNNNNNNNNNNNNNNNNNNNNNNNNNNNNNNNNNNNNNNNNNN...</td>\n      <td></td>\n      <td>NaN</td>\n    </tr>\n    <tr>\n      <th>1460610</th>\n      <td>B</td>\n      <td>NaN</td>\n      <td>NaN</td>\n      <td>NaN</td>\n      <td></td>\n      <td>NaN</td>\n      <td>NaN</td>\n      <td></td>\n      <td>NaN</td>\n      <td>NaN</td>\n      <td>NaN</td>\n      <td>NaN</td>\n      <td>NaN</td>\n      <td>NNNNNNNNNNNNNNNNNNNNNNNNNNNNNNNNNNNNNNNNNNNNNN...</td>\n      <td></td>\n      <td>NaN</td>\n    </tr>\n    <tr>\n      <th>1460611</th>\n      <td>B</td>\n      <td>NaN</td>\n      <td>NaN</td>\n      <td>NaN</td>\n      <td></td>\n      <td>NaN</td>\n      <td>NaN</td>\n      <td></td>\n      <td>NaN</td>\n      <td>NaN</td>\n      <td>NaN</td>\n      <td>NaN</td>\n      <td>NaN</td>\n      <td>NNNNNNNNNNNNNNNNNNNNNNNNNNNNNNNNNNNNNNNNNNNNNN...</td>\n      <td></td>\n      <td>NaN</td>\n    </tr>\n  </tbody>\n</table>\n<p>1460611 rows × 16 columns</p>\n</div>"
     },
     "execution_count": 25,
     "metadata": {},
     "output_type": "execute_result"
    }
   ],
   "source": [
    "B_Satz2 = Funktion_B14_02(B_Satz2, \"B13\", \"B14\")\n",
    "\n",
    "B_Satz2"
   ],
   "metadata": {
    "collapsed": false,
    "ExecuteTime": {
     "end_time": "2023-10-03T15:55:09.924784300Z",
     "start_time": "2023-10-03T15:55:09.400981300Z"
    }
   },
   "id": "37f9a8b55d13df96"
  },
  {
   "cell_type": "code",
   "execution_count": 26,
   "outputs": [
    {
     "data": {
      "text/plain": "B14\nNNNNNNNNNNNNNNNNNNNNNNNNNNNNNNNNNNNNNNNNNNNNNNNNNN    1460558\nNYNNNNNNNNNNNNNNNNNNNNNNNNNNNNNNNNNNNNNNNNNNNNNNNN         51\nNNNNNYNNNNNNNNNNNNNNNNNNNNNNNNNNNNNNNNNNNNNNNNNNNN          2\nName: count, dtype: int64"
     },
     "execution_count": 26,
     "metadata": {},
     "output_type": "execute_result"
    }
   ],
   "source": [
    "B_Satz2 = Funktion_B14_Pos03(B_Satz2, DF_BP, \"B2\", \"KYDW0007O\", \"TPDW3386\", \"B14\")\n",
    "\n",
    "B_Satz2\n",
    "# Für die Unterposition B14_Pos.04 schreiben wir den festen Wert \"N\"\n",
    "\n",
    "# Aufruf der Funktion für Position B14_Pos.05.\"CGOV\", \"LGOV\" und \"SGOV\" werden in TPDW3386 geprüft\n",
    "# und entsprechend \"N\" durch \"Y\" an der 5. Stelle ersetzt\n",
    "\n",
    "B_Satz2 = Funktion_B14_05(B_Satz2, DF_BP, \"B2\", \"KYDW0007O\", \"TPDW3386\", \"B14\")\n",
    "\n",
    "B_Satz2\n",
    "\n",
    "# Aufruf der Funktion für Position B14_Pos.06. String, die \"K66.\" werden in DSDW0230 geprüft\n",
    "# und entsprechend \"N\" durch \"Y\" an der 6. Stelle ersetzt\n",
    "\n",
    "B_Satz2 = Funktion_B14_06(B_Satz2, \"B13\", \"B14\")\n",
    "\n",
    "B_Satz2\n",
    "\n",
    "# Aufruf der Funktion für Position B14_Pos.07. String, die \"PEN\" werden in \"TPDW3386\" geprüft\n",
    "# und entsprechend \"N\" durch \"Y\" an der 7. Stelle ersetzt\n",
    "\n",
    "B_Satz2 = Funktion_B14_07(B_Satz2, DF_BP, \"B2\", \"KYDW0007O\", \"TPDW3386\", \"B14\")\n",
    "\n",
    "B_Satz2\n",
    "\n",
    "# Aufruf der Funktion für Position B14_Pos.10. String, die \"PEN\" werden in \"TPDW3386\" geprüft\n",
    "# und entsprechend \"N\" durch \"Y\" an der 10. Stelle ersetzt\n",
    "\n",
    "B_Satz2 = Funktion_B14_Pos_10(B_Satz2, DF_MONLA, \"B2\", \"KYDWR5469O\", \"B14\")\n",
    "\n",
    "# Prüfen der Werte in B14\n",
    "\n",
    "B_Satz2.B14.value_counts()"
   ],
   "metadata": {
    "collapsed": false,
    "ExecuteTime": {
     "end_time": "2023-10-03T15:55:14.200534300Z",
     "start_time": "2023-10-03T15:55:09.947819Z"
    }
   },
   "id": "21ec6264d3424a9e"
  },
  {
   "cell_type": "code",
   "execution_count": 27,
   "outputs": [
    {
     "name": "stderr",
     "output_type": "stream",
     "text": [
      "C:\\Users\\Carina\\AppData\\Local\\Temp\\ipykernel_31156\\646464090.py:3: DtypeWarning: Columns (2,3,4,5,6,7,8,9,10,11,12,13,15,16) have mixed types. Specify dtype option on import or set low_memory=False.\n",
      "  DF1 = pd.read_csv(\"B_Satz.csv\", header=None)\n"
     ]
    },
    {
     "data": {
      "text/plain": "    0  1    2   3         4    5    6             7         8    9         10  \\\n1  0.0  A  165  10  100000.0  0.0  NaN  1392530000.0  00000000  NaN  00000000   \n\n             11       12        13   14   15   16  \n1  1330170000.0  5000000  50000000  0.0  0.0  0.0  ",
      "text/html": "<div>\n<style scoped>\n    .dataframe tbody tr th:only-of-type {\n        vertical-align: middle;\n    }\n\n    .dataframe tbody tr th {\n        vertical-align: top;\n    }\n\n    .dataframe thead th {\n        text-align: right;\n    }\n</style>\n<table border=\"1\" class=\"dataframe\">\n  <thead>\n    <tr style=\"text-align: right;\">\n      <th></th>\n      <th>0</th>\n      <th>1</th>\n      <th>2</th>\n      <th>3</th>\n      <th>4</th>\n      <th>5</th>\n      <th>6</th>\n      <th>7</th>\n      <th>8</th>\n      <th>9</th>\n      <th>10</th>\n      <th>11</th>\n      <th>12</th>\n      <th>13</th>\n      <th>14</th>\n      <th>15</th>\n      <th>16</th>\n    </tr>\n  </thead>\n  <tbody>\n    <tr>\n      <th>1</th>\n      <td>0.0</td>\n      <td>A</td>\n      <td>165</td>\n      <td>10</td>\n      <td>100000.0</td>\n      <td>0.0</td>\n      <td>NaN</td>\n      <td>1392530000.0</td>\n      <td>00000000</td>\n      <td>NaN</td>\n      <td>00000000</td>\n      <td>1330170000.0</td>\n      <td>5000000</td>\n      <td>50000000</td>\n      <td>0.0</td>\n      <td>0.0</td>\n      <td>0.0</td>\n    </tr>\n  </tbody>\n</table>\n</div>"
     },
     "execution_count": 27,
     "metadata": {},
     "output_type": "execute_result"
    }
   ],
   "source": [
    "DF1 = pd.DataFrame(B_Satz2)\n",
    "DF1.to_csv(path+\"/B_Satz.csv\")\n",
    "DF1 = DF1.tail(-1)\n",
    "DF1\n",
    "\n",
    "# A_Satz wird noch als DataFrame eingelesen und alle Spaltennamen werden entfernt\n",
    "\n",
    "DF2 = pd.DataFrame(A_Satz)\n",
    "DF2.to_csv(path+\"/A_Satz.csv\")\n",
    "DF2\n",
    "DF2 = DF2.tail(-1)\n",
    "DF2"
   ],
   "metadata": {
    "collapsed": false,
    "ExecuteTime": {
     "end_time": "2023-10-03T15:55:19.024546Z",
     "start_time": "2023-10-03T15:55:14.184506400Z"
    }
   },
   "id": "4ad135b4bbce1fae"
  },
  {
   "cell_type": "code",
   "execution_count": 28,
   "outputs": [
    {
     "data": {
      "text/plain": "        1                      2                                        3   \\\n0        A                    165                                       10   \n1        B  TRSRYDE1-BP/104044196  Volkswagen Bank GmbH Surcusal en Espana   \n2        B  TRSRYDE1-BP/104140197        Volkswagen Bank GmbH Milan Branch   \n3        B  TRSRYDE1-BP/104393282          Volkswagen Dogus Finansman A.S.   \n4        B  TRSRYDE1-BP/104413531                           Commerzbank AG   \n...     ..                    ...                                      ...   \n1460607  B                    NaN                                      NaN   \n1460608  B                    NaN                                      NaN   \n1460609  B                    NaN                                      NaN   \n1460610  B                    NaN                                      NaN   \n1460611  B                    NaN                                      NaN   \n\n               4    5    6                              7         8      9   \\\n0        100000.0  0.0  NaN                   1392530000.0  00000000    NaN   \n1             NaN  NaN  NaN              Av de Bruselas 34       NaN  28100   \n2             NaN  NaN  NaN              Via Grosio 10 / 4       NaN  20151   \n3             NaN  NaN  NaN  Baglar Cad. No.:14/A Ofispark       NaN  34406   \n4             NaN  NaN  NaN                    Kaiserplatz       NaN  60311   \n...           ...  ...  ...                            ...       ...    ...   \n1460607       NaN  NaN  NaN                            NaN       NaN    NaN   \n1460608       NaN  NaN  NaN                            NaN       NaN    NaN   \n1460609       NaN  NaN  NaN                            NaN       NaN    NaN   \n1460610       NaN  NaN  NaN                            NaN       NaN    NaN   \n1460611       NaN  NaN  NaN                            NaN       NaN    NaN   \n\n                          10            11       12        13  \\\n0                   00000000  1330170000.0  5000000  50000000   \n1        Alcobendas (Madrid)            ES      NaN    K64.19   \n2                     MILANO            IT      NaN    K64.19   \n3         Kagithane Istanbul            TR      NaN    K64.19   \n4          Frankfurt am Main            DE      NaN    K64.19   \n...                      ...           ...      ...       ...   \n1460607                  NaN           NaN      NaN       NaN   \n1460608                  NaN           NaN      NaN       NaN   \n1460609                  NaN           NaN      NaN       NaN   \n1460610                  NaN           NaN      NaN       NaN   \n1460611                  NaN           NaN      NaN       NaN   \n\n                                                        14   15   16  \n0                                                      0.0  0.0  0.0  \n1        NYNNNNNNNNNNNNNNNNNNNNNNNNNNNNNNNNNNNNNNNNNNNN...  NaN    N  \n2        NYNNNNNNNNNNNNNNNNNNNNNNNNNNNNNNNNNNNNNNNNNNNN...  NaN    N  \n3        NYNNNNNNNNNNNNNNNNNNNNNNNNNNNNNNNNNNNNNNNNNNNN...  NaN    N  \n4        NYNNNNNNNNNNNNNNNNNNNNNNNNNNNNNNNNNNNNNNNNNNNN...  NaN    N  \n...                                                    ...  ...  ...  \n1460607  NNNNNNNNNNNNNNNNNNNNNNNNNNNNNNNNNNNNNNNNNNNNNN...  NaN  NaN  \n1460608  NNNNNNNNNNNNNNNNNNNNNNNNNNNNNNNNNNNNNNNNNNNNNN...  NaN  NaN  \n1460609  NNNNNNNNNNNNNNNNNNNNNNNNNNNNNNNNNNNNNNNNNNNNNN...  NaN  NaN  \n1460610  NNNNNNNNNNNNNNNNNNNNNNNNNNNNNNNNNNNNNNNNNNNNNN...  NaN  NaN  \n1460611  NNNNNNNNNNNNNNNNNNNNNNNNNNNNNNNNNNNNNNNNNNNNNN...  NaN  NaN  \n\n[1460612 rows x 16 columns]",
      "text/html": "<div>\n<style scoped>\n    .dataframe tbody tr th:only-of-type {\n        vertical-align: middle;\n    }\n\n    .dataframe tbody tr th {\n        vertical-align: top;\n    }\n\n    .dataframe thead th {\n        text-align: right;\n    }\n</style>\n<table border=\"1\" class=\"dataframe\">\n  <thead>\n    <tr style=\"text-align: right;\">\n      <th></th>\n      <th>1</th>\n      <th>2</th>\n      <th>3</th>\n      <th>4</th>\n      <th>5</th>\n      <th>6</th>\n      <th>7</th>\n      <th>8</th>\n      <th>9</th>\n      <th>10</th>\n      <th>11</th>\n      <th>12</th>\n      <th>13</th>\n      <th>14</th>\n      <th>15</th>\n      <th>16</th>\n    </tr>\n  </thead>\n  <tbody>\n    <tr>\n      <th>0</th>\n      <td>A</td>\n      <td>165</td>\n      <td>10</td>\n      <td>100000.0</td>\n      <td>0.0</td>\n      <td>NaN</td>\n      <td>1392530000.0</td>\n      <td>00000000</td>\n      <td>NaN</td>\n      <td>00000000</td>\n      <td>1330170000.0</td>\n      <td>5000000</td>\n      <td>50000000</td>\n      <td>0.0</td>\n      <td>0.0</td>\n      <td>0.0</td>\n    </tr>\n    <tr>\n      <th>1</th>\n      <td>B</td>\n      <td>TRSRYDE1-BP/104044196</td>\n      <td>Volkswagen Bank GmbH Surcusal en Espana</td>\n      <td>NaN</td>\n      <td>NaN</td>\n      <td>NaN</td>\n      <td>Av de Bruselas 34</td>\n      <td>NaN</td>\n      <td>28100</td>\n      <td>Alcobendas (Madrid)</td>\n      <td>ES</td>\n      <td>NaN</td>\n      <td>K64.19</td>\n      <td>NYNNNNNNNNNNNNNNNNNNNNNNNNNNNNNNNNNNNNNNNNNNNN...</td>\n      <td>NaN</td>\n      <td>N</td>\n    </tr>\n    <tr>\n      <th>2</th>\n      <td>B</td>\n      <td>TRSRYDE1-BP/104140197</td>\n      <td>Volkswagen Bank GmbH Milan Branch</td>\n      <td>NaN</td>\n      <td>NaN</td>\n      <td>NaN</td>\n      <td>Via Grosio 10 / 4</td>\n      <td>NaN</td>\n      <td>20151</td>\n      <td>MILANO</td>\n      <td>IT</td>\n      <td>NaN</td>\n      <td>K64.19</td>\n      <td>NYNNNNNNNNNNNNNNNNNNNNNNNNNNNNNNNNNNNNNNNNNNNN...</td>\n      <td>NaN</td>\n      <td>N</td>\n    </tr>\n    <tr>\n      <th>3</th>\n      <td>B</td>\n      <td>TRSRYDE1-BP/104393282</td>\n      <td>Volkswagen Dogus Finansman A.S.</td>\n      <td>NaN</td>\n      <td>NaN</td>\n      <td>NaN</td>\n      <td>Baglar Cad. No.:14/A Ofispark</td>\n      <td>NaN</td>\n      <td>34406</td>\n      <td>Kagithane Istanbul</td>\n      <td>TR</td>\n      <td>NaN</td>\n      <td>K64.19</td>\n      <td>NYNNNNNNNNNNNNNNNNNNNNNNNNNNNNNNNNNNNNNNNNNNNN...</td>\n      <td>NaN</td>\n      <td>N</td>\n    </tr>\n    <tr>\n      <th>4</th>\n      <td>B</td>\n      <td>TRSRYDE1-BP/104413531</td>\n      <td>Commerzbank AG</td>\n      <td>NaN</td>\n      <td>NaN</td>\n      <td>NaN</td>\n      <td>Kaiserplatz</td>\n      <td>NaN</td>\n      <td>60311</td>\n      <td>Frankfurt am Main</td>\n      <td>DE</td>\n      <td>NaN</td>\n      <td>K64.19</td>\n      <td>NYNNNNNNNNNNNNNNNNNNNNNNNNNNNNNNNNNNNNNNNNNNNN...</td>\n      <td>NaN</td>\n      <td>N</td>\n    </tr>\n    <tr>\n      <th>...</th>\n      <td>...</td>\n      <td>...</td>\n      <td>...</td>\n      <td>...</td>\n      <td>...</td>\n      <td>...</td>\n      <td>...</td>\n      <td>...</td>\n      <td>...</td>\n      <td>...</td>\n      <td>...</td>\n      <td>...</td>\n      <td>...</td>\n      <td>...</td>\n      <td>...</td>\n      <td>...</td>\n    </tr>\n    <tr>\n      <th>1460607</th>\n      <td>B</td>\n      <td>NaN</td>\n      <td>NaN</td>\n      <td>NaN</td>\n      <td>NaN</td>\n      <td>NaN</td>\n      <td>NaN</td>\n      <td>NaN</td>\n      <td>NaN</td>\n      <td>NaN</td>\n      <td>NaN</td>\n      <td>NaN</td>\n      <td>NaN</td>\n      <td>NNNNNNNNNNNNNNNNNNNNNNNNNNNNNNNNNNNNNNNNNNNNNN...</td>\n      <td>NaN</td>\n      <td>NaN</td>\n    </tr>\n    <tr>\n      <th>1460608</th>\n      <td>B</td>\n      <td>NaN</td>\n      <td>NaN</td>\n      <td>NaN</td>\n      <td>NaN</td>\n      <td>NaN</td>\n      <td>NaN</td>\n      <td>NaN</td>\n      <td>NaN</td>\n      <td>NaN</td>\n      <td>NaN</td>\n      <td>NaN</td>\n      <td>NaN</td>\n      <td>NNNNNNNNNNNNNNNNNNNNNNNNNNNNNNNNNNNNNNNNNNNNNN...</td>\n      <td>NaN</td>\n      <td>NaN</td>\n    </tr>\n    <tr>\n      <th>1460609</th>\n      <td>B</td>\n      <td>NaN</td>\n      <td>NaN</td>\n      <td>NaN</td>\n      <td>NaN</td>\n      <td>NaN</td>\n      <td>NaN</td>\n      <td>NaN</td>\n      <td>NaN</td>\n      <td>NaN</td>\n      <td>NaN</td>\n      <td>NaN</td>\n      <td>NaN</td>\n      <td>NNNNNNNNNNNNNNNNNNNNNNNNNNNNNNNNNNNNNNNNNNNNNN...</td>\n      <td>NaN</td>\n      <td>NaN</td>\n    </tr>\n    <tr>\n      <th>1460610</th>\n      <td>B</td>\n      <td>NaN</td>\n      <td>NaN</td>\n      <td>NaN</td>\n      <td>NaN</td>\n      <td>NaN</td>\n      <td>NaN</td>\n      <td>NaN</td>\n      <td>NaN</td>\n      <td>NaN</td>\n      <td>NaN</td>\n      <td>NaN</td>\n      <td>NaN</td>\n      <td>NNNNNNNNNNNNNNNNNNNNNNNNNNNNNNNNNNNNNNNNNNNNNN...</td>\n      <td>NaN</td>\n      <td>NaN</td>\n    </tr>\n    <tr>\n      <th>1460611</th>\n      <td>B</td>\n      <td>NaN</td>\n      <td>NaN</td>\n      <td>NaN</td>\n      <td>NaN</td>\n      <td>NaN</td>\n      <td>NaN</td>\n      <td>NaN</td>\n      <td>NaN</td>\n      <td>NaN</td>\n      <td>NaN</td>\n      <td>NaN</td>\n      <td>NaN</td>\n      <td>NNNNNNNNNNNNNNNNNNNNNNNNNNNNNNNNNNNNNNNNNNNNNN...</td>\n      <td>NaN</td>\n      <td>NaN</td>\n    </tr>\n  </tbody>\n</table>\n<p>1460612 rows × 16 columns</p>\n</div>"
     },
     "execution_count": 28,
     "metadata": {},
     "output_type": "execute_result"
    }
   ],
   "source": [
    "import pandas as pd\n",
    "\n",
    "# Definiere ein neuen DataFrame, der die Spalten von DF1 und DF2 hat.\n",
    "# Hier bekommt DF2 einen neuen index so dass, die Spalten von DF2 in der gleichen Reihenfolge wie die Spalte von DF1 sind\n",
    "# Das heisst, dass neue Spalten mit None gefüllt werden in DF2 eingefügt\n",
    "DF_GroßerSatz = pd.concat([DF2, DF1.reindex(columns=DF1.columns)], ignore_index=True)\n",
    "# Entferne die erste Spalte\n",
    "DF_GroßerSatz = DF_GroßerSatz.iloc[:, 1:]\n",
    "\n",
    "# DF_GroßerSatz enthält jetzt die Daten aus beiden DataFrames, wobei fehlende Spalten in DF2 auf None gesetzt sind\n",
    "\n",
    "DF_GroßerSatz"
   ],
   "metadata": {
    "collapsed": false,
    "ExecuteTime": {
     "end_time": "2023-10-03T15:55:19.325515200Z",
     "start_time": "2023-10-03T15:55:19.018541100Z"
    }
   },
   "id": "daf2cebc9322a8c1"
  },
  {
   "cell_type": "code",
   "execution_count": 29,
   "outputs": [
    {
     "data": {
      "text/plain": "      KDW5082O          KDW5082               KDW0717 KDW0719  DTDW0001  \\\n0      DE1-BCA  1502713462_2007  DE1D-20230612-1-INT1    DE1D  20230612   \n1      DE1-BCA  1502713470_2007  DE1D-20230612-1-INT1    DE1D  20230612   \n2      DE1-BCA  1502713546_2007  DE1D-20230612-1-INT1    DE1D  20230612   \n3      DE1-BCA  1502713553_2007  DE1D-20230612-1-INT1    DE1D  20230612   \n4      DE1-BCA  1502713579_2007  DE1D-20230612-1-INT1    DE1D  20230612   \n...        ...              ...                   ...     ...       ...   \n38742  DE1-BCA  1503313718_2007  DE1D-20230612-1-INT1    DE1D  20230612   \n38743  DE1-BCA  1503313734_2007  DE1D-20230612-1-INT1    DE1D  20230612   \n38744  DE1-BCA  1503313742_2007  DE1D-20230612-1-INT1    DE1D  20230612   \n38745  DE1-BCA  1503313775_2007  DE1D-20230612-1-INT1    DE1D  20230612   \n38746  DE1-BCA  1503313825_2007  DE1D-20230612-1-INT1    DE1D  20230612   \n\n       DTDW5083  DTDW5084  DSDW5085 TPDW5086  TPDW5087  ...  TPDW5652  \\\n0      20071009  99991231       NaN      EUR       NaN  ...         N   \n1      20071009  99991231       NaN      EUR       NaN  ...         N   \n2      20071009  99991231       NaN      EUR       NaN  ...         N   \n3      20071009  99991231       NaN      EUR       NaN  ...         N   \n4      20071009  99991231       NaN      EUR       NaN  ...         N   \n...         ...       ...       ...      ...       ...  ...       ...   \n38742  20071126  99991231       NaN      EUR       NaN  ...         N   \n38743  20071126  99991231       NaN      EUR       NaN  ...         N   \n38744  20071126  99991231       NaN      EUR       NaN  ...         N   \n38745  20071126  99991231       NaN      EUR       NaN  ...         N   \n38746  20071126  99991231       NaN      EUR       NaN  ...         N   \n\n      TPDW5653  QUDW5660 UCDW5660  KMDORIGID        KMDPRODID FMDACTIVE  \\\n0          NaN         0       ST    DE1-REF  DE-Z1720-ZBK101         1   \n1          NaN         0       ST    DE1-REF  DE-Z1720-ZBK101         1   \n2          NaN         0       ST    DE1-REF  DE-Z1720-ZBK101         1   \n3          NaN         0       ST    DE1-REF  DE-Z1720-ZBK101         1   \n4          NaN         0       ST    DE1-REF  DE-Z1720-ZBK101         1   \n...        ...       ...      ...        ...              ...       ...   \n38742      NaN         0       ST    DE1-REF  DE-Z1720-ZBK101         1   \n38743      NaN         0       ST    DE1-REF  DE-Z1720-ZBK101         1   \n38744      NaN         0       ST    DE1-REF  DE-Z1720-ZBK101         1   \n38745      NaN         0       ST    DE1-REF  DE-Z1720-ZBK101         1   \n38746      NaN         0       ST    DE1-REF  DE-Z1720-ZBK101         1   \n\n        KMDPROTYP  TPMDPRCD      DSMDPRODN  \n0      07.02.2004       NaN  Plus Konto VW  \n1      07.02.2004       NaN  Plus Konto VW  \n2      07.02.2004       NaN  Plus Konto VW  \n3      07.02.2004       NaN  Plus Konto VW  \n4      07.02.2004       NaN  Plus Konto VW  \n...           ...       ...            ...  \n38742  07.02.2004       NaN  Plus Konto VW  \n38743  07.02.2004       NaN  Plus Konto VW  \n38744  07.02.2004       NaN  Plus Konto VW  \n38745  07.02.2004       NaN  Plus Konto VW  \n38746  07.02.2004       NaN  Plus Konto VW  \n\n[38747 rows x 146 columns]",
      "text/html": "<div>\n<style scoped>\n    .dataframe tbody tr th:only-of-type {\n        vertical-align: middle;\n    }\n\n    .dataframe tbody tr th {\n        vertical-align: top;\n    }\n\n    .dataframe thead th {\n        text-align: right;\n    }\n</style>\n<table border=\"1\" class=\"dataframe\">\n  <thead>\n    <tr style=\"text-align: right;\">\n      <th></th>\n      <th>KDW5082O</th>\n      <th>KDW5082</th>\n      <th>KDW0717</th>\n      <th>KDW0719</th>\n      <th>DTDW0001</th>\n      <th>DTDW5083</th>\n      <th>DTDW5084</th>\n      <th>DSDW5085</th>\n      <th>TPDW5086</th>\n      <th>TPDW5087</th>\n      <th>...</th>\n      <th>TPDW5652</th>\n      <th>TPDW5653</th>\n      <th>QUDW5660</th>\n      <th>UCDW5660</th>\n      <th>KMDORIGID</th>\n      <th>KMDPRODID</th>\n      <th>FMDACTIVE</th>\n      <th>KMDPROTYP</th>\n      <th>TPMDPRCD</th>\n      <th>DSMDPRODN</th>\n    </tr>\n  </thead>\n  <tbody>\n    <tr>\n      <th>0</th>\n      <td>DE1-BCA</td>\n      <td>1502713462_2007</td>\n      <td>DE1D-20230612-1-INT1</td>\n      <td>DE1D</td>\n      <td>20230612</td>\n      <td>20071009</td>\n      <td>99991231</td>\n      <td>NaN</td>\n      <td>EUR</td>\n      <td>NaN</td>\n      <td>...</td>\n      <td>N</td>\n      <td>NaN</td>\n      <td>0</td>\n      <td>ST</td>\n      <td>DE1-REF</td>\n      <td>DE-Z1720-ZBK101</td>\n      <td>1</td>\n      <td>07.02.2004</td>\n      <td>NaN</td>\n      <td>Plus Konto VW</td>\n    </tr>\n    <tr>\n      <th>1</th>\n      <td>DE1-BCA</td>\n      <td>1502713470_2007</td>\n      <td>DE1D-20230612-1-INT1</td>\n      <td>DE1D</td>\n      <td>20230612</td>\n      <td>20071009</td>\n      <td>99991231</td>\n      <td>NaN</td>\n      <td>EUR</td>\n      <td>NaN</td>\n      <td>...</td>\n      <td>N</td>\n      <td>NaN</td>\n      <td>0</td>\n      <td>ST</td>\n      <td>DE1-REF</td>\n      <td>DE-Z1720-ZBK101</td>\n      <td>1</td>\n      <td>07.02.2004</td>\n      <td>NaN</td>\n      <td>Plus Konto VW</td>\n    </tr>\n    <tr>\n      <th>2</th>\n      <td>DE1-BCA</td>\n      <td>1502713546_2007</td>\n      <td>DE1D-20230612-1-INT1</td>\n      <td>DE1D</td>\n      <td>20230612</td>\n      <td>20071009</td>\n      <td>99991231</td>\n      <td>NaN</td>\n      <td>EUR</td>\n      <td>NaN</td>\n      <td>...</td>\n      <td>N</td>\n      <td>NaN</td>\n      <td>0</td>\n      <td>ST</td>\n      <td>DE1-REF</td>\n      <td>DE-Z1720-ZBK101</td>\n      <td>1</td>\n      <td>07.02.2004</td>\n      <td>NaN</td>\n      <td>Plus Konto VW</td>\n    </tr>\n    <tr>\n      <th>3</th>\n      <td>DE1-BCA</td>\n      <td>1502713553_2007</td>\n      <td>DE1D-20230612-1-INT1</td>\n      <td>DE1D</td>\n      <td>20230612</td>\n      <td>20071009</td>\n      <td>99991231</td>\n      <td>NaN</td>\n      <td>EUR</td>\n      <td>NaN</td>\n      <td>...</td>\n      <td>N</td>\n      <td>NaN</td>\n      <td>0</td>\n      <td>ST</td>\n      <td>DE1-REF</td>\n      <td>DE-Z1720-ZBK101</td>\n      <td>1</td>\n      <td>07.02.2004</td>\n      <td>NaN</td>\n      <td>Plus Konto VW</td>\n    </tr>\n    <tr>\n      <th>4</th>\n      <td>DE1-BCA</td>\n      <td>1502713579_2007</td>\n      <td>DE1D-20230612-1-INT1</td>\n      <td>DE1D</td>\n      <td>20230612</td>\n      <td>20071009</td>\n      <td>99991231</td>\n      <td>NaN</td>\n      <td>EUR</td>\n      <td>NaN</td>\n      <td>...</td>\n      <td>N</td>\n      <td>NaN</td>\n      <td>0</td>\n      <td>ST</td>\n      <td>DE1-REF</td>\n      <td>DE-Z1720-ZBK101</td>\n      <td>1</td>\n      <td>07.02.2004</td>\n      <td>NaN</td>\n      <td>Plus Konto VW</td>\n    </tr>\n    <tr>\n      <th>...</th>\n      <td>...</td>\n      <td>...</td>\n      <td>...</td>\n      <td>...</td>\n      <td>...</td>\n      <td>...</td>\n      <td>...</td>\n      <td>...</td>\n      <td>...</td>\n      <td>...</td>\n      <td>...</td>\n      <td>...</td>\n      <td>...</td>\n      <td>...</td>\n      <td>...</td>\n      <td>...</td>\n      <td>...</td>\n      <td>...</td>\n      <td>...</td>\n      <td>...</td>\n      <td>...</td>\n    </tr>\n    <tr>\n      <th>38742</th>\n      <td>DE1-BCA</td>\n      <td>1503313718_2007</td>\n      <td>DE1D-20230612-1-INT1</td>\n      <td>DE1D</td>\n      <td>20230612</td>\n      <td>20071126</td>\n      <td>99991231</td>\n      <td>NaN</td>\n      <td>EUR</td>\n      <td>NaN</td>\n      <td>...</td>\n      <td>N</td>\n      <td>NaN</td>\n      <td>0</td>\n      <td>ST</td>\n      <td>DE1-REF</td>\n      <td>DE-Z1720-ZBK101</td>\n      <td>1</td>\n      <td>07.02.2004</td>\n      <td>NaN</td>\n      <td>Plus Konto VW</td>\n    </tr>\n    <tr>\n      <th>38743</th>\n      <td>DE1-BCA</td>\n      <td>1503313734_2007</td>\n      <td>DE1D-20230612-1-INT1</td>\n      <td>DE1D</td>\n      <td>20230612</td>\n      <td>20071126</td>\n      <td>99991231</td>\n      <td>NaN</td>\n      <td>EUR</td>\n      <td>NaN</td>\n      <td>...</td>\n      <td>N</td>\n      <td>NaN</td>\n      <td>0</td>\n      <td>ST</td>\n      <td>DE1-REF</td>\n      <td>DE-Z1720-ZBK101</td>\n      <td>1</td>\n      <td>07.02.2004</td>\n      <td>NaN</td>\n      <td>Plus Konto VW</td>\n    </tr>\n    <tr>\n      <th>38744</th>\n      <td>DE1-BCA</td>\n      <td>1503313742_2007</td>\n      <td>DE1D-20230612-1-INT1</td>\n      <td>DE1D</td>\n      <td>20230612</td>\n      <td>20071126</td>\n      <td>99991231</td>\n      <td>NaN</td>\n      <td>EUR</td>\n      <td>NaN</td>\n      <td>...</td>\n      <td>N</td>\n      <td>NaN</td>\n      <td>0</td>\n      <td>ST</td>\n      <td>DE1-REF</td>\n      <td>DE-Z1720-ZBK101</td>\n      <td>1</td>\n      <td>07.02.2004</td>\n      <td>NaN</td>\n      <td>Plus Konto VW</td>\n    </tr>\n    <tr>\n      <th>38745</th>\n      <td>DE1-BCA</td>\n      <td>1503313775_2007</td>\n      <td>DE1D-20230612-1-INT1</td>\n      <td>DE1D</td>\n      <td>20230612</td>\n      <td>20071126</td>\n      <td>99991231</td>\n      <td>NaN</td>\n      <td>EUR</td>\n      <td>NaN</td>\n      <td>...</td>\n      <td>N</td>\n      <td>NaN</td>\n      <td>0</td>\n      <td>ST</td>\n      <td>DE1-REF</td>\n      <td>DE-Z1720-ZBK101</td>\n      <td>1</td>\n      <td>07.02.2004</td>\n      <td>NaN</td>\n      <td>Plus Konto VW</td>\n    </tr>\n    <tr>\n      <th>38746</th>\n      <td>DE1-BCA</td>\n      <td>1503313825_2007</td>\n      <td>DE1D-20230612-1-INT1</td>\n      <td>DE1D</td>\n      <td>20230612</td>\n      <td>20071126</td>\n      <td>99991231</td>\n      <td>NaN</td>\n      <td>EUR</td>\n      <td>NaN</td>\n      <td>...</td>\n      <td>N</td>\n      <td>NaN</td>\n      <td>0</td>\n      <td>ST</td>\n      <td>DE1-REF</td>\n      <td>DE-Z1720-ZBK101</td>\n      <td>1</td>\n      <td>07.02.2004</td>\n      <td>NaN</td>\n      <td>Plus Konto VW</td>\n    </tr>\n  </tbody>\n</table>\n<p>38747 rows × 146 columns</p>\n</div>"
     },
     "execution_count": 29,
     "metadata": {},
     "output_type": "execute_result"
    }
   ],
   "source": [
    "DF_merg3 = DF_Liab.merge(DF_PRO, left_on=\"KDWR5097\", right_on=\"KMDPRODID\", how=\"left\")\n",
    "\n",
    "DF_merg3"
   ],
   "metadata": {
    "collapsed": false,
    "ExecuteTime": {
     "end_time": "2023-10-03T15:55:19.380448700Z",
     "start_time": "2023-10-03T15:55:19.325011Z"
    }
   },
   "id": "2674d9b0983ded7"
  },
  {
   "cell_type": "code",
   "execution_count": 30,
   "outputs": [
    {
     "name": "stdout",
     "output_type": "stream",
     "text": [
      "1        DE1-ZGP/100017936\n",
      "2        DE1-ZGP/100022577\n",
      "3        DE1-ZGP/100023062\n",
      "4         DE1-ZGP/10002975\n",
      "5         DE1-ZGP/10003290\n",
      "               ...        \n",
      "63506     DE1-ZGP/77974060\n",
      "63507     DE1-ZGP/77974896\n",
      "63508     DE1-ZGP/77974952\n",
      "63509     DE1-ZGP/77975640\n",
      "63510      DE1-ZGP/7797902\n",
      "Name: KYDWR5088O, Length: 33150, dtype: object\n"
     ]
    }
   ],
   "source": [
    "\n",
    "\n",
    "# Merge der Cancellation- und Liability-Entität für C26\n",
    "\n",
    "DF_C_MERGED = None\n",
    "C_liab = pd.DataFrame([[''] * 27], index=range(0, 1460610), columns=[\"C{}\".format(i) for i in range(1, 28)])\n",
    "C_liab[\"C1\"] = \"C\"\n",
    "C_liab[\"C2B\"] = DF_Liab[\"KDW5082\"]\n",
    "C_liab.dropna(subset=\"C2B\", inplace=True)\n",
    "DF = DF_BPact[DF_BPact[\"TPDW5090\"] == \"CR\"]\n",
    "\n",
    "DF = DF[[\"KDWR5089\", \"KYDWR5088O\"]]\n",
    "\n",
    "C_liab = C_liab.merge(DF, left_on=\"C2B\", right_on=\"KDWR5089\")  #war: left soll inner\n",
    "DF_merged10 = DF_Liab.merge(BP_CANLA, left_on=\"KDW5082\", right_on=\"KDWR5000\", how=\"left\")  #muss left\n",
    "\n",
    "print(DF[\"KYDWR5088O\"])\n",
    "C_liab[\"C4\"] = func_neu_C4(DF_Liab, DF_BPact, \"KDW5082\", \"KDWR5089\", \"TPDW5090\")\n",
    "C_liab[\"C5\"] = func_neu_C5(DF_Liab, DF_BPact, \"KDW5082\", \"KDWR5089\", \"TPDW5090\")\n",
    "C_liab[\"C6\"] = naechsterwert2(DF_Liab, \"KDW5082\", \"DTDW5113\").apply(lambda x: str(int(x)) if not pd.isnull(x) else x)  # [\"DTDW5113\" for \"DTDW5113\" in DF_Liab.set_index(\"KDW5082\").columns]  # DF_Liab[\"DTDW5113\"].sort_values(\"KDW5082\")                                        #S-Verweis: Suche aus PLIABA den Vertrag (KYDW5082) und das dazugehörige Datum DTDW5113 und schreibe es in C6\n",
    "C_liab[\"C7\"] = naechsterwert2(DF_merg3, \"KDW5082\", \"DSMDPRODN\")  # Sverweis(DF_Liab,DF_PRO, \"KDW5082\", \"KDWR5097\", DF_Liab, DF_PRO,\"KMDPRODID\", \"TPMDPPRCD\", \"KDW5082\" )\n",
    "C_liab[\"C8\"] = naechsterwert2(DF_Liab, \"KDW5082\", \"UCDW5105\")\n",
    "C_liab[\"C9\"] = naechsterwert2(DF_Liab, \"KDW5082\", \"ATDW5105\")  # naechsterwert2(DF_Liab, \"KDW5082\", \"ATDW5105\").apply(lambda x:-x)                                                            # DF_Liab[DF_Liab[\"KDW5082\"].isin(DF_Liab[\"KDW5082\"])]DF_Liab[\"ATDW5105\"].apply(lambda x: -x if x > 0 else x)\n",
    "C_liab[\"C10\"] = \"{:,.5f}\".format(100000 / 100000)  # 1.00000                                                            #naechsterwert2(DF_Liab, \"KDW5082\", \"TPDW5086\")\n",
    "C_liab[\"C11\"] = C_liab[\"C9\"].astype(float) * C_liab[\"C10\"].astype(float)\n",
    "C_liab[\"C12\"] = naechsterwert2(DF_Liab, \"KDW5082\", \"QUDW5537\").astype(str) + DF_Liab[\"UCDW5537\"]\n",
    "C_liab[\"C13\"] = \"X\"\n",
    "C_liab[\"C14\"] = naechsterwert2(DF_Liab, \"KDW5082\", \"DTDW5084\")\n",
    "C_liab[\"C15\"] = Funktion_C15(C_liab, DF_Liab, \"C2B\", \"KDW5082\", \"QUDW5182\", \"C15\")\n",
    "C_liab[\"C16\"] = naechsterwert2(DF_Liab, \"KDW5082\", \"TPDW5562\")\n",
    "C_liab[\"C17\"] = naechsterwert2(DF_Liab, \"KDW5082\", \"ATDW5107\")\n",
    "C_liab[\"C18\"] = C_liab[\"C10\"].astype(float) * C_liab[\"C17\"].astype(float)\n",
    "C_liab[\"C19\"] = C_liab[\"C18\"].astype(float) + C_liab[\"C11\"].astype(float)  # C_liab[\"C11\"] + C_liab[\"C18\"]\n",
    "C_liab[\"C20\"] = \"N\" * 50  # C_Pos[[\"C_Pos{}\".format(i) for i in range(1, 51)]].astype(str).agg(\"\".join, axis = 1)\n",
    "C_liab[\"C21\"] = \"N\" * 50  # C_Pos[[\"C_Pos{}\".format(i) for i in range(1, 51)]].astype(str).agg(\"\".join, axis = 1)\n",
    "C_liab[\"C22\"] = \"DE\"\n",
    "C_liab[\"C23\"] = \"\"\n",
    "C_liab[\"C25\"] = naechsterwert2(DF_Liab, \"KDW5082\", \"QUDW5094\")\n",
    "C_liab.rename(columns={\"KYDWR5088O\": \"C2A\"}, inplace=True)\n"
   ],
   "metadata": {
    "collapsed": false,
    "ExecuteTime": {
     "end_time": "2023-10-03T15:55:19.882414500Z",
     "start_time": "2023-10-03T15:55:19.360432300Z"
    }
   },
   "id": "51fe37efb7da2acd"
  },
  {
   "cell_type": "code",
   "execution_count": 31,
   "outputs": [],
   "source": [
    "def set_C24_value(row):\n",
    "    #return the value in column \"DTDW5484\" related to the corresponding value of C2B in DF_Liab in the column \"KDW5082\"\n",
    "    return DF_Liab.loc[DF_Liab[\"KDW5082\"] == row[\"C2B\"], \"DTDW5484\"].values[0]\n",
    "\n",
    "\n",
    "C_liab[\"C24\"] = C_liab.apply(set_C24_value, axis=1)"
   ],
   "metadata": {
    "collapsed": false,
    "ExecuteTime": {
     "end_time": "2023-10-03T15:55:21.005995100Z",
     "start_time": "2023-10-03T15:55:19.864254400Z"
    }
   },
   "id": "19fc7f313db245e1"
  },
  {
   "cell_type": "code",
   "execution_count": 32,
   "outputs": [
    {
     "data": {
      "text/plain": "0      None\n1      None\n2      None\n3      None\n4      None\n       ... \n882    None\n883    None\n884    None\n885    None\n886    None\nName: C26, Length: 887, dtype: object"
     },
     "execution_count": 32,
     "metadata": {},
     "output_type": "execute_result"
    }
   ],
   "source": [
    "def set_C26_value(row):\n",
    "    if row[\"C20\"][44] == \"Y\":\n",
    "        #get the value from DF CANELA where KDWR5000 = C2B\n",
    "        return BP_CANLA.loc(row[\"C2B\"], \"ATDW5156\")\n",
    "    else:\n",
    "        return None\n",
    "\n",
    "\n",
    "C_liab[\"C26\"] = C_liab.apply(set_C26_value, axis=1)\n",
    "C_liab[\"C26\"]"
   ],
   "metadata": {
    "collapsed": false,
    "ExecuteTime": {
     "end_time": "2023-10-03T15:55:21.006500800Z",
     "start_time": "2023-10-03T15:55:20.997683500Z"
    }
   },
   "id": "8524dba9fab20f57"
  },
  {
   "cell_type": "code",
   "execution_count": 33,
   "outputs": [
    {
     "data": {
      "text/plain": "0      90\n1      90\n2      90\n3      90\n4      90\n       ..\n882    90\n883    90\n884    90\n885    90\n886    90\nName: C27, Length: 887, dtype: object"
     },
     "execution_count": 33,
     "metadata": {},
     "output_type": "execute_result"
    }
   ],
   "source": [
    "def set_C27_value(row):\n",
    "    # Wert: 90 - Ohne Ausschluss\n",
    "\n",
    "    #finde die reihe aus B wo B2 = C2A\n",
    "    #wenn B14 = N und C20 = N dann 90\n",
    "    b_row_14 = B_Satz2.loc[B_Satz2['B2'] == row['C2A'], \"B14\"]\n",
    "    if all(b_row_14 == 'N') and all(c_values == \"N\" for c_values in row[\"C20\"]):\n",
    "        return '90'\n",
    "\n",
    "    # Wert: 01 - Ausschluss nur nach EinSiG\n",
    "    if any(b_row_14[0:15].count(\"Y\") > 0) and all(c_values == \"N\" for c_values in b_row_14[15:50]) and all(c == 'N' for c in row['C20'][10:50]):\n",
    "        return '01'\n",
    "    elif row['C20'][0:10].count('Y') > 0 and all(c == 'N' for c in row['C20'][10:50]) and all(c == 'N' for c in b_row_14[15:50]):\n",
    "        # do something\n",
    "        return '01'\n",
    "\n",
    "    # Wert: 20 - Ausschluss nur nach ESF-Statut\n",
    "    if any(b_row_14[30:50].count(\"Y\") > 0) and all(c == \"N\" for c in b_row_14[0:30]) and all(c == \"N\" for c in row['C20'][0:30]):\n",
    "        return '20'\n",
    "    elif any(row['C20'][30:50].count(\"Y\") > 0) and all(c == 'N' for c in row['C20'][0:30]) and all(c == 'N' for c in b_row_14[0:30]):\n",
    "        return '20'\n",
    "\n",
    "    # Wert: 11 - Ausschluss \"Bagatellgrenze\" nach EinSiG und ESF-Statut\n",
    "    if all(c == 'N' for c in row['C20'][1:49]) and row['C20'][49] == 'Y':\n",
    "        return '11'\n",
    "\n",
    "    # Wert: 10 - Ausschluss nach EinSiG und ESF-Statut (alle anderen Fälle)\n",
    "    return '10'\n",
    "\n",
    "\n",
    "B_Satz2\n",
    "# Anwenden der Funktion auf den DataFrame\n",
    "C_liab['C27'] = C_liab.apply(set_C27_value, axis=1)\n",
    "C_liab['C27']"
   ],
   "metadata": {
    "collapsed": false,
    "ExecuteTime": {
     "end_time": "2023-10-03T15:55:32.585691700Z",
     "start_time": "2023-10-03T15:55:21.007002Z"
    }
   },
   "id": "490056c26ca2a72a"
  },
  {
   "cell_type": "code",
   "execution_count": 34,
   "outputs": [
    {
     "data": {
      "text/plain": "    C1               C2A              C2B C3 C4  C5        C6             C7  \\\n0    C  DE1-ZGP/32965442  1502713637_2007     N   0  20071009  Plus Konto VW   \n1    C  DE1-ZGP/37624918  1502715053_2007     N   0  20071009  Plus Konto VW   \n2    C  DE1-ZGP/36267765  1502715103_2007     N   0  20071009  Plus Konto VW   \n3    C  DE1-ZGP/36192094  1502715558_2007     N   0  20071009  Plus Konto VW   \n4    C  DE1-ZGP/37625217  1502715962_2007     N   0  20071009  Plus Konto VW   \n..  ..               ...              ... .. ..  ..       ...            ...   \n882  C    DE1-ZGP/879064  1503754572_2007     N   0  20071009  Plus Konto VW   \n883  C  DE1-ZGP/20913091  1503754929_2007     N   0  20071009  Plus Konto VW   \n884  C  DE1-ZGP/29350481  1503754945_2007     N   0  20071009  Plus Konto VW   \n885  C  DE1-ZGP/83319045  1503311415_2007     N   0  20071009  Plus Konto VW   \n886  C  DE1-ZGP/83628474  1503313650_2007     N   0  20071009  Plus Konto VW   \n\n      C8        C9  ...  C18       C19  \\\n0    EUR   2553.97  ...  0.0   2553.97   \n1    EUR   7014.78  ...  0.0   7014.78   \n2    EUR     14.97  ...  0.0     14.97   \n3    EUR  27814.72  ...  0.0  27814.72   \n4    EUR     17.68  ...  0.0     17.68   \n..   ...       ...  ...  ...       ...   \n882  EUR  89436.18  ...  0.0  89436.18   \n883  EUR     41.09  ...  0.0     41.09   \n884  EUR  29686.24  ...  0.0  29686.24   \n885  EUR      0.00  ...  0.0      0.00   \n886  EUR   1133.71  ...  0.0   1133.71   \n\n                                                   C20  \\\n0    NNNNNNNNNNNNNNNNNNNNNNNNNNNNNNNNNNNNNNNNNNNNNN...   \n1    NNNNNNNNNNNNNNNNNNNNNNNNNNNNNNNNNNNNNNNNNNNNNN...   \n2    NNNNNNNNNNNNNNNNNNNNNNNNNNNNNNNNNNNNNNNNNNNNNN...   \n3    NNNNNNNNNNNNNNNNNNNNNNNNNNNNNNNNNNNNNNNNNNNNNN...   \n4    NNNNNNNNNNNNNNNNNNNNNNNNNNNNNNNNNNNNNNNNNNNNNN...   \n..                                                 ...   \n882  NNNNNNNNNNNNNNNNNNNNNNNNNNNNNNNNNNNNNNNNNNNNNN...   \n883  NNNNNNNNNNNNNNNNNNNNNNNNNNNNNNNNNNNNNNNNNNNNNN...   \n884  NNNNNNNNNNNNNNNNNNNNNNNNNNNNNNNNNNNNNNNNNNNNNN...   \n885  NNNNNNNNNNNNNNNNNNNNNNNNNNNNNNNNNNNNNNNNNNNNNN...   \n886  NNNNNNNNNNNNNNNNNNNNNNNNNNNNNNNNNNNNNNNNNNNNNN...   \n\n                                                   C21  C22 C23  C24  C25  \\\n0    NNNNNNNNNNNNNNNNNNNNNNNNNNNNNNNNNNNNNNNNNNNNNN...   DE      NaN    0   \n1    NNNNNNNNNNNNNNNNNNNNNNNNNNNNNNNNNNNNNNNNNNNNNN...   DE      NaN    0   \n2    NNNNNNNNNNNNNNNNNNNNNNNNNNNNNNNNNNNNNNNNNNNNNN...   DE      NaN    0   \n3    NNNNNNNNNNNNNNNNNNNNNNNNNNNNNNNNNNNNNNNNNNNNNN...   DE      NaN    0   \n4    NNNNNNNNNNNNNNNNNNNNNNNNNNNNNNNNNNNNNNNNNNNNNN...   DE      NaN    0   \n..                                                 ...  ...  ..  ...  ...   \n882  NNNNNNNNNNNNNNNNNNNNNNNNNNNNNNNNNNNNNNNNNNNNNN...   DE      NaN    0   \n883  NNNNNNNNNNNNNNNNNNNNNNNNNNNNNNNNNNNNNNNNNNNNNN...   DE      NaN    0   \n884  NNNNNNNNNNNNNNNNNNNNNNNNNNNNNNNNNNNNNNNNNNNNNN...   DE      NaN    0   \n885  NNNNNNNNNNNNNNNNNNNNNNNNNNNNNNNNNNNNNNNNNNNNNN...   DE      NaN    0   \n886  NNNNNNNNNNNNNNNNNNNNNNNNNNNNNNNNNNNNNNNNNNNNNN...   DE      NaN    0   \n\n      C26  C27  \n0    None   90  \n1    None   90  \n2    None   90  \n3    None   90  \n4    None   90  \n..    ...  ...  \n882  None   90  \n883  None   90  \n884  None   90  \n885  None   90  \n886  None   90  \n\n[887 rows x 28 columns]",
      "text/html": "<div>\n<style scoped>\n    .dataframe tbody tr th:only-of-type {\n        vertical-align: middle;\n    }\n\n    .dataframe tbody tr th {\n        vertical-align: top;\n    }\n\n    .dataframe thead th {\n        text-align: right;\n    }\n</style>\n<table border=\"1\" class=\"dataframe\">\n  <thead>\n    <tr style=\"text-align: right;\">\n      <th></th>\n      <th>C1</th>\n      <th>C2A</th>\n      <th>C2B</th>\n      <th>C3</th>\n      <th>C4</th>\n      <th>C5</th>\n      <th>C6</th>\n      <th>C7</th>\n      <th>C8</th>\n      <th>C9</th>\n      <th>...</th>\n      <th>C18</th>\n      <th>C19</th>\n      <th>C20</th>\n      <th>C21</th>\n      <th>C22</th>\n      <th>C23</th>\n      <th>C24</th>\n      <th>C25</th>\n      <th>C26</th>\n      <th>C27</th>\n    </tr>\n  </thead>\n  <tbody>\n    <tr>\n      <th>0</th>\n      <td>C</td>\n      <td>DE1-ZGP/32965442</td>\n      <td>1502713637_2007</td>\n      <td></td>\n      <td>N</td>\n      <td>0</td>\n      <td>20071009</td>\n      <td>Plus Konto VW</td>\n      <td>EUR</td>\n      <td>2553.97</td>\n      <td>...</td>\n      <td>0.0</td>\n      <td>2553.97</td>\n      <td>NNNNNNNNNNNNNNNNNNNNNNNNNNNNNNNNNNNNNNNNNNNNNN...</td>\n      <td>NNNNNNNNNNNNNNNNNNNNNNNNNNNNNNNNNNNNNNNNNNNNNN...</td>\n      <td>DE</td>\n      <td></td>\n      <td>NaN</td>\n      <td>0</td>\n      <td>None</td>\n      <td>90</td>\n    </tr>\n    <tr>\n      <th>1</th>\n      <td>C</td>\n      <td>DE1-ZGP/37624918</td>\n      <td>1502715053_2007</td>\n      <td></td>\n      <td>N</td>\n      <td>0</td>\n      <td>20071009</td>\n      <td>Plus Konto VW</td>\n      <td>EUR</td>\n      <td>7014.78</td>\n      <td>...</td>\n      <td>0.0</td>\n      <td>7014.78</td>\n      <td>NNNNNNNNNNNNNNNNNNNNNNNNNNNNNNNNNNNNNNNNNNNNNN...</td>\n      <td>NNNNNNNNNNNNNNNNNNNNNNNNNNNNNNNNNNNNNNNNNNNNNN...</td>\n      <td>DE</td>\n      <td></td>\n      <td>NaN</td>\n      <td>0</td>\n      <td>None</td>\n      <td>90</td>\n    </tr>\n    <tr>\n      <th>2</th>\n      <td>C</td>\n      <td>DE1-ZGP/36267765</td>\n      <td>1502715103_2007</td>\n      <td></td>\n      <td>N</td>\n      <td>0</td>\n      <td>20071009</td>\n      <td>Plus Konto VW</td>\n      <td>EUR</td>\n      <td>14.97</td>\n      <td>...</td>\n      <td>0.0</td>\n      <td>14.97</td>\n      <td>NNNNNNNNNNNNNNNNNNNNNNNNNNNNNNNNNNNNNNNNNNNNNN...</td>\n      <td>NNNNNNNNNNNNNNNNNNNNNNNNNNNNNNNNNNNNNNNNNNNNNN...</td>\n      <td>DE</td>\n      <td></td>\n      <td>NaN</td>\n      <td>0</td>\n      <td>None</td>\n      <td>90</td>\n    </tr>\n    <tr>\n      <th>3</th>\n      <td>C</td>\n      <td>DE1-ZGP/36192094</td>\n      <td>1502715558_2007</td>\n      <td></td>\n      <td>N</td>\n      <td>0</td>\n      <td>20071009</td>\n      <td>Plus Konto VW</td>\n      <td>EUR</td>\n      <td>27814.72</td>\n      <td>...</td>\n      <td>0.0</td>\n      <td>27814.72</td>\n      <td>NNNNNNNNNNNNNNNNNNNNNNNNNNNNNNNNNNNNNNNNNNNNNN...</td>\n      <td>NNNNNNNNNNNNNNNNNNNNNNNNNNNNNNNNNNNNNNNNNNNNNN...</td>\n      <td>DE</td>\n      <td></td>\n      <td>NaN</td>\n      <td>0</td>\n      <td>None</td>\n      <td>90</td>\n    </tr>\n    <tr>\n      <th>4</th>\n      <td>C</td>\n      <td>DE1-ZGP/37625217</td>\n      <td>1502715962_2007</td>\n      <td></td>\n      <td>N</td>\n      <td>0</td>\n      <td>20071009</td>\n      <td>Plus Konto VW</td>\n      <td>EUR</td>\n      <td>17.68</td>\n      <td>...</td>\n      <td>0.0</td>\n      <td>17.68</td>\n      <td>NNNNNNNNNNNNNNNNNNNNNNNNNNNNNNNNNNNNNNNNNNNNNN...</td>\n      <td>NNNNNNNNNNNNNNNNNNNNNNNNNNNNNNNNNNNNNNNNNNNNNN...</td>\n      <td>DE</td>\n      <td></td>\n      <td>NaN</td>\n      <td>0</td>\n      <td>None</td>\n      <td>90</td>\n    </tr>\n    <tr>\n      <th>...</th>\n      <td>...</td>\n      <td>...</td>\n      <td>...</td>\n      <td>...</td>\n      <td>...</td>\n      <td>...</td>\n      <td>...</td>\n      <td>...</td>\n      <td>...</td>\n      <td>...</td>\n      <td>...</td>\n      <td>...</td>\n      <td>...</td>\n      <td>...</td>\n      <td>...</td>\n      <td>...</td>\n      <td>...</td>\n      <td>...</td>\n      <td>...</td>\n      <td>...</td>\n      <td>...</td>\n    </tr>\n    <tr>\n      <th>882</th>\n      <td>C</td>\n      <td>DE1-ZGP/879064</td>\n      <td>1503754572_2007</td>\n      <td></td>\n      <td>N</td>\n      <td>0</td>\n      <td>20071009</td>\n      <td>Plus Konto VW</td>\n      <td>EUR</td>\n      <td>89436.18</td>\n      <td>...</td>\n      <td>0.0</td>\n      <td>89436.18</td>\n      <td>NNNNNNNNNNNNNNNNNNNNNNNNNNNNNNNNNNNNNNNNNNNNNN...</td>\n      <td>NNNNNNNNNNNNNNNNNNNNNNNNNNNNNNNNNNNNNNNNNNNNNN...</td>\n      <td>DE</td>\n      <td></td>\n      <td>NaN</td>\n      <td>0</td>\n      <td>None</td>\n      <td>90</td>\n    </tr>\n    <tr>\n      <th>883</th>\n      <td>C</td>\n      <td>DE1-ZGP/20913091</td>\n      <td>1503754929_2007</td>\n      <td></td>\n      <td>N</td>\n      <td>0</td>\n      <td>20071009</td>\n      <td>Plus Konto VW</td>\n      <td>EUR</td>\n      <td>41.09</td>\n      <td>...</td>\n      <td>0.0</td>\n      <td>41.09</td>\n      <td>NNNNNNNNNNNNNNNNNNNNNNNNNNNNNNNNNNNNNNNNNNNNNN...</td>\n      <td>NNNNNNNNNNNNNNNNNNNNNNNNNNNNNNNNNNNNNNNNNNNNNN...</td>\n      <td>DE</td>\n      <td></td>\n      <td>NaN</td>\n      <td>0</td>\n      <td>None</td>\n      <td>90</td>\n    </tr>\n    <tr>\n      <th>884</th>\n      <td>C</td>\n      <td>DE1-ZGP/29350481</td>\n      <td>1503754945_2007</td>\n      <td></td>\n      <td>N</td>\n      <td>0</td>\n      <td>20071009</td>\n      <td>Plus Konto VW</td>\n      <td>EUR</td>\n      <td>29686.24</td>\n      <td>...</td>\n      <td>0.0</td>\n      <td>29686.24</td>\n      <td>NNNNNNNNNNNNNNNNNNNNNNNNNNNNNNNNNNNNNNNNNNNNNN...</td>\n      <td>NNNNNNNNNNNNNNNNNNNNNNNNNNNNNNNNNNNNNNNNNNNNNN...</td>\n      <td>DE</td>\n      <td></td>\n      <td>NaN</td>\n      <td>0</td>\n      <td>None</td>\n      <td>90</td>\n    </tr>\n    <tr>\n      <th>885</th>\n      <td>C</td>\n      <td>DE1-ZGP/83319045</td>\n      <td>1503311415_2007</td>\n      <td></td>\n      <td>N</td>\n      <td>0</td>\n      <td>20071009</td>\n      <td>Plus Konto VW</td>\n      <td>EUR</td>\n      <td>0.00</td>\n      <td>...</td>\n      <td>0.0</td>\n      <td>0.00</td>\n      <td>NNNNNNNNNNNNNNNNNNNNNNNNNNNNNNNNNNNNNNNNNNNNNN...</td>\n      <td>NNNNNNNNNNNNNNNNNNNNNNNNNNNNNNNNNNNNNNNNNNNNNN...</td>\n      <td>DE</td>\n      <td></td>\n      <td>NaN</td>\n      <td>0</td>\n      <td>None</td>\n      <td>90</td>\n    </tr>\n    <tr>\n      <th>886</th>\n      <td>C</td>\n      <td>DE1-ZGP/83628474</td>\n      <td>1503313650_2007</td>\n      <td></td>\n      <td>N</td>\n      <td>0</td>\n      <td>20071009</td>\n      <td>Plus Konto VW</td>\n      <td>EUR</td>\n      <td>1133.71</td>\n      <td>...</td>\n      <td>0.0</td>\n      <td>1133.71</td>\n      <td>NNNNNNNNNNNNNNNNNNNNNNNNNNNNNNNNNNNNNNNNNNNNNN...</td>\n      <td>NNNNNNNNNNNNNNNNNNNNNNNNNNNNNNNNNNNNNNNNNNNNNN...</td>\n      <td>DE</td>\n      <td></td>\n      <td>NaN</td>\n      <td>0</td>\n      <td>None</td>\n      <td>90</td>\n    </tr>\n  </tbody>\n</table>\n<p>887 rows × 28 columns</p>\n</div>"
     },
     "execution_count": 34,
     "metadata": {},
     "output_type": "execute_result"
    }
   ],
   "source": [
    "C_Satz = C_liab[[\"C1\", \"C2A\", \"C2B\", \"C3\", \"C4\", \"C5\", \"C6\", \"C7\", \"C8\", \"C9\", \"C10\", \"C11\", \"C12\", \"C13\",\n",
    "                 \"C14\", \"C15\", \"C16\", \"C17\", \"C18\", \"C19\", \"C20\", \"C21\", \"C22\", \"C23\", \"C24\", \"C25\", \"C26\", \"C27\"]]\n",
    "# gewünschte C-Satz ausgeben\n",
    "C_Satz"
   ],
   "metadata": {
    "collapsed": false,
    "ExecuteTime": {
     "end_time": "2023-10-03T15:55:32.598736400Z",
     "start_time": "2023-10-03T15:55:32.584184600Z"
    }
   },
   "id": "35ba2f2cff920745"
  },
  {
   "cell_type": "code",
   "execution_count": 35,
   "outputs": [
    {
     "data": {
      "text/plain": "<pandas.core.groupby.generic.DataFrameGroupBy object at 0x000001D57B8C57D0>"
     },
     "execution_count": 35,
     "metadata": {},
     "output_type": "execute_result"
    }
   ],
   "source": [
    "Tab2 = C_Satz.groupby(\"C2B\")\n",
    "Tab2"
   ],
   "metadata": {
    "collapsed": false,
    "ExecuteTime": {
     "end_time": "2023-10-03T15:55:32.612892200Z",
     "start_time": "2023-10-03T15:55:32.599239600Z"
    }
   },
   "id": "f70a696bd8061171"
  },
  {
   "cell_type": "code",
   "execution_count": 36,
   "outputs": [
    {
     "data": {
      "text/plain": "                 C2B  Anzahl Vertrag pro Kunde\n0    1502713637_2007                         1\n596  1503288399_2007                         1\n585  1503276345_2007                         1\n586  1503277939_2007                         1\n587  1503278150_2007                         1\n..               ...                       ...\n299  1502927757_2007                         1\n300  1502928672_2007                         1\n301  1502928912_2007                         1\n302  1502929084_2007                         1\n886  1503754945_2007                         1\n\n[887 rows x 2 columns]",
      "text/html": "<div>\n<style scoped>\n    .dataframe tbody tr th:only-of-type {\n        vertical-align: middle;\n    }\n\n    .dataframe tbody tr th {\n        vertical-align: top;\n    }\n\n    .dataframe thead th {\n        text-align: right;\n    }\n</style>\n<table border=\"1\" class=\"dataframe\">\n  <thead>\n    <tr style=\"text-align: right;\">\n      <th></th>\n      <th>C2B</th>\n      <th>Anzahl Vertrag pro Kunde</th>\n    </tr>\n  </thead>\n  <tbody>\n    <tr>\n      <th>0</th>\n      <td>1502713637_2007</td>\n      <td>1</td>\n    </tr>\n    <tr>\n      <th>596</th>\n      <td>1503288399_2007</td>\n      <td>1</td>\n    </tr>\n    <tr>\n      <th>585</th>\n      <td>1503276345_2007</td>\n      <td>1</td>\n    </tr>\n    <tr>\n      <th>586</th>\n      <td>1503277939_2007</td>\n      <td>1</td>\n    </tr>\n    <tr>\n      <th>587</th>\n      <td>1503278150_2007</td>\n      <td>1</td>\n    </tr>\n    <tr>\n      <th>...</th>\n      <td>...</td>\n      <td>...</td>\n    </tr>\n    <tr>\n      <th>299</th>\n      <td>1502927757_2007</td>\n      <td>1</td>\n    </tr>\n    <tr>\n      <th>300</th>\n      <td>1502928672_2007</td>\n      <td>1</td>\n    </tr>\n    <tr>\n      <th>301</th>\n      <td>1502928912_2007</td>\n      <td>1</td>\n    </tr>\n    <tr>\n      <th>302</th>\n      <td>1502929084_2007</td>\n      <td>1</td>\n    </tr>\n    <tr>\n      <th>886</th>\n      <td>1503754945_2007</td>\n      <td>1</td>\n    </tr>\n  </tbody>\n</table>\n<p>887 rows × 2 columns</p>\n</div>"
     },
     "execution_count": 36,
     "metadata": {},
     "output_type": "execute_result"
    }
   ],
   "source": [
    "Tab3 = Tab2[\"C2A\"].count().reset_index(name=\"Anzahl Vertrag pro Kunde\").sort_values([\"Anzahl Vertrag pro Kunde\"], ascending=False)\n",
    "Tab3\n"
   ],
   "metadata": {
    "collapsed": false,
    "ExecuteTime": {
     "end_time": "2023-10-03T15:55:32.636148900Z",
     "start_time": "2023-10-03T15:55:32.602549600Z"
    }
   },
   "id": "27a11e42402d183e"
  },
  {
   "cell_type": "code",
   "execution_count": 37,
   "outputs": [
    {
     "data": {
      "text/plain": "                 C2B  Anzahl Vertrag pro Kunde\n0    1502713637_2007                         1\n596  1503288399_2007                         1\n585  1503276345_2007                         1\n586  1503277939_2007                         1\n587  1503278150_2007                         1\n..               ...                       ...\n299  1502927757_2007                         1\n300  1502928672_2007                         1\n301  1502928912_2007                         1\n302  1502929084_2007                         1\n886  1503754945_2007                         1\n\n[887 rows x 2 columns]",
      "text/html": "<div>\n<style scoped>\n    .dataframe tbody tr th:only-of-type {\n        vertical-align: middle;\n    }\n\n    .dataframe tbody tr th {\n        vertical-align: top;\n    }\n\n    .dataframe thead th {\n        text-align: right;\n    }\n</style>\n<table border=\"1\" class=\"dataframe\">\n  <thead>\n    <tr style=\"text-align: right;\">\n      <th></th>\n      <th>C2B</th>\n      <th>Anzahl Vertrag pro Kunde</th>\n    </tr>\n  </thead>\n  <tbody>\n    <tr>\n      <th>0</th>\n      <td>1502713637_2007</td>\n      <td>1</td>\n    </tr>\n    <tr>\n      <th>596</th>\n      <td>1503288399_2007</td>\n      <td>1</td>\n    </tr>\n    <tr>\n      <th>585</th>\n      <td>1503276345_2007</td>\n      <td>1</td>\n    </tr>\n    <tr>\n      <th>586</th>\n      <td>1503277939_2007</td>\n      <td>1</td>\n    </tr>\n    <tr>\n      <th>587</th>\n      <td>1503278150_2007</td>\n      <td>1</td>\n    </tr>\n    <tr>\n      <th>...</th>\n      <td>...</td>\n      <td>...</td>\n    </tr>\n    <tr>\n      <th>299</th>\n      <td>1502927757_2007</td>\n      <td>1</td>\n    </tr>\n    <tr>\n      <th>300</th>\n      <td>1502928672_2007</td>\n      <td>1</td>\n    </tr>\n    <tr>\n      <th>301</th>\n      <td>1502928912_2007</td>\n      <td>1</td>\n    </tr>\n    <tr>\n      <th>302</th>\n      <td>1502929084_2007</td>\n      <td>1</td>\n    </tr>\n    <tr>\n      <th>886</th>\n      <td>1503754945_2007</td>\n      <td>1</td>\n    </tr>\n  </tbody>\n</table>\n<p>887 rows × 2 columns</p>\n</div>"
     },
     "execution_count": 37,
     "metadata": {},
     "output_type": "execute_result"
    }
   ],
   "source": [
    "Tab4 = Tab3.loc[Tab3[\"Anzahl Vertrag pro Kunde\"] == 1]  #hier sonst auf 2 ändern\n",
    "Tab4"
   ],
   "metadata": {
    "collapsed": false,
    "ExecuteTime": {
     "end_time": "2023-10-03T15:55:32.639148400Z",
     "start_time": "2023-10-03T15:55:32.609706300Z"
    }
   },
   "id": "4d7e2f9ac4efd5f2"
  },
  {
   "cell_type": "code",
   "execution_count": 38,
   "outputs": [
    {
     "data": {
      "text/plain": "    C1               C2A              C2B C3 C4  C5        C6             C7  \\\n0    C  DE1-ZGP/32965442  1502713637_2007     N   0  20071009  Plus Konto VW   \n1    C  DE1-ZGP/37624918  1502715053_2007     N   0  20071009  Plus Konto VW   \n2    C  DE1-ZGP/36267765  1502715103_2007     N   0  20071009  Plus Konto VW   \n3    C  DE1-ZGP/36192094  1502715558_2007     N   0  20071009  Plus Konto VW   \n4    C  DE1-ZGP/37625217  1502715962_2007     N   0  20071009  Plus Konto VW   \n..  ..               ...              ... .. ..  ..       ...            ...   \n882  C    DE1-ZGP/879064  1503754572_2007     N   0  20071009  Plus Konto VW   \n883  C  DE1-ZGP/20913091  1503754929_2007     N   0  20071009  Plus Konto VW   \n884  C  DE1-ZGP/29350481  1503754945_2007     N   0  20071009  Plus Konto VW   \n885  C  DE1-ZGP/83319045  1503311415_2007     N   0  20071009  Plus Konto VW   \n886  C  DE1-ZGP/83628474  1503313650_2007     N   0  20071009  Plus Konto VW   \n\n      C8        C9  ...  C18       C19  \\\n0    EUR   2553.97  ...  0.0   2553.97   \n1    EUR   7014.78  ...  0.0   7014.78   \n2    EUR     14.97  ...  0.0     14.97   \n3    EUR  27814.72  ...  0.0  27814.72   \n4    EUR     17.68  ...  0.0     17.68   \n..   ...       ...  ...  ...       ...   \n882  EUR  89436.18  ...  0.0  89436.18   \n883  EUR     41.09  ...  0.0     41.09   \n884  EUR  29686.24  ...  0.0  29686.24   \n885  EUR      0.00  ...  0.0      0.00   \n886  EUR   1133.71  ...  0.0   1133.71   \n\n                                                   C20  \\\n0    NNNNNNNNNNNNNNNNNNNNNNNNNNNNNNNNNNNNNNNNNNNNNN...   \n1    NNNNNNNNNNNNNNNNNNNNNNNNNNNNNNNNNNNNNNNNNNNNNN...   \n2    NNNNNNNNNNNNNNNNNNNNNNNNNNNNNNNNNNNNNNNNNNNNNN...   \n3    NNNNNNNNNNNNNNNNNNNNNNNNNNNNNNNNNNNNNNNNNNNNNN...   \n4    NNNNNNNNNNNNNNNNNNNNNNNNNNNNNNNNNNNNNNNNNNNNNN...   \n..                                                 ...   \n882  NNNNNNNNNNNNNNNNNNNNNNNNNNNNNNNNNNNNNNNNNNNNNN...   \n883  NNNNNNNNNNNNNNNNNNNNNNNNNNNNNNNNNNNNNNNNNNNNNN...   \n884  NNNNNNNNNNNNNNNNNNNNNNNNNNNNNNNNNNNNNNNNNNNNNN...   \n885  NNNNNNNNNNNNNNNNNNNNNNNNNNNNNNNNNNNNNNNNNNNNNN...   \n886  NNNNNNNNNNNNNNNNNNNNNNNNNNNNNNNNNNNNNNNNNNNNNN...   \n\n                                                   C21  C22 C23  C24  C25  \\\n0    NNNNNNNNNNNNNNNNNNNNNNNNNNNNNNNNNNNNNNNNNNNNNN...   DE      NaN    0   \n1    NNNNNNNNNNNNNNNNNNNNNNNNNNNNNNNNNNNNNNNNNNNNNN...   DE      NaN    0   \n2    NNNNNNNNNNNNNNNNNNNNNNNNNNNNNNNNNNNNNNNNNNNNNN...   DE      NaN    0   \n3    NNNNNNNNNNNNNNNNNNNNNNNNNNNNNNNNNNNNNNNNNNNNNN...   DE      NaN    0   \n4    NNNNNNNNNNNNNNNNNNNNNNNNNNNNNNNNNNNNNNNNNNNNNN...   DE      NaN    0   \n..                                                 ...  ...  ..  ...  ...   \n882  NNNNNNNNNNNNNNNNNNNNNNNNNNNNNNNNNNNNNNNNNNNNNN...   DE      NaN    0   \n883  NNNNNNNNNNNNNNNNNNNNNNNNNNNNNNNNNNNNNNNNNNNNNN...   DE      NaN    0   \n884  NNNNNNNNNNNNNNNNNNNNNNNNNNNNNNNNNNNNNNNNNNNNNN...   DE      NaN    0   \n885  NNNNNNNNNNNNNNNNNNNNNNNNNNNNNNNNNNNNNNNNNNNNNN...   DE      NaN    0   \n886  NNNNNNNNNNNNNNNNNNNNNNNNNNNNNNNNNNNNNNNNNNNNNN...   DE      NaN    0   \n\n      C26  C27  \n0    None   90  \n1    None   90  \n2    None   90  \n3    None   90  \n4    None   90  \n..    ...  ...  \n882  None   90  \n883  None   90  \n884  None   90  \n885  None   90  \n886  None   90  \n\n[887 rows x 28 columns]",
      "text/html": "<div>\n<style scoped>\n    .dataframe tbody tr th:only-of-type {\n        vertical-align: middle;\n    }\n\n    .dataframe tbody tr th {\n        vertical-align: top;\n    }\n\n    .dataframe thead th {\n        text-align: right;\n    }\n</style>\n<table border=\"1\" class=\"dataframe\">\n  <thead>\n    <tr style=\"text-align: right;\">\n      <th></th>\n      <th>C1</th>\n      <th>C2A</th>\n      <th>C2B</th>\n      <th>C3</th>\n      <th>C4</th>\n      <th>C5</th>\n      <th>C6</th>\n      <th>C7</th>\n      <th>C8</th>\n      <th>C9</th>\n      <th>...</th>\n      <th>C18</th>\n      <th>C19</th>\n      <th>C20</th>\n      <th>C21</th>\n      <th>C22</th>\n      <th>C23</th>\n      <th>C24</th>\n      <th>C25</th>\n      <th>C26</th>\n      <th>C27</th>\n    </tr>\n  </thead>\n  <tbody>\n    <tr>\n      <th>0</th>\n      <td>C</td>\n      <td>DE1-ZGP/32965442</td>\n      <td>1502713637_2007</td>\n      <td></td>\n      <td>N</td>\n      <td>0</td>\n      <td>20071009</td>\n      <td>Plus Konto VW</td>\n      <td>EUR</td>\n      <td>2553.97</td>\n      <td>...</td>\n      <td>0.0</td>\n      <td>2553.97</td>\n      <td>NNNNNNNNNNNNNNNNNNNNNNNNNNNNNNNNNNNNNNNNNNNNNN...</td>\n      <td>NNNNNNNNNNNNNNNNNNNNNNNNNNNNNNNNNNNNNNNNNNNNNN...</td>\n      <td>DE</td>\n      <td></td>\n      <td>NaN</td>\n      <td>0</td>\n      <td>None</td>\n      <td>90</td>\n    </tr>\n    <tr>\n      <th>1</th>\n      <td>C</td>\n      <td>DE1-ZGP/37624918</td>\n      <td>1502715053_2007</td>\n      <td></td>\n      <td>N</td>\n      <td>0</td>\n      <td>20071009</td>\n      <td>Plus Konto VW</td>\n      <td>EUR</td>\n      <td>7014.78</td>\n      <td>...</td>\n      <td>0.0</td>\n      <td>7014.78</td>\n      <td>NNNNNNNNNNNNNNNNNNNNNNNNNNNNNNNNNNNNNNNNNNNNNN...</td>\n      <td>NNNNNNNNNNNNNNNNNNNNNNNNNNNNNNNNNNNNNNNNNNNNNN...</td>\n      <td>DE</td>\n      <td></td>\n      <td>NaN</td>\n      <td>0</td>\n      <td>None</td>\n      <td>90</td>\n    </tr>\n    <tr>\n      <th>2</th>\n      <td>C</td>\n      <td>DE1-ZGP/36267765</td>\n      <td>1502715103_2007</td>\n      <td></td>\n      <td>N</td>\n      <td>0</td>\n      <td>20071009</td>\n      <td>Plus Konto VW</td>\n      <td>EUR</td>\n      <td>14.97</td>\n      <td>...</td>\n      <td>0.0</td>\n      <td>14.97</td>\n      <td>NNNNNNNNNNNNNNNNNNNNNNNNNNNNNNNNNNNNNNNNNNNNNN...</td>\n      <td>NNNNNNNNNNNNNNNNNNNNNNNNNNNNNNNNNNNNNNNNNNNNNN...</td>\n      <td>DE</td>\n      <td></td>\n      <td>NaN</td>\n      <td>0</td>\n      <td>None</td>\n      <td>90</td>\n    </tr>\n    <tr>\n      <th>3</th>\n      <td>C</td>\n      <td>DE1-ZGP/36192094</td>\n      <td>1502715558_2007</td>\n      <td></td>\n      <td>N</td>\n      <td>0</td>\n      <td>20071009</td>\n      <td>Plus Konto VW</td>\n      <td>EUR</td>\n      <td>27814.72</td>\n      <td>...</td>\n      <td>0.0</td>\n      <td>27814.72</td>\n      <td>NNNNNNNNNNNNNNNNNNNNNNNNNNNNNNNNNNNNNNNNNNNNNN...</td>\n      <td>NNNNNNNNNNNNNNNNNNNNNNNNNNNNNNNNNNNNNNNNNNNNNN...</td>\n      <td>DE</td>\n      <td></td>\n      <td>NaN</td>\n      <td>0</td>\n      <td>None</td>\n      <td>90</td>\n    </tr>\n    <tr>\n      <th>4</th>\n      <td>C</td>\n      <td>DE1-ZGP/37625217</td>\n      <td>1502715962_2007</td>\n      <td></td>\n      <td>N</td>\n      <td>0</td>\n      <td>20071009</td>\n      <td>Plus Konto VW</td>\n      <td>EUR</td>\n      <td>17.68</td>\n      <td>...</td>\n      <td>0.0</td>\n      <td>17.68</td>\n      <td>NNNNNNNNNNNNNNNNNNNNNNNNNNNNNNNNNNNNNNNNNNNNNN...</td>\n      <td>NNNNNNNNNNNNNNNNNNNNNNNNNNNNNNNNNNNNNNNNNNNNNN...</td>\n      <td>DE</td>\n      <td></td>\n      <td>NaN</td>\n      <td>0</td>\n      <td>None</td>\n      <td>90</td>\n    </tr>\n    <tr>\n      <th>...</th>\n      <td>...</td>\n      <td>...</td>\n      <td>...</td>\n      <td>...</td>\n      <td>...</td>\n      <td>...</td>\n      <td>...</td>\n      <td>...</td>\n      <td>...</td>\n      <td>...</td>\n      <td>...</td>\n      <td>...</td>\n      <td>...</td>\n      <td>...</td>\n      <td>...</td>\n      <td>...</td>\n      <td>...</td>\n      <td>...</td>\n      <td>...</td>\n      <td>...</td>\n      <td>...</td>\n    </tr>\n    <tr>\n      <th>882</th>\n      <td>C</td>\n      <td>DE1-ZGP/879064</td>\n      <td>1503754572_2007</td>\n      <td></td>\n      <td>N</td>\n      <td>0</td>\n      <td>20071009</td>\n      <td>Plus Konto VW</td>\n      <td>EUR</td>\n      <td>89436.18</td>\n      <td>...</td>\n      <td>0.0</td>\n      <td>89436.18</td>\n      <td>NNNNNNNNNNNNNNNNNNNNNNNNNNNNNNNNNNNNNNNNNNNNNN...</td>\n      <td>NNNNNNNNNNNNNNNNNNNNNNNNNNNNNNNNNNNNNNNNNNNNNN...</td>\n      <td>DE</td>\n      <td></td>\n      <td>NaN</td>\n      <td>0</td>\n      <td>None</td>\n      <td>90</td>\n    </tr>\n    <tr>\n      <th>883</th>\n      <td>C</td>\n      <td>DE1-ZGP/20913091</td>\n      <td>1503754929_2007</td>\n      <td></td>\n      <td>N</td>\n      <td>0</td>\n      <td>20071009</td>\n      <td>Plus Konto VW</td>\n      <td>EUR</td>\n      <td>41.09</td>\n      <td>...</td>\n      <td>0.0</td>\n      <td>41.09</td>\n      <td>NNNNNNNNNNNNNNNNNNNNNNNNNNNNNNNNNNNNNNNNNNNNNN...</td>\n      <td>NNNNNNNNNNNNNNNNNNNNNNNNNNNNNNNNNNNNNNNNNNNNNN...</td>\n      <td>DE</td>\n      <td></td>\n      <td>NaN</td>\n      <td>0</td>\n      <td>None</td>\n      <td>90</td>\n    </tr>\n    <tr>\n      <th>884</th>\n      <td>C</td>\n      <td>DE1-ZGP/29350481</td>\n      <td>1503754945_2007</td>\n      <td></td>\n      <td>N</td>\n      <td>0</td>\n      <td>20071009</td>\n      <td>Plus Konto VW</td>\n      <td>EUR</td>\n      <td>29686.24</td>\n      <td>...</td>\n      <td>0.0</td>\n      <td>29686.24</td>\n      <td>NNNNNNNNNNNNNNNNNNNNNNNNNNNNNNNNNNNNNNNNNNNNNN...</td>\n      <td>NNNNNNNNNNNNNNNNNNNNNNNNNNNNNNNNNNNNNNNNNNNNNN...</td>\n      <td>DE</td>\n      <td></td>\n      <td>NaN</td>\n      <td>0</td>\n      <td>None</td>\n      <td>90</td>\n    </tr>\n    <tr>\n      <th>885</th>\n      <td>C</td>\n      <td>DE1-ZGP/83319045</td>\n      <td>1503311415_2007</td>\n      <td></td>\n      <td>N</td>\n      <td>0</td>\n      <td>20071009</td>\n      <td>Plus Konto VW</td>\n      <td>EUR</td>\n      <td>0.00</td>\n      <td>...</td>\n      <td>0.0</td>\n      <td>0.00</td>\n      <td>NNNNNNNNNNNNNNNNNNNNNNNNNNNNNNNNNNNNNNNNNNNNNN...</td>\n      <td>NNNNNNNNNNNNNNNNNNNNNNNNNNNNNNNNNNNNNNNNNNNNNN...</td>\n      <td>DE</td>\n      <td></td>\n      <td>NaN</td>\n      <td>0</td>\n      <td>None</td>\n      <td>90</td>\n    </tr>\n    <tr>\n      <th>886</th>\n      <td>C</td>\n      <td>DE1-ZGP/83628474</td>\n      <td>1503313650_2007</td>\n      <td></td>\n      <td>N</td>\n      <td>0</td>\n      <td>20071009</td>\n      <td>Plus Konto VW</td>\n      <td>EUR</td>\n      <td>1133.71</td>\n      <td>...</td>\n      <td>0.0</td>\n      <td>1133.71</td>\n      <td>NNNNNNNNNNNNNNNNNNNNNNNNNNNNNNNNNNNNNNNNNNNNNN...</td>\n      <td>NNNNNNNNNNNNNNNNNNNNNNNNNNNNNNNNNNNNNNNNNNNNNN...</td>\n      <td>DE</td>\n      <td></td>\n      <td>NaN</td>\n      <td>0</td>\n      <td>None</td>\n      <td>90</td>\n    </tr>\n  </tbody>\n</table>\n<p>887 rows × 28 columns</p>\n</div>"
     },
     "execution_count": 38,
     "metadata": {},
     "output_type": "execute_result"
    }
   ],
   "source": [
    "Tab5 = C_Satz.loc[C_Satz[\"C2B\"].isin(Tab4[\"C2B\"])]\n",
    "Tab5"
   ],
   "metadata": {
    "collapsed": false,
    "ExecuteTime": {
     "end_time": "2023-10-03T15:55:32.686807100Z",
     "start_time": "2023-10-03T15:55:32.614407400Z"
    }
   },
   "id": "99873ee51167e9aa"
  },
  {
   "cell_type": "code",
   "execution_count": 39,
   "outputs": [
    {
     "data": {
      "text/plain": "                 C2B      Kunden_Nummern\n0    1502713637_2007  [DE1-ZGP/32965442]\n1    1502715053_2007  [DE1-ZGP/37624918]\n2    1502715103_2007  [DE1-ZGP/36267765]\n3    1502715558_2007  [DE1-ZGP/36192094]\n4    1502715962_2007  [DE1-ZGP/37625217]\n..               ...                 ...\n882  1503751933_2007   [DE1-ZGP/1223238]\n883  1503754317_2007  [DE1-ZGP/25771244]\n884  1503754572_2007    [DE1-ZGP/879064]\n885  1503754929_2007  [DE1-ZGP/20913091]\n886  1503754945_2007  [DE1-ZGP/29350481]\n\n[887 rows x 2 columns]",
      "text/html": "<div>\n<style scoped>\n    .dataframe tbody tr th:only-of-type {\n        vertical-align: middle;\n    }\n\n    .dataframe tbody tr th {\n        vertical-align: top;\n    }\n\n    .dataframe thead th {\n        text-align: right;\n    }\n</style>\n<table border=\"1\" class=\"dataframe\">\n  <thead>\n    <tr style=\"text-align: right;\">\n      <th></th>\n      <th>C2B</th>\n      <th>Kunden_Nummern</th>\n    </tr>\n  </thead>\n  <tbody>\n    <tr>\n      <th>0</th>\n      <td>1502713637_2007</td>\n      <td>[DE1-ZGP/32965442]</td>\n    </tr>\n    <tr>\n      <th>1</th>\n      <td>1502715053_2007</td>\n      <td>[DE1-ZGP/37624918]</td>\n    </tr>\n    <tr>\n      <th>2</th>\n      <td>1502715103_2007</td>\n      <td>[DE1-ZGP/36267765]</td>\n    </tr>\n    <tr>\n      <th>3</th>\n      <td>1502715558_2007</td>\n      <td>[DE1-ZGP/36192094]</td>\n    </tr>\n    <tr>\n      <th>4</th>\n      <td>1502715962_2007</td>\n      <td>[DE1-ZGP/37625217]</td>\n    </tr>\n    <tr>\n      <th>...</th>\n      <td>...</td>\n      <td>...</td>\n    </tr>\n    <tr>\n      <th>882</th>\n      <td>1503751933_2007</td>\n      <td>[DE1-ZGP/1223238]</td>\n    </tr>\n    <tr>\n      <th>883</th>\n      <td>1503754317_2007</td>\n      <td>[DE1-ZGP/25771244]</td>\n    </tr>\n    <tr>\n      <th>884</th>\n      <td>1503754572_2007</td>\n      <td>[DE1-ZGP/879064]</td>\n    </tr>\n    <tr>\n      <th>885</th>\n      <td>1503754929_2007</td>\n      <td>[DE1-ZGP/20913091]</td>\n    </tr>\n    <tr>\n      <th>886</th>\n      <td>1503754945_2007</td>\n      <td>[DE1-ZGP/29350481]</td>\n    </tr>\n  </tbody>\n</table>\n<p>887 rows × 2 columns</p>\n</div>"
     },
     "execution_count": 39,
     "metadata": {},
     "output_type": "execute_result"
    }
   ],
   "source": [
    "\n",
    "Tab6 = Tab5.groupby(\"C2B\")[\"C2A\"].apply(list).reset_index(name=\"Kunden_Nummern\")\n",
    "Tab6"
   ],
   "metadata": {
    "collapsed": false,
    "ExecuteTime": {
     "end_time": "2023-10-03T15:55:32.715532600Z",
     "start_time": "2023-10-03T15:55:32.627631600Z"
    }
   },
   "id": "b896c19391d8eb00"
  },
  {
   "cell_type": "code",
   "execution_count": 40,
   "outputs": [
    {
     "data": {
      "text/plain": "['1502713637_2007',\n '1502715053_2007',\n '1502715103_2007',\n '1502715558_2007',\n '1502715962_2007',\n '1502716705_2007',\n '1502717182_2007',\n '1502719246_2007',\n '1502719451_2007',\n '1502720418_2007',\n '1502720889_2007',\n '1502722398_2007',\n '1502725532_2007',\n '1502726076_2007',\n '1502726712_2007',\n '1502727165_2007',\n '1502727439_2007',\n '1502728072_2007',\n '1502728148_2007',\n '1502729757_2007',\n '1502729799_2007',\n '1502730219_2007',\n '1502730532_2007',\n '1502730664_2007',\n '1502730854_2007',\n '1502730979_2007',\n '1502731712_2007',\n '1502732215_2007',\n '1502733429_2007',\n '1502734542_2007',\n '1502735309_2007',\n '1502735333_2007',\n '1502735630_2007',\n '1502735952_2007',\n '1502737438_2007',\n '1502739467_2007',\n '1502741182_2007',\n '1502741372_2007',\n '1502742719_2007',\n '1502743907_2007',\n '1502744301_2007',\n '1502744830_2007',\n '1502745688_2007',\n '1502746611_2007',\n '1502747189_2007',\n '1502747767_2007',\n '1502748872_2007',\n '1502748922_2007',\n '1502749177_2007',\n '1502749599_2007',\n '1502749870_2007',\n '1502750738_2007',\n '1502751421_2007',\n '1502751819_2007',\n '1502753575_2007',\n '1502753633_2007',\n '1502754896_2007',\n '1502755190_2007',\n '1502756248_2007',\n '1502756511_2007',\n '1502762097_2007',\n '1502762295_2007',\n '1502762444_2007',\n '1502762592_2007',\n '1502763905_2007',\n '1502764424_2007',\n '1502764481_2007',\n '1502764770_2007',\n '1502771650_2007',\n '1502771700_2007',\n '1502778101_2007',\n '1502784505_2007',\n '1502784778_2007',\n '1502786849_2007',\n '1502786880_2007',\n '1502787169_2007',\n '1502787359_2007',\n '1502788852_2007',\n '1502790452_2007',\n '1502791336_2007',\n '1502791963_2007',\n '1502792151_2007',\n '1502792235_2007',\n '1502794660_2007',\n '1502795345_2007',\n '1502796038_2007',\n '1502796426_2007',\n '1502797192_2007',\n '1502797713_2007',\n '1502797846_2007',\n '1502798430_2007',\n '1502798521_2007',\n '1502800970_2007',\n '1502801663_2007',\n '1502802190_2007',\n '1502802588_2007',\n '1502802794_2007',\n '1502803362_2007',\n '1502803644_2007',\n '1502804238_2007',\n '1502804337_2007',\n '1502804535_2007',\n '1502805672_2007',\n '1502806555_2007',\n '1502807728_2007',\n '1502808213_2007',\n '1502808866_2007',\n '1502809559_2007',\n '1502812462_2007',\n '1502813015_2007',\n '1502813106_2007',\n '1502814237_2007',\n '1502814393_2007',\n '1502815002_2007',\n '1502815010_2007',\n '1502815143_2007',\n '1502815416_2007',\n '1502815499_2007',\n '1502815754_2007',\n '1502817222_2007',\n '1502817560_2007',\n '1502818055_2007',\n '1502819319_2007',\n '1502819368_2007',\n '1502820184_2007',\n '1502820218_2007',\n '1502821273_2007',\n '1502821687_2007',\n '1502822248_2007',\n '1502824152_2007',\n '1502824251_2007',\n '1502825464_2007',\n '1502825506_2007',\n '1502825910_2007',\n '1502826546_2007',\n '1502827916_2007',\n '1502827940_2007',\n '1502828096_2007',\n '1502828617_2007',\n '1502830118_2007',\n '1502830928_2007',\n '1502831587_2007',\n '1502832197_2007',\n '1502832247_2007',\n '1502832510_2007',\n '1502832619_2007',\n '1502833039_2007',\n '1502834250_2007',\n '1502834912_2007',\n '1502834995_2007',\n '1502835133_2007',\n '1502835208_2007',\n '1502835679_2007',\n '1502835828_2007',\n '1502836156_2007',\n '1502837238_2007',\n '1502837253_2007',\n '1502838350_2007',\n '1502839390_2007',\n '1502839457_2007',\n '1502839812_2007',\n '1502839945_2007',\n '1502839960_2007',\n '1502840687_2007',\n '1502842667_2007',\n '1502843137_2007',\n '1502843194_2007',\n '1502845611_2007',\n '1502845686_2007',\n '1502846163_2007',\n '1502847005_2007',\n '1502847054_2007',\n '1502847104_2007',\n '1502847732_2007',\n '1502848664_2007',\n '1502848789_2007',\n '1502849597_2007',\n '1502849795_2007',\n '1502850546_2007',\n '1502850793_2007',\n '1502850892_2007',\n '1502850934_2007',\n '1502851403_2007',\n '1502852773_2007',\n '1502852781_2007',\n '1502854167_2007',\n '1502854472_2007',\n '1502855099_2007',\n '1502855776_2007',\n '1502860297_2007',\n '1502860313_2007',\n '1502860800_2007',\n '1502862723_2007',\n '1502864042_2007',\n '1502864935_2007',\n '1502865403_2007',\n '1502866344_2007',\n '1502866815_2007',\n '1502867292_2007',\n '1502868696_2007',\n '1502869025_2007',\n '1502870569_2007',\n '1502870627_2007',\n '1502870650_2007',\n '1502871112_2007',\n '1502871278_2007',\n '1502872888_2007',\n '1502873183_2007',\n '1502873209_2007',\n '1502873530_2007',\n '1502873548_2007',\n '1502874199_2007',\n '1502874926_2007',\n '1502874959_2007',\n '1502875469_2007',\n '1502875584_2007',\n '1502875733_2007',\n '1502875857_2007',\n '1502876897_2007',\n '1502877309_2007',\n '1502878810_2007',\n '1502879099_2007',\n '1502879925_2007',\n '1502879990_2007',\n '1502880444_2007',\n '1502881749_2007',\n '1502881863_2007',\n '1502882341_2007',\n '1502882762_2007',\n '1502883430_2007',\n '1502883802_2007',\n '1502885948_2007',\n '1502886391_2007',\n '1502886680_2007',\n '1502886946_2007',\n '1502887175_2007',\n '1502887258_2007',\n '1502887381_2007',\n '1502890971_2007',\n '1502891177_2007',\n '1502893579_2007',\n '1502893751_2007',\n '1502894239_2007',\n '1502894569_2007',\n '1502894973_2007',\n '1502895079_2007',\n '1502895384_2007',\n '1502896416_2007',\n '1502896812_2007',\n '1502897133_2007',\n '1502897216_2007',\n '1502898677_2007',\n '1502900572_2007',\n '1502900861_2007',\n '1502901711_2007',\n '1502902123_2007',\n '1502902370_2007',\n '1502902776_2007',\n '1502903428_2007',\n '1502905167_2007',\n '1502905852_2007',\n '1502907288_2007',\n '1502908328_2007',\n '1502908955_2007',\n '1502908963_2007',\n '1502909334_2007',\n '1502910423_2007',\n '1502910639_2007',\n '1502910951_2007',\n '1502911165_2007',\n '1502911447_2007',\n '1502911561_2007',\n '1502912882_2007',\n '1502913658_2007',\n '1502913815_2007',\n '1502913989_2007',\n '1502915646_2007',\n '1502915984_2007',\n '1502916693_2007',\n '1502917147_2007',\n '1502917949_2007',\n '1502919549_2007',\n '1502919655_2007',\n '1502921024_2007',\n '1502921222_2007',\n '1502921271_2007',\n '1502921362_2007',\n '1502921370_2007',\n '1502921404_2007',\n '1502921917_2007',\n '1502922675_2007',\n '1502922758_2007',\n '1502923327_2007',\n '1502923335_2007',\n '1502925173_2007',\n '1502925454_2007',\n '1502926650_2007',\n '1502926692_2007',\n '1502927070_2007',\n '1502927757_2007',\n '1502928672_2007',\n '1502928912_2007',\n '1502929084_2007',\n '1502929241_2007',\n '1502929449_2007',\n '1502931981_2007',\n '1502932922_2007',\n '1502934217_2007',\n '1502934613_2007',\n '1502935644_2007',\n '1502935834_2007',\n '1502935958_2007',\n '1502936899_2007',\n '1502937939_2007',\n '1502938184_2007',\n '1502939059_2007',\n '1502939703_2007',\n '1502940131_2007',\n '1502940289_2007',\n '1502940297_2007',\n '1502942202_2007',\n '1502944182_2007',\n '1502944406_2007',\n '1502945171_2007',\n '1502946187_2007',\n '1502950213_2007',\n '1502950320_2007',\n '1502950429_2007',\n '1502950726_2007',\n '1502951153_2007',\n '1502951583_2007',\n '1502951880_2007',\n '1502952003_2007',\n '1502952094_2007',\n '1502952409_2007',\n '1502953076_2007',\n '1502954637_2007',\n '1502954769_2007',\n '1502956368_2007',\n '1502958802_2007',\n '1502959032_2007',\n '1502960295_2007',\n '1502960428_2007',\n '1502961210_2007',\n '1502961244_2007',\n '1502961426_2007',\n '1502961517_2007',\n '1502962028_2007',\n '1502962127_2007',\n '1502963554_2007',\n '1502963745_2007',\n '1502964396_2007',\n '1502965245_2007',\n '1502965880_2007',\n '1502966011_2007',\n '1502966672_2007',\n '1502967993_2007',\n '1502968215_2007',\n '1502968231_2007',\n '1502968678_2007',\n '1502968702_2007',\n '1502968975_2007',\n '1502969593_2007',\n '1502971201_2007',\n '1502971664_2007',\n '1502972613_2007',\n '1502972738_2007',\n '1502972779_2007',\n '1502972985_2007',\n '1502973066_2007',\n '1502973165_2007',\n '1502973777_2007',\n '1502974841_2007',\n '1502976762_2007',\n '1502976945_2007',\n '1502977471_2007',\n '1502977877_2007',\n '1502978651_2007',\n '1502978842_2007',\n '1502982224_2007',\n '1502983131_2007',\n '1502983891_2007',\n '1502984113_2007',\n '1502988049_2007',\n '1502989161_2007',\n '1502990011_2007',\n '1502990391_2007',\n '1502991373_2007',\n '1502992272_2007',\n '1502992835_2007',\n '1502992918_2007',\n '1502996216_2007',\n '1502996430_2007',\n '1502996588_2007',\n '1502997156_2007',\n '1502997693_2007',\n '1502997784_2007',\n '1502998535_2007',\n '1502999434_2007',\n '1503000000_2007',\n '1503000257_2007',\n '1503000521_2007',\n '1503000588_2007',\n '1503001941_2007',\n '1503002550_2007',\n '1503003947_2007',\n '1503004101_2007',\n '1503004135_2007',\n '1503004366_2007',\n '1503005850_2007',\n '1503006254_2007',\n '1503007575_2007',\n '1503007591_2007',\n '1503009159_2007',\n '1503009266_2007',\n '1503009803_2007',\n '1503011759_2007',\n '1503012732_2007',\n '1503012922_2007',\n '1503013961_2007',\n '1503014266_2007',\n '1503015719_2007',\n '1503016451_2007',\n '1503016741_2007',\n '1503016790_2007',\n '1503016949_2007',\n '1503019075_2007',\n '1503019182_2007',\n '1503020743_2007',\n '1503021345_2007',\n '1503022046_2007',\n '1503022624_2007',\n '1503023226_2007',\n '1503023820_2007',\n '1503024331_2007',\n '1503024414_2007',\n '1503024794_2007',\n '1503025015_2007',\n '1503025403_2007',\n '1503026096_2007',\n '1503026641_2007',\n '1503027466_2007',\n '1503028118_2007',\n '1503028415_2007',\n '1503028761_2007',\n '1503030312_2007',\n '1503030395_2007',\n '1503031179_2007',\n '1503031229_2007',\n '1503032524_2007',\n '1503033944_2007',\n '1503035014_2007',\n '1503036046_2007',\n '1503036400_2007',\n '1503037184_2007',\n '1503037259_2007',\n '1503037879_2007',\n '1503038877_2007',\n '1503039073_2007',\n '1503040162_2007',\n '1503043083_2007',\n '1503043455_2007',\n '1503044180_2007',\n '1503044552_2007',\n '1503044677_2007',\n '1503044784_2007',\n '1503045450_2007',\n '1503045757_2007',\n '1503047175_2007',\n '1503049262_2007',\n '1503051193_2007',\n '1503052613_2007',\n '1503052688_2007',\n '1503053843_2007',\n '1503054684_2007',\n '1503057067_2007',\n '1503057711_2007',\n '1503058776_2007',\n '1503059154_2007',\n '1503059410_2007',\n '1503063172_2007',\n '1503063941_2007',\n '1503064345_2007',\n '1503064493_2007',\n '1503065102_2007',\n '1503065748_2007',\n '1503066274_2007',\n '1503066639_2007',\n '1503067959_2007',\n '1503076570_2007',\n '1503077255_2007',\n '1503078584_2007',\n '1503079053_2007',\n '1503079103_2007',\n '1503080259_2007',\n '1503080531_2007',\n '1503081943_2007',\n '1503082453_2007',\n '1503082602_2007',\n '1503083162_2007',\n '1503084350_2007',\n '1503084608_2007',\n '1503084814_2007',\n '1503084871_2007',\n '1503087569_2007',\n '1503087916_2007',\n '1503089524_2007',\n '1503089821_2007',\n '1503091413_2007',\n '1503092353_2007',\n '1503093021_2007',\n '1503103853_2007',\n '1503103978_2007',\n '1503106799_2007',\n '1503107557_2007',\n '1503115709_2007',\n '1503116103_2007',\n '1503116475_2007',\n '1503116772_2007',\n '1503123547_2007',\n '1503126623_2007',\n '1503126797_2007',\n '1503127431_2007',\n '1503128157_2007',\n '1503128678_2007',\n '1503129221_2007',\n '1503130732_2007',\n '1503130773_2007',\n '1503131052_2007',\n '1503147934_2007',\n '1503149799_2007',\n '1503195495_2007',\n '1503196030_2007',\n '1503197103_2007',\n '1503197400_2007',\n '1503197905_2007',\n '1503201665_2007',\n '1503202051_2007',\n '1503202689_2007',\n '1503202929_2007',\n '1503203265_2007',\n '1503206300_2007',\n '1503207522_2007',\n '1503210286_2007',\n '1503211045_2007',\n '1503212282_2007',\n '1503213223_2007',\n '1503214304_2007',\n '1503215384_2007',\n '1503216531_2007',\n '1503218164_2007',\n '1503219022_2007',\n '1503222372_2007',\n '1503225656_2007',\n '1503227470_2007',\n '1503228932_2007',\n '1503229674_2007',\n '1503233205_2007',\n '1503233700_2007',\n '1503234831_2007',\n '1503235481_2007',\n '1503240507_2007',\n '1503240572_2007',\n '1503240606_2007',\n '1503240903_2007',\n '1503243857_2007',\n '1503244509_2007',\n '1503244921_2007',\n '1503246074_2007',\n '1503248799_2007',\n '1503251041_2007',\n '1503252619_2007',\n '1503252817_2007',\n '1503255885_2007',\n '1503256891_2007',\n '1503257303_2007',\n '1503257642_2007',\n '1503258236_2007',\n '1503259309_2007',\n '1503261073_2007',\n '1503261388_2007',\n '1503263830_2007',\n '1503272146_2007',\n '1503272534_2007',\n '1503273821_2007',\n '1503276345_2007',\n '1503277939_2007',\n '1503278150_2007',\n '1503278309_2007',\n '1503278903_2007',\n '1503280362_2007',\n '1503282459_2007',\n '1503283937_2007',\n '1503284752_2007',\n '1503285049_2007',\n '1503287938_2007',\n '1503288399_2007',\n '1503290882_2007',\n '1503293704_2007',\n '1503295261_2007',\n '1503295634_2007',\n '1503295683_2007',\n '1503295774_2007',\n '1503296442_2007',\n '1503298026_2007',\n '1503299107_2007',\n '1503299560_2007',\n '1503301150_2007',\n '1503301820_2007',\n '1503302695_2007',\n '1503303057_2007',\n '1503305623_2007',\n '1503307330_2007',\n '1503307843_2007',\n '1503311415_2007',\n '1503313650_2007',\n '1503316075_2007',\n '1503317354_2007',\n '1503325456_2007',\n '1503326256_2007',\n '1503326884_2007',\n '1503327007_2007',\n '1503327460_2007',\n '1503330399_2007',\n '1503334169_2007',\n '1503338467_2007',\n '1503338541_2007',\n '1503339796_2007',\n '1503340786_2007',\n '1503341156_2007',\n '1503341487_2007',\n '1503342048_2007',\n '1503342105_2007',\n '1503342758_2007',\n '1503343509_2007',\n '1503349076_2007',\n '1503351825_2007',\n '1503351882_2007',\n '1503352872_2007',\n '1503358622_2007',\n '1503358770_2007',\n '1503360263_2007',\n '1503361378_2007',\n '1503362178_2007',\n '1503362186_2007',\n '1503363598_2007',\n '1503364562_2007',\n '1503366179_2007',\n '1503367839_2007',\n '1503370478_2007',\n '1503371559_2007',\n '1503377044_2007',\n '1503377226_2007',\n '1503377234_2007',\n '1503380204_2007',\n '1503381152_2007',\n '1503381491_2007',\n '1503394429_2007',\n '1503416065_2007',\n '1503428664_2007',\n '1503429068_2007',\n '1503435404_2007',\n '1503435917_2007',\n '1503435933_2007',\n '1503437624_2007',\n '1503437806_2007',\n '1503438325_2007',\n '1503438556_2007',\n '1503438895_2007',\n '1503439679_2007',\n '1503439836_2007',\n '1503440040_2007',\n '1503441188_2007',\n '1503441535_2007',\n '1503445460_2007',\n '1503445882_2007',\n '1503447839_2007',\n '1503448712_2007',\n '1503449462_2007',\n '1503451468_2007',\n '1503452078_2007',\n '1503452318_2007',\n '1503452425_2007',\n '1503453464_2007',\n '1503456806_2007',\n '1503457945_2007',\n '1503460345_2007',\n '1503461772_2007',\n '1503461855_2007',\n '1503462978_2007',\n '1503463091_2007',\n '1503464131_2007',\n '1503464453_2007',\n '1503467134_2007',\n '1503468520_2007',\n '1503469155_2007',\n '1503469601_2007',\n '1503472035_2007',\n '1503477398_2007',\n '1503477448_2007',\n '1503477455_2007',\n '1503478909_2007',\n '1503479279_2007',\n '1503480889_2007',\n '1503481697_2007',\n '1503481770_2007',\n '1503481960_2007',\n '1503482182_2007',\n '1503482307_2007',\n '1503484188_2007',\n '1503486456_2007',\n '1503488379_2007',\n '1503488460_2007',\n '1503490656_2007',\n '1503494740_2007',\n '1503496737_2007',\n '1503497883_2007',\n '1503498261_2007',\n '1503499145_2007',\n '1503499566_2007',\n '1503500165_2007',\n '1503500934_2007',\n '1503501973_2007',\n '1503503029_2007',\n '1503503763_2007',\n '1503504993_2007',\n '1503506956_2007',\n '1503510545_2007',\n '1503511246_2007',\n '1503512111_2007',\n '1503514083_2007',\n '1503514422_2007',\n '1503516286_2007',\n '1503517631_2007',\n '1503518795_2007',\n '1503519827_2007',\n '1503522417_2007',\n '1503522557_2007',\n '1503523555_2007',\n '1503524181_2007',\n '1503524926_2007',\n '1503525212_2007',\n '1503525832_2007',\n '1503535153_2007',\n '1503535401_2007',\n '1503535450_2007',\n '1503536045_2007',\n '1503537829_2007',\n '1503541268_2007',\n '1503541342_2007',\n '1503542175_2007',\n '1503542639_2007',\n '1503543124_2007',\n '1503543413_2007',\n '1503547471_2007',\n '1503547588_2007',\n '1503547687_2007',\n '1503548818_2007',\n '1503549097_2007',\n '1503550269_2007',\n '1503550293_2007',\n '1503550335_2007',\n '1503550848_2007',\n '1503551861_2007',\n '1503552208_2007',\n '1503552703_2007',\n '1503552851_2007',\n '1503554451_2007',\n '1503555219_2007',\n '1503555383_2007',\n '1503558304_2007',\n '1503558825_2007',\n '1503559393_2007',\n '1503560011_2007',\n '1503560854_2007',\n '1503561191_2007',\n '1503561951_2007',\n '1503563304_2007',\n '1503564740_2007',\n '1503565218_2007',\n '1503565978_2007',\n '1503567404_2007',\n '1503573725_2007',\n '1503573857_2007',\n '1503576660_2007',\n '1503576801_2007',\n '1503577486_2007',\n '1503577874_2007',\n '1503578328_2007',\n '1503579037_2007',\n '1503579110_2007',\n '1503579649_2007',\n '1503579995_2007',\n '1503581710_2007',\n '1503583385_2007',\n '1503583393_2007',\n '1503585257_2007',\n '1503586115_2007',\n '1503587097_2007',\n '1503587725_2007',\n '1503588780_2007',\n '1503590588_2007',\n '1503590703_2007',\n '1503591149_2007',\n '1503591248_2007',\n '1503592139_2007',\n '1503593251_2007',\n '1503595868_2007',\n '1503596668_2007',\n '1503596940_2007',\n '1503597708_2007',\n '1503600577_2007',\n '1503601575_2007',\n '1503602003_2007',\n '1503604355_2007',\n '1503604710_2007',\n '1503605055_2007',\n '1503605881_2007',\n '1503618611_2007',\n '1503618959_2007',\n '1503619577_2007',\n '1503641100_2007',\n '1503641209_2007',\n '1503642496_2007',\n '1503643635_2007',\n '1503643908_2007',\n '1503645366_2007',\n '1503654087_2007',\n '1503659573_2007',\n '1503661009_2007',\n '1503661314_2007',\n '1503661611_2007',\n '1503662288_2007',\n '1503663427_2007',\n '1503663500_2007',\n '1503664318_2007',\n '1503665976_2007',\n '1503666651_2007',\n '1503669028_2007',\n '1503669325_2007',\n '1503669531_2007',\n '1503669796_2007',\n '1503670513_2007',\n '1503670653_2007',\n '1503673152_2007',\n '1503673319_2007',\n '1503673475_2007',\n '1503674598_2007',\n '1503675942_2007',\n '1503676007_2007',\n '1503676767_2007',\n '1503677096_2007',\n '1503679464_2007',\n '1503679472_2007',\n '1503690495_2007',\n '1503711820_2007',\n '1503716977_2007',\n '1503717447_2007',\n '1503718692_2007',\n '1503728725_2007',\n '1503729673_2007',\n '1503730515_2007',\n '1503731240_2007',\n '1503731315_2007',\n '1503731679_2007',\n '1503732735_2007',\n '1503735829_2007',\n '1503737056_2007',\n '1503737510_2007',\n '1503737924_2007',\n '1503738286_2007',\n '1503743997_2007',\n '1503745323_2007',\n '1503745471_2007',\n '1503749754_2007',\n '1503749895_2007',\n '1503750307_2007',\n '1503750323_2007',\n '1503750430_2007',\n '1503750794_2007',\n '1503750885_2007',\n '1503750976_2007',\n '1503751933_2007',\n '1503754317_2007',\n '1503754572_2007',\n '1503754929_2007',\n '1503754945_2007']"
     },
     "execution_count": 40,
     "metadata": {},
     "output_type": "execute_result"
    }
   ],
   "source": [
    "Tab7 = Tab6[\"C2B\"].tolist()\n",
    "Tab7\n"
   ],
   "metadata": {
    "collapsed": false,
    "ExecuteTime": {
     "end_time": "2023-10-03T15:55:32.718037Z",
     "start_time": "2023-10-03T15:55:32.643286700Z"
    }
   },
   "id": "f74cefd033e60264"
  },
  {
   "cell_type": "code",
   "execution_count": 41,
   "outputs": [
    {
     "data": {
      "text/plain": "'1502713637_2007'"
     },
     "execution_count": 41,
     "metadata": {},
     "output_type": "execute_result"
    }
   ],
   "source": [
    "Num = Tab7[0]\n",
    "Num"
   ],
   "metadata": {
    "collapsed": false,
    "ExecuteTime": {
     "end_time": "2023-10-03T15:55:32.718536700Z",
     "start_time": "2023-10-03T15:55:32.653029600Z"
    }
   },
   "id": "1517856daa0dd6f7"
  },
  {
   "cell_type": "code",
   "execution_count": 42,
   "outputs": [
    {
     "data": {
      "text/plain": "  C1               C2A              C2B C3 C4  C5        C6             C7  \\\n0  C  DE1-ZGP/32965442  1502713637_2007     N   0  20071009  Plus Konto VW   \n\n    C8       C9  ...  C18      C19  \\\n0  EUR  2553.97  ...  0.0  2553.97   \n\n                                                 C20  \\\n0  NNNNNNNNNNNNNNNNNNNNNNNNNNNNNNNNNNNNNNNNNNNNNN...   \n\n                                                 C21  C22 C23  C24  C25   C26  \\\n0  NNNNNNNNNNNNNNNNNNNNNNNNNNNNNNNNNNNNNNNNNNNNNN...   DE      NaN    0  None   \n\n   C27  \n0   90  \n\n[1 rows x 28 columns]",
      "text/html": "<div>\n<style scoped>\n    .dataframe tbody tr th:only-of-type {\n        vertical-align: middle;\n    }\n\n    .dataframe tbody tr th {\n        vertical-align: top;\n    }\n\n    .dataframe thead th {\n        text-align: right;\n    }\n</style>\n<table border=\"1\" class=\"dataframe\">\n  <thead>\n    <tr style=\"text-align: right;\">\n      <th></th>\n      <th>C1</th>\n      <th>C2A</th>\n      <th>C2B</th>\n      <th>C3</th>\n      <th>C4</th>\n      <th>C5</th>\n      <th>C6</th>\n      <th>C7</th>\n      <th>C8</th>\n      <th>C9</th>\n      <th>...</th>\n      <th>C18</th>\n      <th>C19</th>\n      <th>C20</th>\n      <th>C21</th>\n      <th>C22</th>\n      <th>C23</th>\n      <th>C24</th>\n      <th>C25</th>\n      <th>C26</th>\n      <th>C27</th>\n    </tr>\n  </thead>\n  <tbody>\n    <tr>\n      <th>0</th>\n      <td>C</td>\n      <td>DE1-ZGP/32965442</td>\n      <td>1502713637_2007</td>\n      <td></td>\n      <td>N</td>\n      <td>0</td>\n      <td>20071009</td>\n      <td>Plus Konto VW</td>\n      <td>EUR</td>\n      <td>2553.97</td>\n      <td>...</td>\n      <td>0.0</td>\n      <td>2553.97</td>\n      <td>NNNNNNNNNNNNNNNNNNNNNNNNNNNNNNNNNNNNNNNNNNNNNN...</td>\n      <td>NNNNNNNNNNNNNNNNNNNNNNNNNNNNNNNNNNNNNNNNNNNNNN...</td>\n      <td>DE</td>\n      <td></td>\n      <td>NaN</td>\n      <td>0</td>\n      <td>None</td>\n      <td>90</td>\n    </tr>\n  </tbody>\n</table>\n<p>1 rows × 28 columns</p>\n</div>"
     },
     "execution_count": 42,
     "metadata": {},
     "output_type": "execute_result"
    }
   ],
   "source": [
    "Tab8 = C_Satz.loc[C_Satz[\"C2B\"] == Num]\n",
    "Tab8\n"
   ],
   "metadata": {
    "collapsed": false,
    "ExecuteTime": {
     "end_time": "2023-10-03T15:55:32.781348600Z",
     "start_time": "2023-10-03T15:55:32.656547100Z"
    }
   },
   "id": "5d07d922032d19be"
  },
  {
   "cell_type": "code",
   "execution_count": 43,
   "outputs": [
    {
     "data": {
      "text/plain": "                C2A    Vertrag_Nummern\n0  DE1-ZGP/32965442  [1502713637_2007]",
      "text/html": "<div>\n<style scoped>\n    .dataframe tbody tr th:only-of-type {\n        vertical-align: middle;\n    }\n\n    .dataframe tbody tr th {\n        vertical-align: top;\n    }\n\n    .dataframe thead th {\n        text-align: right;\n    }\n</style>\n<table border=\"1\" class=\"dataframe\">\n  <thead>\n    <tr style=\"text-align: right;\">\n      <th></th>\n      <th>C2A</th>\n      <th>Vertrag_Nummern</th>\n    </tr>\n  </thead>\n  <tbody>\n    <tr>\n      <th>0</th>\n      <td>DE1-ZGP/32965442</td>\n      <td>[1502713637_2007]</td>\n    </tr>\n  </tbody>\n</table>\n</div>"
     },
     "execution_count": 43,
     "metadata": {},
     "output_type": "execute_result"
    }
   ],
   "source": [
    "#\n",
    "Tab9 = Tab8.groupby(\"C2A\")[\"C2B\"].apply(list).reset_index(name=\"Vertrag_Nummern\")\n",
    "Tab9"
   ],
   "metadata": {
    "collapsed": false,
    "ExecuteTime": {
     "end_time": "2023-10-03T15:55:32.830880600Z",
     "start_time": "2023-10-03T15:55:32.665864Z"
    }
   },
   "id": "f1bae50cd37513c9"
  },
  {
   "cell_type": "code",
   "execution_count": 44,
   "outputs": [
    {
     "data": {
      "text/plain": "    C1               C2A              C2B C3 C4  C5        C6             C7  \\\n148  C  DE1-ZGP/13233006  1502923327_2007     N   0  20071009  Plus Konto VW   \n\n      C8        C9  ...  C18       C19  \\\n148  EUR  21453.99  ...  0.0  21453.99   \n\n                                                   C20  \\\n148  NNNNNNNNNNNNNNNNNNNNNNNNNNNNNNNNNNNNNNNNNNNNNN...   \n\n                                                   C21  C22 C23  C24  C25  \\\n148  NNNNNNNNNNNNNNNNNNNNNNNNNNNNNNNNNNNNNNNNNNNNNN...   DE      NaN    0   \n\n      C26  C27  \n148  None   90  \n\n[1 rows x 28 columns]",
      "text/html": "<div>\n<style scoped>\n    .dataframe tbody tr th:only-of-type {\n        vertical-align: middle;\n    }\n\n    .dataframe tbody tr th {\n        vertical-align: top;\n    }\n\n    .dataframe thead th {\n        text-align: right;\n    }\n</style>\n<table border=\"1\" class=\"dataframe\">\n  <thead>\n    <tr style=\"text-align: right;\">\n      <th></th>\n      <th>C1</th>\n      <th>C2A</th>\n      <th>C2B</th>\n      <th>C3</th>\n      <th>C4</th>\n      <th>C5</th>\n      <th>C6</th>\n      <th>C7</th>\n      <th>C8</th>\n      <th>C9</th>\n      <th>...</th>\n      <th>C18</th>\n      <th>C19</th>\n      <th>C20</th>\n      <th>C21</th>\n      <th>C22</th>\n      <th>C23</th>\n      <th>C24</th>\n      <th>C25</th>\n      <th>C26</th>\n      <th>C27</th>\n    </tr>\n  </thead>\n  <tbody>\n    <tr>\n      <th>148</th>\n      <td>C</td>\n      <td>DE1-ZGP/13233006</td>\n      <td>1502923327_2007</td>\n      <td></td>\n      <td>N</td>\n      <td>0</td>\n      <td>20071009</td>\n      <td>Plus Konto VW</td>\n      <td>EUR</td>\n      <td>21453.99</td>\n      <td>...</td>\n      <td>0.0</td>\n      <td>21453.99</td>\n      <td>NNNNNNNNNNNNNNNNNNNNNNNNNNNNNNNNNNNNNNNNNNNNNN...</td>\n      <td>NNNNNNNNNNNNNNNNNNNNNNNNNNNNNNNNNNNNNNNNNNNNNN...</td>\n      <td>DE</td>\n      <td></td>\n      <td>NaN</td>\n      <td>0</td>\n      <td>None</td>\n      <td>90</td>\n    </tr>\n  </tbody>\n</table>\n<p>1 rows × 28 columns</p>\n</div>"
     },
     "execution_count": 44,
     "metadata": {},
     "output_type": "execute_result"
    }
   ],
   "source": [
    "x = C_Satz.loc[(C_Satz[\"C2A\"] == 'DE1-ZGP/13233006')]\n",
    "x\n",
    "################++++++ Definition des C-Satzes(Contract) +++++##############"
   ],
   "metadata": {
    "collapsed": false,
    "ExecuteTime": {
     "end_time": "2023-10-03T15:55:32.842979200Z",
     "start_time": "2023-10-03T15:55:32.670532800Z"
    }
   },
   "id": "b4dd8a454fcab299"
  },
  {
   "cell_type": "code",
   "execution_count": 45,
   "outputs": [],
   "source": [
    "C_Satz.to_csv(path+\"/C.csv\", index=False)\n"
   ],
   "metadata": {
    "collapsed": false,
    "ExecuteTime": {
     "end_time": "2023-10-03T15:55:32.846985500Z",
     "start_time": "2023-10-03T15:55:32.680716200Z"
    }
   },
   "id": "4d0b4344f03e0285"
  },
  {
   "cell_type": "code",
   "execution_count": 46,
   "outputs": [],
   "source": [
    "#drop all rows where B2 is empty\n",
    "B_Satz2.dropna(subset=[\"B2\", \"B3\"], inplace=True)\n",
    "B_Satz2.to_csv(path+\"/B.csv\", index=False)"
   ],
   "metadata": {
    "collapsed": false,
    "ExecuteTime": {
     "end_time": "2023-10-03T15:55:32.990264100Z",
     "start_time": "2023-10-03T15:55:32.697833500Z"
    }
   },
   "id": "8945565ecd8a9e3b"
  },
  {
   "cell_type": "code",
   "execution_count": 47,
   "outputs": [],
   "source": [
    "A_Satz.to_csv(path+\"/A.csv\", index=False)\n"
   ],
   "metadata": {
    "collapsed": false,
    "ExecuteTime": {
     "end_time": "2023-10-03T15:55:32.990264100Z",
     "start_time": "2023-10-03T15:55:32.761611800Z"
    }
   },
   "id": "254c9867b08804de"
  },
  {
   "cell_type": "code",
   "execution_count": 53,
   "outputs": [],
   "source": [
    "import time"
   ],
   "metadata": {
    "collapsed": false,
    "ExecuteTime": {
     "end_time": "2023-10-03T16:03:26.653734100Z",
     "start_time": "2023-10-03T16:03:26.627091600Z"
    }
   },
   "id": "4dc644e885785d82"
  },
  {
   "cell_type": "code",
   "execution_count": 65,
   "outputs": [
    {
     "name": "stderr",
     "output_type": "stream",
     "text": [
      "C:\\Users\\Carina\\AppData\\Local\\Temp\\ipykernel_31156\\3248816588.py:3: DtypeWarning: Columns (11,18,24,53,54,59,69,72,74,76,86,116,119) have mixed types. Specify dtype option on import or set low_memory=False.\n",
      "  DF_CONTR = pd.read_csv(path+\"/CONTR.csv\", sep =\"\\t\", skiprows = 9, decimal = \".\")\n"
     ]
    },
    {
     "name": "stdout",
     "output_type": "stream",
     "text": [
      "Das Einlesen dauerte: 1.1031503677368164 Sekunden\n"
     ]
    }
   ],
   "source": [
    "t_0 = time.time()\n",
    "\n",
    "DF_CONTR = pd.read_csv(path + \"/CONTR.csv\", sep=\"\\t\", skiprows=9, decimal=\".\")\n",
    "\n",
    "print(\"Das Einlesen dauerte:\", time.time() - t_0, \"Sekunden\")"
   ],
   "metadata": {
    "collapsed": false,
    "ExecuteTime": {
     "end_time": "2023-10-03T16:17:28.015361Z",
     "start_time": "2023-10-03T16:17:26.896695100Z"
    }
   },
   "id": "222fefcebb7c9e8a"
  },
  {
   "cell_type": "code",
   "execution_count": 66,
   "outputs": [
    {
     "data": {
      "text/plain": "               KDW0034O                           KDW0034  \\\n0               DE1-BCA                   1500603715_2004   \n1               DE1-BCA                   1500665763_2004   \n2               DE1-BCA                   1500829401_2004   \n3               DE1-BCA                   1500831019_2004   \n4               DE1-BCA                   1500836257_2004   \n...                 ...                               ...   \n172192  TRSRYDE1-4160-C  DD724381EDE108EF1D0B82D608C9681F   \n172193  TRSRYDE1-4160-C  DDEFABDBC4A7F79F3A4CDD91BE7FA51E   \n172194  TRSRYDE1-4160-C  DE9705C63FF20B984B4EE74A621271AE   \n172195  TRSRYDE1-4160-C  DEB0C015B86E135887073E0539C5CF96   \n172196  TRSRYDE1-4160-C  DEBB2168776FCED4167ACACDB6DEAFC7   \n\n                     KDW0717 KDW0719 TPDW0529 SDW0050 TPDW0027    DTDW0036  \\\n0       DE1D-20230612-1-INT1    DE1D        C      OG       DB  20040216.0   \n1       DE1D-20230612-1-INT1    DE1D        C      OG       DB  20040326.0   \n2       DE1D-20230612-1-INT1    DE1D        C      OG       DB  20041103.0   \n3       DE1D-20230612-1-INT1    DE1D        C      OG       DB  20041109.0   \n4       DE1D-20230612-1-INT1    DE1D        C      OG       DB  20041123.0   \n...                      ...     ...      ...     ...      ...         ...   \n172192  DE1D-20230612-1-INT1    DE1D      NaN      OG      NaN  20210128.0   \n172193  DE1D-20230612-1-INT1    DE1D      NaN      OG      NaN  20190722.0   \n172194  DE1D-20230612-1-INT1    DE1D      NaN      OG      NaN  20221024.0   \n172195  DE1D-20230612-1-INT1    DE1D      NaN      OG      NaN  20221101.0   \n172196  DE1D-20230612-1-INT1    DE1D      NaN      OG      NaN  20221128.0   \n\n          DTDW0039  DTDW0240  ...    DTDW3987 TPDW3986 TPDW3995 DTDW3988  \\\n0       20040216.0  99991231  ...         NaN        N       M1      NaN   \n1       20040326.0  99991231  ...         NaN        N       M1      NaN   \n2       20041103.0  99991231  ...         NaN        N       M1      NaN   \n3       20041109.0  99991231  ...  20150102.0        N       M1      NaN   \n4       20041123.0  99991231  ...  20150102.0        N       M1      NaN   \n...            ...       ...  ...         ...      ...      ...      ...   \n172192  20210201.0  20241101  ...  20210201.0        N       BL      NaN   \n172193  20190724.0  20231017  ...  20190724.0        N       BL      NaN   \n172194  20221026.0  20230727  ...  20221026.0        N       ZC      NaN   \n172195  20221101.0  20230703  ...  20221101.0        N       BL      NaN   \n172196  20221129.0  20280518  ...  20221129.0        N       BL      NaN   \n\n       KMDORIGID            KMDPRODID FMDACTIVE   KMDPROTYP TPMDPRCD  \\\n0        DE1-REF       DE-Z174-ZBK112         1  02.02.2001      NaN   \n1        DE1-REF       DE-Z174-ZBK112         1  02.02.2001      NaN   \n2        DE1-REF       DE-Z174-ZBK112         1  02.02.2001      NaN   \n3        DE1-REF       DE-Z174-ZBK112         1  02.02.2001      NaN   \n4        DE1-REF       DE-Z174-ZBK112         1  02.02.2001      NaN   \n...          ...                  ...       ...         ...      ...   \n172192   DE1-REF  DE-Z720-00055C-4160         1  08.02.2004      55C   \n172193   DE1-REF  DE-Z720-00055C-4160         1  08.02.2004      55C   \n172194   DE1-REF  DE-Z716-00051B-4160         1  08.02.2002      51B   \n172195   DE1-REF  DE-Z730-00055O-4160         1     NON_NPP      55O   \n172196   DE1-REF  DE-Z720-00055C-4160         1  08.02.2004      55C   \n\n                   DSMDPRODN  \n0       Volkswagen VISA Card  \n1       Volkswagen VISA Card  \n2       Volkswagen VISA Card  \n3       Volkswagen VISA Card  \n4       Volkswagen VISA Card  \n...                      ...  \n172192      Festsatzdarlehen  \n172193      Festsatzdarlehen  \n172194            Termingeld  \n172195            Collateral  \n172196      Festsatzdarlehen  \n\n[172197 rows x 130 columns]",
      "text/html": "<div>\n<style scoped>\n    .dataframe tbody tr th:only-of-type {\n        vertical-align: middle;\n    }\n\n    .dataframe tbody tr th {\n        vertical-align: top;\n    }\n\n    .dataframe thead th {\n        text-align: right;\n    }\n</style>\n<table border=\"1\" class=\"dataframe\">\n  <thead>\n    <tr style=\"text-align: right;\">\n      <th></th>\n      <th>KDW0034O</th>\n      <th>KDW0034</th>\n      <th>KDW0717</th>\n      <th>KDW0719</th>\n      <th>TPDW0529</th>\n      <th>SDW0050</th>\n      <th>TPDW0027</th>\n      <th>DTDW0036</th>\n      <th>DTDW0039</th>\n      <th>DTDW0240</th>\n      <th>...</th>\n      <th>DTDW3987</th>\n      <th>TPDW3986</th>\n      <th>TPDW3995</th>\n      <th>DTDW3988</th>\n      <th>KMDORIGID</th>\n      <th>KMDPRODID</th>\n      <th>FMDACTIVE</th>\n      <th>KMDPROTYP</th>\n      <th>TPMDPRCD</th>\n      <th>DSMDPRODN</th>\n    </tr>\n  </thead>\n  <tbody>\n    <tr>\n      <th>0</th>\n      <td>DE1-BCA</td>\n      <td>1500603715_2004</td>\n      <td>DE1D-20230612-1-INT1</td>\n      <td>DE1D</td>\n      <td>C</td>\n      <td>OG</td>\n      <td>DB</td>\n      <td>20040216.0</td>\n      <td>20040216.0</td>\n      <td>99991231</td>\n      <td>...</td>\n      <td>NaN</td>\n      <td>N</td>\n      <td>M1</td>\n      <td>NaN</td>\n      <td>DE1-REF</td>\n      <td>DE-Z174-ZBK112</td>\n      <td>1</td>\n      <td>02.02.2001</td>\n      <td>NaN</td>\n      <td>Volkswagen VISA Card</td>\n    </tr>\n    <tr>\n      <th>1</th>\n      <td>DE1-BCA</td>\n      <td>1500665763_2004</td>\n      <td>DE1D-20230612-1-INT1</td>\n      <td>DE1D</td>\n      <td>C</td>\n      <td>OG</td>\n      <td>DB</td>\n      <td>20040326.0</td>\n      <td>20040326.0</td>\n      <td>99991231</td>\n      <td>...</td>\n      <td>NaN</td>\n      <td>N</td>\n      <td>M1</td>\n      <td>NaN</td>\n      <td>DE1-REF</td>\n      <td>DE-Z174-ZBK112</td>\n      <td>1</td>\n      <td>02.02.2001</td>\n      <td>NaN</td>\n      <td>Volkswagen VISA Card</td>\n    </tr>\n    <tr>\n      <th>2</th>\n      <td>DE1-BCA</td>\n      <td>1500829401_2004</td>\n      <td>DE1D-20230612-1-INT1</td>\n      <td>DE1D</td>\n      <td>C</td>\n      <td>OG</td>\n      <td>DB</td>\n      <td>20041103.0</td>\n      <td>20041103.0</td>\n      <td>99991231</td>\n      <td>...</td>\n      <td>NaN</td>\n      <td>N</td>\n      <td>M1</td>\n      <td>NaN</td>\n      <td>DE1-REF</td>\n      <td>DE-Z174-ZBK112</td>\n      <td>1</td>\n      <td>02.02.2001</td>\n      <td>NaN</td>\n      <td>Volkswagen VISA Card</td>\n    </tr>\n    <tr>\n      <th>3</th>\n      <td>DE1-BCA</td>\n      <td>1500831019_2004</td>\n      <td>DE1D-20230612-1-INT1</td>\n      <td>DE1D</td>\n      <td>C</td>\n      <td>OG</td>\n      <td>DB</td>\n      <td>20041109.0</td>\n      <td>20041109.0</td>\n      <td>99991231</td>\n      <td>...</td>\n      <td>20150102.0</td>\n      <td>N</td>\n      <td>M1</td>\n      <td>NaN</td>\n      <td>DE1-REF</td>\n      <td>DE-Z174-ZBK112</td>\n      <td>1</td>\n      <td>02.02.2001</td>\n      <td>NaN</td>\n      <td>Volkswagen VISA Card</td>\n    </tr>\n    <tr>\n      <th>4</th>\n      <td>DE1-BCA</td>\n      <td>1500836257_2004</td>\n      <td>DE1D-20230612-1-INT1</td>\n      <td>DE1D</td>\n      <td>C</td>\n      <td>OG</td>\n      <td>DB</td>\n      <td>20041123.0</td>\n      <td>20041123.0</td>\n      <td>99991231</td>\n      <td>...</td>\n      <td>20150102.0</td>\n      <td>N</td>\n      <td>M1</td>\n      <td>NaN</td>\n      <td>DE1-REF</td>\n      <td>DE-Z174-ZBK112</td>\n      <td>1</td>\n      <td>02.02.2001</td>\n      <td>NaN</td>\n      <td>Volkswagen VISA Card</td>\n    </tr>\n    <tr>\n      <th>...</th>\n      <td>...</td>\n      <td>...</td>\n      <td>...</td>\n      <td>...</td>\n      <td>...</td>\n      <td>...</td>\n      <td>...</td>\n      <td>...</td>\n      <td>...</td>\n      <td>...</td>\n      <td>...</td>\n      <td>...</td>\n      <td>...</td>\n      <td>...</td>\n      <td>...</td>\n      <td>...</td>\n      <td>...</td>\n      <td>...</td>\n      <td>...</td>\n      <td>...</td>\n      <td>...</td>\n    </tr>\n    <tr>\n      <th>172192</th>\n      <td>TRSRYDE1-4160-C</td>\n      <td>DD724381EDE108EF1D0B82D608C9681F</td>\n      <td>DE1D-20230612-1-INT1</td>\n      <td>DE1D</td>\n      <td>NaN</td>\n      <td>OG</td>\n      <td>NaN</td>\n      <td>20210128.0</td>\n      <td>20210201.0</td>\n      <td>20241101</td>\n      <td>...</td>\n      <td>20210201.0</td>\n      <td>N</td>\n      <td>BL</td>\n      <td>NaN</td>\n      <td>DE1-REF</td>\n      <td>DE-Z720-00055C-4160</td>\n      <td>1</td>\n      <td>08.02.2004</td>\n      <td>55C</td>\n      <td>Festsatzdarlehen</td>\n    </tr>\n    <tr>\n      <th>172193</th>\n      <td>TRSRYDE1-4160-C</td>\n      <td>DDEFABDBC4A7F79F3A4CDD91BE7FA51E</td>\n      <td>DE1D-20230612-1-INT1</td>\n      <td>DE1D</td>\n      <td>NaN</td>\n      <td>OG</td>\n      <td>NaN</td>\n      <td>20190722.0</td>\n      <td>20190724.0</td>\n      <td>20231017</td>\n      <td>...</td>\n      <td>20190724.0</td>\n      <td>N</td>\n      <td>BL</td>\n      <td>NaN</td>\n      <td>DE1-REF</td>\n      <td>DE-Z720-00055C-4160</td>\n      <td>1</td>\n      <td>08.02.2004</td>\n      <td>55C</td>\n      <td>Festsatzdarlehen</td>\n    </tr>\n    <tr>\n      <th>172194</th>\n      <td>TRSRYDE1-4160-C</td>\n      <td>DE9705C63FF20B984B4EE74A621271AE</td>\n      <td>DE1D-20230612-1-INT1</td>\n      <td>DE1D</td>\n      <td>NaN</td>\n      <td>OG</td>\n      <td>NaN</td>\n      <td>20221024.0</td>\n      <td>20221026.0</td>\n      <td>20230727</td>\n      <td>...</td>\n      <td>20221026.0</td>\n      <td>N</td>\n      <td>ZC</td>\n      <td>NaN</td>\n      <td>DE1-REF</td>\n      <td>DE-Z716-00051B-4160</td>\n      <td>1</td>\n      <td>08.02.2002</td>\n      <td>51B</td>\n      <td>Termingeld</td>\n    </tr>\n    <tr>\n      <th>172195</th>\n      <td>TRSRYDE1-4160-C</td>\n      <td>DEB0C015B86E135887073E0539C5CF96</td>\n      <td>DE1D-20230612-1-INT1</td>\n      <td>DE1D</td>\n      <td>NaN</td>\n      <td>OG</td>\n      <td>NaN</td>\n      <td>20221101.0</td>\n      <td>20221101.0</td>\n      <td>20230703</td>\n      <td>...</td>\n      <td>20221101.0</td>\n      <td>N</td>\n      <td>BL</td>\n      <td>NaN</td>\n      <td>DE1-REF</td>\n      <td>DE-Z730-00055O-4160</td>\n      <td>1</td>\n      <td>NON_NPP</td>\n      <td>55O</td>\n      <td>Collateral</td>\n    </tr>\n    <tr>\n      <th>172196</th>\n      <td>TRSRYDE1-4160-C</td>\n      <td>DEBB2168776FCED4167ACACDB6DEAFC7</td>\n      <td>DE1D-20230612-1-INT1</td>\n      <td>DE1D</td>\n      <td>NaN</td>\n      <td>OG</td>\n      <td>NaN</td>\n      <td>20221128.0</td>\n      <td>20221129.0</td>\n      <td>20280518</td>\n      <td>...</td>\n      <td>20221129.0</td>\n      <td>N</td>\n      <td>BL</td>\n      <td>NaN</td>\n      <td>DE1-REF</td>\n      <td>DE-Z720-00055C-4160</td>\n      <td>1</td>\n      <td>08.02.2004</td>\n      <td>55C</td>\n      <td>Festsatzdarlehen</td>\n    </tr>\n  </tbody>\n</table>\n<p>172197 rows × 130 columns</p>\n</div>"
     },
     "execution_count": 66,
     "metadata": {},
     "output_type": "execute_result"
    }
   ],
   "source": [
    "DF_merg6 = DF_CONTR.merge(DF_PRO, left_on=\"KDW0046A\", right_on=\"KMDPRODID\", how=\"left\")  #????\n",
    "\n",
    "DF_merg6"
   ],
   "metadata": {
    "collapsed": false,
    "ExecuteTime": {
     "end_time": "2023-10-03T16:17:28.118058900Z",
     "start_time": "2023-10-03T16:17:28.003348400Z"
    }
   },
   "id": "7e6240133bc2944d"
  },
  {
   "cell_type": "code",
   "execution_count": 67,
   "outputs": [],
   "source": [
    "C_CONT = pd.DataFrame([[''] * 27], index=range(0, 1460610), columns=[\"C{}\".format(i) for i in range(1, 28)])\n",
    "C_CONT[\"C1\"] = \"C\"\n",
    "C_CONT[\"C2B\"] = DF_CONTR[\"KDW0034\"]\n",
    "C_CONT.dropna(subset=\"C2B\", inplace=True)\n",
    "DF = DF_BPact[DF_BPact[\"TPDW5090\"] == \"DB\"]\n",
    "DF = DF[[\"KDWR5089\", \"KDWR5088\"]]"
   ],
   "metadata": {
    "collapsed": false,
    "ExecuteTime": {
     "end_time": "2023-10-03T16:17:28.401135200Z",
     "start_time": "2023-10-03T16:17:28.117558700Z"
    }
   },
   "id": "db144037734d5e5a"
  },
  {
   "cell_type": "code",
   "execution_count": 68,
   "outputs": [
    {
     "data": {
      "text/plain": "     C1 C2 C3 C4  C5          C6                    C7   C8       C9      C10  \\\n0     C        N   0  20040216.0  Volkswagen VISA Card  EUR     0.00  1.00000   \n1     C        N   0  20040326.0  Volkswagen VISA Card  EUR     0.00  1.00000   \n2     C        N   0  20041103.0  Volkswagen VISA Card  EUR     0.00  1.00000   \n3     C        N   0  20041109.0  Volkswagen VISA Card  EUR     0.00  1.00000   \n4     C        N   0  20041123.0  Volkswagen VISA Card  EUR -1898.19  1.00000   \n...  .. .. .. ..  ..         ...                   ...  ...      ...      ...   \n3825  C        N   0  20201028.0       Skoda VISA Card  EUR     0.00  1.00000   \n3826  C        N   0  20201028.0       Skoda VISA Card  EUR     0.00  1.00000   \n3827  C        N   0  20201028.0       Skoda VISA Card  EUR     0.00  1.00000   \n3828  C        N   0  20201028.0       Skoda VISA Card  EUR  -180.00  1.00000   \n3829  C        N   0  20201028.0       Skoda VISA Card  EUR   -41.73  1.00000   \n\n      ...                                                C21 C22 C23 C24 C25  \\\n0     ...  NNNNNNNNNNNNNNNNNNNNNNNNNNNNNNNNNNNNNNNNNNNNNN...  DE       X   X   \n1     ...  NNNNNNNNNNNNNNNNNNNNNNNNNNNNNNNNNNNNNNNNNNNNNN...  DE       X   X   \n2     ...  NNNNNNNNNNNNNNNNNNNNNNNNNNNNNNNNNNNNNNNNNNNNNN...  DE       X   X   \n3     ...  NNNNNNNNNNNNNNNNNNNNNNNNNNNNNNNNNNNNNNNNNNNNNN...  DE       X   X   \n4     ...  NNNNNNNNNNNNNNNNNNNNNNNNNNNNNNNNNNNNNNNNNNNNNN...  DE       X   X   \n...   ...                                                ...  ..  ..  ..  ..   \n3825  ...  NNNNNNNNNNNNNNNNNNNNNNNNNNNNNNNNNNNNNNNNNNNNNN...  DE       X   X   \n3826  ...  NNNNNNNNNNNNNNNNNNNNNNNNNNNNNNNNNNNNNNNNNNNNNN...  DE       X   X   \n3827  ...  NNNNNNNNNNNNNNNNNNNNNNNNNNNNNNNNNNNNNNNNNNNNNN...  DE       X   X   \n3828  ...  NNNNNNNNNNNNNNNNNNNNNNNNNNNNNNNNNNNNNNNNNNNNNN...  DE       X   X   \n3829  ...  NNNNNNNNNNNNNNNNNNNNNNNNNNNNNNNNNNNNNNNNNNNNNN...  DE       X   X   \n\n     C26  C27                   C2B              KDWR5089       C2A  \n0      X    X       1501368870_2006       1501368870_2006  43964308  \n1      X    X       1501376014_2006       1501376014_2006  43964308  \n2      X    X       1502388752_2007       1502388752_2007  43964308  \n3      X    X       1503404301_2007       1503404301_2007  43964308  \n4      X    X       1504304526_2008       1504304526_2008  43964308  \n...   ..  ...                   ...                   ...       ...  \n3825   X    X  8900562441_2020_4160  8900562441_2020_4160  43964308  \n3826   X    X  8920208603_2007_4160  8920208603_2007_4160  43964308  \n3827   X    X  8920218289_2010_4160  8920218289_2010_4160  43964308  \n3828   X    X  8920279091_2021_4160  8920279091_2021_4160  43964308  \n3829   X    X  8920426254_2015_4160  8920426254_2015_4160  43964308  \n\n[3830 rows x 30 columns]",
      "text/html": "<div>\n<style scoped>\n    .dataframe tbody tr th:only-of-type {\n        vertical-align: middle;\n    }\n\n    .dataframe tbody tr th {\n        vertical-align: top;\n    }\n\n    .dataframe thead th {\n        text-align: right;\n    }\n</style>\n<table border=\"1\" class=\"dataframe\">\n  <thead>\n    <tr style=\"text-align: right;\">\n      <th></th>\n      <th>C1</th>\n      <th>C2</th>\n      <th>C3</th>\n      <th>C4</th>\n      <th>C5</th>\n      <th>C6</th>\n      <th>C7</th>\n      <th>C8</th>\n      <th>C9</th>\n      <th>C10</th>\n      <th>...</th>\n      <th>C21</th>\n      <th>C22</th>\n      <th>C23</th>\n      <th>C24</th>\n      <th>C25</th>\n      <th>C26</th>\n      <th>C27</th>\n      <th>C2B</th>\n      <th>KDWR5089</th>\n      <th>C2A</th>\n    </tr>\n  </thead>\n  <tbody>\n    <tr>\n      <th>0</th>\n      <td>C</td>\n      <td></td>\n      <td></td>\n      <td>N</td>\n      <td>0</td>\n      <td>20040216.0</td>\n      <td>Volkswagen VISA Card</td>\n      <td>EUR</td>\n      <td>0.00</td>\n      <td>1.00000</td>\n      <td>...</td>\n      <td>NNNNNNNNNNNNNNNNNNNNNNNNNNNNNNNNNNNNNNNNNNNNNN...</td>\n      <td>DE</td>\n      <td></td>\n      <td>X</td>\n      <td>X</td>\n      <td>X</td>\n      <td>X</td>\n      <td>1501368870_2006</td>\n      <td>1501368870_2006</td>\n      <td>43964308</td>\n    </tr>\n    <tr>\n      <th>1</th>\n      <td>C</td>\n      <td></td>\n      <td></td>\n      <td>N</td>\n      <td>0</td>\n      <td>20040326.0</td>\n      <td>Volkswagen VISA Card</td>\n      <td>EUR</td>\n      <td>0.00</td>\n      <td>1.00000</td>\n      <td>...</td>\n      <td>NNNNNNNNNNNNNNNNNNNNNNNNNNNNNNNNNNNNNNNNNNNNNN...</td>\n      <td>DE</td>\n      <td></td>\n      <td>X</td>\n      <td>X</td>\n      <td>X</td>\n      <td>X</td>\n      <td>1501376014_2006</td>\n      <td>1501376014_2006</td>\n      <td>43964308</td>\n    </tr>\n    <tr>\n      <th>2</th>\n      <td>C</td>\n      <td></td>\n      <td></td>\n      <td>N</td>\n      <td>0</td>\n      <td>20041103.0</td>\n      <td>Volkswagen VISA Card</td>\n      <td>EUR</td>\n      <td>0.00</td>\n      <td>1.00000</td>\n      <td>...</td>\n      <td>NNNNNNNNNNNNNNNNNNNNNNNNNNNNNNNNNNNNNNNNNNNNNN...</td>\n      <td>DE</td>\n      <td></td>\n      <td>X</td>\n      <td>X</td>\n      <td>X</td>\n      <td>X</td>\n      <td>1502388752_2007</td>\n      <td>1502388752_2007</td>\n      <td>43964308</td>\n    </tr>\n    <tr>\n      <th>3</th>\n      <td>C</td>\n      <td></td>\n      <td></td>\n      <td>N</td>\n      <td>0</td>\n      <td>20041109.0</td>\n      <td>Volkswagen VISA Card</td>\n      <td>EUR</td>\n      <td>0.00</td>\n      <td>1.00000</td>\n      <td>...</td>\n      <td>NNNNNNNNNNNNNNNNNNNNNNNNNNNNNNNNNNNNNNNNNNNNNN...</td>\n      <td>DE</td>\n      <td></td>\n      <td>X</td>\n      <td>X</td>\n      <td>X</td>\n      <td>X</td>\n      <td>1503404301_2007</td>\n      <td>1503404301_2007</td>\n      <td>43964308</td>\n    </tr>\n    <tr>\n      <th>4</th>\n      <td>C</td>\n      <td></td>\n      <td></td>\n      <td>N</td>\n      <td>0</td>\n      <td>20041123.0</td>\n      <td>Volkswagen VISA Card</td>\n      <td>EUR</td>\n      <td>-1898.19</td>\n      <td>1.00000</td>\n      <td>...</td>\n      <td>NNNNNNNNNNNNNNNNNNNNNNNNNNNNNNNNNNNNNNNNNNNNNN...</td>\n      <td>DE</td>\n      <td></td>\n      <td>X</td>\n      <td>X</td>\n      <td>X</td>\n      <td>X</td>\n      <td>1504304526_2008</td>\n      <td>1504304526_2008</td>\n      <td>43964308</td>\n    </tr>\n    <tr>\n      <th>...</th>\n      <td>...</td>\n      <td>...</td>\n      <td>...</td>\n      <td>...</td>\n      <td>...</td>\n      <td>...</td>\n      <td>...</td>\n      <td>...</td>\n      <td>...</td>\n      <td>...</td>\n      <td>...</td>\n      <td>...</td>\n      <td>...</td>\n      <td>...</td>\n      <td>...</td>\n      <td>...</td>\n      <td>...</td>\n      <td>...</td>\n      <td>...</td>\n      <td>...</td>\n      <td>...</td>\n    </tr>\n    <tr>\n      <th>3825</th>\n      <td>C</td>\n      <td></td>\n      <td></td>\n      <td>N</td>\n      <td>0</td>\n      <td>20201028.0</td>\n      <td>Skoda VISA Card</td>\n      <td>EUR</td>\n      <td>0.00</td>\n      <td>1.00000</td>\n      <td>...</td>\n      <td>NNNNNNNNNNNNNNNNNNNNNNNNNNNNNNNNNNNNNNNNNNNNNN...</td>\n      <td>DE</td>\n      <td></td>\n      <td>X</td>\n      <td>X</td>\n      <td>X</td>\n      <td>X</td>\n      <td>8900562441_2020_4160</td>\n      <td>8900562441_2020_4160</td>\n      <td>43964308</td>\n    </tr>\n    <tr>\n      <th>3826</th>\n      <td>C</td>\n      <td></td>\n      <td></td>\n      <td>N</td>\n      <td>0</td>\n      <td>20201028.0</td>\n      <td>Skoda VISA Card</td>\n      <td>EUR</td>\n      <td>0.00</td>\n      <td>1.00000</td>\n      <td>...</td>\n      <td>NNNNNNNNNNNNNNNNNNNNNNNNNNNNNNNNNNNNNNNNNNNNNN...</td>\n      <td>DE</td>\n      <td></td>\n      <td>X</td>\n      <td>X</td>\n      <td>X</td>\n      <td>X</td>\n      <td>8920208603_2007_4160</td>\n      <td>8920208603_2007_4160</td>\n      <td>43964308</td>\n    </tr>\n    <tr>\n      <th>3827</th>\n      <td>C</td>\n      <td></td>\n      <td></td>\n      <td>N</td>\n      <td>0</td>\n      <td>20201028.0</td>\n      <td>Skoda VISA Card</td>\n      <td>EUR</td>\n      <td>0.00</td>\n      <td>1.00000</td>\n      <td>...</td>\n      <td>NNNNNNNNNNNNNNNNNNNNNNNNNNNNNNNNNNNNNNNNNNNNNN...</td>\n      <td>DE</td>\n      <td></td>\n      <td>X</td>\n      <td>X</td>\n      <td>X</td>\n      <td>X</td>\n      <td>8920218289_2010_4160</td>\n      <td>8920218289_2010_4160</td>\n      <td>43964308</td>\n    </tr>\n    <tr>\n      <th>3828</th>\n      <td>C</td>\n      <td></td>\n      <td></td>\n      <td>N</td>\n      <td>0</td>\n      <td>20201028.0</td>\n      <td>Skoda VISA Card</td>\n      <td>EUR</td>\n      <td>-180.00</td>\n      <td>1.00000</td>\n      <td>...</td>\n      <td>NNNNNNNNNNNNNNNNNNNNNNNNNNNNNNNNNNNNNNNNNNNNNN...</td>\n      <td>DE</td>\n      <td></td>\n      <td>X</td>\n      <td>X</td>\n      <td>X</td>\n      <td>X</td>\n      <td>8920279091_2021_4160</td>\n      <td>8920279091_2021_4160</td>\n      <td>43964308</td>\n    </tr>\n    <tr>\n      <th>3829</th>\n      <td>C</td>\n      <td></td>\n      <td></td>\n      <td>N</td>\n      <td>0</td>\n      <td>20201028.0</td>\n      <td>Skoda VISA Card</td>\n      <td>EUR</td>\n      <td>-41.73</td>\n      <td>1.00000</td>\n      <td>...</td>\n      <td>NNNNNNNNNNNNNNNNNNNNNNNNNNNNNNNNNNNNNNNNNNNNNN...</td>\n      <td>DE</td>\n      <td></td>\n      <td>X</td>\n      <td>X</td>\n      <td>X</td>\n      <td>X</td>\n      <td>8920426254_2015_4160</td>\n      <td>8920426254_2015_4160</td>\n      <td>43964308</td>\n    </tr>\n  </tbody>\n</table>\n<p>3830 rows × 30 columns</p>\n</div>"
     },
     "execution_count": 68,
     "metadata": {},
     "output_type": "execute_result"
    }
   ],
   "source": [
    "###++++ Definition des C_Satzes für die Contract Entität +++++###########\n",
    "C_CONT = C_CONT.merge(DF, left_on=\"C2B\", right_on=\"KDWR5089\", how=\"inner\")\n",
    "\n",
    "#rename KDWR5088 to C2A\n",
    "\n",
    "C_CONT.rename(columns={\"KDWR5088\": \"C2A\"}, inplace=True)\n",
    "\n",
    "C_CONT[\"C4\"] = \"N\"\n",
    "C_CONT[\"C5\"] = func_neu_C5(DF_Liab, DF_BPact, \"KDW5082\", \"KDWR5089\", \"TPDW5090\")\n",
    "C_CONT[\"C6\"] = naechsterwert2(DF_CONTR, \"KDW0034\", \"DTDW0039\")  # [\"DTDW5113\" for \"DTDW5113\" in DF_Liab.set_index(\"KDW5082\").columns]  # DF_Liab[\"DTDW5113\"].sort_values(\"KDW5082\")                                        #S-Verweis: Suche aus PLIABA den Vertrag (KYDW5082) und das dazugehörige Datum DTDW5113 und schreibe es in C6\n",
    "C_CONT[\"C7\"] = naechsterwert2(DF_merg6, \"KDW0034\", \"DSMDPRODN\")  # Sverweis(DF_Liab,DF_PRO, \"KDW5082\", \"KDWR5097\", DF_Liab, DF_PRO,\"KMDPRODID\", \"TPMDPPRCD\", \"KDW5082\" )\n",
    "C_CONT[\"C8\"] = naechsterwert2(DF_CONTR, \"KDW0034\", \"UDW3567\")\n",
    "C_CONT[\"C9\"] = naechsterwert2(DF_CONTR, \"KDW0034\", \"ADW3567\").apply(lambda string: string.replace(\",\", \".\")).astype(float).apply(lambda x: -x if x != 0 else x)  # DF_Liab[DF_Liab[\"KDW5082\"].isin(DF_Liab[\"KDW5082\"])]DF_Liab[\"ATDW5105\"].apply(lambda x: -x if x > 0 else x)\n",
    "C_CONT[\"C10\"] = \"{:,.5f}\".format(100000 / 100000)  # naechsterwert2(DF_CONTR, \"KDW5082\", \"TPDW5086\")\n",
    "C_CONT[\"C11\"] = C_liab[\"C9\"].astype(float) * C_liab[\"C10\"].astype(float)\n",
    "C_CONT[\"C12\"] = naechsterwert2(DF_Liab, \"KDW5082\", \"QUDW5537\").astype(str) + DF_Liab[\"UCDW5537\"]\n",
    "C_CONT[\"C13\"] = \"X\"\n",
    "C_CONT[\"C14\"] = \"X\"  # naechsterwert2(DF_CONTR, \"KDW5082\", \"DTDW5084\")\n",
    "C_CONT[\"C15\"] = \"X\"\n",
    "C_CONT[\"C16\"] = \"X\"  # naechsterwert2(DF_CONTR, \"KDW5082\", \"TPDW5562\")\n",
    "C_CONT[\"C17\"] = naechsterwert2(DF_Liab, \"KDW5082\", \"ATDW5107\").apply(lambda x: -x if x != 0 else x)\n",
    "C_CONT[\"C18\"] = \"X\"\n",
    "C_CONT[\"C19\"] = \"X\"\n",
    "C_CONT[\"C20\"] = \"N\" * 50  # C_Pos[[\"C_Pos{}\".format(i) for i in range(1, 51)]].astype(str).agg(\"\".join, axis = 1)                                                                    # C_Pos[[\"C_Pos{}\".format(i) for i in range(1, 51)]].astype(str).agg(\"\".join, axis = 1)\n",
    "C_CONT[\"C21\"] = \"N\" * 50  # C_Pos[[\"C_Pos{}\".format(i) for i in range(1, 51)]].astype(str).agg(\"\".join, axis = 1)\n",
    "C_CONT[\"C22\"] = \"DE\"\n",
    "C_CONT[\"C23\"] = \"\"\n",
    "C_CONT[\"C24\"] = \"X\"\n",
    "C_CONT[\"C25\"] = \"X\"\n",
    "C_CONT[\"C26\"] = \"X\"\n",
    "C_CONT[\"C27\"] = \"X\"\n",
    "\n",
    "C_CONT"
   ],
   "metadata": {
    "collapsed": false,
    "ExecuteTime": {
     "end_time": "2023-10-03T16:17:28.618777400Z",
     "start_time": "2023-10-03T16:17:28.404133700Z"
    }
   },
   "id": "4f204689c65e55b9"
  },
  {
   "cell_type": "code",
   "execution_count": 77,
   "outputs": [
    {
     "data": {
      "text/plain": "     C1               C2A              C2B C3 C4  C5        C6             C7  \\\n0     C  DE1-ZGP/32965442  1502713637_2007     N   0  20071009  Plus Konto VW   \n1     C  DE1-ZGP/37624918  1502715053_2007     N   0  20071009  Plus Konto VW   \n2     C  DE1-ZGP/36267765  1502715103_2007     N   0  20071009  Plus Konto VW   \n3     C  DE1-ZGP/36192094  1502715558_2007     N   0  20071009  Plus Konto VW   \n4     C  DE1-ZGP/37625217  1502715962_2007     N   0  20071009  Plus Konto VW   \n...  ..               ...              ... .. ..  ..       ...            ...   \n5599  C    DE1-ZGP/879064  1503754572_2007     N   0  20071009  Plus Konto VW   \n5600  C  DE1-ZGP/20913091  1503754929_2007     N   0  20071009  Plus Konto VW   \n5601  C  DE1-ZGP/29350481  1503754945_2007     N   0  20071009  Plus Konto VW   \n5602  C  DE1-ZGP/83319045  1503311415_2007     N   0  20071009  Plus Konto VW   \n5603  C  DE1-ZGP/83628474  1503313650_2007     N   0  20071009  Plus Konto VW   \n\n       C8        C9  ...  C18       C19  \\\n0     EUR   2553.97  ...  0.0   2553.97   \n1     EUR   7014.78  ...  0.0   7014.78   \n2     EUR     14.97  ...  0.0     14.97   \n3     EUR  27814.72  ...  0.0  27814.72   \n4     EUR     17.68  ...  0.0     17.68   \n...   ...       ...  ...  ...       ...   \n5599  EUR  89436.18  ...  0.0  89436.18   \n5600  EUR     41.09  ...  0.0     41.09   \n5601  EUR  29686.24  ...  0.0  29686.24   \n5602  EUR      0.00  ...  0.0       0.0   \n5603  EUR   1133.71  ...  0.0   1133.71   \n\n                                                    C20  \\\n0     NNNNNNNNNNNNNNNNNNNNNNNNNNNNNNNNNNNNNNNNNNNNNN...   \n1     NNNNNNNNNNNNNNNNNNNNNNNNNNNNNNNNNNNNNNNNNNNNNN...   \n2     NNNNNNNNNNNNNNNNNNNNNNNNNNNNNNNNNNNNNNNNNNNNNN...   \n3     NNNNNNNNNNNNNNNNNNNNNNNNNNNNNNNNNNNNNNNNNNNNNN...   \n4     NNNNNNNNNNNNNNNNNNNNNNNNNNNNNNNNNNNNNNNNNNNNNN...   \n...                                                 ...   \n5599  NNNNNNNNNNNNNNNNNNNNNNNNNNNNNNNNNNNNNNNNNNNNNN...   \n5600  NNNNNNNNNNNNNNNNNNNNNNNNNNNNNNNNNNNNNNNNNNNNNN...   \n5601  NNNNNNNNNNNNNNNNNNNNNNNNNNNNNNNNNNNNNNNNNNNNNN...   \n5602  NNNNNNNNNNNNNNNNNNNNNNNNNNNNNNNNNNNNNNNNNNNNNN...   \n5603  NNNNNNNNNNNNNNNNNNNNNNNNNNNNNNNNNNNNNNNNNNNNNN...   \n\n                                                    C21 C22 C23  C24  C25  \\\n0     NNNNNNNNNNNNNNNNNNNNNNNNNNNNNNNNNNNNNNNNNNNNNN...  DE      NaN    0   \n1     NNNNNNNNNNNNNNNNNNNNNNNNNNNNNNNNNNNNNNNNNNNNNN...  DE      NaN    0   \n2     NNNNNNNNNNNNNNNNNNNNNNNNNNNNNNNNNNNNNNNNNNNNNN...  DE      NaN    0   \n3     NNNNNNNNNNNNNNNNNNNNNNNNNNNNNNNNNNNNNNNNNNNNNN...  DE      NaN    0   \n4     NNNNNNNNNNNNNNNNNNNNNNNNNNNNNNNNNNNNNNNNNNNNNN...  DE      NaN    0   \n...                                                 ...  ..  ..  ...  ...   \n5599  NNNNNNNNNNNNNNNNNNNNNNNNNNNNNNNNNNNNNNNNNNNNNN...  DE      NaN    0   \n5600  NNNNNNNNNNNNNNNNNNNNNNNNNNNNNNNNNNNNNNNNNNNNNN...  DE      NaN    0   \n5601  NNNNNNNNNNNNNNNNNNNNNNNNNNNNNNNNNNNNNNNNNNNNNN...  DE      NaN    0   \n5602  NNNNNNNNNNNNNNNNNNNNNNNNNNNNNNNNNNNNNNNNNNNNNN...  DE      NaN    0   \n5603  NNNNNNNNNNNNNNNNNNNNNNNNNNNNNNNNNNNNNNNNNNNNNN...  DE      NaN    0   \n\n       C26 C27  \n0     None  90  \n1     None  90  \n2     None  90  \n3     None  90  \n4     None  90  \n...    ...  ..  \n5599  None  90  \n5600  None  90  \n5601  None  90  \n5602  None  90  \n5603  None  90  \n\n[5604 rows x 28 columns]",
      "text/html": "<div>\n<style scoped>\n    .dataframe tbody tr th:only-of-type {\n        vertical-align: middle;\n    }\n\n    .dataframe tbody tr th {\n        vertical-align: top;\n    }\n\n    .dataframe thead th {\n        text-align: right;\n    }\n</style>\n<table border=\"1\" class=\"dataframe\">\n  <thead>\n    <tr style=\"text-align: right;\">\n      <th></th>\n      <th>C1</th>\n      <th>C2A</th>\n      <th>C2B</th>\n      <th>C3</th>\n      <th>C4</th>\n      <th>C5</th>\n      <th>C6</th>\n      <th>C7</th>\n      <th>C8</th>\n      <th>C9</th>\n      <th>...</th>\n      <th>C18</th>\n      <th>C19</th>\n      <th>C20</th>\n      <th>C21</th>\n      <th>C22</th>\n      <th>C23</th>\n      <th>C24</th>\n      <th>C25</th>\n      <th>C26</th>\n      <th>C27</th>\n    </tr>\n  </thead>\n  <tbody>\n    <tr>\n      <th>0</th>\n      <td>C</td>\n      <td>DE1-ZGP/32965442</td>\n      <td>1502713637_2007</td>\n      <td></td>\n      <td>N</td>\n      <td>0</td>\n      <td>20071009</td>\n      <td>Plus Konto VW</td>\n      <td>EUR</td>\n      <td>2553.97</td>\n      <td>...</td>\n      <td>0.0</td>\n      <td>2553.97</td>\n      <td>NNNNNNNNNNNNNNNNNNNNNNNNNNNNNNNNNNNNNNNNNNNNNN...</td>\n      <td>NNNNNNNNNNNNNNNNNNNNNNNNNNNNNNNNNNNNNNNNNNNNNN...</td>\n      <td>DE</td>\n      <td></td>\n      <td>NaN</td>\n      <td>0</td>\n      <td>None</td>\n      <td>90</td>\n    </tr>\n    <tr>\n      <th>1</th>\n      <td>C</td>\n      <td>DE1-ZGP/37624918</td>\n      <td>1502715053_2007</td>\n      <td></td>\n      <td>N</td>\n      <td>0</td>\n      <td>20071009</td>\n      <td>Plus Konto VW</td>\n      <td>EUR</td>\n      <td>7014.78</td>\n      <td>...</td>\n      <td>0.0</td>\n      <td>7014.78</td>\n      <td>NNNNNNNNNNNNNNNNNNNNNNNNNNNNNNNNNNNNNNNNNNNNNN...</td>\n      <td>NNNNNNNNNNNNNNNNNNNNNNNNNNNNNNNNNNNNNNNNNNNNNN...</td>\n      <td>DE</td>\n      <td></td>\n      <td>NaN</td>\n      <td>0</td>\n      <td>None</td>\n      <td>90</td>\n    </tr>\n    <tr>\n      <th>2</th>\n      <td>C</td>\n      <td>DE1-ZGP/36267765</td>\n      <td>1502715103_2007</td>\n      <td></td>\n      <td>N</td>\n      <td>0</td>\n      <td>20071009</td>\n      <td>Plus Konto VW</td>\n      <td>EUR</td>\n      <td>14.97</td>\n      <td>...</td>\n      <td>0.0</td>\n      <td>14.97</td>\n      <td>NNNNNNNNNNNNNNNNNNNNNNNNNNNNNNNNNNNNNNNNNNNNNN...</td>\n      <td>NNNNNNNNNNNNNNNNNNNNNNNNNNNNNNNNNNNNNNNNNNNNNN...</td>\n      <td>DE</td>\n      <td></td>\n      <td>NaN</td>\n      <td>0</td>\n      <td>None</td>\n      <td>90</td>\n    </tr>\n    <tr>\n      <th>3</th>\n      <td>C</td>\n      <td>DE1-ZGP/36192094</td>\n      <td>1502715558_2007</td>\n      <td></td>\n      <td>N</td>\n      <td>0</td>\n      <td>20071009</td>\n      <td>Plus Konto VW</td>\n      <td>EUR</td>\n      <td>27814.72</td>\n      <td>...</td>\n      <td>0.0</td>\n      <td>27814.72</td>\n      <td>NNNNNNNNNNNNNNNNNNNNNNNNNNNNNNNNNNNNNNNNNNNNNN...</td>\n      <td>NNNNNNNNNNNNNNNNNNNNNNNNNNNNNNNNNNNNNNNNNNNNNN...</td>\n      <td>DE</td>\n      <td></td>\n      <td>NaN</td>\n      <td>0</td>\n      <td>None</td>\n      <td>90</td>\n    </tr>\n    <tr>\n      <th>4</th>\n      <td>C</td>\n      <td>DE1-ZGP/37625217</td>\n      <td>1502715962_2007</td>\n      <td></td>\n      <td>N</td>\n      <td>0</td>\n      <td>20071009</td>\n      <td>Plus Konto VW</td>\n      <td>EUR</td>\n      <td>17.68</td>\n      <td>...</td>\n      <td>0.0</td>\n      <td>17.68</td>\n      <td>NNNNNNNNNNNNNNNNNNNNNNNNNNNNNNNNNNNNNNNNNNNNNN...</td>\n      <td>NNNNNNNNNNNNNNNNNNNNNNNNNNNNNNNNNNNNNNNNNNNNNN...</td>\n      <td>DE</td>\n      <td></td>\n      <td>NaN</td>\n      <td>0</td>\n      <td>None</td>\n      <td>90</td>\n    </tr>\n    <tr>\n      <th>...</th>\n      <td>...</td>\n      <td>...</td>\n      <td>...</td>\n      <td>...</td>\n      <td>...</td>\n      <td>...</td>\n      <td>...</td>\n      <td>...</td>\n      <td>...</td>\n      <td>...</td>\n      <td>...</td>\n      <td>...</td>\n      <td>...</td>\n      <td>...</td>\n      <td>...</td>\n      <td>...</td>\n      <td>...</td>\n      <td>...</td>\n      <td>...</td>\n      <td>...</td>\n      <td>...</td>\n    </tr>\n    <tr>\n      <th>5599</th>\n      <td>C</td>\n      <td>DE1-ZGP/879064</td>\n      <td>1503754572_2007</td>\n      <td></td>\n      <td>N</td>\n      <td>0</td>\n      <td>20071009</td>\n      <td>Plus Konto VW</td>\n      <td>EUR</td>\n      <td>89436.18</td>\n      <td>...</td>\n      <td>0.0</td>\n      <td>89436.18</td>\n      <td>NNNNNNNNNNNNNNNNNNNNNNNNNNNNNNNNNNNNNNNNNNNNNN...</td>\n      <td>NNNNNNNNNNNNNNNNNNNNNNNNNNNNNNNNNNNNNNNNNNNNNN...</td>\n      <td>DE</td>\n      <td></td>\n      <td>NaN</td>\n      <td>0</td>\n      <td>None</td>\n      <td>90</td>\n    </tr>\n    <tr>\n      <th>5600</th>\n      <td>C</td>\n      <td>DE1-ZGP/20913091</td>\n      <td>1503754929_2007</td>\n      <td></td>\n      <td>N</td>\n      <td>0</td>\n      <td>20071009</td>\n      <td>Plus Konto VW</td>\n      <td>EUR</td>\n      <td>41.09</td>\n      <td>...</td>\n      <td>0.0</td>\n      <td>41.09</td>\n      <td>NNNNNNNNNNNNNNNNNNNNNNNNNNNNNNNNNNNNNNNNNNNNNN...</td>\n      <td>NNNNNNNNNNNNNNNNNNNNNNNNNNNNNNNNNNNNNNNNNNNNNN...</td>\n      <td>DE</td>\n      <td></td>\n      <td>NaN</td>\n      <td>0</td>\n      <td>None</td>\n      <td>90</td>\n    </tr>\n    <tr>\n      <th>5601</th>\n      <td>C</td>\n      <td>DE1-ZGP/29350481</td>\n      <td>1503754945_2007</td>\n      <td></td>\n      <td>N</td>\n      <td>0</td>\n      <td>20071009</td>\n      <td>Plus Konto VW</td>\n      <td>EUR</td>\n      <td>29686.24</td>\n      <td>...</td>\n      <td>0.0</td>\n      <td>29686.24</td>\n      <td>NNNNNNNNNNNNNNNNNNNNNNNNNNNNNNNNNNNNNNNNNNNNNN...</td>\n      <td>NNNNNNNNNNNNNNNNNNNNNNNNNNNNNNNNNNNNNNNNNNNNNN...</td>\n      <td>DE</td>\n      <td></td>\n      <td>NaN</td>\n      <td>0</td>\n      <td>None</td>\n      <td>90</td>\n    </tr>\n    <tr>\n      <th>5602</th>\n      <td>C</td>\n      <td>DE1-ZGP/83319045</td>\n      <td>1503311415_2007</td>\n      <td></td>\n      <td>N</td>\n      <td>0</td>\n      <td>20071009</td>\n      <td>Plus Konto VW</td>\n      <td>EUR</td>\n      <td>0.00</td>\n      <td>...</td>\n      <td>0.0</td>\n      <td>0.0</td>\n      <td>NNNNNNNNNNNNNNNNNNNNNNNNNNNNNNNNNNNNNNNNNNNNNN...</td>\n      <td>NNNNNNNNNNNNNNNNNNNNNNNNNNNNNNNNNNNNNNNNNNNNNN...</td>\n      <td>DE</td>\n      <td></td>\n      <td>NaN</td>\n      <td>0</td>\n      <td>None</td>\n      <td>90</td>\n    </tr>\n    <tr>\n      <th>5603</th>\n      <td>C</td>\n      <td>DE1-ZGP/83628474</td>\n      <td>1503313650_2007</td>\n      <td></td>\n      <td>N</td>\n      <td>0</td>\n      <td>20071009</td>\n      <td>Plus Konto VW</td>\n      <td>EUR</td>\n      <td>1133.71</td>\n      <td>...</td>\n      <td>0.0</td>\n      <td>1133.71</td>\n      <td>NNNNNNNNNNNNNNNNNNNNNNNNNNNNNNNNNNNNNNNNNNNNNN...</td>\n      <td>NNNNNNNNNNNNNNNNNNNNNNNNNNNNNNNNNNNNNNNNNNNNNN...</td>\n      <td>DE</td>\n      <td></td>\n      <td>NaN</td>\n      <td>0</td>\n      <td>None</td>\n      <td>90</td>\n    </tr>\n  </tbody>\n</table>\n<p>5604 rows × 28 columns</p>\n</div>"
     },
     "execution_count": 77,
     "metadata": {},
     "output_type": "execute_result"
    }
   ],
   "source": [],
   "metadata": {
    "collapsed": false,
    "ExecuteTime": {
     "end_time": "2023-10-03T16:21:17.617577600Z",
     "start_time": "2023-10-03T16:21:17.574873200Z"
    }
   },
   "id": "d963059358e8c86"
  },
  {
   "cell_type": "code",
   "execution_count": null,
   "outputs": [],
   "source": [
    "def C_20_Pos12(row):\n",
    "    temp_list = list(row[\"C20\"])\n",
    "    temp_list[11] = \"Y\" if row[\"C20\"][1] == \"Y\" and row[\"C21\"][17] == \"N\" else \"N\"\n",
    "    return ''.join(temp_list)\n",
    "\n",
    "\n",
    "C_Satz[\"C20\"] = C_Satz.apply(C_20_Pos12, axis=1)\n"
   ],
   "metadata": {
    "collapsed": false,
    "ExecuteTime": {
     "start_time": "2023-10-03T15:55:36.052486800Z"
    }
   },
   "id": "63de4674c97a6390"
  },
  {
   "cell_type": "code",
   "execution_count": null,
   "outputs": [],
   "source": [
    "def C_20_Pos13(row):\n",
    "    B_Satz2Row = B_Satz2.loc[B_Satz2[\"B2\"] == row[\"C2A\"]].iloc[0]\n",
    "    temp_list = list(row[\"C20\"])\n",
    "    print((B_Satz2Row[\"B14\"]))\n",
    "    temp_list[12] = \"Y\" if B_Satz2Row[\"B14\"][1] == \"Y\" and row[\"C21\"][17] == \"N\" else \"N\"\n",
    "    return ''.join(temp_list)\n",
    "\n",
    "\n",
    "C_Satz[\"C20\"] = C_Satz.apply(C_20_Pos13, axis=1)"
   ],
   "metadata": {
    "collapsed": false,
    "ExecuteTime": {
     "start_time": "2023-10-03T15:55:36.052984700Z"
    }
   },
   "id": "d4ce37cb275af1ee"
  },
  {
   "cell_type": "code",
   "execution_count": null,
   "outputs": [],
   "source": [
    "def C_20_Pos14(row):\n",
    "    B_Satz2Row = B_Satz2.loc[B_Satz2[\"B2\"] == row[\"C2A\"]].iloc[0]\n",
    "    temp_list_13 = list(row[\"C20\"])\n",
    "    temp_list_13[13] = \"Y\" if B_Satz2Row[\"B14\"][4] == \"Y\" and row[\"C21\"][17] == \"N\" else \"N\"\n",
    "    return ''.join(temp_list_13)\n",
    "\n",
    "\n",
    "C_Satz[\"C20\"] = C_Satz.apply(C_20_Pos14, axis=1)"
   ],
   "metadata": {
    "collapsed": false,
    "ExecuteTime": {
     "start_time": "2023-10-03T15:55:36.052984700Z"
    }
   },
   "id": "4c7911d65c962ca2"
  },
  {
   "cell_type": "code",
   "execution_count": null,
   "outputs": [],
   "source": [
    "def C_20_Pos15(row):\n",
    "    B_Satz2Row = B_Satz2.loc[B_Satz2[\"B2\"] == row[\"C2A\"]].iloc[0]\n",
    "    temp_list_14 = list(row[\"C20\"])\n",
    "    temp_list_14[14] = \"Y\" if B_Satz2Row[\"B14\"][5] == \"Y\" and row[\"C21\"][17] == \"N\" else \"N\"\n",
    "    return ''.join(temp_list_14)\n",
    "\n",
    "\n",
    "C_Satz[\"C20\"] = C_Satz.apply(C_20_Pos15, axis=1)"
   ],
   "metadata": {
    "collapsed": false,
    "ExecuteTime": {
     "start_time": "2023-10-03T15:55:36.054531300Z"
    }
   },
   "id": "173591a107e3ba2e"
  },
  {
   "cell_type": "code",
   "execution_count": null,
   "outputs": [],
   "source": [
    "def C_20_Pos16(row):\n",
    "    B_Satz2Row = B_Satz2.loc[B_Satz2[\"B2\"] == row[\"C2A\"]].iloc[0]\n",
    "    temp_list_15 = list(row[\"C20\"])\n",
    "    temp_list_15[15] = \"Y\" if B_Satz2Row[\"B14\"][9] == \"Y\" and row[\"C21\"][17] == \"N\" else \"N\"\n",
    "    return ''.join(temp_list_15)\n",
    "\n",
    "\n",
    "C_Satz[\"C20\"] = C_Satz.apply(C_20_Pos16, axis=1)"
   ],
   "metadata": {
    "collapsed": false,
    "ExecuteTime": {
     "start_time": "2023-10-03T15:55:36.054531300Z"
    }
   },
   "id": "3eaa1dc235ed0a7f"
  },
  {
   "cell_type": "code",
   "execution_count": null,
   "outputs": [],
   "source": [
    "#LAUT ANAEL WEGLASSEN!\n",
    "def C_20_Pos31(row):\n",
    "    B_Satz2Row = B_Satz2.loc[B_Satz2[\"B2\"] == row[\"C2A\"]].iloc[0]\n",
    "    row[\"C20\"][30] = \"Y\" if B_Satz2Row[\"B14\"][9] == \"Y\" and row[\"C21\"][17] == \"N\" else \"N\"\n",
    "\n",
    "\n",
    "#LAUT ANAEL WEGLASSEN!\n",
    "def C_20_Pos32(row):\n",
    "    B_Satz2Row = B_Satz2.loc[B_Satz2[\"B2\"] == row[\"C2A\"]].iloc[0]\n",
    "    row[\"C20\"][31] = \"Y\" if B_Satz2Row[\"B14\"][9] == \"Y\" and row[\"C21\"][17] == \"N\" else \"N\"\n"
   ],
   "metadata": {
    "collapsed": false,
    "ExecuteTime": {
     "start_time": "2023-10-03T15:55:36.055535Z"
    }
   },
   "id": "7d0d07e5b60421e9"
  },
  {
   "cell_type": "code",
   "execution_count": null,
   "outputs": [],
   "source": [
    "def C_20_Pos33(row):\n",
    "    B_Satz2Row = B_Satz2.loc[B_Satz2[\"B2\"] == row[\"C2A\"]].iloc[0]\n",
    "    temp_list_32 = list(row[\"C20\"])\n",
    "    temp_list_32[32] = \"Y\" if B_Satz2Row[\"B16\"] >= 20 and row[\"C21\"][17] == \"N\" else \"N\"\n",
    "    return ''.join(temp_list_32)\n",
    "\n",
    "\n",
    "C_Satz[\"C20\"] = C_Satz.apply(C_20_Pos33, axis=1)"
   ],
   "metadata": {
    "collapsed": false,
    "ExecuteTime": {
     "start_time": "2023-10-03T15:55:36.056539800Z"
    }
   },
   "id": "9dcc43cb52a6ca3e"
  },
  {
   "cell_type": "code",
   "execution_count": null,
   "outputs": [],
   "source": [
    "def C_20_Pos34(row):\n",
    "    B_Satz2Row = B_Satz2.loc[B_Satz2[\"B2\"] == row[\"C2A\"]].iloc[0]\n",
    "    if B_Satz2Row[\"B16\"] >= 20:\n",
    "        #dateformat = dd-mm-yyyy\n",
    "        date_start = datetime.strptime(row[\"C6\"], \"%d%m%Y\")\n",
    "        date_end = datetime.strptime(row[\"C14\"], \"%d%m%Y\")\n",
    "        temp_list_33 = list(row[\"C20\"])\n",
    "        temp_list_33[33] = \"Y\" if row[\"C25\"] > 18 and date_start < datetime.strptime(\"01-01-2020\", \"%d-%m-%Y\") and date_end > datetime.strptime(\"31-12-2019\", \"%d-%m-%Y\") else \"N\"\n",
    "        return ''.join(temp_list_33)\n",
    "\n",
    "\n",
    "C_Satz[\"C20\"] = C_Satz.apply(C_20_Pos34, axis=1)"
   ],
   "metadata": {
    "collapsed": false,
    "ExecuteTime": {
     "start_time": "2023-10-03T15:55:36.057040300Z"
    }
   },
   "id": "2eab99db158cf96a"
  },
  {
   "cell_type": "code",
   "execution_count": null,
   "outputs": [],
   "source": [
    "def C_20_Pos35(row):\n",
    "    B_Satz2Row = B_Satz2.loc[B_Satz2[\"B2\"] == row[\"C2A\"]].iloc[0]\n",
    "    if B_Satz2Row[\"B16\"] >= 20:\n",
    "        #dateformat = dd-mm-yyyy\n",
    "        date_start = datetime.strptime(row[\"C6\"], \"%d%m%Y\")\n",
    "        date_end = datetime.strptime(row[\"C14\"], \"%d%m%Y\")\n",
    "        temp_list_34 = list(row[\"C20\"])\n",
    "        temp_list_34[34] = \"Y\" if row[\"C25\"] > 18 and date_start > datetime.strptime(\"31-12-2019\", \"%d-%m-%Y\") and date_start <= datetime.strptime(\"31-12-2022\", \"%d-%m-%Y\") else \"N\"\n",
    "        return ''.join(temp_list_34)\n",
    "\n",
    "\n",
    "C_Satz[\"C20\"] = C_Satz.apply(C_20_Pos35, axis=1)"
   ],
   "metadata": {
    "collapsed": false,
    "ExecuteTime": {
     "start_time": "2023-10-03T15:55:36.058041800Z"
    }
   },
   "id": "4ba98ef4e32ed7a2"
  },
  {
   "cell_type": "code",
   "execution_count": null,
   "outputs": [],
   "source": [
    "def C_20_Pos36(row):\n",
    "    B_Satz2Row = B_Satz2.loc[B_Satz2[\"B2\"] == row[\"C2A\"]].iloc[0]\n",
    "    if B_Satz2Row[\"B16\"] >= 20:\n",
    "        #dateformat = dd-mm-yyyy\n",
    "        date_start = datetime.strptime(row[\"C6\"], \"%d%m%Y\")\n",
    "        date_end = datetime.strptime(row[\"C14\"], \"%d%m%Y\")\n",
    "        temp_list_35 = list(row[\"C20\"])\n",
    "        temp_list_35[35] = \"Y\" if (row[\"C25\"] is None or row[\"C25\"] == \"\") and date_start < datetime.strptime(\"01-01-2020\", \"%d-%m-%Y\") and date_end > datetime.strptime(\"31-12-2019\", \"%d-%m-%Y\") else \"N\"\n",
    "    return ''.join(temp_list_35)\n",
    "\n",
    "\n",
    "C_Satz[\"C20\"] = C_Satz.apply(C_20_Pos36, axis=1)"
   ],
   "metadata": {
    "collapsed": false,
    "ExecuteTime": {
     "start_time": "2023-10-03T15:55:36.058041800Z"
    }
   },
   "id": "5d55d54f00dfbe81"
  },
  {
   "cell_type": "code",
   "execution_count": null,
   "outputs": [],
   "source": [
    "def C_20_Pos37(row):\n",
    "    B_Satz2Row = B_Satz2.loc[B_Satz2[\"B2\"] == row[\"C2A\"]].iloc[0]\n",
    "    if B_Satz2Row[\"B16\"] >= 20:\n",
    "        #dateformat = dd-mm-yyyy\n",
    "        date_start = datetime.strptime(row[\"C6\"], \"%d%m%Y\")\n",
    "        temp_list_36 = list(row[\"C20\"])\n",
    "        temp_list_36[36] = \"Y\" if (row[\"C25\"] is None or row[\"C25\"] == \"\") and date_start > datetime.strptime(\"31-12-2019\", \"%d-%m-%Y\") and date_start <= datetime.strptime(\"31-12-2022\", \"%d-%m-%Y\") else \"N\"\n",
    "        return ''.join(temp_list_36)\n",
    "\n",
    "\n",
    "C_Satz[\"C20\"] = C_Satz.apply(C_20_Pos37, axis=1)"
   ],
   "metadata": {
    "collapsed": false,
    "ExecuteTime": {
     "start_time": "2023-10-03T15:55:36.059539100Z"
    }
   },
   "id": "9116562ed9bc6def"
  },
  {
   "cell_type": "code",
   "execution_count": null,
   "outputs": [],
   "source": [
    "def C_20_Pos43(row):\n",
    "    if row[\"C21\"][19] == \"N\":\n",
    "        #dateformat = dd-mm-yyyy\n",
    "\n",
    "        temp_list_42 = list(row[\"C20\"])\n",
    "        temp_list_42[42] = \"Y\" if (row[\"C22\"] != \"\" and row[\"C22\"] is not None and row[\"C22\"] != \"DE\") or (row[\"C23\"] != \"\" and row[\"C23\"] is not None) else \"N\"\n",
    "        return ''.join(temp_list_42)\n",
    "\n",
    "\n",
    "C_Satz[\"C20\"] = C_Satz.apply(C_20_Pos43, axis=1)"
   ],
   "metadata": {
    "collapsed": false,
    "ExecuteTime": {
     "start_time": "2023-10-03T15:55:36.060039300Z"
    }
   },
   "id": "1bf312e0518d8fc0"
  },
  {
   "cell_type": "code",
   "execution_count": null,
   "outputs": [],
   "source": [
    "def C_20_Pos44(row):\n",
    "    B_Satz2Row = B_Satz2.loc[B_Satz2[\"B2\"] == row[\"C2A\"]].iloc[0]\n",
    "    if B_Satz2Row[\"B16\"] >= 20 and row[\"C21\"][19] == \"N\":\n",
    "        temp_list_43 = list(row[\"C20\"])\n",
    "        temp_list_43[43] = \"Y\" if row[\"C25\"] > 12 else \"N\"\n",
    "        return ''.join(temp_list_43)\n",
    "\n",
    "\n",
    "C_Satz[\"C20\"] = C_Satz.apply(C_20_Pos44, axis=1)"
   ],
   "metadata": {
    "collapsed": false,
    "ExecuteTime": {
     "start_time": "2023-10-03T15:55:36.061039500Z"
    }
   },
   "id": "97cf9e633412859f"
  },
  {
   "cell_type": "code",
   "execution_count": null,
   "outputs": [],
   "source": [
    "def C_20_Pos45(row):\n",
    "    B_Satz2Row = B_Satz2.loc[B_Satz2[\"B2\"] == row[\"C2A\"]].iloc[0]\n",
    "    if B_Satz2Row[\"B16\"] >= 20 and row[\"C21\"][19] == \"N\":\n",
    "        temp_list_44 = list(row[\"C20\"])\n",
    "        temp_list_44[44] = \"Y\" if row[\"C25\"] is None or row[\"C25\"] == \"\" else \"N\"\n",
    "        return ''.join(temp_list_44)\n",
    "\n",
    "\n",
    "C_Satz[\"C20\"] = C_Satz.apply(C_20_Pos45, axis=1)"
   ],
   "metadata": {
    "collapsed": false,
    "ExecuteTime": {
     "start_time": "2023-10-03T15:55:36.061539300Z"
    }
   },
   "id": "43172ad73522786d"
  },
  {
   "cell_type": "code",
   "execution_count": null,
   "outputs": [],
   "source": [
    "def C_20_Pos50(row):\n",
    "    temp_list_49 = list(row[\"C20\"])\n",
    "    temp_list_49[49] = \"Y\" if row[\"C19\"] < 20 else \"N\"\n",
    "    return ''.join(temp_list_49)\n",
    "\n",
    "\n",
    "C_Satz[\"C20\"] = C_Satz.apply(C_20_Pos50, axis=1)\n",
    "C_Satz"
   ],
   "metadata": {
    "collapsed": false,
    "ExecuteTime": {
     "end_time": "2023-10-03T15:55:36.065549600Z",
     "start_time": "2023-10-03T15:55:36.063039500Z"
    }
   },
   "id": "4f8dd3478516dcd3"
  },
  {
   "cell_type": "code",
   "execution_count": 79,
   "outputs": [],
   "source": [
    "C_CONT = C_CONT[[\"C1\", \"C2A\", \"C2B\", \"C3\", \"C4\", \"C5\", \"C6\", \"C7\", \"C8\", \"C9\", \"C10\", \"C11\", \"C12\", \"C13\",\n",
    "                 \"C14\", \"C15\", \"C16\", \"C17\", \"C18\", \"C19\", \"C20\", \"C21\", \"C22\", \"C23\", \"C24\", \"C25\", \"C26\", \"C27\"]]\n",
    "# gewünschte C-Satz ausgeben\n",
    "C_CONT"
   ],
   "metadata": {
    "collapsed": false,
    "ExecuteTime": {
     "end_time": "2023-10-03T16:22:34.474757400Z",
     "start_time": "2023-10-03T16:22:34.422853Z"
    }
   },
   "id": "3c2af7696d880db9"
  },
  {
   "cell_type": "code",
   "execution_count": null,
   "outputs": [],
   "source": [
    "# füge die daten von C_Satz über die von C_CONT an\n",
    "C_neu = pd.concat([C_Satz, C_CONT], ignore_index=True)\n",
    "C_neu\n",
    "C_neu.to_csv(path+\"/C.csv\", index=False)\n"
   ],
   "metadata": {
    "collapsed": false
   },
   "id": "88abdd393bb48fbf"
  }
 ],
 "metadata": {
  "kernelspec": {
   "display_name": "Python 3",
   "language": "python",
   "name": "python3"
  },
  "language_info": {
   "codemirror_mode": {
    "name": "ipython",
    "version": 2
   },
   "file_extension": ".py",
   "mimetype": "text/x-python",
   "name": "python",
   "nbconvert_exporter": "python",
   "pygments_lexer": "ipython2",
   "version": "2.7.6"
  }
 },
 "nbformat": 4,
 "nbformat_minor": 5
}
