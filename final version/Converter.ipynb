{
 "cells": [
  {
   "cell_type": "code",
   "execution_count": null,
   "outputs": [],
   "source": [
    "import csv\n",
    "\n",
    "def read_fbp_to_csv(fbp_file_path, csv_file_path):\n",
    "    # Lesen der FBP-Datei und Schreiben der Daten in die CSV-Datei\n",
    "    with open(fbp_file_path, 'r', encoding='ISO-8859-1') as fbp_file, open(csv_file_path, 'w', newline='', encoding='utf-8') as csv_file:\n",
    "        # CSV-Writer-Objekt erstellen\n",
    "        csv_writer = csv.writer(csv_file)\n",
    "\n",
    "        # Jede Zeile der FBP-Datei lesen\n",
    "        for line in fbp_file:\n",
    "            # Zeilen aufteilen, wobei \"|\" als Trennzeichen verwendet wird\n",
    "            fields = line.strip().split(\"|\")\n",
    "            # Zeile in die CSV-Datei schreiben\n",
    "            csv_writer.writerow(fields)\n",
    "\n",
    "# FBP- und CSV-Dateipfade\n",
    "fbp_file_path = 'Auslandsdaten1.fbp'\n",
    "csv_file_path = 'Auslandsdaten1.csv'\n",
    "import chardet\n",
    "\n",
    "# Die ersten paar Bytes der Datei lesen, um die Kodierung zu ermitteln\n",
    "rawdata = open(fbp_file_path, \"rb\").read(10000)  # Die ersten 10.000 Bytes lesen\n",
    "result = chardet.detect(rawdata)\n",
    "charenc = result['encoding']\n",
    "print(charenc)\n",
    "# Funktion aufrufen\n",
    "read_fbp_to_csv(\"Auslandsdaten1.fbp\", \"Auslandsdaten1.csv\")\n",
    "read_fbp_to_csv(\"Auslandsdaten2.fbp\", \"Auslandsdaten2.csv\")\n",
    "import pandas\n",
    "\n",
    "#read in the csv file skip the first row of the csv file\n",
    "df = pandas.read_csv(\"Auslandsdaten1.csv\", skiprows=0, encoding=charenc)\n",
    "#drop the first 2 columns\n",
    "df = df.drop(df.columns[[0, 1]], axis=1)\n",
    "# \n",
    "#benenne den header so um:\n",
    "# C1,C2A,C2B,C3,C4,C5,C6,C7,C8,C9,C10,C11,C12,C13,C14,C15,C16,C17,C18,C19,C20,C21,C22,C23,C24,C25,C26,C27\n",
    "df.columns = [\"B1\",\"B2\",\"B3\",\"B4\",\"B5\",\"B6\",\"B7\",\"B8\",\"B9\",\"B10\",\"B11\",\"B12\",\"B13\",\"B14\",\"B15\",\"B16\"]\n",
    "#speicher die datei als Ausland1neu.csv\n",
    "df.to_csv('Ausland1neu.csv', index=False)\n",
    "df.info()\n",
    "\n",
    "df = pandas.read_csv(\"Auslandsdaten2.csv\", skiprows=1, encoding=charenc)\n",
    "#drop the first 2 columns\n",
    "df = df.drop(df.columns[[0, 1]], axis=1)\n",
    "\n",
    "\n",
    "#benenne den header so um:\n",
    "# C1,C2A,C2B,C3,C4,C5,C6,C7,C8,C9,C10,C11,C12,C13,C14,C15,C16,C17,C18,C19,C20,C21,C22,C23,C24,C25,C26,C27\n",
    "df.columns = [\"C1\",\"C2A\",\"C2B\",\"C3\",\"C4\",\"C5\",\"C6\",\"C7\",\"C8\",\"C9\",\"C10\",\"C11\",\"C12\",\"C13\",\"C14\",\"C15\",\"C16\",\"C17\", \"C18\",\"C19\",\"C20\",\"C21\",\"C22\",\"C23\",\"C24\",\"C25\",\"C26\",\"C27\"]\n",
    "#speicher die datei als Ausland1neu.csv\n",
    "df.to_csv('Ausland2neu.csv', index=False)"
   ],
   "metadata": {
    "collapsed": false
   },
   "id": "d83522877d387d7c"
  }
 ],
 "metadata": {
  "kernelspec": {
   "display_name": "Python 3",
   "language": "python",
   "name": "python3"
  },
  "language_info": {
   "codemirror_mode": {
    "name": "ipython",
    "version": 2
   },
   "file_extension": ".py",
   "mimetype": "text/x-python",
   "name": "python",
   "nbconvert_exporter": "python",
   "pygments_lexer": "ipython2",
   "version": "2.7.6"
  }
 },
 "nbformat": 4,
 "nbformat_minor": 5
}
