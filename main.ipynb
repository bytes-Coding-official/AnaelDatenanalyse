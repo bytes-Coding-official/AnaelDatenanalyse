{
 "cells": [
  {
   "cell_type": "code",
   "execution_count": 1,
   "id": "initial_id",
   "metadata": {
    "collapsed": true,
    "ExecuteTime": {
     "end_time": "2023-09-26T18:13:29.828227700Z",
     "start_time": "2023-09-26T18:13:29.400387700Z"
    }
   },
   "outputs": [],
   "source": [
    "import pandas as pd\n",
    "import numpy as np\n",
    "import datetime\n",
    "import chardet\n",
    "import time\n",
    "import os"
   ]
  },
  {
   "cell_type": "code",
   "execution_count": 2,
   "outputs": [],
   "source": [
    "def neue_Spalte(DF, Spalte1, Spalte2, neue_Spalte1, neue_Spalte2):\n",
    "    \"\"\"Diese Funktion soll durch Kombination von zwei Spalten eine neue erstellen.\n",
    "    Dann wird diese Spalte vom Ende des DataFrames am Anfang eingefügt.\"\"\"\n",
    "\n",
    "    # Erstellung der neuen Spalte als Kombination von Spalte1 und Spalte2\n",
    "    DF[neue_Spalte1] = DF[[Spalte1,Spalte2]].astype(str).agg(\"/\".join, axis = 1)\n",
    "    # Die neue Spalte wird vom Ende des DataFrames am Anfang eingefügt. \n",
    "    Drop_Spalte = DF.pop(neue_Spalte1)\n",
    "    DF.insert(2, neue_Spalte2, Drop_Spalte)\n",
    "    # Das neue Dataframe wird ausgefürt \n",
    "\n",
    "    return DF"
   ],
   "metadata": {
    "collapsed": false,
    "ExecuteTime": {
     "end_time": "2023-09-26T18:13:31.471832700Z",
     "start_time": "2023-09-26T18:13:31.456738600Z"
    }
   },
   "id": "e8d345c7b8e981d2"
  },
  {
   "cell_type": "code",
   "execution_count": 3,
   "outputs": [],
   "source": [
    "def Funktion_B14_02(DF, Spalte1, Spalte2):\n",
    "    \"\"\"Diese Funktion sucht in DF-230/DSDW0230 nach den Nace-Codes \"K64\".\n",
    "      Wenn gefunden, wird in der Spalte B14 an Pos.2 \"N\" durch \"Y\" an der zweiten Stelle ersetzt.\"\"\"\n",
    "\n",
    "    DF.loc[DF[Spalte1].str.contains(\"K64.\", na = False), Spalte2] = DF[Spalte2].str[:1] + \"Y\" + DF[Spalte2].str[2:]\n",
    "\n",
    "    return DF\n"
   ],
   "metadata": {
    "collapsed": false,
    "ExecuteTime": {
     "end_time": "2023-09-26T18:13:33.091586200Z",
     "start_time": "2023-09-26T18:13:33.064975800Z"
    }
   },
   "id": "1ea59cdcfb6bc10d"
  },
  {
   "cell_type": "code",
   "execution_count": 4,
   "outputs": [],
   "source": [
    "def Funktion_B14_Pos03(DF1, DF2, Spalte1, Spalte2, Spalte3, Spalte4):\n",
    "    \"\"\"Diese Funktion prüft ob, die Werte \"CIN\", \"INS\", \"INSO\", \"LI\", \"NLI\", \"RI\" in der Spalte DF-3386/TPDW3386 vorhanden sind.\n",
    "       Falls ja, dann wird in der Spalte B14 an Pos.3,  \"N\" durch \"Y\" an der zweiten Stelle ersetzt.\"\"\"\n",
    "\n",
    "    DF_merged = DF1.merge(DF2, left_on = Spalte1, right_on = Spalte2, how = \"left\")\n",
    "    DF_merged.loc[DF_merged[Spalte3].isin([\"CIN\", \"INS\", \"INSO\", \"LI\",\n",
    "                                           \"NLI\", \"RI\"]), Spalte4] = DF_merged[Spalte4].str[:2] + \"Y\" + DF_merged[Spalte4].str[3:]\n",
    "\n",
    "    return DF_merged[DF1.columns]"
   ],
   "metadata": {
    "collapsed": false,
    "ExecuteTime": {
     "end_time": "2023-09-26T18:13:33.604420500Z",
     "start_time": "2023-09-26T18:13:33.591401400Z"
    }
   },
   "id": "1c44a46dda1701be"
  },
  {
   "cell_type": "code",
   "execution_count": 5,
   "outputs": [],
   "source": [
    "def Funktion_B14_05(DF1, DF2, Spalte1, Spalte2, Spalte3, Spalte4):\n",
    "    \"\"\"Diese Funktion prüft ob, die Werte \"CGOV\", \"LGOV\", \"CGOV\" in der Spalte DF-3386/TPDW3386 vorhanden sind.\n",
    "       Falls ja, dann wird in der Spalte B14 an Pos.5,  \"N\" durch \"Y\" an der fünften Stelle ersetzt.\"\"\"\n",
    "\n",
    "    # Merge DF1 und DF2 um die Werte in Spalte DF-3386/TPDW3386 zu prüfen und \"N\" durch \"Y\" zu ersetzen\n",
    "    DF_merged = DF1.merge(DF2, left_on = Spalte1, right_on = Spalte2, how = \"left\")\n",
    "    DF_merged.loc[DF_merged[Spalte3].isin([\"CGOV\", \"LGOV\", \"SGOV\"]), Spalte4] = DF_merged[Spalte4].str[:4] + \"Y\" + DF_merged[Spalte4].str[5:]\n",
    "\n",
    "    return DF_merged[DF1.columns]\n"
   ],
   "metadata": {
    "collapsed": false,
    "ExecuteTime": {
     "end_time": "2023-09-26T18:13:34.086818100Z",
     "start_time": "2023-09-26T18:13:34.082803Z"
    }
   },
   "id": "37b6f54f6d18e83"
  },
  {
   "cell_type": "code",
   "execution_count": 6,
   "outputs": [],
   "source": [
    "def Funktion_B14_06(DF, Spalte1, Spalte2):\n",
    "    \"\"\"Diese Funktion sucht in DF-230/DSDW0230 nach den Nace-Codes, die \"K66\" enthalten.\n",
    "       Falls gefunden, wird in der Spalte B14 an Pos.6 \"N\" durch \"Y\" an der sechsten Stelle ersetzt.\"\"\"\n",
    "\n",
    "    DF.loc[DF[Spalte1].str.contains(\"K66.\", na = False), Spalte2] = DF[Spalte2].str[:5] + \"Y\" + DF[Spalte2].str[6:]\n",
    "\n",
    "    return DF"
   ],
   "metadata": {
    "collapsed": false,
    "ExecuteTime": {
     "end_time": "2023-09-26T18:13:34.540205Z",
     "start_time": "2023-09-26T18:13:34.534228100Z"
    }
   },
   "id": "a04938ccd03b8604"
  },
  {
   "cell_type": "code",
   "execution_count": 7,
   "outputs": [],
   "source": [
    "def Funktion_B14_07(DF1, DF2, Spalte1, Spalte2, Spalte3, Spalte4):\n",
    "    \"\"\"Diese Funktion sucht in TPDW3386  nach dem Wert \"PEN\".\n",
    "       Falls gefunden, wird in der Spalte B14 an Pos.7 \"N\" durch \"Y\" an der siebten Stelle ersetzt.\"\"\"\n",
    "    # Bedingung um zu prüfen, ob \"PEN\" vorhanden ist und \"N\" durch \"Y\" ersetzen\n",
    "    DF_merged = DF1.merge(DF2, left_on = Spalte1, right_on = Spalte2, how = \"left\")\n",
    "    DF_merged.loc[DF_merged[Spalte3] == \"PEN\", Spalte4] = DF_merged[Spalte4].str[:6] + \"Y\" + DF_merged[Spalte4].str[7:]\n",
    "\n",
    "    return DF_merged[DF1.columns]"
   ],
   "metadata": {
    "collapsed": false,
    "ExecuteTime": {
     "end_time": "2023-09-26T18:13:34.973847200Z",
     "start_time": "2023-09-26T18:13:34.968341100Z"
    }
   },
   "id": "471d30771c211fcd"
  },
  {
   "cell_type": "code",
   "execution_count": 8,
   "outputs": [],
   "source": [
    "def Funktion_B14_Pos_10(DF1, DF2, Spalte1, Spalte2, Spalte3):\n",
    "    \"\"\"Diese Funktion prüft, ob ein Kunde in der Money Laundery Entittät vorhanden ist,\n",
    "    und tauscht in der Unterposition Pos.10 von B14 \"N\" mit \"Y\", \n",
    "    falls die Prüfung positiv ist\"\"\"\n",
    "\n",
    "    # Merge der beiden Tabelle basierend auf Übereinstimmung in der Spalte1\n",
    "    DF_merged = DF1.merge(DF2, left_on = Spalte1, right_on = Spalte2, how = \"inner\")\n",
    "    #Ersetze \"N\" durch \"Y\" in Spalte2 entsprechend des Merge\n",
    "    DF1.loc[DF_merged.index, Spalte3] = DF1.loc[DF_merged.index, Spalte3].str[:9] + \"Y\" + DF1.loc[DF_merged.index, Spalte3].str[10:]\n",
    "\n",
    "    return DF1"
   ],
   "metadata": {
    "collapsed": false,
    "ExecuteTime": {
     "end_time": "2023-09-26T18:13:35.512881600Z",
     "start_time": "2023-09-26T18:13:35.508864500Z"
    }
   },
   "id": "e5d9c572aed0a185"
  },
  {
   "cell_type": "code",
   "execution_count": 9,
   "outputs": [],
   "source": [
    "def Funktion_B16(DF1, DF2, Spalte1, Spalte2, Spalte3, Spalte4):\n",
    "    \"\"\"Diese Funktion prüft, ob \"I-NP\" in der Spalte \"TPDW0235\" vorhanden ist. \n",
    "    Wenn ja, schreibt die Funktion entsprechend in B16 10 an\"\"\"\n",
    "\n",
    "    DF_merged = DF1.merge(DF2, left_on=Spalte1, right_on=Spalte2, how=\"inner\")\n",
    "\n",
    "    # Wandele die Werte in Spalte3 von DF_merged in Strings um, falls sie nicht bereits vom Typ String sind\n",
    "    DF_merged[Spalte3] = DF_merged[Spalte3].astype(str)\n",
    "\n",
    "    # Verwende jetzt eine List Comprehension, um über die String-Werte zu iterieren\n",
    "    DF_merged = DF_merged.reset_index(drop=True)  # Setze den Index neu, um mögliche Probleme mit den Indizes zu vermeiden\n",
    "    DF1[Spalte4] = DF_merged[Spalte3].apply(lambda x: '10' if x == 'I-NP' else 'N')\n",
    "\n",
    "    return DF1[Spalte4]"
   ],
   "metadata": {
    "collapsed": false,
    "ExecuteTime": {
     "end_time": "2023-09-26T18:13:35.920804700Z",
     "start_time": "2023-09-26T18:13:35.916790400Z"
    }
   },
   "id": "ff2e189773e5a91d"
  },
  {
   "cell_type": "code",
   "execution_count": 10,
   "outputs": [],
   "source": [
    "def B_Satz2_Zeile_aufsuchen(Tab,spalte1,value):\n",
    "    \"\"\"Diese Funktion wählt durch Filtrierung eine Zeile aus B_Satz2 aus\n",
    "    und setzt diese Zeile unter der Zeile aus dem A_Satz. Damit man die Datensätze entsprechend der Tabellendarstellung \n",
    "    der Einreichertdatei. Value ist das Suchkriterium im B_Satz2 wie z.B die Kundennummer.\"\"\"\n",
    "\n",
    "    # Zeile aus A_Satz\n",
    "    erste_Zeile = Tab[Tab[1]==\"A\"]\n",
    "    # gewünschte Zeile aus B_Satz2\n",
    "    zweite_Zeile = Tab[(Tab[1]==\"B\") & (Tab[spalte1]==value)]\n",
    "    # Stapeln der Zeilen\n",
    "    DF = pd.concat([erste_Zeile, zweite_Zeile], axis = 0)\n",
    "\n",
    "    return DF"
   ],
   "metadata": {
    "collapsed": false,
    "ExecuteTime": {
     "end_time": "2023-09-26T18:13:36.332829800Z",
     "start_time": "2023-09-26T18:13:36.309286400Z"
    }
   },
   "id": "2aa5012557081a87"
  },
  {
   "cell_type": "code",
   "execution_count": 11,
   "outputs": [],
   "source": [
    "\n",
    "def naechsterwert2(DF, Spalte1, Spalte2):\n",
    "    \"\"\"Diese einfache Funktion gibt dir den nächsten in einer Tabelle\"\"\"\n",
    "\n",
    "    return DF[Spalte2][DF[Spalte1].isin(DF[Spalte1])]"
   ],
   "metadata": {
    "collapsed": false,
    "ExecuteTime": {
     "end_time": "2023-09-26T18:13:36.628691900Z",
     "start_time": "2023-09-26T18:13:36.624704600Z"
    }
   },
   "id": "6f69445a9ff8dae1"
  },
  {
   "cell_type": "code",
   "execution_count": 12,
   "outputs": [],
   "source": [
    "def func_neu_C4(DF1, DF2,Spalte1, Spalte2, Spalte3):\n",
    "    \"\"\" Diese Funktion.........\"\"\"\n",
    "\n",
    "    DF_merged = DF1.merge(DF2, left_on = Spalte1, right_on = Spalte2, how = \"left\")\n",
    "    DF_merged[\"A\"] = \"N\"\n",
    "    DF_merged.loc[(DF_merged[Spalte3] == \"BO\"), \"A\"] = \"Y\"\n",
    "\n",
    "    Ergebnisspalte = DF_merged[\"A\"]\n",
    "\n",
    "    return Ergebnisspalte"
   ],
   "metadata": {
    "collapsed": false,
    "ExecuteTime": {
     "end_time": "2023-09-26T18:13:37.010913Z",
     "start_time": "2023-09-26T18:13:37.006749Z"
    }
   },
   "id": "b84e8bb076be0a9b"
  },
  {
   "cell_type": "code",
   "execution_count": 13,
   "outputs": [],
   "source": [
    "def func_neu_C5(DF1, DF2, Spalte1, Spalte2, Spalte3):\n",
    "    \"\"\"Diese Funktion......\"\"\"\n",
    "\n",
    "    DF_merged = DF1.merge(DF2, left_on = Spalte1, right_on = Spalte2, how = \"left\")\n",
    "    DF_merged[\"B\"] = 0\n",
    "    DF_merged.loc[(DF_merged[Spalte3] == \"CR\"), \"B\"] = 1\n",
    "\n",
    "    # Group data\n",
    "    DF_grouped = DF_merged.groupby(Spalte1)[\"B\"].sum().reset_index()\n",
    "\n",
    "    return DF_grouped[\"B\"]"
   ],
   "metadata": {
    "collapsed": false,
    "ExecuteTime": {
     "end_time": "2023-09-26T18:13:37.402099Z",
     "start_time": "2023-09-26T18:13:37.397718300Z"
    }
   },
   "id": "c3cdcbcfe96318d2"
  },
  {
   "cell_type": "code",
   "execution_count": 14,
   "outputs": [],
   "source": [
    "def Funktion_C15(DF1, DF2, Spalte1, Spalte2, Spalte3, Spalte4):\n",
    "    \"\"\"Diese Funktion .....\"\"\"\n",
    "\n",
    "    merged = DF1.merge(DF2, left_on=Spalte1, right_on=Spalte2, how=\"left\")\n",
    "\n",
    "    condition = merged[Spalte3] == \"0\"\n",
    "\n",
    "    DF1[Spalte4] = \"N\"\n",
    "    DF1.loc[condition, Spalte4] = \"Y\"\n",
    "\n",
    "    return DF1[Spalte4]"
   ],
   "metadata": {
    "collapsed": false,
    "ExecuteTime": {
     "end_time": "2023-09-26T18:13:37.700433100Z",
     "start_time": "2023-09-26T18:13:37.696919500Z"
    }
   },
   "id": "bfba1b80623c1f27"
  },
  {
   "cell_type": "code",
   "execution_count": 15,
   "outputs": [],
   "source": [
    "def Funktion_C27(row):\n",
    "    \"\"\"Diese Funktion ist definiert entsprechend der Spezifikation\"\"\"\n",
    "\n",
    "    # Wert: 90 - Ohne Ausschluss\n",
    "    if all(row['B14'] == 'N') and all(row['C20'] == 'N'):\n",
    "        return '90'\n",
    "\n",
    "    # Wert: 01 - Ausschluss nur nach EinSiG\n",
    "    if any(row['B14'][0:15] == 'Y') and all(row['B14'][15:50] == 'N') and all(row['C20'][10:50] == 'N'):\n",
    "        return '01'\n",
    "    elif any(row['C20'][0:10] == 'Y') and all(row['C20'][10:50] == 'N') and all(row['B14'][15:50] == 'N'):\n",
    "        return '01'\n",
    "\n",
    "    # Wert: 20 - Ausschluss nur nach ESF-Statut\n",
    "    if any(row['B14'][30:50] == 'Y') and all(row['B14'][0:30] == 'N') and all(row['C20'][0:30] == 'N'):\n",
    "        return '20'\n",
    "    elif any(row['C20'][30:50] == 'Y') and all(row['C20'][0:30] == 'N') and all(row['B14'][0:30] == 'N'):\n",
    "        return '20'\n",
    "\n",
    "    # Wert: 11 - Ausschluss \"Bagatellgrenze\" nach EinSiG und ESF-Statut\n",
    "    if all(row['C20'][1:49] == 'N') and row['C20'][49] == 'Y':\n",
    "        return '11'\n",
    "\n",
    "    # Wert: 10 - Ausschluss nach EinSiG und ESF-Statut (alle anderen Fälle)\n",
    "    return '10'"
   ],
   "metadata": {
    "collapsed": false,
    "ExecuteTime": {
     "end_time": "2023-09-26T18:13:38.080368300Z",
     "start_time": "2023-09-26T18:13:38.077450200Z"
    }
   },
   "id": "116645554502d346"
  },
  {
   "cell_type": "code",
   "execution_count": null,
   "outputs": [],
   "source": [
    "path = r\"\\\\FSDEBSV00630\\sap_daten\\DE-Testdaten_SSW_Meldewesen\\TP6_Ad-hoc-Reporting\\DE1D_2023_06_13\""
   ],
   "metadata": {
    "collapsed": false
   },
   "id": "c3407af2231d6e84"
  },
  {
   "cell_type": "code",
   "execution_count": 1,
   "outputs": [
    {
     "ename": "NameError",
     "evalue": "name 'pd' is not defined",
     "output_type": "error",
     "traceback": [
      "\u001B[1;31m---------------------------------------------------------------------------\u001B[0m",
      "\u001B[1;31mNameError\u001B[0m                                 Traceback (most recent call last)",
      "Cell \u001B[1;32mIn[1], line 1\u001B[0m\n\u001B[1;32m----> 1\u001B[0m DF_BP \u001B[38;5;241m=\u001B[39m pd\u001B[38;5;241m.\u001B[39mread_csv(\u001B[38;5;124mr\u001B[39m\u001B[38;5;124m\"\u001B[39m\u001B[38;5;130;01m\\\\\u001B[39;00m\u001B[38;5;124mFSDEBSV00630\u001B[39m\u001B[38;5;124m\\\u001B[39m\u001B[38;5;124msap_daten\u001B[39m\u001B[38;5;124m\\\u001B[39m\u001B[38;5;124mDE-Testdaten_SSW_Meldewesen\u001B[39m\u001B[38;5;124m\\\u001B[39m\u001B[38;5;124mTP6_Ad-hoc-Reporting\u001B[39m\u001B[38;5;124m\\\u001B[39m\u001B[38;5;124mDE1D_2023_06_13\u001B[39m\u001B[38;5;124m\\\u001B[39m\u001B[38;5;124mBPART.csv\u001B[39m\u001B[38;5;124m\"\u001B[39m, sep \u001B[38;5;241m=\u001B[39m \u001B[38;5;124m\"\u001B[39m\u001B[38;5;130;01m\\t\u001B[39;00m\u001B[38;5;124m\"\u001B[39m, skiprows \u001B[38;5;241m=\u001B[39m \u001B[38;5;241m9\u001B[39m)\n\u001B[0;32m      2\u001B[0m \u001B[38;5;66;03m# KYDW0007 wird durch eine \"Join\" der Spalten KDW0007 und KDW0007O. Die Spalte wird am Ende des Dataframes hinzugefügt \u001B[39;00m\n\u001B[0;32m      3\u001B[0m DF_BP[\u001B[38;5;124m\"\u001B[39m\u001B[38;5;124mKYDW0007\u001B[39m\u001B[38;5;124m\"\u001B[39m] \u001B[38;5;241m=\u001B[39m DF_BP[[\u001B[38;5;124m\"\u001B[39m\u001B[38;5;124mKDW0007O\u001B[39m\u001B[38;5;124m\"\u001B[39m,\u001B[38;5;124m\"\u001B[39m\u001B[38;5;124mKDW0007\u001B[39m\u001B[38;5;124m\"\u001B[39m]]\u001B[38;5;241m.\u001B[39mastype(\u001B[38;5;28mstr\u001B[39m)\u001B[38;5;241m.\u001B[39magg(\u001B[38;5;124m\"\u001B[39m\u001B[38;5;124m/\u001B[39m\u001B[38;5;124m\"\u001B[39m\u001B[38;5;241m.\u001B[39mjoin, axis \u001B[38;5;241m=\u001B[39m \u001B[38;5;241m1\u001B[39m)\n",
      "\u001B[1;31mNameError\u001B[0m: name 'pd' is not defined"
     ]
    }
   ],
   "source": [
    "DF_BP = pd.read_csv(r\"\\\\FSDEBSV00630\\sap_daten\\DE-Testdaten_SSW_Meldewesen\\TP6_Ad-hoc-Reporting\\DE1D_2023_06_13\\BPART.csv\", sep = \"\\t\", skiprows = 9)\n",
    "# KYDW0007 wird durch eine \"Join\" der Spalten KDW0007 und KDW0007O. Die Spalte wird am Ende des Dataframes hinzugefügt \n",
    "DF_BP[\"KYDW0007\"] = DF_BP[[\"KDW0007O\",\"KDW0007\"]].astype(str).agg(\"/\".join, axis = 1)\n",
    "# Die neue KYDW0007-Spalte wird am Anfang des Dataframes hingefügt \n",
    "first_column = DF_BP.pop(\"KYDW0007\")\n",
    "DF_BP.insert(2, \"KYDW0007O\", first_column)\n",
    "# Das neue Dataframe wird ausgefürt "
   ],
   "metadata": {
    "collapsed": false,
    "ExecuteTime": {
     "end_time": "2023-09-26T17:22:12.166232300Z",
     "start_time": "2023-09-26T17:22:11.819326100Z"
    }
   },
   "id": "e958f947b411fe40"
  },
  {
   "cell_type": "code",
   "execution_count": null,
   "outputs": [],
   "source": [],
   "metadata": {
    "collapsed": false
   },
   "id": "be024d92212ecfcb"
  },
  {
   "cell_type": "code",
   "execution_count": null,
   "outputs": [],
   "source": [
    "# Path zur Directory, wo alle einzulesenden Dateien vorhanden sind\n",
    "\n",
    "path = r\"\\\\FSDEBSV00630\\sap_daten\\DE-Testdaten_SSW_Meldewesen\\TP6_Ad-hoc-Reporting\\DE1D_2023_06_13\"\n",
    "\n",
    "##########################################-I Einlesen Der Daten-####################################################################################\n",
    "# Einlesen der Business Partner und Business Partner act in Liability und die Money Laundery-Entitäten. \n",
    "# Dateien, die wir für den Aufbau des B-Satzes benötigen\n",
    "# Nach dem Einlesen muss entsprechend der Entitäten die neue Spalte KYDW0007, KYDWR50880 und KYDWR5469O erzeugt werden,  entsprechend den Testdaten\n",
    "# Z.B KYDW0007 ist eine Kombination der Spalten KDW0007 und KDW0007O\n",
    "\n",
    "# 1. Einlesen der Business Partner-Entität\n",
    "\n",
    "DF_BP = pd.read_csv(r\"\\\\FSDEBSV00630\\sap_daten\\DE-Testdaten_SSW_Meldewesen\\TP6_Ad-hoc-Reporting\\DE1D_2023_06_13\\BPART.csv\", sep = \"\\t\", skiprows = 9)\n",
    "# KYDW0007 wird durch eine \"Join\" der Spalten KDW0007 und KDW0007O. Die Spalte wird am Ende des Dataframes hinzugefügt \n",
    "DF_BP[\"KYDW0007\"] = DF_BP[[\"KDW0007O\",\"KDW0007\"]].astype(str).agg(\"/\".join, axis = 1)\n",
    "# Die neue KYDW0007-Spalte wird am Anfang des Dataframes hingefügt \n",
    "first_column = DF_BP.pop(\"KYDW0007\")\n",
    "DF_BP.insert(2, \"KYDW0007O\", first_column)\n",
    "# Das neue Dataframe wird ausgefürt \n",
    "\n",
    "print(DF_BP)\n",
    "\n",
    "# Einlesen der Datei  \"Datei_TPDW3386\", die die Spalte TPDW3386 enthält.Diese Spalte wird benötigt, damit man die Codes der Unterpositionen  Pos.05 und Pos.7 der B14-Spalte ausführen kann. \n",
    "# In \"Datei_TPDW3386\" heisste die Spalte \"TPGC33886\". Die Spalte wird jedoch in den DataFrame \"DF_BP\" als \"TPDW3386\" eingefügt.\n",
    "\n",
    "# Einlesen der Datei mit der Spalte TPDW3386.\n",
    "\n",
    "with open(r\"\\\\FSDEBSV00630\\sap_daten\\DE-Testdaten_SSW_Meldewesen\\TP6_Ad-hoc-Reporting\\DE1D_2023_06_13\\Datei_TPDW3386.csv\", \"rb\") as f:\n",
    "    enc = chardet.detect(f.read())\n",
    "\n",
    "DF_3386 = pd.read_csv(r\"\\\\FSDEBSV00630\\sap_daten\\DE-Testdaten_SSW_Meldewesen\\TP6_Ad-hoc-Reporting\\DE1D_2023_06_13\\Datei_TPDW3386.csv\", sep =\";\", encoding = enc[\"encoding\"])\n",
    "\n",
    "print(DF_3386)\n",
    "\n",
    "# Werte der Spalte TPGC3386\n",
    "DF_3386[\"TPGC3386\"].values\n",
    "\n",
    "# Einfügen der Spalte \"TPGC3386\" als \"TPDW3386\" in DF_BP\n",
    "\n",
    "DF_BP[\"TPDW3386\"] = DF_3386[\"TPGC3386\"]\n",
    "\n",
    "print(DF_BP)\n",
    "\n",
    "# 2.Einlesen der Business Partner act in Liability-Entität \n",
    "\n",
    "DF_BPact = pd.read_csv(r\"\\\\FSDEBSV00630\\sap_daten\\DE-Testdaten_SSW_Meldewesen\\TP6_Ad-hoc-Reporting\\DE1D_2023_06_13\\BPART_Act.csv\", sep = \"\\t\", skiprows = 9)\n",
    "# KYDWR5088O wird durch eine \"Join\" der Spalten KDWR5088 und KDWR5088O. Die Spalte wird am Ende des Dataframes hinzugefügt \n",
    "DF_BPact[\"KYDWR5088\"] = DF_BPact[[\"KDWR5088O\",\"KDWR5088\"]].astype(str).agg(\"/\".join, axis = 1)\n",
    "# Die neue KYDWR5088O-Spalte wird am Anfang des Dataframes hingefügt \n",
    "Second_column = DF_BPact.pop(\"KYDWR5088\")\n",
    "DF_BPact.insert(2,\"KYDWR5088O\", Second_column)\n",
    "# Das neue Dataframe wird ausgefürt \n",
    "\n",
    "print(DF_BPact)\n",
    "\n",
    "# Im B-Satz sollten die Kunden als Creditor vorhenden sein. Aus diesem Grund verbinden wir die Business Partner Entität und die Business Partner act in Liability. \n",
    "# Dann filtrieren wir die den gemerged Dataframe auf die Kundennummer versehen mit \"CR\". Die erhaltenen Kundennummern mit \"CR\" werden dann \n",
    "# Die erhaltenen Kundennummern mit \"CR\" werden dann in den B_Satz in die Spalte \"B2\" eingefügt.\n",
    "\n",
    "# Merge Business Partner und Business Partner act in Liability Entität\n",
    "\n",
    "DF_merged2 = DF_BPact.join(DF_BP, lsuffix = \"KDWR5088O\", rsuffix = \"KYDW0007\")\n",
    "\n",
    "print(DF_merged2)\n",
    "\n",
    "# Erstelle die Spalte der Kundennummern mit \"CR\"\n",
    "DF_merged2 = DF_BPact.join(DF_BP, lsuffix = \"KDWR5088O\", rsuffix = \"KYDW0007\")\n",
    "DF_merged2.loc[DF_merged2[\"TPDW5090\"] == \"CR\"][\"KYDW0007O\"]\n",
    "\n",
    "#3.Einlesen der Money laundering Entität \n",
    "\n",
    "DF_MONLA = pd.read_csv(r\"\\\\FSDEBSV00630\\sap_daten\\DE-Testdaten_SSW_Meldewesen\\TP6_Ad-hoc-Reporting\\DE1D_2023_06_13\\MONEYLA.csv\", sep = \"\\t\", skiprows = 9)\n",
    "DF_MONLA[\"KYDWR5469\"] = DF_MONLA[[\"KDWR5469O\",\"KDWR5469\"]].astype(str).agg(\"/\".join, axis = 1)\n",
    "neue_Spalte = DF_MONLA.pop(\"KYDWR5469\")\n",
    "DF_MONLA.insert(2,\"KYDWR5469O\", neue_Spalte)\n",
    "\n",
    "DF_MONLA\n",
    "\n",
    "# 4 Einlesen der Liability Entität für den Bau des C-Satzes\n",
    "\n",
    "DF_Liab = pd.read_csv(r\"\\\\FSDEBSV00630\\sap_daten\\DE-Testdaten_SSW_Meldewesen\\TP6_Ad-hoc-Reporting\\DE1D_2023_06_13\\PLIAB.csv\", sep =\"\\t\", skiprows = 9, decimal = \",\")\n",
    "\n",
    "DF_Liab\n",
    "\n",
    "# 5 Einlesen der PRODUCT-Entität für die Bestimmung der Produktnamen in C6\n",
    "\n",
    "with open(r\"\\\\FSDEBSV00630\\sap_daten\\DE-Testdaten_SSW_Meldewesen\\TP6_Ad-hoc-Reporting\\DE1D_2023_06_13\\PRODUCT.csv\", \"rb\") as f:\n",
    "    enc = chardet.detect(f.read())\n",
    "\n",
    "DF_PRO = pd.read_csv(r\"\\\\FSDEBSV00630\\sap_daten\\DE-Testdaten_SSW_Meldewesen\\TP6_Ad-hoc-Reporting\\DE1D_2023_06_13\\PRODUCT.csv\", sep =\";\", skiprows = 9, encoding = enc[\"encoding\"])\n",
    "\n",
    "DF_PRO\n",
    "\n",
    "# 6 Einlesen der Cancellation of Liability Entität für C26\n",
    "\n",
    "BP_CANLA = pd.read_csv(r\"\\\\FSDEBSV00630\\sap_daten\\DE-Testdaten_SSW_Meldewesen\\TP6_Ad-hoc-Reporting\\DE1D_2023_06_13\\BP_CANLA.csv\", sep =\"\\t\", skiprows = 9, decimal = \".\")\n",
    "\n",
    "BP_CANLA"
   ],
   "metadata": {
    "collapsed": false
   },
   "id": "d1764bc00d20a468"
  },
  {
   "cell_type": "code",
   "execution_count": 3,
   "outputs": [
    {
     "ename": "NameError",
     "evalue": "name 'pd' is not defined",
     "output_type": "error",
     "traceback": [
      "\u001B[1;31m---------------------------------------------------------------------------\u001B[0m",
      "\u001B[1;31mNameError\u001B[0m                                 Traceback (most recent call last)",
      "Cell \u001B[1;32mIn[3], line 1\u001B[0m\n\u001B[1;32m----> 1\u001B[0m A_Satz \u001B[38;5;241m=\u001B[39m pd\u001B[38;5;241m.\u001B[39mDataFrame([[\u001B[38;5;124m'\u001B[39m\u001B[38;5;124m'\u001B[39m]\u001B[38;5;241m*\u001B[39m\u001B[38;5;241m10\u001B[39m], columns\u001B[38;5;241m=\u001B[39m[\u001B[38;5;124m'\u001B[39m\u001B[38;5;124mA\u001B[39m\u001B[38;5;132;01m{}\u001B[39;00m\u001B[38;5;124m'\u001B[39m\u001B[38;5;241m.\u001B[39mformat(i) \u001B[38;5;28;01mfor\u001B[39;00m i \u001B[38;5;129;01min\u001B[39;00m \u001B[38;5;28mrange\u001B[39m(\u001B[38;5;241m1\u001B[39m, \u001B[38;5;241m11\u001B[39m)])\n\u001B[0;32m      2\u001B[0m A_Satz[\u001B[38;5;124m\"\u001B[39m\u001B[38;5;124mA1\u001B[39m\u001B[38;5;124m\"\u001B[39m] \u001B[38;5;241m=\u001B[39m \u001B[38;5;124m'\u001B[39m\u001B[38;5;124mA\u001B[39m\u001B[38;5;124m'\u001B[39m\n\u001B[0;32m      3\u001B[0m A_Satz[\u001B[38;5;124m\"\u001B[39m\u001B[38;5;124mA2\u001B[39m\u001B[38;5;124m\"\u001B[39m] \u001B[38;5;241m=\u001B[39m \u001B[38;5;124m'\u001B[39m\u001B[38;5;124m165\u001B[39m\u001B[38;5;124m'\u001B[39m\n",
      "\u001B[1;31mNameError\u001B[0m: name 'pd' is not defined"
     ]
    }
   ],
   "source": [
    "A_Satz = pd.DataFrame([['']*10], columns=['A{}'.format(i) for i in range(1, 11)])\n",
    "A_Satz[\"A1\"] = 'A'\n",
    "A_Satz[\"A2\"] = '165'\n",
    "A_Satz[\"A3\"] = '10'\n",
    "A_Satz[\"A4\"] = 100000.00\n",
    "A_Satz[\"A5\"] = 0.00\n",
    "A_Satz[\"A6A\"]= 1330170000.00\n",
    "A_Satz[\"A6B\"] = 5000000\n",
    "A_Satz[\"A6C\"] = 50000000\n",
    "A_Satz[\"A7\"] = 1392530000.00\n",
    "A_Satz[\"A8\"] = '00000000'\n",
    "A_Satz[\"A9A\"] = 0.00\n",
    "A_Satz[\"A9B\"] = 0.00\n",
    "A_Satz[\"A9C\"] = 0.00\n",
    "A_Satz[\"A10\"] = '00000000'\n",
    "\n",
    "A_Satz.columns = [\"A1\", \"A2\", \"A3\", \"A4\", \"A5\", \"A6\", \"A6A\",\n",
    "                  \"A6B\", \"A6C\", \"A7\", \"A8\", \"A9\", \"A9A\", \"A9B\", \"A9C\", \"A10\"]"
   ],
   "metadata": {
    "collapsed": false,
    "ExecuteTime": {
     "end_time": "2023-09-26T17:22:59.907967200Z",
     "start_time": "2023-09-26T17:22:59.856160600Z"
    }
   },
   "id": "33f864a8a9de88a8"
  },
  {
   "cell_type": "code",
   "execution_count": null,
   "outputs": [],
   "source": [
    "B_Satz2 = pd.DataFrame([['']*16], index = range(1,1460612), columns=[\"B{}\".format(i) for i in range(1, 17)])\n",
    "B_Satz2[\"B1\"] = \"B\"\n",
    "B_Satz2[\"B2\"] = DF_merged2.loc[DF_merged2[\"TPDW5090\"] == \"CR\"][\"KYDW0007O\"]\n",
    "B_Satz2[\"B3\"] = DF_BP[\"DSDW0010\"]\n",
    "B_Satz2[\"B4\"] = DF_BP[\"TPDW4438\"]\n",
    "B_Satz2[\"B5\"] = \"\"                                    # LEER lassen\n",
    "B_Satz2[\"B6\"]= DF_BP[\"TPDW4438\"]\n",
    "B_Satz2[\"B7\"] = DF_BP[\"DSDW3702\"]\n",
    "B_Satz2['B8'] = \"\"\n",
    "B_Satz2[\"B9\"] = DF_BP[\"DSDW0013\"]\n",
    "B_Satz2[\"B10\"] = DF_BP[\"DSDW0014\"]\n",
    "B_Satz2[\"B11\"] = DF_BP[\"TPDW0012\"]\n",
    "B_Satz2[\"B12\"] = DF_BP[\"DTDW4315\"]\n",
    "B_Satz2[\"B13\"] = DF_BP[\"DSDW0230\"]\n",
    "B_Satz2[\"B14\"] = \"N\"*50\n",
    "B_Satz2[\"B15\"] = \"X\"\n",
    "B_Satz2[\"B16\"] = Funktion_B16(B_Satz2, DF_BP, \"B2\", \"KYDW0007O\", \"TPDW0235\", \"B16\")\n",
    "\n",
    "B_Satz2"
   ],
   "metadata": {
    "collapsed": false
   },
   "id": "35818483dbcbab2c"
  },
  {
   "cell_type": "code",
   "execution_count": null,
   "outputs": [],
   "source": [
    "B_Satz2 = Funktion_B14_Pos03(B_Satz2, DF_BP, \"B2\", \"KYDW0007O\", \"TPDW3386\", \"B14\")\n",
    "\n",
    "B_Satz2\n",
    "\n",
    "# Für die Unterposition B14_Pos.04 schreiben wir den festen Wert \"N\"\n",
    "\n",
    "# Aufruf der Funktion für Position B14_Pos.05.\"CGOV\", \"LGOV\" und \"SGOV\" werden in TPDW3386 geprüft\n",
    "# und entsprechend \"N\" durch \"Y\" an der 5. Stelle ersetzt\n",
    "\n",
    "B_Satz2 = Funktion_B14_05(B_Satz2, DF_BP, \"B2\", \"KYDW0007O\", \"TPDW3386\", \"B14\")\n",
    "\n",
    "B_Satz2\n",
    "\n",
    "# Aufruf der Funktion für Position B14_Pos.06. String, die \"K66.\" werden in DSDW0230 geprüft\n",
    "# und entsprechend \"N\" durch \"Y\" an der 6. Stelle ersetzt\n",
    "\n",
    "B_Satz2 = Funktion_B14_06(B_Satz2, \"B13\", \"B14\")\n",
    "\n",
    "B_Satz2\n",
    "\n",
    "# Aufruf der Funktion für Position B14_Pos.07. String, die \"PEN\" werden in \"TPDW3386\" geprüft\n",
    "# und entsprechend \"N\" durch \"Y\" an der 7. Stelle ersetzt\n",
    "\n",
    "B_Satz2 = Funktion_B14_07(B_Satz2, DF_BP, \"B2\", \"KYDW0007O\", \"TPDW3386\", \"B14\")\n",
    "\n",
    "B_Satz2\n",
    "\n",
    "# Aufruf der Funktion für Position B14_Pos.10. String, die \"PEN\" werden in \"TPDW3386\" geprüft\n",
    "# und entsprechend \"N\" durch \"Y\" an der 10. Stelle ersetzt\n",
    "\n",
    "B_Satz2 = Funktion_B14_Pos_10(B_Satz2, DF_MONLA,\"B2\",\"KYDWR5469O\", \"B14\")\n",
    "\n",
    "B_Satz2\n",
    "\n",
    "# Aussehen der Spalte B14 nach den Transformationen\n",
    "\n",
    "B_Satz2.B14\n",
    "\n",
    "# Prüfen der Werte in B14\n",
    "\n",
    "B_Satz2.B14.value_counts()"
   ],
   "metadata": {
    "collapsed": false
   },
   "id": "21ec6264d3424a9e"
  },
  {
   "cell_type": "code",
   "execution_count": null,
   "outputs": [],
   "source": [
    "DF1 = pd.DataFrame(B_Satz2)\n",
    "DF1.to_csv(\"B_Satz.csv\")\n",
    "DF1 = pd.read_csv(\"B_Satz.csv\", header = None)\n",
    "DF1 = DF1.tail(-1)\n",
    "DF1\n",
    "\n",
    "# A_Satz wird noch als DataFrame eingelesen und alle Spaltennamen werden entfernt\n",
    "\n",
    "DF2 = pd.DataFrame(A_Satz)\n",
    "DF2.to_csv(\"A_Satz.csv\")\n",
    "DF2 = pd.read_csv(\"A_Satz.csv\", header = None)\n",
    "DF2\n",
    "DF2 =DF2.tail(-1)\n",
    "DF2\n",
    "\n",
    "# Spezieller Code damit wir die Zeilen aus A_Satz und Zeilen aus dem B_Satz untereinander stapeln können.\n",
    "\n",
    "# Wir definiere einen neuen DataFrame, der die Spalten von DF1 und DF2 hat.\n",
    "# Hier bekommt DF2 einen neuen index so dass, die Spalten von DF2 in der gleichen Reihenfolge wie die Spalte von DF1 sind\n",
    "# Das heisst, dass neue Spalten mit None gefüllt werden in DF2 eingefügt\n",
    "DF_GroßerSatz = pd.concat([DF2, DF1.reindex(columns=DF1.columns)], ignore_index=True)\n",
    "# Entferne die erste Spalte\n",
    "DF_GroßerSatz = DF_GroßerSatz.iloc[:, 1:]\n",
    "\n",
    "# DF_GroßerSatz enthält jetzt die Daten aus beiden DataFrames, wobei fehlende Spalten in DF2 auf None gesetzt sind\n",
    "\n",
    "DF_GroßerSatz\n",
    "\n",
    "\n",
    "# DF_GroßerSatz in einer CSV_Datei\n",
    "\n",
    "DF_GroßerSatz.to_csv(r\"\\\\FSDEBSV00630\\sap_daten\\DE-Testdaten_SSW_Meldewesen\\TP6_Ad-hoc-Reporting\\05_EinSiG_Coding\\Python_Code\\DF_GroßerSatz.csv\")\n",
    "\n",
    "\n",
    "# Dataframe bestehend nur aus alleinigen Zeilen des A_ und B_Satzes\n",
    "\n",
    "DataFrame_A_B = B_Satz2_Zeile_aufsuchen(DF_GroßerSatz,2,\"TRSRYDE1-BP/104140197\")\n",
    "\n",
    "DataFrame_A_B\n",
    "\n",
    "# DataFrame_A_B in einer CSV_Datei\n",
    "\n",
    "DataFrame_A_B.to_csv(r\"\\\\FSDEBSV00630\\sap_daten\\DE-Testdaten_SSW_Meldewesen\\TP6_Ad-hoc-Reporting\\05_EinSiG_Coding\\Python_Code\\Datei_A_B.csv\")\n",
    "\n",
    "###################++++ 3. C-Satz ++++++++++#######################################\n",
    "\n",
    "################++++++ Definition des C-Satzes(Liability) +++++##############\n",
    "\n",
    "# Merge der Liability und Product Entitäten für das Datenfel C7\n",
    "\n",
    "DF_merg3 = DF_Liab.merge(DF_PRO, left_on = \"KDWR5097\", right_on = \"KMDPRODID\", how = \"left\")\n",
    "\n",
    "DF_merg3\n",
    "\n",
    "# Merge der Cancellation- und Liability-Entität für C26\n",
    "\n",
    "DF_merged10 = DF_Liab.merge(BP_CANLA, left_on = \"KDW5082\", right_on = \"KDWR5000\", how = \"left\")\n",
    "DF_merged10\n",
    "\n",
    "\n",
    "C_liab = pd.DataFrame([['']*27], index = range(0,1460610), columns=[\"C{}\".format(i) for i in range(1, 28)])\n",
    "C_liab[\"C1\"] = \"C\"\n",
    "C_liab[\"C2B\"] = DF_Liab[\"KDW5082\"]\n",
    "C_liab.dropna(subset = \"C2B\", inplace=True)\n",
    "DF = DF_BPact[DF_BPact[\"TPDW5090\"] == \"CR\"]\n",
    "DF = DF[[\"KDWR5089\", \"KYDWR5088O\"]]\n",
    "C_liab = C_liab.merge(DF, left_on = \"C2B\", right_on = \"KDWR5089\", how = \"left\")\n",
    "C_liab[\"C4\"] = func_neu_C4(DF_Liab, DF_BPact, \"KDW5082\",  \"KDWR5089\", \"TPDW5090\")\n",
    "C_liab[\"C5\"] = func_neu_C5(DF_Liab, DF_BPact, \"KDW5082\", \"KDWR5089\", \"TPDW5090\")\n",
    "C_liab[\"C6\"] = naechsterwert2(DF_Liab, \"KDW5082\", \"DTDW5113\").apply(lambda x: str(int(x)) if not pd.isnull(x) else x)              # [\"DTDW5113\" for \"DTDW5113\" in DF_Liab.set_index(\"KDW5082\").columns]  # DF_Liab[\"DTDW5113\"].sort_values(\"KDW5082\")                                        #S-Verweis: Suche aus PLIABA den Vertrag (KYDW5082) und das dazugehörige Datum DTDW5113 und schreibe es in C6\n",
    "C_liab[\"C7\"] = naechsterwert2(DF_merg3,\"KDW5082\", \"DSMDPRODN\")                                                                   # Sverweis(DF_Liab,DF_PRO, \"KDW5082\", \"KDWR5097\", DF_Liab, DF_PRO,\"KMDPRODID\", \"TPMDPPRCD\", \"KDW5082\" )\n",
    "C_liab[\"C8\"] = naechsterwert2(DF_Liab, \"KDW5082\", \"UCDW5105\")\n",
    "C_liab[\"C9\"] = naechsterwert2(DF_Liab, \"KDW5082\", \"ATDW5105\")                                                         # naechsterwert2(DF_Liab, \"KDW5082\", \"ATDW5105\").apply(lambda x:-x)                                                            # DF_Liab[DF_Liab[\"KDW5082\"].isin(DF_Liab[\"KDW5082\"])]DF_Liab[\"ATDW5105\"].apply(lambda x: -x if x > 0 else x)\n",
    "C_liab[\"C10\"] = \"{:,.5f}\".format(100000/100000)                                                                        # 1.00000                                                            #naechsterwert2(DF_Liab, \"KDW5082\", \"TPDW5086\")\n",
    "C_liab[\"C11\"] = C_liab[\"C9\"].astype(float) * C_liab[\"C10\"].astype(float)\n",
    "C_liab[\"C12\"] = naechsterwert2(DF_Liab, \"KDW5082\", \"QUDW5537\").astype(str) + DF_Liab[\"UCDW5537\"]\n",
    "C_liab[\"C13\"] = \"X\"\n",
    "C_liab[\"C14\"] = naechsterwert2(DF_Liab, \"KDW5082\", \"DTDW5084\")\n",
    "C_liab[\"C15\"] = Funktion_C15(C_liab, DF_Liab, \"C2B\", \"KDW5082\", \"QUDW5182\", \"C15\")\n",
    "C_liab[\"C16\"] = naechsterwert2(DF_Liab, \"KDW5082\", \"TPDW5562\")\n",
    "C_liab[\"C17\"] = naechsterwert2(DF_Liab, \"KDW5082\", \"ATDW5107\")\n",
    "C_liab[\"C18\"] =  C_liab[\"C10\"].astype(float) * C_liab[\"C17\"].astype(float)\n",
    "C_liab[\"C19\"] =  C_liab[\"C18\"].astype(float) + C_liab[\"C11\"].astype(float)                               # C_liab[\"C11\"] + C_liab[\"C18\"]\n",
    "C_liab[\"C20\"] = \"N\"*50                                                                     # C_Pos[[\"C_Pos{}\".format(i) for i in range(1, 51)]].astype(str).agg(\"\".join, axis = 1)\n",
    "C_liab[\"C21\"] = \"N\"*50                                                        # C_Pos[[\"C_Pos{}\".format(i) for i in range(1, 51)]].astype(str).agg(\"\".join, axis = 1)\n",
    "C_liab[\"C22\"]= \"DE\"\n",
    "C_liab[\"C23\"] = \"\"\n",
    "C_liab[\"C24\"] = naechsterwert2(DF_Liab, \"KDW5082\", \"DTDW5484\")\n",
    "C_liab[\"C25\"] = naechsterwert2(DF_Liab, \"KDW5082\", \"QUDW5094\")\n",
    "C_liab[\"C26\"] = naechsterwert2(DF_merged10, \"KDW5082\", \"ATDW5156\")\n",
    "C_liab[\"C27\"] = \"X\"                   # B_C_merged.apply(Funktion_C27, axis = 1)\n",
    "\n",
    "C_liab.rename(columns = {\"KYDWR5088O\": \"C2A\"}, inplace = True)\n",
    "\n",
    "C_liab\n",
    "\n",
    "# Auswählen der Spalten, die in C-Satz vorhanden sein müssen und in der\n",
    "# richtigen Reihenfolge\n",
    "\n",
    "C_Satz = C_liab[[\"C1\", \"C2A\", \"C2B\", \"C3\", \"C4\", \"C5\", \"C6\", \"C7\", \"C8\", \"C9\", \"C10\", \"C11\", \"C12\", \"C13\",\n",
    "                 \"C14\", \"C15\", \"C16\", \"C17\", \"C18\", \"C19\", \"C20\", \"C21\", \"C22\", \"C23\", \"C24\", \"C25\", \"C26\", \"C27\"]]\n",
    "# gewünschte C-Satz ausgeben\n",
    "\n",
    "C_Satz\n",
    "\n",
    "#####++++Code für Gemeinschaftskonten++++##########################\n",
    "\n",
    "Tab2 = C_Satz.groupby(\"C2B\")\n",
    "\n",
    "#\n",
    "Tab3 = Tab2[\"C2A\"].count().reset_index(name = \"Anzahl Vertrag pro Kunde\").sort_values([\"Anzahl Vertrag pro Kunde\"],ascending = False)\n",
    "Tab3\n",
    "\n",
    "#\n",
    "Tab4 = Tab3.loc[Tab3[\"Anzahl Vertrag pro Kunde\"] == 2]\n",
    "Tab4\n",
    "\n",
    "#\n",
    "Tab5 = C_liab.loc[C_liab[\"C2B\"].isin(Tab4[\"C2B\"])]\n",
    "Tab5\n",
    "\n",
    "#\n",
    "Tab6 = Tab5.groupby(\"C2B\")[\"C2A\"].apply(list).reset_index(name = \"Kunden_Nummern\")\n",
    "Tab6\n",
    "\n",
    "#\n",
    "Tab7 = Tab6[\"C2B\"].tolist()\n",
    "Tab7\n",
    "\n",
    "#\n",
    "Num = Tab7[0]\n",
    "Num\n",
    "\n",
    "#\n",
    "Tab8 = C_liab.loc[C_liab[\"C2B\"] == Num]\n",
    "Tab8\n",
    "\n",
    "#\n",
    "Tab9 = Tab8.groupby(\"C2A\")[\"C2B\"].apply(list).reset_index(name = \"Vertrag_Nummern\")\n",
    "Tab9\n",
    "\n",
    "#\n",
    "\n",
    "C_Satz.loc[(C_Satz[\"C2A\"] == '155093225') | (C_Satz[\"C2A\"] == '21892380')]\n",
    "\n",
    "################++++++ Definition des C-Satzes(Contract) +++++##############"
   ],
   "metadata": {
    "collapsed": false
   },
   "id": "b4dd8a454fcab299"
  },
  {
   "cell_type": "code",
   "execution_count": null,
   "outputs": [],
   "source": [
    "C_Satz.to_csv(\"C.csv\", index=False)\n",
    "B_Satz2.to_csv(\"C.csv\", index=False)\n",
    "A_Satz.to_csv(\"C.csv\", index=False)"
   ],
   "metadata": {
    "collapsed": false
   },
   "id": "4d0b4344f03e0285"
  }
 ],
 "metadata": {
  "kernelspec": {
   "display_name": "Python 3",
   "language": "python",
   "name": "python3"
  },
  "language_info": {
   "codemirror_mode": {
    "name": "ipython",
    "version": 2
   },
   "file_extension": ".py",
   "mimetype": "text/x-python",
   "name": "python",
   "nbconvert_exporter": "python",
   "pygments_lexer": "ipython2",
   "version": "2.7.6"
  }
 },
 "nbformat": 4,
 "nbformat_minor": 5
}
